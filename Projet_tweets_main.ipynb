{
  "nbformat": 4,
  "nbformat_minor": 0,
  "metadata": {
    "colab": {
      "name": "Projet_tweets_main.ipynb",
      "provenance": [],
      "collapsed_sections": []
    },
    "kernelspec": {
      "name": "python3",
      "display_name": "Python 3"
    },
    "language_info": {
      "name": "python"
    }
  },
  "cells": [
    {
      "cell_type": "markdown",
      "metadata": {
        "id": "dl7xp6e34c1n"
      },
      "source": [
        "# NLP with Disaster Tweets\n",
        "We try to predict whether a given tweet is about a real disaster or not. If so, predict a 1. If not, predict a 0.\n",
        "we have a train set and a test set.\n",
        "We will try to build a machine learning model using NLP to predict the target.\n",
        "It's a supervised problem and target is a binary categorical variable : 1 or 0"
      ]
    },
    {
      "cell_type": "code",
      "metadata": {
        "id": "1s88l77e4HNe"
      },
      "source": [
        "import io\n",
        "import os\n",
        "import re\n",
        "import shutil\n",
        "import string\n",
        "import tensorflow as tf\n",
        "import pandas as pd\n",
        "import numpy as np \n",
        "import seaborn as sns\n",
        "import matplotlib.pyplot as plt\n",
        "import plotly.express as px\n",
        "\n",
        "from tensorflow.keras import Sequential\n",
        "from tensorflow.keras.layers import Dense, Embedding, GlobalAveragePooling1D\n",
        "from tensorflow.keras.layers.experimental.preprocessing import TextVectorization"
      ],
      "execution_count": null,
      "outputs": []
    },
    {
      "cell_type": "markdown",
      "metadata": {
        "id": "eJViPhxrdTDz"
      },
      "source": [
        "## Load and EDA the dataset\n",
        "\n",
        "We are using the train set (csv file downoladed from Kaggle)"
      ]
    },
    {
      "cell_type": "code",
      "metadata": {
        "id": "3a7CUNdf8NIO"
      },
      "source": [
        "dataset = pd.read_csv(\"tweeter.csv\")"
      ],
      "execution_count": null,
      "outputs": []
    },
    {
      "cell_type": "code",
      "metadata": {
        "id": "iKqgNPmB47Th",
        "colab": {
          "base_uri": "https://localhost:8080/",
          "height": 206
        },
        "outputId": "4280e16d-2d8e-472b-d337-f2391c209c56"
      },
      "source": [
        "dataset.head()\n",
        "#there are 4 variables and one target"
      ],
      "execution_count": null,
      "outputs": [
        {
          "output_type": "execute_result",
          "data": {
            "text/plain": [
              "   id keyword location                                               text  \\\n",
              "0   1     NaN      NaN  Our Deeds are the Reason of this #earthquake M...   \n",
              "1   4     NaN      NaN             Forest fire near La Ronge Sask. Canada   \n",
              "2   5     NaN      NaN  All residents asked to 'shelter in place' are ...   \n",
              "3   6     NaN      NaN  13,000 people receive #wildfires evacuation or...   \n",
              "4   7     NaN      NaN  Just got sent this photo from Ruby #Alaska as ...   \n",
              "\n",
              "   target  \n",
              "0       1  \n",
              "1       1  \n",
              "2       1  \n",
              "3       1  \n",
              "4       1  "
            ],
            "text/html": [
              "\n",
              "  <div id=\"df-5030714b-5702-4ffe-a6ff-3b8fa9e693b9\">\n",
              "    <div class=\"colab-df-container\">\n",
              "      <div>\n",
              "<style scoped>\n",
              "    .dataframe tbody tr th:only-of-type {\n",
              "        vertical-align: middle;\n",
              "    }\n",
              "\n",
              "    .dataframe tbody tr th {\n",
              "        vertical-align: top;\n",
              "    }\n",
              "\n",
              "    .dataframe thead th {\n",
              "        text-align: right;\n",
              "    }\n",
              "</style>\n",
              "<table border=\"1\" class=\"dataframe\">\n",
              "  <thead>\n",
              "    <tr style=\"text-align: right;\">\n",
              "      <th></th>\n",
              "      <th>id</th>\n",
              "      <th>keyword</th>\n",
              "      <th>location</th>\n",
              "      <th>text</th>\n",
              "      <th>target</th>\n",
              "    </tr>\n",
              "  </thead>\n",
              "  <tbody>\n",
              "    <tr>\n",
              "      <th>0</th>\n",
              "      <td>1</td>\n",
              "      <td>NaN</td>\n",
              "      <td>NaN</td>\n",
              "      <td>Our Deeds are the Reason of this #earthquake M...</td>\n",
              "      <td>1</td>\n",
              "    </tr>\n",
              "    <tr>\n",
              "      <th>1</th>\n",
              "      <td>4</td>\n",
              "      <td>NaN</td>\n",
              "      <td>NaN</td>\n",
              "      <td>Forest fire near La Ronge Sask. Canada</td>\n",
              "      <td>1</td>\n",
              "    </tr>\n",
              "    <tr>\n",
              "      <th>2</th>\n",
              "      <td>5</td>\n",
              "      <td>NaN</td>\n",
              "      <td>NaN</td>\n",
              "      <td>All residents asked to 'shelter in place' are ...</td>\n",
              "      <td>1</td>\n",
              "    </tr>\n",
              "    <tr>\n",
              "      <th>3</th>\n",
              "      <td>6</td>\n",
              "      <td>NaN</td>\n",
              "      <td>NaN</td>\n",
              "      <td>13,000 people receive #wildfires evacuation or...</td>\n",
              "      <td>1</td>\n",
              "    </tr>\n",
              "    <tr>\n",
              "      <th>4</th>\n",
              "      <td>7</td>\n",
              "      <td>NaN</td>\n",
              "      <td>NaN</td>\n",
              "      <td>Just got sent this photo from Ruby #Alaska as ...</td>\n",
              "      <td>1</td>\n",
              "    </tr>\n",
              "  </tbody>\n",
              "</table>\n",
              "</div>\n",
              "      <button class=\"colab-df-convert\" onclick=\"convertToInteractive('df-5030714b-5702-4ffe-a6ff-3b8fa9e693b9')\"\n",
              "              title=\"Convert this dataframe to an interactive table.\"\n",
              "              style=\"display:none;\">\n",
              "        \n",
              "  <svg xmlns=\"http://www.w3.org/2000/svg\" height=\"24px\"viewBox=\"0 0 24 24\"\n",
              "       width=\"24px\">\n",
              "    <path d=\"M0 0h24v24H0V0z\" fill=\"none\"/>\n",
              "    <path d=\"M18.56 5.44l.94 2.06.94-2.06 2.06-.94-2.06-.94-.94-2.06-.94 2.06-2.06.94zm-11 1L8.5 8.5l.94-2.06 2.06-.94-2.06-.94L8.5 2.5l-.94 2.06-2.06.94zm10 10l.94 2.06.94-2.06 2.06-.94-2.06-.94-.94-2.06-.94 2.06-2.06.94z\"/><path d=\"M17.41 7.96l-1.37-1.37c-.4-.4-.92-.59-1.43-.59-.52 0-1.04.2-1.43.59L10.3 9.45l-7.72 7.72c-.78.78-.78 2.05 0 2.83L4 21.41c.39.39.9.59 1.41.59.51 0 1.02-.2 1.41-.59l7.78-7.78 2.81-2.81c.8-.78.8-2.07 0-2.86zM5.41 20L4 18.59l7.72-7.72 1.47 1.35L5.41 20z\"/>\n",
              "  </svg>\n",
              "      </button>\n",
              "      \n",
              "  <style>\n",
              "    .colab-df-container {\n",
              "      display:flex;\n",
              "      flex-wrap:wrap;\n",
              "      gap: 12px;\n",
              "    }\n",
              "\n",
              "    .colab-df-convert {\n",
              "      background-color: #E8F0FE;\n",
              "      border: none;\n",
              "      border-radius: 50%;\n",
              "      cursor: pointer;\n",
              "      display: none;\n",
              "      fill: #1967D2;\n",
              "      height: 32px;\n",
              "      padding: 0 0 0 0;\n",
              "      width: 32px;\n",
              "    }\n",
              "\n",
              "    .colab-df-convert:hover {\n",
              "      background-color: #E2EBFA;\n",
              "      box-shadow: 0px 1px 2px rgba(60, 64, 67, 0.3), 0px 1px 3px 1px rgba(60, 64, 67, 0.15);\n",
              "      fill: #174EA6;\n",
              "    }\n",
              "\n",
              "    [theme=dark] .colab-df-convert {\n",
              "      background-color: #3B4455;\n",
              "      fill: #D2E3FC;\n",
              "    }\n",
              "\n",
              "    [theme=dark] .colab-df-convert:hover {\n",
              "      background-color: #434B5C;\n",
              "      box-shadow: 0px 1px 3px 1px rgba(0, 0, 0, 0.15);\n",
              "      filter: drop-shadow(0px 1px 2px rgba(0, 0, 0, 0.3));\n",
              "      fill: #FFFFFF;\n",
              "    }\n",
              "  </style>\n",
              "\n",
              "      <script>\n",
              "        const buttonEl =\n",
              "          document.querySelector('#df-5030714b-5702-4ffe-a6ff-3b8fa9e693b9 button.colab-df-convert');\n",
              "        buttonEl.style.display =\n",
              "          google.colab.kernel.accessAllowed ? 'block' : 'none';\n",
              "\n",
              "        async function convertToInteractive(key) {\n",
              "          const element = document.querySelector('#df-5030714b-5702-4ffe-a6ff-3b8fa9e693b9');\n",
              "          const dataTable =\n",
              "            await google.colab.kernel.invokeFunction('convertToInteractive',\n",
              "                                                     [key], {});\n",
              "          if (!dataTable) return;\n",
              "\n",
              "          const docLinkHtml = 'Like what you see? Visit the ' +\n",
              "            '<a target=\"_blank\" href=https://colab.research.google.com/notebooks/data_table.ipynb>data table notebook</a>'\n",
              "            + ' to learn more about interactive tables.';\n",
              "          element.innerHTML = '';\n",
              "          dataTable['output_type'] = 'display_data';\n",
              "          await google.colab.output.renderOutput(dataTable, element);\n",
              "          const docLink = document.createElement('div');\n",
              "          docLink.innerHTML = docLinkHtml;\n",
              "          element.appendChild(docLink);\n",
              "        }\n",
              "      </script>\n",
              "    </div>\n",
              "  </div>\n",
              "  "
            ]
          },
          "metadata": {},
          "execution_count": 28
        }
      ]
    },
    {
      "cell_type": "code",
      "source": [
        "dataset.shape"
      ],
      "metadata": {
        "colab": {
          "base_uri": "https://localhost:8080/"
        },
        "id": "1cWPyQV04WhY",
        "outputId": "d74e0ccf-3acb-4a79-d35a-a3c917d0f616"
      },
      "execution_count": null,
      "outputs": [
        {
          "output_type": "execute_result",
          "data": {
            "text/plain": [
              "(7613, 5)"
            ]
          },
          "metadata": {},
          "execution_count": 29
        }
      ]
    },
    {
      "cell_type": "code",
      "source": [
        "dataset.describe(include='all')"
      ],
      "metadata": {
        "colab": {
          "base_uri": "https://localhost:8080/",
          "height": 394
        },
        "id": "L8D0Qh734ZIC",
        "outputId": "84bfca25-bf7b-4f46-f9ff-aa3b33db9734"
      },
      "execution_count": null,
      "outputs": [
        {
          "output_type": "execute_result",
          "data": {
            "text/plain": [
              "                  id     keyword location  \\\n",
              "count    7613.000000        7552     5080   \n",
              "unique           NaN         221     3341   \n",
              "top              NaN  fatalities      USA   \n",
              "freq             NaN          45      104   \n",
              "mean     5441.934848         NaN      NaN   \n",
              "std      3137.116090         NaN      NaN   \n",
              "min         1.000000         NaN      NaN   \n",
              "25%      2734.000000         NaN      NaN   \n",
              "50%      5408.000000         NaN      NaN   \n",
              "75%      8146.000000         NaN      NaN   \n",
              "max     10873.000000         NaN      NaN   \n",
              "\n",
              "                                                     text      target  \n",
              "count                                                7613  7613.00000  \n",
              "unique                                               7503         NaN  \n",
              "top     11-Year-Old Boy Charged With Manslaughter of T...         NaN  \n",
              "freq                                                   10         NaN  \n",
              "mean                                                  NaN     0.42966  \n",
              "std                                                   NaN     0.49506  \n",
              "min                                                   NaN     0.00000  \n",
              "25%                                                   NaN     0.00000  \n",
              "50%                                                   NaN     0.00000  \n",
              "75%                                                   NaN     1.00000  \n",
              "max                                                   NaN     1.00000  "
            ],
            "text/html": [
              "\n",
              "  <div id=\"df-b7196bd8-8b64-48b1-8d59-797ff9b7fccc\">\n",
              "    <div class=\"colab-df-container\">\n",
              "      <div>\n",
              "<style scoped>\n",
              "    .dataframe tbody tr th:only-of-type {\n",
              "        vertical-align: middle;\n",
              "    }\n",
              "\n",
              "    .dataframe tbody tr th {\n",
              "        vertical-align: top;\n",
              "    }\n",
              "\n",
              "    .dataframe thead th {\n",
              "        text-align: right;\n",
              "    }\n",
              "</style>\n",
              "<table border=\"1\" class=\"dataframe\">\n",
              "  <thead>\n",
              "    <tr style=\"text-align: right;\">\n",
              "      <th></th>\n",
              "      <th>id</th>\n",
              "      <th>keyword</th>\n",
              "      <th>location</th>\n",
              "      <th>text</th>\n",
              "      <th>target</th>\n",
              "    </tr>\n",
              "  </thead>\n",
              "  <tbody>\n",
              "    <tr>\n",
              "      <th>count</th>\n",
              "      <td>7613.000000</td>\n",
              "      <td>7552</td>\n",
              "      <td>5080</td>\n",
              "      <td>7613</td>\n",
              "      <td>7613.00000</td>\n",
              "    </tr>\n",
              "    <tr>\n",
              "      <th>unique</th>\n",
              "      <td>NaN</td>\n",
              "      <td>221</td>\n",
              "      <td>3341</td>\n",
              "      <td>7503</td>\n",
              "      <td>NaN</td>\n",
              "    </tr>\n",
              "    <tr>\n",
              "      <th>top</th>\n",
              "      <td>NaN</td>\n",
              "      <td>fatalities</td>\n",
              "      <td>USA</td>\n",
              "      <td>11-Year-Old Boy Charged With Manslaughter of T...</td>\n",
              "      <td>NaN</td>\n",
              "    </tr>\n",
              "    <tr>\n",
              "      <th>freq</th>\n",
              "      <td>NaN</td>\n",
              "      <td>45</td>\n",
              "      <td>104</td>\n",
              "      <td>10</td>\n",
              "      <td>NaN</td>\n",
              "    </tr>\n",
              "    <tr>\n",
              "      <th>mean</th>\n",
              "      <td>5441.934848</td>\n",
              "      <td>NaN</td>\n",
              "      <td>NaN</td>\n",
              "      <td>NaN</td>\n",
              "      <td>0.42966</td>\n",
              "    </tr>\n",
              "    <tr>\n",
              "      <th>std</th>\n",
              "      <td>3137.116090</td>\n",
              "      <td>NaN</td>\n",
              "      <td>NaN</td>\n",
              "      <td>NaN</td>\n",
              "      <td>0.49506</td>\n",
              "    </tr>\n",
              "    <tr>\n",
              "      <th>min</th>\n",
              "      <td>1.000000</td>\n",
              "      <td>NaN</td>\n",
              "      <td>NaN</td>\n",
              "      <td>NaN</td>\n",
              "      <td>0.00000</td>\n",
              "    </tr>\n",
              "    <tr>\n",
              "      <th>25%</th>\n",
              "      <td>2734.000000</td>\n",
              "      <td>NaN</td>\n",
              "      <td>NaN</td>\n",
              "      <td>NaN</td>\n",
              "      <td>0.00000</td>\n",
              "    </tr>\n",
              "    <tr>\n",
              "      <th>50%</th>\n",
              "      <td>5408.000000</td>\n",
              "      <td>NaN</td>\n",
              "      <td>NaN</td>\n",
              "      <td>NaN</td>\n",
              "      <td>0.00000</td>\n",
              "    </tr>\n",
              "    <tr>\n",
              "      <th>75%</th>\n",
              "      <td>8146.000000</td>\n",
              "      <td>NaN</td>\n",
              "      <td>NaN</td>\n",
              "      <td>NaN</td>\n",
              "      <td>1.00000</td>\n",
              "    </tr>\n",
              "    <tr>\n",
              "      <th>max</th>\n",
              "      <td>10873.000000</td>\n",
              "      <td>NaN</td>\n",
              "      <td>NaN</td>\n",
              "      <td>NaN</td>\n",
              "      <td>1.00000</td>\n",
              "    </tr>\n",
              "  </tbody>\n",
              "</table>\n",
              "</div>\n",
              "      <button class=\"colab-df-convert\" onclick=\"convertToInteractive('df-b7196bd8-8b64-48b1-8d59-797ff9b7fccc')\"\n",
              "              title=\"Convert this dataframe to an interactive table.\"\n",
              "              style=\"display:none;\">\n",
              "        \n",
              "  <svg xmlns=\"http://www.w3.org/2000/svg\" height=\"24px\"viewBox=\"0 0 24 24\"\n",
              "       width=\"24px\">\n",
              "    <path d=\"M0 0h24v24H0V0z\" fill=\"none\"/>\n",
              "    <path d=\"M18.56 5.44l.94 2.06.94-2.06 2.06-.94-2.06-.94-.94-2.06-.94 2.06-2.06.94zm-11 1L8.5 8.5l.94-2.06 2.06-.94-2.06-.94L8.5 2.5l-.94 2.06-2.06.94zm10 10l.94 2.06.94-2.06 2.06-.94-2.06-.94-.94-2.06-.94 2.06-2.06.94z\"/><path d=\"M17.41 7.96l-1.37-1.37c-.4-.4-.92-.59-1.43-.59-.52 0-1.04.2-1.43.59L10.3 9.45l-7.72 7.72c-.78.78-.78 2.05 0 2.83L4 21.41c.39.39.9.59 1.41.59.51 0 1.02-.2 1.41-.59l7.78-7.78 2.81-2.81c.8-.78.8-2.07 0-2.86zM5.41 20L4 18.59l7.72-7.72 1.47 1.35L5.41 20z\"/>\n",
              "  </svg>\n",
              "      </button>\n",
              "      \n",
              "  <style>\n",
              "    .colab-df-container {\n",
              "      display:flex;\n",
              "      flex-wrap:wrap;\n",
              "      gap: 12px;\n",
              "    }\n",
              "\n",
              "    .colab-df-convert {\n",
              "      background-color: #E8F0FE;\n",
              "      border: none;\n",
              "      border-radius: 50%;\n",
              "      cursor: pointer;\n",
              "      display: none;\n",
              "      fill: #1967D2;\n",
              "      height: 32px;\n",
              "      padding: 0 0 0 0;\n",
              "      width: 32px;\n",
              "    }\n",
              "\n",
              "    .colab-df-convert:hover {\n",
              "      background-color: #E2EBFA;\n",
              "      box-shadow: 0px 1px 2px rgba(60, 64, 67, 0.3), 0px 1px 3px 1px rgba(60, 64, 67, 0.15);\n",
              "      fill: #174EA6;\n",
              "    }\n",
              "\n",
              "    [theme=dark] .colab-df-convert {\n",
              "      background-color: #3B4455;\n",
              "      fill: #D2E3FC;\n",
              "    }\n",
              "\n",
              "    [theme=dark] .colab-df-convert:hover {\n",
              "      background-color: #434B5C;\n",
              "      box-shadow: 0px 1px 3px 1px rgba(0, 0, 0, 0.15);\n",
              "      filter: drop-shadow(0px 1px 2px rgba(0, 0, 0, 0.3));\n",
              "      fill: #FFFFFF;\n",
              "    }\n",
              "  </style>\n",
              "\n",
              "      <script>\n",
              "        const buttonEl =\n",
              "          document.querySelector('#df-b7196bd8-8b64-48b1-8d59-797ff9b7fccc button.colab-df-convert');\n",
              "        buttonEl.style.display =\n",
              "          google.colab.kernel.accessAllowed ? 'block' : 'none';\n",
              "\n",
              "        async function convertToInteractive(key) {\n",
              "          const element = document.querySelector('#df-b7196bd8-8b64-48b1-8d59-797ff9b7fccc');\n",
              "          const dataTable =\n",
              "            await google.colab.kernel.invokeFunction('convertToInteractive',\n",
              "                                                     [key], {});\n",
              "          if (!dataTable) return;\n",
              "\n",
              "          const docLinkHtml = 'Like what you see? Visit the ' +\n",
              "            '<a target=\"_blank\" href=https://colab.research.google.com/notebooks/data_table.ipynb>data table notebook</a>'\n",
              "            + ' to learn more about interactive tables.';\n",
              "          element.innerHTML = '';\n",
              "          dataTable['output_type'] = 'display_data';\n",
              "          await google.colab.output.renderOutput(dataTable, element);\n",
              "          const docLink = document.createElement('div');\n",
              "          docLink.innerHTML = docLinkHtml;\n",
              "          element.appendChild(docLink);\n",
              "        }\n",
              "      </script>\n",
              "    </div>\n",
              "  </div>\n",
              "  "
            ]
          },
          "metadata": {},
          "execution_count": 30
        }
      ]
    },
    {
      "cell_type": "code",
      "source": [
        "#checking missing values in the dataset\n",
        "print(\"Percentage of missing values: \")\n",
        "display(100*dataset.isnull().sum()/dataset.shape[0])"
      ],
      "metadata": {
        "colab": {
          "base_uri": "https://localhost:8080/",
          "height": 138
        },
        "id": "HSaQpHxgf1hZ",
        "outputId": "cd19614b-664c-421d-ccb9-90e49c9824fe"
      },
      "execution_count": null,
      "outputs": [
        {
          "output_type": "stream",
          "name": "stdout",
          "text": [
            "Percentage of missing values: \n"
          ]
        },
        {
          "output_type": "display_data",
          "data": {
            "text/plain": [
              "id           0.000000\n",
              "keyword      0.801261\n",
              "location    33.272035\n",
              "text         0.000000\n",
              "target       0.000000\n",
              "dtype: float64"
            ]
          },
          "metadata": {}
        }
      ]
    },
    {
      "cell_type": "code",
      "source": [
        "# Let's explore the data by doing some vizualisations\n",
        "sns.set_theme(style=\"darkgrid\")\n",
        "sns.countplot(data.target,data = data).set(title='Target distribution')\n",
        "plt.show()"
      ],
      "metadata": {
        "colab": {
          "base_uri": "https://localhost:8080/",
          "height": 456
        },
        "id": "WMb-DOWFT8lT",
        "outputId": "f609f4cd-2b71-4de3-ae96-a98dcde6b7b9"
      },
      "execution_count": null,
      "outputs": [
        {
          "output_type": "stream",
          "name": "stderr",
          "text": [
            "/usr/local/lib/python3.7/dist-packages/seaborn/_decorators.py:43: FutureWarning: Pass the following variable as a keyword arg: x. From version 0.12, the only valid positional argument will be `data`, and passing other arguments without an explicit keyword will result in an error or misinterpretation.\n",
            "  FutureWarning\n"
          ]
        },
        {
          "output_type": "display_data",
          "data": {
            "text/plain": [
              "<Figure size 1080x396 with 1 Axes>"
            ],
            "image/png": "[encoded data removed]"
          },
          "metadata": {}
        }
      ]
    },
    {
      "cell_type": "code",
      "source": [
        "# Visualizing the occurance of keywords column\n",
        "\n",
        "px.histogram(dataset, x=dataset['keyword'], title='Count of Keyword')\n",
        "# --> most of keywords semm to have similar count except few ones : evacuated, forest%20truck, terrorim ..."
      ],
      "metadata": {
        "colab": {
          "base_uri": "https://localhost:8080/",
          "height": 542
        },
        "id": "sEyRjuLgUEiV",
        "outputId": "31b010a8-32de-4bf3-9ad2-a7c64d4b8673"
      },
      "execution_count": null,
      "outputs": [
        {
          "output_type": "display_data",
          "data": {
            "text/html": [
              "<html>\n",
              "<head><meta charset=\"utf-8\" /></head>\n",
              "<body>\n",
              "    <div>            <script src=\"https://cdnjs.cloudflare.com/ajax/libs/mathjax/2.7.5/MathJax.js?config=TeX-AMS-MML_SVG\"></script><script type=\"text/javascript\">if (window.MathJax) {MathJax.Hub.Config({SVG: {font: \"STIX-Web\"}});}</script>                <script type=\"text/javascript\">window.PlotlyConfig = {MathJaxConfig: 'local'};</script>\n",
              "        <script src=\"https://cdn.plot.ly/plotly-2.8.3.min.js\"></script>                <div id=\"f4514d2f-212d-4003-b2be-31d2be650dfa\" class=\"plotly-graph-div\" style=\"height:525px; width:100%;\"></div>            <script type=\"text/javascript\">                                    window.PLOTLYENV=window.PLOTLYENV || {};                                    if (document.getElementById(\"f4514d2f-212d-4003-b2be-31d2be650dfa\")) {                    Plotly.newPlot(                        \"f4514d2f-212d-4003-b2be-31d2be650dfa\",                        [{\"alignmentgroup\":\"True\",\"bingroup\":\"x\",\"hovertemplate\":\"keyword=%{x}<br>count=%{y}<extra></extra>\",\"legendgroup\":\"\",\"marker\":{\"color\":\"#636efa\",\"pattern\":{\"shape\":\"\"}},\"name\":\"\",\"offsetgroup\":\"\",\"orientation\":\"v\",\"showlegend\":false,\"x\":[null,null,null,null,null,null,null,null,null,null,null,null,null,null,null,null,null,null,null,null,null,null,null,null,null,null,null,null,null,null,null,\"ablaze\",\"ablaze\",\"ablaze\",\"ablaze\",\"ablaze\",\"ablaze\",\"ablaze\",\"ablaze\",\"ablaze\",\"ablaze\",\"ablaze\",\"ablaze\",\"ablaze\",\"ablaze\",\"ablaze\",\"ablaze\",\"ablaze\",\"ablaze\",\"ablaze\",\"ablaze\",\"ablaze\",\"ablaze\",\"ablaze\",\"ablaze\",\"ablaze\",\"ablaze\",\"ablaze\",\"ablaze\",\"ablaze\",\"ablaze\",\"ablaze\",\"ablaze\",\"ablaze\",\"ablaze\",\"ablaze\",\"ablaze\",\"accident\",\"accident\",\"accident\",\"accident\",\"accident\",\"accident\",\"accident\",\"accident\",\"accident\",\"accident\",\"accident\",\"accident\",\"accident\",\"accident\",\"accident\",\"accident\",\"accident\",\"accident\",\"accident\",\"accident\",\"accident\",\"accident\",\"accident\",\"accident\",\"accident\",\"accident\",\"accident\",\"accident\",\"accident\",\"accident\",\"accident\",\"accident\",\"accident\",\"accident\",\"accident\",\"aftershock\",\"aftershock\",\"aftershock\",\"aftershock\",\"aftershock\",\"aftershock\",\"aftershock\",\"aftershock\",\"aftershock\",\"aftershock\",\"aftershock\",\"aftershock\",\"aftershock\",\"aftershock\",\"aftershock\",\"aftershock\",\"aftershock\",\"aftershock\",\"aftershock\",\"aftershock\",\"aftershock\",\"aftershock\",\"aftershock\",\"aftershock\",\"aftershock\",\"aftershock\",\"aftershock\",\"aftershock\",\"aftershock\",\"aftershock\",\"aftershock\",\"aftershock\",\"aftershock\",\"aftershock\",\"airplane%20accident\",\"airplane%20accident\",\"airplane%20accident\",\"airplane%20accident\",\"airplane%20accident\",\"airplane%20accident\",\"airplane%20accident\",\"airplane%20accident\",\"airplane%20accident\",\"airplane%20accident\",\"airplane%20accident\",\"airplane%20accident\",\"airplane%20accident\",\"airplane%20accident\",\"airplane%20accident\",\"airplane%20accident\",\"airplane%20accident\",\"airplane%20accident\",\"airplane%20accident\",\"airplane%20accident\",\"airplane%20accident\",\"airplane%20accident\",\"airplane%20accident\",\"airplane%20accident\",\"airplane%20accident\",\"airplane%20accident\",\"airplane%20accident\",\"airplane%20accident\",\"airplane%20accident\",\"airplane%20accident\",\"airplane%20accident\",\"airplane%20accident\",\"airplane%20accident\",\"airplane%20accident\",\"airplane%20accident\",\"ambulance\",\"ambulance\",\"ambulance\",\"ambulance\",\"ambulance\",\"ambulance\",\"ambulance\",\"ambulance\",\"ambulance\",\"ambulance\",\"ambulance\",\"ambulance\",\"ambulance\",\"ambulance\",\"ambulance\",\"ambulance\",\"ambulance\",\"ambulance\",\"ambulance\",\"ambulance\",\"ambulance\",\"ambulance\",\"ambulance\",\"ambulance\",\"ambulance\",\"ambulance\",\"ambulance\",\"ambulance\",\"ambulance\",\"ambulance\",\"ambulance\",\"ambulance\",\"ambulance\",\"ambulance\",\"ambulance\",\"ambulance\",\"ambulance\",\"ambulance\",\"annihilated\",\"annihilated\",\"annihilated\",\"annihilated\",\"annihilated\",\"annihilated\",\"annihilated\",\"annihilated\",\"annihilated\",\"annihilated\",\"annihilated\",\"annihilated\",\"annihilated\",\"annihilated\",\"annihilated\",\"annihilated\",\"annihilated\",\"annihilated\",\"annihilated\",\"annihilated\",\"annihilated\",\"annihilated\",\"annihilated\",\"annihilated\",\"annihilated\",\"annihilated\",\"annihilated\",\"annihilated\",\"annihilated\",\"annihilated\",\"annihilated\",\"annihilated\",\"annihilated\",\"annihilated\",\"annihilation\",\"annihilation\",\"annihilation\",\"annihilation\",\"annihilation\",\"annihilation\",\"annihilation\",\"annihilation\",\"annihilation\",\"annihilation\",\"annihilation\",\"annihilation\",\"annihilation\",\"annihilation\",\"annihilation\",\"annihilation\",\"annihilation\",\"annihilation\",\"annihilation\",\"annihilation\",\"annihilation\",\"annihilation\",\"annihilation\",\"annihilation\",\"annihilation\",\"annihilation\",\"annihilation\",\"annihilation\",\"annihilation\",\"apocalypse\",\"apocalypse\",\"apocalypse\",\"apocalypse\",\"apocalypse\",\"apocalypse\",\"apocalypse\",\"apocalypse\",\"apocalypse\",\"apocalypse\",\"apocalypse\",\"apocalypse\",\"apocalypse\",\"apocalypse\",\"apocalypse\",\"apocalypse\",\"apocalypse\",\"apocalypse\",\"apocalypse\",\"apocalypse\",\"apocalypse\",\"apocalypse\",\"apocalypse\",\"apocalypse\",\"apocalypse\",\"apocalypse\",\"apocalypse\",\"apocalypse\",\"apocalypse\",\"apocalypse\",\"apocalypse\",\"apocalypse\",\"armageddon\",\"armageddon\",\"armageddon\",\"armageddon\",\"armageddon\",\"armageddon\",\"armageddon\",\"armageddon\",\"armageddon\",\"armageddon\",\"armageddon\",\"armageddon\",\"armageddon\",\"armageddon\",\"armageddon\",\"armageddon\",\"armageddon\",\"armageddon\",\"armageddon\",\"armageddon\",\"armageddon\",\"armageddon\",\"armageddon\",\"armageddon\",\"armageddon\",\"armageddon\",\"armageddon\",\"armageddon\",\"armageddon\",\"armageddon\",\"armageddon\",\"armageddon\",\"armageddon\",\"armageddon\",\"armageddon\",\"armageddon\",\"armageddon\",\"armageddon\",\"armageddon\",\"armageddon\",\"armageddon\",\"armageddon\",\"army\",\"army\",\"army\",\"army\",\"army\",\"army\",\"army\",\"army\",\"army\",\"army\",\"army\",\"army\",\"army\",\"army\",\"army\",\"army\",\"army\",\"army\",\"army\",\"army\",\"army\",\"army\",\"army\",\"army\",\"army\",\"army\",\"army\",\"army\",\"army\",\"army\",\"army\",\"army\",\"army\",\"army\",\"arson\",\"arson\",\"arson\",\"arson\",\"arson\",\"arson\",\"arson\",\"arson\",\"arson\",\"arson\",\"arson\",\"arson\",\"arson\",\"arson\",\"arson\",\"arson\",\"arson\",\"arson\",\"arson\",\"arson\",\"arson\",\"arson\",\"arson\",\"arson\",\"arson\",\"arson\",\"arson\",\"arson\",\"arson\",\"arson\",\"arson\",\"arson\",\"arsonist\",\"arsonist\",\"arsonist\",\"arsonist\",\"arsonist\",\"arsonist\",\"arsonist\",\"arsonist\",\"arsonist\",\"arsonist\",\"arsonist\",\"arsonist\",\"arsonist\",\"arsonist\",\"arsonist\",\"arsonist\",\"arsonist\",\"arsonist\",\"arsonist\",\"arsonist\",\"arsonist\",\"arsonist\",\"arsonist\",\"arsonist\",\"arsonist\",\"arsonist\",\"arsonist\",\"arsonist\",\"arsonist\",\"arsonist\",\"arsonist\",\"arsonist\",\"arsonist\",\"arsonist\",\"attack\",\"attack\",\"attack\",\"attack\",\"attack\",\"attack\",\"attack\",\"attack\",\"attack\",\"attack\",\"attack\",\"attack\",\"attack\",\"attack\",\"attack\",\"attack\",\"attack\",\"attack\",\"attack\",\"attack\",\"attack\",\"attack\",\"attack\",\"attack\",\"attack\",\"attack\",\"attack\",\"attack\",\"attack\",\"attack\",\"attack\",\"attack\",\"attack\",\"attack\",\"attack\",\"attack\",\"attacked\",\"attacked\",\"attacked\",\"attacked\",\"attacked\",\"attacked\",\"attacked\",\"attacked\",\"attacked\",\"attacked\",\"attacked\",\"attacked\",\"attacked\",\"attacked\",\"attacked\",\"attacked\",\"attacked\",\"attacked\",\"attacked\",\"attacked\",\"attacked\",\"attacked\",\"attacked\",\"attacked\",\"attacked\",\"attacked\",\"attacked\",\"attacked\",\"attacked\",\"attacked\",\"attacked\",\"attacked\",\"attacked\",\"attacked\",\"attacked\",\"avalanche\",\"avalanche\",\"avalanche\",\"avalanche\",\"avalanche\",\"avalanche\",\"avalanche\",\"avalanche\",\"avalanche\",\"avalanche\",\"avalanche\",\"avalanche\",\"avalanche\",\"avalanche\",\"avalanche\",\"avalanche\",\"avalanche\",\"avalanche\",\"avalanche\",\"avalanche\",\"avalanche\",\"avalanche\",\"avalanche\",\"avalanche\",\"avalanche\",\"avalanche\",\"avalanche\",\"avalanche\",\"avalanche\",\"avalanche\",\"battle\",\"battle\",\"battle\",\"battle\",\"battle\",\"battle\",\"battle\",\"battle\",\"battle\",\"battle\",\"battle\",\"battle\",\"battle\",\"battle\",\"battle\",\"battle\",\"battle\",\"battle\",\"battle\",\"battle\",\"battle\",\"battle\",\"battle\",\"battle\",\"battle\",\"battle\",\"bioterror\",\"bioterror\",\"bioterror\",\"bioterror\",\"bioterror\",\"bioterror\",\"bioterror\",\"bioterror\",\"bioterror\",\"bioterror\",\"bioterror\",\"bioterror\",\"bioterror\",\"bioterror\",\"bioterror\",\"bioterror\",\"bioterror\",\"bioterror\",\"bioterror\",\"bioterror\",\"bioterror\",\"bioterror\",\"bioterror\",\"bioterror\",\"bioterror\",\"bioterror\",\"bioterror\",\"bioterror\",\"bioterror\",\"bioterror\",\"bioterror\",\"bioterror\",\"bioterror\",\"bioterror\",\"bioterror\",\"bioterror\",\"bioterror\",\"bioterrorism\",\"bioterrorism\",\"bioterrorism\",\"bioterrorism\",\"bioterrorism\",\"bioterrorism\",\"bioterrorism\",\"bioterrorism\",\"bioterrorism\",\"bioterrorism\",\"bioterrorism\",\"bioterrorism\",\"bioterrorism\",\"bioterrorism\",\"bioterrorism\",\"bioterrorism\",\"bioterrorism\",\"bioterrorism\",\"bioterrorism\",\"bioterrorism\",\"bioterrorism\",\"bioterrorism\",\"bioterrorism\",\"bioterrorism\",\"bioterrorism\",\"bioterrorism\",\"bioterrorism\",\"bioterrorism\",\"bioterrorism\",\"bioterrorism\",\"blaze\",\"blaze\",\"blaze\",\"blaze\",\"blaze\",\"blaze\",\"blaze\",\"blaze\",\"blaze\",\"blaze\",\"blaze\",\"blaze\",\"blaze\",\"blaze\",\"blaze\",\"blaze\",\"blaze\",\"blaze\",\"blaze\",\"blaze\",\"blaze\",\"blaze\",\"blaze\",\"blaze\",\"blaze\",\"blaze\",\"blaze\",\"blaze\",\"blaze\",\"blaze\",\"blaze\",\"blaze\",\"blaze\",\"blaze\",\"blaze\",\"blaze\",\"blaze\",\"blaze\",\"blazing\",\"blazing\",\"blazing\",\"blazing\",\"blazing\",\"blazing\",\"blazing\",\"blazing\",\"blazing\",\"blazing\",\"blazing\",\"blazing\",\"blazing\",\"blazing\",\"blazing\",\"blazing\",\"blazing\",\"blazing\",\"blazing\",\"blazing\",\"blazing\",\"blazing\",\"blazing\",\"blazing\",\"blazing\",\"blazing\",\"blazing\",\"blazing\",\"blazing\",\"blazing\",\"blazing\",\"blazing\",\"blazing\",\"blazing\",\"bleeding\",\"bleeding\",\"bleeding\",\"bleeding\",\"bleeding\",\"bleeding\",\"bleeding\",\"bleeding\",\"bleeding\",\"bleeding\",\"bleeding\",\"bleeding\",\"bleeding\",\"bleeding\",\"bleeding\",\"bleeding\",\"bleeding\",\"bleeding\",\"bleeding\",\"bleeding\",\"bleeding\",\"bleeding\",\"bleeding\",\"bleeding\",\"bleeding\",\"bleeding\",\"bleeding\",\"bleeding\",\"bleeding\",\"bleeding\",\"bleeding\",\"bleeding\",\"bleeding\",\"bleeding\",\"bleeding\",\"blew%20up\",\"blew%20up\",\"blew%20up\",\"blew%20up\",\"blew%20up\",\"blew%20up\",\"blew%20up\",\"blew%20up\",\"blew%20up\",\"blew%20up\",\"blew%20up\",\"blew%20up\",\"blew%20up\",\"blew%20up\",\"blew%20up\",\"blew%20up\",\"blew%20up\",\"blew%20up\",\"blew%20up\",\"blew%20up\",\"blew%20up\",\"blew%20up\",\"blew%20up\",\"blew%20up\",\"blew%20up\",\"blew%20up\",\"blew%20up\",\"blew%20up\",\"blew%20up\",\"blew%20up\",\"blew%20up\",\"blew%20up\",\"blew%20up\",\"blight\",\"blight\",\"blight\",\"blight\",\"blight\",\"blight\",\"blight\",\"blight\",\"blight\",\"blight\",\"blight\",\"blight\",\"blight\",\"blight\",\"blight\",\"blight\",\"blight\",\"blight\",\"blight\",\"blight\",\"blight\",\"blight\",\"blight\",\"blight\",\"blight\",\"blight\",\"blight\",\"blight\",\"blight\",\"blight\",\"blight\",\"blight\",\"blizzard\",\"blizzard\",\"blizzard\",\"blizzard\",\"blizzard\",\"blizzard\",\"blizzard\",\"blizzard\",\"blizzard\",\"blizzard\",\"blizzard\",\"blizzard\",\"blizzard\",\"blizzard\",\"blizzard\",\"blizzard\",\"blizzard\",\"blizzard\",\"blizzard\",\"blizzard\",\"blizzard\",\"blizzard\",\"blizzard\",\"blizzard\",\"blizzard\",\"blizzard\",\"blizzard\",\"blizzard\",\"blizzard\",\"blizzard\",\"blizzard\",\"blizzard\",\"blizzard\",\"blizzard\",\"blizzard\",\"blizzard\",\"blizzard\",\"blood\",\"blood\",\"blood\",\"blood\",\"blood\",\"blood\",\"blood\",\"blood\",\"blood\",\"blood\",\"blood\",\"blood\",\"blood\",\"blood\",\"blood\",\"blood\",\"blood\",\"blood\",\"blood\",\"blood\",\"blood\",\"blood\",\"blood\",\"blood\",\"blood\",\"blood\",\"blood\",\"blood\",\"blood\",\"blood\",\"blood\",\"blood\",\"blood\",\"blood\",\"blood\",\"bloody\",\"bloody\",\"bloody\",\"bloody\",\"bloody\",\"bloody\",\"bloody\",\"bloody\",\"bloody\",\"bloody\",\"bloody\",\"bloody\",\"bloody\",\"bloody\",\"bloody\",\"bloody\",\"bloody\",\"bloody\",\"bloody\",\"bloody\",\"bloody\",\"bloody\",\"bloody\",\"bloody\",\"bloody\",\"bloody\",\"bloody\",\"bloody\",\"bloody\",\"bloody\",\"bloody\",\"bloody\",\"bloody\",\"bloody\",\"bloody\",\"blown%20up\",\"blown%20up\",\"blown%20up\",\"blown%20up\",\"blown%20up\",\"blown%20up\",\"blown%20up\",\"blown%20up\",\"blown%20up\",\"blown%20up\",\"blown%20up\",\"blown%20up\",\"blown%20up\",\"blown%20up\",\"blown%20up\",\"blown%20up\",\"blown%20up\",\"blown%20up\",\"blown%20up\",\"blown%20up\",\"blown%20up\",\"blown%20up\",\"blown%20up\",\"blown%20up\",\"blown%20up\",\"blown%20up\",\"blown%20up\",\"blown%20up\",\"blown%20up\",\"blown%20up\",\"blown%20up\",\"blown%20up\",\"blown%20up\",\"body%20bag\",\"body%20bag\",\"body%20bag\",\"body%20bag\",\"body%20bag\",\"body%20bag\",\"body%20bag\",\"body%20bag\",\"body%20bag\",\"body%20bag\",\"body%20bag\",\"body%20bag\",\"body%20bag\",\"body%20bag\",\"body%20bag\",\"body%20bag\",\"body%20bag\",\"body%20bag\",\"body%20bag\",\"body%20bag\",\"body%20bag\",\"body%20bag\",\"body%20bag\",\"body%20bag\",\"body%20bag\",\"body%20bag\",\"body%20bag\",\"body%20bag\",\"body%20bag\",\"body%20bag\",\"body%20bag\",\"body%20bag\",\"body%20bag\",\"body%20bagging\",\"body%20bagging\",\"body%20bagging\",\"body%20bagging\",\"body%20bagging\",\"body%20bagging\",\"body%20bagging\",\"body%20bagging\",\"body%20bagging\",\"body%20bagging\",\"body%20bagging\",\"body%20bagging\",\"body%20bagging\",\"body%20bagging\",\"body%20bagging\",\"body%20bagging\",\"body%20bagging\",\"body%20bagging\",\"body%20bagging\",\"body%20bagging\",\"body%20bagging\",\"body%20bagging\",\"body%20bagging\",\"body%20bagging\",\"body%20bagging\",\"body%20bagging\",\"body%20bagging\",\"body%20bagging\",\"body%20bagging\",\"body%20bagging\",\"body%20bagging\",\"body%20bagging\",\"body%20bagging\",\"body%20bags\",\"body%20bags\",\"body%20bags\",\"body%20bags\",\"body%20bags\",\"body%20bags\",\"body%20bags\",\"body%20bags\",\"body%20bags\",\"body%20bags\",\"body%20bags\",\"body%20bags\",\"body%20bags\",\"body%20bags\",\"body%20bags\",\"body%20bags\",\"body%20bags\",\"body%20bags\",\"body%20bags\",\"body%20bags\",\"body%20bags\",\"body%20bags\",\"body%20bags\",\"body%20bags\",\"body%20bags\",\"body%20bags\",\"body%20bags\",\"body%20bags\",\"body%20bags\",\"body%20bags\",\"body%20bags\",\"body%20bags\",\"body%20bags\",\"body%20bags\",\"body%20bags\",\"body%20bags\",\"body%20bags\",\"body%20bags\",\"body%20bags\",\"body%20bags\",\"body%20bags\",\"bomb\",\"bomb\",\"bomb\",\"bomb\",\"bomb\",\"bomb\",\"bomb\",\"bomb\",\"bomb\",\"bomb\",\"bomb\",\"bomb\",\"bomb\",\"bomb\",\"bomb\",\"bomb\",\"bomb\",\"bomb\",\"bomb\",\"bomb\",\"bomb\",\"bomb\",\"bomb\",\"bomb\",\"bomb\",\"bomb\",\"bomb\",\"bomb\",\"bomb\",\"bomb\",\"bomb\",\"bomb\",\"bomb\",\"bomb\",\"bombed\",\"bombed\",\"bombed\",\"bombed\",\"bombed\",\"bombed\",\"bombed\",\"bombed\",\"bombed\",\"bombed\",\"bombed\",\"bombed\",\"bombed\",\"bombed\",\"bombed\",\"bombed\",\"bombed\",\"bombed\",\"bombed\",\"bombed\",\"bombed\",\"bombed\",\"bombed\",\"bombed\",\"bombed\",\"bombed\",\"bombed\",\"bombed\",\"bombed\",\"bombed\",\"bombed\",\"bombed\",\"bombed\",\"bombed\",\"bombed\",\"bombed\",\"bombed\",\"bombed\",\"bombing\",\"bombing\",\"bombing\",\"bombing\",\"bombing\",\"bombing\",\"bombing\",\"bombing\",\"bombing\",\"bombing\",\"bombing\",\"bombing\",\"bombing\",\"bombing\",\"bombing\",\"bombing\",\"bombing\",\"bombing\",\"bombing\",\"bombing\",\"bombing\",\"bombing\",\"bombing\",\"bombing\",\"bombing\",\"bombing\",\"bombing\",\"bombing\",\"bombing\",\"bridge%20collapse\",\"bridge%20collapse\",\"bridge%20collapse\",\"bridge%20collapse\",\"bridge%20collapse\",\"bridge%20collapse\",\"bridge%20collapse\",\"bridge%20collapse\",\"bridge%20collapse\",\"bridge%20collapse\",\"bridge%20collapse\",\"bridge%20collapse\",\"bridge%20collapse\",\"bridge%20collapse\",\"bridge%20collapse\",\"bridge%20collapse\",\"bridge%20collapse\",\"bridge%20collapse\",\"bridge%20collapse\",\"bridge%20collapse\",\"bridge%20collapse\",\"bridge%20collapse\",\"bridge%20collapse\",\"bridge%20collapse\",\"bridge%20collapse\",\"bridge%20collapse\",\"bridge%20collapse\",\"bridge%20collapse\",\"bridge%20collapse\",\"bridge%20collapse\",\"bridge%20collapse\",\"bridge%20collapse\",\"bridge%20collapse\",\"bridge%20collapse\",\"bridge%20collapse\",\"buildings%20burning\",\"buildings%20burning\",\"buildings%20burning\",\"buildings%20burning\",\"buildings%20burning\",\"buildings%20burning\",\"buildings%20burning\",\"buildings%20burning\",\"buildings%20burning\",\"buildings%20burning\",\"buildings%20burning\",\"buildings%20burning\",\"buildings%20burning\",\"buildings%20burning\",\"buildings%20burning\",\"buildings%20burning\",\"buildings%20burning\",\"buildings%20burning\",\"buildings%20burning\",\"buildings%20burning\",\"buildings%20burning\",\"buildings%20burning\",\"buildings%20burning\",\"buildings%20burning\",\"buildings%20burning\",\"buildings%20burning\",\"buildings%20burning\",\"buildings%20burning\",\"buildings%20burning\",\"buildings%20burning\",\"buildings%20burning\",\"buildings%20burning\",\"buildings%20burning\",\"buildings%20burning\",\"buildings%20burning\",\"buildings%20on%20fire\",\"buildings%20on%20fire\",\"buildings%20on%20fire\",\"buildings%20on%20fire\",\"buildings%20on%20fire\",\"buildings%20on%20fire\",\"buildings%20on%20fire\",\"buildings%20on%20fire\",\"buildings%20on%20fire\",\"buildings%20on%20fire\",\"buildings%20on%20fire\",\"buildings%20on%20fire\",\"buildings%20on%20fire\",\"buildings%20on%20fire\",\"buildings%20on%20fire\",\"buildings%20on%20fire\",\"buildings%20on%20fire\",\"buildings%20on%20fire\",\"buildings%20on%20fire\",\"buildings%20on%20fire\",\"buildings%20on%20fire\",\"buildings%20on%20fire\",\"buildings%20on%20fire\",\"buildings%20on%20fire\",\"buildings%20on%20fire\",\"buildings%20on%20fire\",\"buildings%20on%20fire\",\"buildings%20on%20fire\",\"buildings%20on%20fire\",\"buildings%20on%20fire\",\"buildings%20on%20fire\",\"buildings%20on%20fire\",\"buildings%20on%20fire\",\"burned\",\"burned\",\"burned\",\"burned\",\"burned\",\"burned\",\"burned\",\"burned\",\"burned\",\"burned\",\"burned\",\"burned\",\"burned\",\"burned\",\"burned\",\"burned\",\"burned\",\"burned\",\"burned\",\"burned\",\"burned\",\"burned\",\"burned\",\"burned\",\"burned\",\"burned\",\"burned\",\"burned\",\"burned\",\"burned\",\"burned\",\"burned\",\"burned\",\"burning\",\"burning\",\"burning\",\"burning\",\"burning\",\"burning\",\"burning\",\"burning\",\"burning\",\"burning\",\"burning\",\"burning\",\"burning\",\"burning\",\"burning\",\"burning\",\"burning\",\"burning\",\"burning\",\"burning\",\"burning\",\"burning\",\"burning\",\"burning\",\"burning\",\"burning\",\"burning\",\"burning\",\"burning\",\"burning\",\"burning\",\"burning\",\"burning\",\"burning\",\"burning%20buildings\",\"burning%20buildings\",\"burning%20buildings\",\"burning%20buildings\",\"burning%20buildings\",\"burning%20buildings\",\"burning%20buildings\",\"burning%20buildings\",\"burning%20buildings\",\"burning%20buildings\",\"burning%20buildings\",\"burning%20buildings\",\"burning%20buildings\",\"burning%20buildings\",\"burning%20buildings\",\"burning%20buildings\",\"burning%20buildings\",\"burning%20buildings\",\"burning%20buildings\",\"burning%20buildings\",\"burning%20buildings\",\"burning%20buildings\",\"burning%20buildings\",\"burning%20buildings\",\"burning%20buildings\",\"burning%20buildings\",\"burning%20buildings\",\"burning%20buildings\",\"burning%20buildings\",\"burning%20buildings\",\"burning%20buildings\",\"burning%20buildings\",\"burning%20buildings\",\"burning%20buildings\",\"burning%20buildings\",\"burning%20buildings\",\"burning%20buildings\",\"bush%20fires\",\"bush%20fires\",\"bush%20fires\",\"bush%20fires\",\"bush%20fires\",\"bush%20fires\",\"bush%20fires\",\"bush%20fires\",\"bush%20fires\",\"bush%20fires\",\"bush%20fires\",\"bush%20fires\",\"bush%20fires\",\"bush%20fires\",\"bush%20fires\",\"bush%20fires\",\"bush%20fires\",\"bush%20fires\",\"bush%20fires\",\"bush%20fires\",\"bush%20fires\",\"bush%20fires\",\"bush%20fires\",\"bush%20fires\",\"bush%20fires\",\"casualties\",\"casualties\",\"casualties\",\"casualties\",\"casualties\",\"casualties\",\"casualties\",\"casualties\",\"casualties\",\"casualties\",\"casualties\",\"casualties\",\"casualties\",\"casualties\",\"casualties\",\"casualties\",\"casualties\",\"casualties\",\"casualties\",\"casualties\",\"casualties\",\"casualties\",\"casualties\",\"casualties\",\"casualties\",\"casualties\",\"casualties\",\"casualties\",\"casualties\",\"casualties\",\"casualties\",\"casualties\",\"casualties\",\"casualties\",\"casualties\",\"casualty\",\"casualty\",\"casualty\",\"casualty\",\"casualty\",\"casualty\",\"casualty\",\"casualty\",\"casualty\",\"casualty\",\"casualty\",\"casualty\",\"casualty\",\"casualty\",\"casualty\",\"casualty\",\"casualty\",\"casualty\",\"casualty\",\"casualty\",\"casualty\",\"casualty\",\"casualty\",\"casualty\",\"casualty\",\"casualty\",\"casualty\",\"casualty\",\"casualty\",\"casualty\",\"casualty\",\"casualty\",\"casualty\",\"casualty\",\"catastrophe\",\"catastrophe\",\"catastrophe\",\"catastrophe\",\"catastrophe\",\"catastrophe\",\"catastrophe\",\"catastrophe\",\"catastrophe\",\"catastrophe\",\"catastrophe\",\"catastrophe\",\"catastrophe\",\"catastrophe\",\"catastrophe\",\"catastrophe\",\"catastrophe\",\"catastrophe\",\"catastrophe\",\"catastrophe\",\"catastrophe\",\"catastrophe\",\"catastrophe\",\"catastrophe\",\"catastrophe\",\"catastrophe\",\"catastrophe\",\"catastrophe\",\"catastrophe\",\"catastrophe\",\"catastrophe\",\"catastrophe\",\"catastrophe\",\"catastrophe\",\"catastrophe\",\"catastrophe\",\"catastrophic\",\"catastrophic\",\"catastrophic\",\"catastrophic\",\"catastrophic\",\"catastrophic\",\"catastrophic\",\"catastrophic\",\"catastrophic\",\"catastrophic\",\"catastrophic\",\"catastrophic\",\"catastrophic\",\"catastrophic\",\"catastrophic\",\"catastrophic\",\"catastrophic\",\"catastrophic\",\"catastrophic\",\"catastrophic\",\"catastrophic\",\"catastrophic\",\"catastrophic\",\"catastrophic\",\"catastrophic\",\"catastrophic\",\"catastrophic\",\"catastrophic\",\"catastrophic\",\"catastrophic\",\"chemical%20emergency\",\"chemical%20emergency\",\"chemical%20emergency\",\"chemical%20emergency\",\"chemical%20emergency\",\"chemical%20emergency\",\"chemical%20emergency\",\"chemical%20emergency\",\"chemical%20emergency\",\"chemical%20emergency\",\"chemical%20emergency\",\"chemical%20emergency\",\"chemical%20emergency\",\"chemical%20emergency\",\"chemical%20emergency\",\"chemical%20emergency\",\"chemical%20emergency\",\"chemical%20emergency\",\"chemical%20emergency\",\"chemical%20emergency\",\"chemical%20emergency\",\"chemical%20emergency\",\"chemical%20emergency\",\"chemical%20emergency\",\"chemical%20emergency\",\"chemical%20emergency\",\"chemical%20emergency\",\"chemical%20emergency\",\"chemical%20emergency\",\"chemical%20emergency\",\"chemical%20emergency\",\"chemical%20emergency\",\"chemical%20emergency\",\"cliff%20fall\",\"cliff%20fall\",\"cliff%20fall\",\"cliff%20fall\",\"cliff%20fall\",\"cliff%20fall\",\"cliff%20fall\",\"cliff%20fall\",\"cliff%20fall\",\"cliff%20fall\",\"cliff%20fall\",\"cliff%20fall\",\"cliff%20fall\",\"cliff%20fall\",\"cliff%20fall\",\"cliff%20fall\",\"cliff%20fall\",\"cliff%20fall\",\"cliff%20fall\",\"cliff%20fall\",\"cliff%20fall\",\"cliff%20fall\",\"cliff%20fall\",\"cliff%20fall\",\"cliff%20fall\",\"cliff%20fall\",\"cliff%20fall\",\"cliff%20fall\",\"cliff%20fall\",\"cliff%20fall\",\"cliff%20fall\",\"cliff%20fall\",\"cliff%20fall\",\"cliff%20fall\",\"cliff%20fall\",\"cliff%20fall\",\"collapse\",\"collapse\",\"collapse\",\"collapse\",\"collapse\",\"collapse\",\"collapse\",\"collapse\",\"collapse\",\"collapse\",\"collapse\",\"collapse\",\"collapse\",\"collapse\",\"collapse\",\"collapse\",\"collapse\",\"collapse\",\"collapse\",\"collapse\",\"collapse\",\"collapse\",\"collapse\",\"collapse\",\"collapse\",\"collapse\",\"collapse\",\"collapse\",\"collapse\",\"collapse\",\"collapse\",\"collapse\",\"collapse\",\"collapse\",\"collapsed\",\"collapsed\",\"collapsed\",\"collapsed\",\"collapsed\",\"collapsed\",\"collapsed\",\"collapsed\",\"collapsed\",\"collapsed\",\"collapsed\",\"collapsed\",\"collapsed\",\"collapsed\",\"collapsed\",\"collapsed\",\"collapsed\",\"collapsed\",\"collapsed\",\"collapsed\",\"collapsed\",\"collapsed\",\"collapsed\",\"collapsed\",\"collapsed\",\"collapsed\",\"collapsed\",\"collapsed\",\"collapsed\",\"collapsed\",\"collapsed\",\"collapsed\",\"collapsed\",\"collapsed\",\"collapsed\",\"collide\",\"collide\",\"collide\",\"collide\",\"collide\",\"collide\",\"collide\",\"collide\",\"collide\",\"collide\",\"collide\",\"collide\",\"collide\",\"collide\",\"collide\",\"collide\",\"collide\",\"collide\",\"collide\",\"collide\",\"collide\",\"collide\",\"collide\",\"collide\",\"collide\",\"collide\",\"collide\",\"collide\",\"collide\",\"collide\",\"collide\",\"collide\",\"collide\",\"collide\",\"collided\",\"collided\",\"collided\",\"collided\",\"collided\",\"collided\",\"collided\",\"collided\",\"collided\",\"collided\",\"collided\",\"collided\",\"collided\",\"collided\",\"collided\",\"collided\",\"collided\",\"collided\",\"collided\",\"collided\",\"collided\",\"collided\",\"collided\",\"collided\",\"collided\",\"collided\",\"collided\",\"collided\",\"collided\",\"collided\",\"collided\",\"collided\",\"collided\",\"collided\",\"collided\",\"collided\",\"collided\",\"collided\",\"collided\",\"collided\",\"collision\",\"collision\",\"collision\",\"collision\",\"collision\",\"collision\",\"collision\",\"collision\",\"collision\",\"collision\",\"collision\",\"collision\",\"collision\",\"collision\",\"collision\",\"collision\",\"collision\",\"collision\",\"collision\",\"collision\",\"collision\",\"collision\",\"collision\",\"collision\",\"collision\",\"collision\",\"collision\",\"collision\",\"collision\",\"collision\",\"collision\",\"collision\",\"collision\",\"collision\",\"collision\",\"collision\",\"collision\",\"collision\",\"collision\",\"crash\",\"crash\",\"crash\",\"crash\",\"crash\",\"crash\",\"crash\",\"crash\",\"crash\",\"crash\",\"crash\",\"crash\",\"crash\",\"crash\",\"crash\",\"crash\",\"crash\",\"crash\",\"crash\",\"crash\",\"crash\",\"crash\",\"crash\",\"crash\",\"crash\",\"crash\",\"crash\",\"crash\",\"crash\",\"crash\",\"crash\",\"crash\",\"crash\",\"crashed\",\"crashed\",\"crashed\",\"crashed\",\"crashed\",\"crashed\",\"crashed\",\"crashed\",\"crashed\",\"crashed\",\"crashed\",\"crashed\",\"crashed\",\"crashed\",\"crashed\",\"crashed\",\"crashed\",\"crashed\",\"crashed\",\"crashed\",\"crashed\",\"crashed\",\"crashed\",\"crashed\",\"crashed\",\"crashed\",\"crashed\",\"crashed\",\"crashed\",\"crashed\",\"crashed\",\"crashed\",\"crashed\",\"crashed\",\"crush\",\"crush\",\"crush\",\"crush\",\"crush\",\"crush\",\"crush\",\"crush\",\"crush\",\"crush\",\"crush\",\"crush\",\"crush\",\"crush\",\"crush\",\"crush\",\"crush\",\"crush\",\"crush\",\"crush\",\"crush\",\"crush\",\"crush\",\"crush\",\"crush\",\"crush\",\"crush\",\"crush\",\"crush\",\"crush\",\"crush\",\"crush\",\"crush\",\"crush\",\"crush\",\"crush\",\"crush\",\"crushed\",\"crushed\",\"crushed\",\"crushed\",\"crushed\",\"crushed\",\"crushed\",\"crushed\",\"crushed\",\"crushed\",\"crushed\",\"crushed\",\"crushed\",\"crushed\",\"crushed\",\"crushed\",\"crushed\",\"crushed\",\"crushed\",\"crushed\",\"crushed\",\"crushed\",\"crushed\",\"crushed\",\"crushed\",\"crushed\",\"crushed\",\"crushed\",\"crushed\",\"crushed\",\"crushed\",\"curfew\",\"curfew\",\"curfew\",\"curfew\",\"curfew\",\"curfew\",\"curfew\",\"curfew\",\"curfew\",\"curfew\",\"curfew\",\"curfew\",\"curfew\",\"curfew\",\"curfew\",\"curfew\",\"curfew\",\"curfew\",\"curfew\",\"curfew\",\"curfew\",\"curfew\",\"curfew\",\"curfew\",\"curfew\",\"curfew\",\"curfew\",\"curfew\",\"curfew\",\"curfew\",\"curfew\",\"curfew\",\"curfew\",\"curfew\",\"curfew\",\"curfew\",\"curfew\",\"cyclone\",\"cyclone\",\"cyclone\",\"cyclone\",\"cyclone\",\"cyclone\",\"cyclone\",\"cyclone\",\"cyclone\",\"cyclone\",\"cyclone\",\"cyclone\",\"cyclone\",\"cyclone\",\"cyclone\",\"cyclone\",\"cyclone\",\"cyclone\",\"cyclone\",\"cyclone\",\"cyclone\",\"cyclone\",\"cyclone\",\"cyclone\",\"cyclone\",\"cyclone\",\"cyclone\",\"cyclone\",\"cyclone\",\"cyclone\",\"cyclone\",\"cyclone\",\"damage\",\"damage\",\"damage\",\"damage\",\"damage\",\"damage\",\"damage\",\"damage\",\"damage\",\"damage\",\"damage\",\"damage\",\"damage\",\"damage\",\"damage\",\"damage\",\"damage\",\"damage\",\"damage\",\"damage\",\"damage\",\"damage\",\"damage\",\"damage\",\"damage\",\"damage\",\"damage\",\"damage\",\"damage\",\"damage\",\"damage\",\"damage\",\"damage\",\"damage\",\"damage\",\"damage\",\"damage\",\"damage\",\"damage\",\"damage\",\"damage\",\"danger\",\"danger\",\"danger\",\"danger\",\"danger\",\"danger\",\"danger\",\"danger\",\"danger\",\"danger\",\"danger\",\"danger\",\"danger\",\"danger\",\"danger\",\"danger\",\"danger\",\"danger\",\"danger\",\"danger\",\"danger\",\"danger\",\"danger\",\"danger\",\"danger\",\"danger\",\"danger\",\"danger\",\"danger\",\"danger\",\"danger\",\"danger\",\"danger\",\"danger\",\"danger\",\"danger\",\"dead\",\"dead\",\"dead\",\"dead\",\"dead\",\"dead\",\"dead\",\"dead\",\"dead\",\"dead\",\"dead\",\"dead\",\"dead\",\"dead\",\"dead\",\"dead\",\"dead\",\"dead\",\"dead\",\"dead\",\"dead\",\"dead\",\"dead\",\"dead\",\"dead\",\"dead\",\"dead\",\"dead\",\"dead\",\"dead\",\"death\",\"death\",\"death\",\"death\",\"death\",\"death\",\"death\",\"death\",\"death\",\"death\",\"death\",\"death\",\"death\",\"death\",\"death\",\"death\",\"death\",\"death\",\"death\",\"death\",\"death\",\"death\",\"death\",\"death\",\"death\",\"death\",\"death\",\"death\",\"death\",\"death\",\"death\",\"death\",\"death\",\"death\",\"death\",\"death\",\"deaths\",\"deaths\",\"deaths\",\"deaths\",\"deaths\",\"deaths\",\"deaths\",\"deaths\",\"deaths\",\"deaths\",\"deaths\",\"deaths\",\"deaths\",\"deaths\",\"deaths\",\"deaths\",\"deaths\",\"deaths\",\"deaths\",\"deaths\",\"deaths\",\"deaths\",\"deaths\",\"deaths\",\"deaths\",\"deaths\",\"deaths\",\"deaths\",\"deaths\",\"deaths\",\"deaths\",\"deaths\",\"deaths\",\"deaths\",\"deaths\",\"deaths\",\"deaths\",\"deaths\",\"debris\",\"debris\",\"debris\",\"debris\",\"debris\",\"debris\",\"debris\",\"debris\",\"debris\",\"debris\",\"debris\",\"debris\",\"debris\",\"debris\",\"debris\",\"debris\",\"debris\",\"debris\",\"debris\",\"debris\",\"debris\",\"debris\",\"debris\",\"debris\",\"debris\",\"debris\",\"debris\",\"debris\",\"debris\",\"debris\",\"debris\",\"debris\",\"debris\",\"debris\",\"debris\",\"debris\",\"debris\",\"deluge\",\"deluge\",\"deluge\",\"deluge\",\"deluge\",\"deluge\",\"deluge\",\"deluge\",\"deluge\",\"deluge\",\"deluge\",\"deluge\",\"deluge\",\"deluge\",\"deluge\",\"deluge\",\"deluge\",\"deluge\",\"deluge\",\"deluge\",\"deluge\",\"deluge\",\"deluge\",\"deluge\",\"deluge\",\"deluge\",\"deluge\",\"deluge\",\"deluge\",\"deluge\",\"deluge\",\"deluge\",\"deluge\",\"deluge\",\"deluge\",\"deluge\",\"deluge\",\"deluge\",\"deluge\",\"deluge\",\"deluge\",\"deluge\",\"deluged\",\"deluged\",\"deluged\",\"deluged\",\"deluged\",\"deluged\",\"deluged\",\"deluged\",\"deluged\",\"deluged\",\"deluged\",\"deluged\",\"deluged\",\"deluged\",\"deluged\",\"deluged\",\"deluged\",\"deluged\",\"deluged\",\"deluged\",\"deluged\",\"deluged\",\"deluged\",\"deluged\",\"deluged\",\"deluged\",\"deluged\",\"demolish\",\"demolish\",\"demolish\",\"demolish\",\"demolish\",\"demolish\",\"demolish\",\"demolish\",\"demolish\",\"demolish\",\"demolish\",\"demolish\",\"demolish\",\"demolish\",\"demolish\",\"demolish\",\"demolish\",\"demolish\",\"demolish\",\"demolish\",\"demolish\",\"demolish\",\"demolish\",\"demolish\",\"demolish\",\"demolish\",\"demolish\",\"demolish\",\"demolish\",\"demolish\",\"demolish\",\"demolish\",\"demolish\",\"demolish\",\"demolished\",\"demolished\",\"demolished\",\"demolished\",\"demolished\",\"demolished\",\"demolished\",\"demolished\",\"demolished\",\"demolished\",\"demolished\",\"demolished\",\"demolished\",\"demolished\",\"demolished\",\"demolished\",\"demolished\",\"demolished\",\"demolished\",\"demolished\",\"demolished\",\"demolished\",\"demolished\",\"demolished\",\"demolished\",\"demolished\",\"demolished\",\"demolished\",\"demolition\",\"demolition\",\"demolition\",\"demolition\",\"demolition\",\"demolition\",\"demolition\",\"demolition\",\"demolition\",\"demolition\",\"demolition\",\"demolition\",\"demolition\",\"demolition\",\"demolition\",\"demolition\",\"demolition\",\"demolition\",\"demolition\",\"demolition\",\"demolition\",\"demolition\",\"demolition\",\"demolition\",\"demolition\",\"demolition\",\"demolition\",\"demolition\",\"demolition\",\"demolition\",\"demolition\",\"demolition\",\"demolition\",\"demolition\",\"demolition\",\"derail\",\"derail\",\"derail\",\"derail\",\"derail\",\"derail\",\"derail\",\"derail\",\"derail\",\"derail\",\"derail\",\"derail\",\"derail\",\"derail\",\"derail\",\"derail\",\"derail\",\"derail\",\"derail\",\"derail\",\"derail\",\"derail\",\"derail\",\"derail\",\"derail\",\"derail\",\"derail\",\"derail\",\"derail\",\"derail\",\"derail\",\"derail\",\"derail\",\"derail\",\"derail\",\"derailed\",\"derailed\",\"derailed\",\"derailed\",\"derailed\",\"derailed\",\"derailed\",\"derailed\",\"derailed\",\"derailed\",\"derailed\",\"derailed\",\"derailed\",\"derailed\",\"derailed\",\"derailed\",\"derailed\",\"derailed\",\"derailed\",\"derailed\",\"derailed\",\"derailed\",\"derailed\",\"derailed\",\"derailed\",\"derailed\",\"derailed\",\"derailed\",\"derailed\",\"derailed\",\"derailed\",\"derailed\",\"derailed\",\"derailed\",\"derailed\",\"derailed\",\"derailed\",\"derailed\",\"derailment\",\"derailment\",\"derailment\",\"derailment\",\"derailment\",\"derailment\",\"derailment\",\"derailment\",\"derailment\",\"derailment\",\"derailment\",\"derailment\",\"derailment\",\"derailment\",\"derailment\",\"derailment\",\"derailment\",\"derailment\",\"derailment\",\"derailment\",\"derailment\",\"derailment\",\"derailment\",\"derailment\",\"derailment\",\"derailment\",\"derailment\",\"derailment\",\"derailment\",\"derailment\",\"derailment\",\"derailment\",\"derailment\",\"derailment\",\"derailment\",\"derailment\",\"derailment\",\"derailment\",\"derailment\",\"desolate\",\"desolate\",\"desolate\",\"desolate\",\"desolate\",\"desolate\",\"desolate\",\"desolate\",\"desolate\",\"desolate\",\"desolate\",\"desolate\",\"desolate\",\"desolate\",\"desolate\",\"desolate\",\"desolate\",\"desolate\",\"desolate\",\"desolate\",\"desolate\",\"desolate\",\"desolate\",\"desolate\",\"desolate\",\"desolate\",\"desolate\",\"desolate\",\"desolate\",\"desolation\",\"desolation\",\"desolation\",\"desolation\",\"desolation\",\"desolation\",\"desolation\",\"desolation\",\"desolation\",\"desolation\",\"desolation\",\"desolation\",\"desolation\",\"desolation\",\"desolation\",\"desolation\",\"desolation\",\"desolation\",\"desolation\",\"desolation\",\"desolation\",\"desolation\",\"desolation\",\"desolation\",\"desolation\",\"desolation\",\"desolation\",\"desolation\",\"desolation\",\"desolation\",\"desolation\",\"desolation\",\"desolation\",\"desolation\",\"desolation\",\"desolation\",\"destroy\",\"destroy\",\"destroy\",\"destroy\",\"destroy\",\"destroy\",\"destroy\",\"destroy\",\"destroy\",\"destroy\",\"destroy\",\"destroy\",\"destroy\",\"destroy\",\"destroy\",\"destroy\",\"destroy\",\"destroy\",\"destroy\",\"destroy\",\"destroy\",\"destroy\",\"destroy\",\"destroy\",\"destroy\",\"destroy\",\"destroy\",\"destroy\",\"destroy\",\"destroy\",\"destroy\",\"destroy\",\"destroy\",\"destroy\",\"destroy\",\"destroy\",\"destroy\",\"destroyed\",\"destroyed\",\"destroyed\",\"destroyed\",\"destroyed\",\"destroyed\",\"destroyed\",\"destroyed\",\"destroyed\",\"destroyed\",\"destroyed\",\"destroyed\",\"destroyed\",\"destroyed\",\"destroyed\",\"destroyed\",\"destroyed\",\"destroyed\",\"destroyed\",\"destroyed\",\"destroyed\",\"destroyed\",\"destroyed\",\"destroyed\",\"destroyed\",\"destroyed\",\"destroyed\",\"destroyed\",\"destroyed\",\"destroyed\",\"destroyed\",\"destroyed\",\"destruction\",\"destruction\",\"destruction\",\"destruction\",\"destruction\",\"destruction\",\"destruction\",\"destruction\",\"destruction\",\"destruction\",\"destruction\",\"destruction\",\"destruction\",\"destruction\",\"destruction\",\"destruction\",\"destruction\",\"destruction\",\"destruction\",\"destruction\",\"destruction\",\"destruction\",\"destruction\",\"destruction\",\"destruction\",\"destruction\",\"destruction\",\"destruction\",\"destruction\",\"destruction\",\"destruction\",\"destruction\",\"destruction\",\"destruction\",\"detonate\",\"detonate\",\"detonate\",\"detonate\",\"detonate\",\"detonate\",\"detonate\",\"detonate\",\"detonate\",\"detonate\",\"detonate\",\"detonate\",\"detonate\",\"detonate\",\"detonate\",\"detonate\",\"detonate\",\"detonate\",\"detonate\",\"detonate\",\"detonate\",\"detonate\",\"detonate\",\"detonate\",\"detonate\",\"detonate\",\"detonate\",\"detonate\",\"detonate\",\"detonate\",\"detonate\",\"detonate\",\"detonate\",\"detonate\",\"detonate\",\"detonate\",\"detonation\",\"detonation\",\"detonation\",\"detonation\",\"detonation\",\"detonation\",\"detonation\",\"detonation\",\"detonation\",\"detonation\",\"detonation\",\"detonation\",\"detonation\",\"detonation\",\"detonation\",\"detonation\",\"detonation\",\"detonation\",\"detonation\",\"detonation\",\"detonation\",\"detonation\",\"detonation\",\"detonation\",\"detonation\",\"detonation\",\"detonation\",\"detonation\",\"detonation\",\"detonation\",\"detonation\",\"detonation\",\"devastated\",\"devastated\",\"devastated\",\"devastated\",\"devastated\",\"devastated\",\"devastated\",\"devastated\",\"devastated\",\"devastated\",\"devastated\",\"devastated\",\"devastated\",\"devastated\",\"devastated\",\"devastated\",\"devastated\",\"devastated\",\"devastated\",\"devastated\",\"devastated\",\"devastated\",\"devastated\",\"devastated\",\"devastated\",\"devastated\",\"devastated\",\"devastated\",\"devastated\",\"devastated\",\"devastated\",\"devastation\",\"devastation\",\"devastation\",\"devastation\",\"devastation\",\"devastation\",\"devastation\",\"devastation\",\"devastation\",\"devastation\",\"devastation\",\"devastation\",\"devastation\",\"devastation\",\"devastation\",\"devastation\",\"devastation\",\"devastation\",\"devastation\",\"devastation\",\"devastation\",\"devastation\",\"devastation\",\"devastation\",\"devastation\",\"devastation\",\"devastation\",\"devastation\",\"devastation\",\"devastation\",\"devastation\",\"devastation\",\"devastation\",\"devastation\",\"devastation\",\"devastation\",\"disaster\",\"disaster\",\"disaster\",\"disaster\",\"disaster\",\"disaster\",\"disaster\",\"disaster\",\"disaster\",\"disaster\",\"disaster\",\"disaster\",\"disaster\",\"disaster\",\"disaster\",\"disaster\",\"disaster\",\"disaster\",\"disaster\",\"disaster\",\"disaster\",\"disaster\",\"disaster\",\"disaster\",\"disaster\",\"disaster\",\"disaster\",\"disaster\",\"disaster\",\"disaster\",\"disaster\",\"disaster\",\"disaster\",\"disaster\",\"disaster\",\"displaced\",\"displaced\",\"displaced\",\"displaced\",\"displaced\",\"displaced\",\"displaced\",\"displaced\",\"displaced\",\"displaced\",\"displaced\",\"displaced\",\"displaced\",\"displaced\",\"displaced\",\"displaced\",\"displaced\",\"displaced\",\"displaced\",\"displaced\",\"displaced\",\"displaced\",\"displaced\",\"displaced\",\"displaced\",\"displaced\",\"displaced\",\"displaced\",\"displaced\",\"displaced\",\"displaced\",\"displaced\",\"displaced\",\"displaced\",\"displaced\",\"displaced\",\"drought\",\"drought\",\"drought\",\"drought\",\"drought\",\"drought\",\"drought\",\"drought\",\"drought\",\"drought\",\"drought\",\"drought\",\"drought\",\"drought\",\"drought\",\"drought\",\"drought\",\"drought\",\"drought\",\"drought\",\"drought\",\"drought\",\"drought\",\"drought\",\"drought\",\"drought\",\"drought\",\"drought\",\"drought\",\"drought\",\"drought\",\"drought\",\"drought\",\"drought\",\"drought\",\"drown\",\"drown\",\"drown\",\"drown\",\"drown\",\"drown\",\"drown\",\"drown\",\"drown\",\"drown\",\"drown\",\"drown\",\"drown\",\"drown\",\"drown\",\"drown\",\"drown\",\"drown\",\"drown\",\"drown\",\"drown\",\"drown\",\"drown\",\"drown\",\"drown\",\"drown\",\"drown\",\"drown\",\"drown\",\"drown\",\"drown\",\"drown\",\"drowned\",\"drowned\",\"drowned\",\"drowned\",\"drowned\",\"drowned\",\"drowned\",\"drowned\",\"drowned\",\"drowned\",\"drowned\",\"drowned\",\"drowned\",\"drowned\",\"drowned\",\"drowned\",\"drowned\",\"drowned\",\"drowned\",\"drowned\",\"drowned\",\"drowned\",\"drowned\",\"drowned\",\"drowned\",\"drowned\",\"drowned\",\"drowned\",\"drowned\",\"drowned\",\"drowned\",\"drowned\",\"drowned\",\"drowned\",\"drowned\",\"drowned\",\"drowned\",\"drowned\",\"drowning\",\"drowning\",\"drowning\",\"drowning\",\"drowning\",\"drowning\",\"drowning\",\"drowning\",\"drowning\",\"drowning\",\"drowning\",\"drowning\",\"drowning\",\"drowning\",\"drowning\",\"drowning\",\"drowning\",\"drowning\",\"drowning\",\"drowning\",\"drowning\",\"drowning\",\"drowning\",\"drowning\",\"drowning\",\"drowning\",\"drowning\",\"drowning\",\"drowning\",\"drowning\",\"drowning\",\"drowning\",\"drowning\",\"drowning\",\"dust%20storm\",\"dust%20storm\",\"dust%20storm\",\"dust%20storm\",\"dust%20storm\",\"dust%20storm\",\"dust%20storm\",\"dust%20storm\",\"dust%20storm\",\"dust%20storm\",\"dust%20storm\",\"dust%20storm\",\"dust%20storm\",\"dust%20storm\",\"dust%20storm\",\"dust%20storm\",\"dust%20storm\",\"dust%20storm\",\"dust%20storm\",\"dust%20storm\",\"dust%20storm\",\"dust%20storm\",\"dust%20storm\",\"dust%20storm\",\"dust%20storm\",\"dust%20storm\",\"dust%20storm\",\"dust%20storm\",\"dust%20storm\",\"dust%20storm\",\"dust%20storm\",\"dust%20storm\",\"dust%20storm\",\"dust%20storm\",\"dust%20storm\",\"dust%20storm\",\"earthquake\",\"earthquake\",\"earthquake\",\"earthquake\",\"earthquake\",\"earthquake\",\"earthquake\",\"earthquake\",\"earthquake\",\"earthquake\",\"earthquake\",\"earthquake\",\"earthquake\",\"earthquake\",\"earthquake\",\"earthquake\",\"earthquake\",\"earthquake\",\"earthquake\",\"earthquake\",\"earthquake\",\"earthquake\",\"earthquake\",\"earthquake\",\"earthquake\",\"earthquake\",\"earthquake\",\"earthquake\",\"earthquake\",\"earthquake\",\"earthquake\",\"earthquake\",\"earthquake\",\"earthquake\",\"earthquake\",\"earthquake\",\"earthquake\",\"earthquake\",\"earthquake\",\"electrocute\",\"electrocute\",\"electrocute\",\"electrocute\",\"electrocute\",\"electrocute\",\"electrocute\",\"electrocute\",\"electrocute\",\"electrocute\",\"electrocute\",\"electrocute\",\"electrocute\",\"electrocute\",\"electrocute\",\"electrocute\",\"electrocute\",\"electrocute\",\"electrocute\",\"electrocute\",\"electrocute\",\"electrocute\",\"electrocute\",\"electrocute\",\"electrocute\",\"electrocute\",\"electrocute\",\"electrocute\",\"electrocute\",\"electrocute\",\"electrocute\",\"electrocute\",\"electrocuted\",\"electrocuted\",\"electrocuted\",\"electrocuted\",\"electrocuted\",\"electrocuted\",\"electrocuted\",\"electrocuted\",\"electrocuted\",\"electrocuted\",\"electrocuted\",\"electrocuted\",\"electrocuted\",\"electrocuted\",\"electrocuted\",\"electrocuted\",\"electrocuted\",\"electrocuted\",\"electrocuted\",\"electrocuted\",\"electrocuted\",\"electrocuted\",\"electrocuted\",\"electrocuted\",\"electrocuted\",\"electrocuted\",\"electrocuted\",\"electrocuted\",\"electrocuted\",\"electrocuted\",\"electrocuted\",\"electrocuted\",\"electrocuted\",\"electrocuted\",\"emergency\",\"emergency\",\"emergency\",\"emergency\",\"emergency\",\"emergency\",\"emergency\",\"emergency\",\"emergency\",\"emergency\",\"emergency\",\"emergency\",\"emergency\",\"emergency\",\"emergency\",\"emergency\",\"emergency\",\"emergency\",\"emergency\",\"emergency\",\"emergency\",\"emergency\",\"emergency\",\"emergency\",\"emergency\",\"emergency\",\"emergency\",\"emergency\",\"emergency\",\"emergency\",\"emergency\",\"emergency\",\"emergency\",\"emergency\",\"emergency\",\"emergency\",\"emergency\",\"emergency%20plan\",\"emergency%20plan\",\"emergency%20plan\",\"emergency%20plan\",\"emergency%20plan\",\"emergency%20plan\",\"emergency%20plan\",\"emergency%20plan\",\"emergency%20plan\",\"emergency%20plan\",\"emergency%20plan\",\"emergency%20plan\",\"emergency%20plan\",\"emergency%20plan\",\"emergency%20plan\",\"emergency%20plan\",\"emergency%20plan\",\"emergency%20plan\",\"emergency%20plan\",\"emergency%20plan\",\"emergency%20plan\",\"emergency%20plan\",\"emergency%20plan\",\"emergency%20plan\",\"emergency%20plan\",\"emergency%20plan\",\"emergency%20plan\",\"emergency%20plan\",\"emergency%20plan\",\"emergency%20plan\",\"emergency%20plan\",\"emergency%20plan\",\"emergency%20plan\",\"emergency%20plan\",\"emergency%20plan\",\"emergency%20services\",\"emergency%20services\",\"emergency%20services\",\"emergency%20services\",\"emergency%20services\",\"emergency%20services\",\"emergency%20services\",\"emergency%20services\",\"emergency%20services\",\"emergency%20services\",\"emergency%20services\",\"emergency%20services\",\"emergency%20services\",\"emergency%20services\",\"emergency%20services\",\"emergency%20services\",\"emergency%20services\",\"emergency%20services\",\"emergency%20services\",\"emergency%20services\",\"emergency%20services\",\"emergency%20services\",\"emergency%20services\",\"emergency%20services\",\"emergency%20services\",\"emergency%20services\",\"emergency%20services\",\"emergency%20services\",\"emergency%20services\",\"emergency%20services\",\"emergency%20services\",\"emergency%20services\",\"emergency%20services\",\"engulfed\",\"engulfed\",\"engulfed\",\"engulfed\",\"engulfed\",\"engulfed\",\"engulfed\",\"engulfed\",\"engulfed\",\"engulfed\",\"engulfed\",\"engulfed\",\"engulfed\",\"engulfed\",\"engulfed\",\"engulfed\",\"engulfed\",\"engulfed\",\"engulfed\",\"engulfed\",\"engulfed\",\"engulfed\",\"engulfed\",\"engulfed\",\"engulfed\",\"engulfed\",\"engulfed\",\"engulfed\",\"engulfed\",\"engulfed\",\"engulfed\",\"engulfed\",\"engulfed\",\"engulfed\",\"engulfed\",\"engulfed\",\"epicentre\",\"epicentre\",\"epicentre\",\"epicentre\",\"epicentre\",\"epicentre\",\"epicentre\",\"epicentre\",\"epicentre\",\"epicentre\",\"epicentre\",\"epicentre\",\"evacuate\",\"evacuate\",\"evacuate\",\"evacuate\",\"evacuate\",\"evacuate\",\"evacuate\",\"evacuate\",\"evacuate\",\"evacuate\",\"evacuate\",\"evacuate\",\"evacuate\",\"evacuate\",\"evacuate\",\"evacuate\",\"evacuate\",\"evacuate\",\"evacuate\",\"evacuate\",\"evacuate\",\"evacuate\",\"evacuate\",\"evacuate\",\"evacuate\",\"evacuate\",\"evacuate\",\"evacuate\",\"evacuate\",\"evacuate\",\"evacuate\",\"evacuate\",\"evacuate\",\"evacuate\",\"evacuate\",\"evacuate\",\"evacuate\",\"evacuate\",\"evacuate\",\"evacuate\",\"evacuated\",\"evacuated\",\"evacuated\",\"evacuated\",\"evacuated\",\"evacuated\",\"evacuated\",\"evacuated\",\"evacuated\",\"evacuated\",\"evacuated\",\"evacuated\",\"evacuated\",\"evacuated\",\"evacuated\",\"evacuated\",\"evacuated\",\"evacuated\",\"evacuated\",\"evacuated\",\"evacuated\",\"evacuated\",\"evacuated\",\"evacuated\",\"evacuated\",\"evacuated\",\"evacuated\",\"evacuated\",\"evacuated\",\"evacuated\",\"evacuated\",\"evacuated\",\"evacuated\",\"evacuated\",\"evacuated\",\"evacuated\",\"evacuation\",\"evacuation\",\"evacuation\",\"evacuation\",\"evacuation\",\"evacuation\",\"evacuation\",\"evacuation\",\"evacuation\",\"evacuation\",\"evacuation\",\"evacuation\",\"evacuation\",\"evacuation\",\"evacuation\",\"evacuation\",\"evacuation\",\"evacuation\",\"evacuation\",\"evacuation\",\"evacuation\",\"evacuation\",\"evacuation\",\"evacuation\",\"evacuation\",\"evacuation\",\"evacuation\",\"evacuation\",\"evacuation\",\"evacuation\",\"evacuation\",\"evacuation\",\"evacuation\",\"evacuation\",\"evacuation\",\"evacuation\",\"explode\",\"explode\",\"explode\",\"explode\",\"explode\",\"explode\",\"explode\",\"explode\",\"explode\",\"explode\",\"explode\",\"explode\",\"explode\",\"explode\",\"explode\",\"explode\",\"explode\",\"explode\",\"explode\",\"explode\",\"explode\",\"explode\",\"explode\",\"explode\",\"explode\",\"explode\",\"explode\",\"explode\",\"explode\",\"explode\",\"explode\",\"explode\",\"explode\",\"explode\",\"explode\",\"explode\",\"explode\",\"explode\",\"exploded\",\"exploded\",\"exploded\",\"exploded\",\"exploded\",\"exploded\",\"exploded\",\"exploded\",\"exploded\",\"exploded\",\"exploded\",\"exploded\",\"exploded\",\"exploded\",\"exploded\",\"exploded\",\"exploded\",\"exploded\",\"exploded\",\"exploded\",\"exploded\",\"exploded\",\"exploded\",\"exploded\",\"exploded\",\"exploded\",\"exploded\",\"exploded\",\"exploded\",\"exploded\",\"exploded\",\"exploded\",\"exploded\",\"explosion\",\"explosion\",\"explosion\",\"explosion\",\"explosion\",\"explosion\",\"explosion\",\"explosion\",\"explosion\",\"explosion\",\"explosion\",\"explosion\",\"explosion\",\"explosion\",\"explosion\",\"explosion\",\"explosion\",\"explosion\",\"explosion\",\"explosion\",\"explosion\",\"explosion\",\"explosion\",\"explosion\",\"explosion\",\"explosion\",\"explosion\",\"explosion\",\"explosion\",\"explosion\",\"explosion\",\"explosion\",\"explosion\",\"explosion\",\"explosion\",\"explosion\",\"explosion\",\"explosion\",\"explosion\",\"eyewitness\",\"eyewitness\",\"eyewitness\",\"eyewitness\",\"eyewitness\",\"eyewitness\",\"eyewitness\",\"eyewitness\",\"eyewitness\",\"eyewitness\",\"eyewitness\",\"eyewitness\",\"eyewitness\",\"eyewitness\",\"eyewitness\",\"eyewitness\",\"eyewitness\",\"eyewitness\",\"eyewitness\",\"eyewitness\",\"eyewitness\",\"eyewitness\",\"eyewitness\",\"eyewitness\",\"eyewitness\",\"eyewitness\",\"eyewitness\",\"eyewitness\",\"eyewitness\",\"eyewitness\",\"eyewitness\",\"eyewitness\",\"famine\",\"famine\",\"famine\",\"famine\",\"famine\",\"famine\",\"famine\",\"famine\",\"famine\",\"famine\",\"famine\",\"famine\",\"famine\",\"famine\",\"famine\",\"famine\",\"famine\",\"famine\",\"famine\",\"famine\",\"famine\",\"famine\",\"famine\",\"famine\",\"famine\",\"famine\",\"famine\",\"famine\",\"famine\",\"famine\",\"famine\",\"famine\",\"famine\",\"famine\",\"famine\",\"famine\",\"famine\",\"famine\",\"famine\",\"fatal\",\"fatal\",\"fatal\",\"fatal\",\"fatal\",\"fatal\",\"fatal\",\"fatal\",\"fatal\",\"fatal\",\"fatal\",\"fatal\",\"fatal\",\"fatal\",\"fatal\",\"fatal\",\"fatal\",\"fatal\",\"fatal\",\"fatal\",\"fatal\",\"fatal\",\"fatal\",\"fatal\",\"fatal\",\"fatal\",\"fatal\",\"fatal\",\"fatal\",\"fatal\",\"fatal\",\"fatal\",\"fatal\",\"fatal\",\"fatal\",\"fatal\",\"fatal\",\"fatal\",\"fatalities\",\"fatalities\",\"fatalities\",\"fatalities\",\"fatalities\",\"fatalities\",\"fatalities\",\"fatalities\",\"fatalities\",\"fatalities\",\"fatalities\",\"fatalities\",\"fatalities\",\"fatalities\",\"fatalities\",\"fatalities\",\"fatalities\",\"fatalities\",\"fatalities\",\"fatalities\",\"fatalities\",\"fatalities\",\"fatalities\",\"fatalities\",\"fatalities\",\"fatalities\",\"fatalities\",\"fatalities\",\"fatalities\",\"fatalities\",\"fatalities\",\"fatalities\",\"fatalities\",\"fatalities\",\"fatalities\",\"fatalities\",\"fatalities\",\"fatalities\",\"fatalities\",\"fatalities\",\"fatalities\",\"fatalities\",\"fatalities\",\"fatalities\",\"fatalities\",\"fatality\",\"fatality\",\"fatality\",\"fatality\",\"fatality\",\"fatality\",\"fatality\",\"fatality\",\"fatality\",\"fatality\",\"fatality\",\"fatality\",\"fatality\",\"fatality\",\"fatality\",\"fatality\",\"fatality\",\"fatality\",\"fatality\",\"fatality\",\"fatality\",\"fatality\",\"fatality\",\"fatality\",\"fatality\",\"fatality\",\"fatality\",\"fatality\",\"fatality\",\"fatality\",\"fatality\",\"fatality\",\"fatality\",\"fatality\",\"fatality\",\"fatality\",\"fatality\",\"fear\",\"fear\",\"fear\",\"fear\",\"fear\",\"fear\",\"fear\",\"fear\",\"fear\",\"fear\",\"fear\",\"fear\",\"fear\",\"fear\",\"fear\",\"fear\",\"fear\",\"fear\",\"fear\",\"fear\",\"fear\",\"fear\",\"fear\",\"fear\",\"fear\",\"fear\",\"fear\",\"fear\",\"fear\",\"fear\",\"fear\",\"fear\",\"fear\",\"fear\",\"fear\",\"fear\",\"fear\",\"fear\",\"fear\",\"fear\",\"fire\",\"fire\",\"fire\",\"fire\",\"fire\",\"fire\",\"fire\",\"fire\",\"fire\",\"fire\",\"fire\",\"fire\",\"fire\",\"fire\",\"fire\",\"fire\",\"fire\",\"fire\",\"fire\",\"fire\",\"fire\",\"fire\",\"fire\",\"fire\",\"fire\",\"fire\",\"fire\",\"fire\",\"fire\",\"fire\",\"fire\",\"fire\",\"fire\",\"fire\",\"fire\",\"fire\",\"fire\",\"fire\",\"fire%20truck\",\"fire%20truck\",\"fire%20truck\",\"fire%20truck\",\"fire%20truck\",\"fire%20truck\",\"fire%20truck\",\"fire%20truck\",\"fire%20truck\",\"fire%20truck\",\"fire%20truck\",\"fire%20truck\",\"fire%20truck\",\"fire%20truck\",\"fire%20truck\",\"fire%20truck\",\"fire%20truck\",\"fire%20truck\",\"fire%20truck\",\"fire%20truck\",\"fire%20truck\",\"fire%20truck\",\"fire%20truck\",\"fire%20truck\",\"fire%20truck\",\"fire%20truck\",\"fire%20truck\",\"fire%20truck\",\"fire%20truck\",\"fire%20truck\",\"fire%20truck\",\"fire%20truck\",\"fire%20truck\",\"first%20responders\",\"first%20responders\",\"first%20responders\",\"first%20responders\",\"first%20responders\",\"first%20responders\",\"first%20responders\",\"first%20responders\",\"first%20responders\",\"first%20responders\",\"first%20responders\",\"first%20responders\",\"first%20responders\",\"first%20responders\",\"first%20responders\",\"first%20responders\",\"first%20responders\",\"first%20responders\",\"first%20responders\",\"first%20responders\",\"first%20responders\",\"first%20responders\",\"first%20responders\",\"first%20responders\",\"first%20responders\",\"first%20responders\",\"first%20responders\",\"first%20responders\",\"first%20responders\",\"flames\",\"flames\",\"flames\",\"flames\",\"flames\",\"flames\",\"flames\",\"flames\",\"flames\",\"flames\",\"flames\",\"flames\",\"flames\",\"flames\",\"flames\",\"flames\",\"flames\",\"flames\",\"flames\",\"flames\",\"flames\",\"flames\",\"flames\",\"flames\",\"flames\",\"flames\",\"flames\",\"flames\",\"flames\",\"flames\",\"flames\",\"flames\",\"flames\",\"flames\",\"flames\",\"flames\",\"flames\",\"flames\",\"flames\",\"flattened\",\"flattened\",\"flattened\",\"flattened\",\"flattened\",\"flattened\",\"flattened\",\"flattened\",\"flattened\",\"flattened\",\"flattened\",\"flattened\",\"flattened\",\"flattened\",\"flattened\",\"flattened\",\"flattened\",\"flattened\",\"flattened\",\"flattened\",\"flattened\",\"flattened\",\"flattened\",\"flattened\",\"flattened\",\"flattened\",\"flattened\",\"flattened\",\"flattened\",\"flattened\",\"flattened\",\"flattened\",\"flattened\",\"flattened\",\"flood\",\"flood\",\"flood\",\"flood\",\"flood\",\"flood\",\"flood\",\"flood\",\"flood\",\"flood\",\"flood\",\"flood\",\"flood\",\"flood\",\"flood\",\"flood\",\"flood\",\"flood\",\"flood\",\"flood\",\"flood\",\"flood\",\"flood\",\"flood\",\"flood\",\"flood\",\"flood\",\"flood\",\"flood\",\"flood\",\"flood\",\"flood\",\"flood\",\"flood\",\"flood\",\"flooding\",\"flooding\",\"flooding\",\"flooding\",\"flooding\",\"flooding\",\"flooding\",\"flooding\",\"flooding\",\"flooding\",\"flooding\",\"flooding\",\"flooding\",\"flooding\",\"flooding\",\"flooding\",\"flooding\",\"flooding\",\"flooding\",\"flooding\",\"flooding\",\"flooding\",\"flooding\",\"flooding\",\"flooding\",\"flooding\",\"flooding\",\"flooding\",\"flooding\",\"flooding\",\"flooding\",\"flooding\",\"flooding\",\"flooding\",\"flooding\",\"flooding\",\"flooding\",\"flooding\",\"floods\",\"floods\",\"floods\",\"floods\",\"floods\",\"floods\",\"floods\",\"floods\",\"floods\",\"floods\",\"floods\",\"floods\",\"floods\",\"floods\",\"floods\",\"floods\",\"floods\",\"floods\",\"floods\",\"floods\",\"floods\",\"floods\",\"floods\",\"floods\",\"floods\",\"floods\",\"floods\",\"floods\",\"floods\",\"floods\",\"floods\",\"floods\",\"floods\",\"floods\",\"floods\",\"floods\",\"forest%20fire\",\"forest%20fire\",\"forest%20fire\",\"forest%20fire\",\"forest%20fire\",\"forest%20fire\",\"forest%20fire\",\"forest%20fire\",\"forest%20fire\",\"forest%20fire\",\"forest%20fire\",\"forest%20fire\",\"forest%20fire\",\"forest%20fire\",\"forest%20fire\",\"forest%20fire\",\"forest%20fire\",\"forest%20fire\",\"forest%20fire\",\"forest%20fires\",\"forest%20fires\",\"forest%20fires\",\"forest%20fires\",\"forest%20fires\",\"forest%20fires\",\"forest%20fires\",\"forest%20fires\",\"forest%20fires\",\"forest%20fires\",\"forest%20fires\",\"forest%20fires\",\"forest%20fires\",\"forest%20fires\",\"forest%20fires\",\"forest%20fires\",\"forest%20fires\",\"forest%20fires\",\"forest%20fires\",\"forest%20fires\",\"forest%20fires\",\"forest%20fires\",\"forest%20fires\",\"forest%20fires\",\"forest%20fires\",\"forest%20fires\",\"forest%20fires\",\"forest%20fires\",\"forest%20fires\",\"forest%20fires\",\"forest%20fires\",\"forest%20fires\",\"hail\",\"hail\",\"hail\",\"hail\",\"hail\",\"hail\",\"hail\",\"hail\",\"hail\",\"hail\",\"hail\",\"hail\",\"hail\",\"hail\",\"hail\",\"hail\",\"hail\",\"hail\",\"hail\",\"hail\",\"hail\",\"hail\",\"hail\",\"hail\",\"hail\",\"hail\",\"hail\",\"hail\",\"hail\",\"hail\",\"hail\",\"hail\",\"hail\",\"hail\",\"hail\",\"hailstorm\",\"hailstorm\",\"hailstorm\",\"hailstorm\",\"hailstorm\",\"hailstorm\",\"hailstorm\",\"hailstorm\",\"hailstorm\",\"hailstorm\",\"hailstorm\",\"hailstorm\",\"hailstorm\",\"hailstorm\",\"hailstorm\",\"hailstorm\",\"hailstorm\",\"hailstorm\",\"hailstorm\",\"hailstorm\",\"hailstorm\",\"hailstorm\",\"hailstorm\",\"hailstorm\",\"hailstorm\",\"hailstorm\",\"hailstorm\",\"hailstorm\",\"hailstorm\",\"hailstorm\",\"hailstorm\",\"hailstorm\",\"harm\",\"harm\",\"harm\",\"harm\",\"harm\",\"harm\",\"harm\",\"harm\",\"harm\",\"harm\",\"harm\",\"harm\",\"harm\",\"harm\",\"harm\",\"harm\",\"harm\",\"harm\",\"harm\",\"harm\",\"harm\",\"harm\",\"harm\",\"harm\",\"harm\",\"harm\",\"harm\",\"harm\",\"harm\",\"harm\",\"harm\",\"harm\",\"harm\",\"harm\",\"harm\",\"harm\",\"harm\",\"harm\",\"harm\",\"harm\",\"harm\",\"hazard\",\"hazard\",\"hazard\",\"hazard\",\"hazard\",\"hazard\",\"hazard\",\"hazard\",\"hazard\",\"hazard\",\"hazard\",\"hazard\",\"hazard\",\"hazard\",\"hazard\",\"hazard\",\"hazard\",\"hazard\",\"hazard\",\"hazard\",\"hazard\",\"hazard\",\"hazard\",\"hazard\",\"hazard\",\"hazard\",\"hazard\",\"hazard\",\"hazard\",\"hazard\",\"hazard\",\"hazard\",\"hazard\",\"hazard\",\"hazardous\",\"hazardous\",\"hazardous\",\"hazardous\",\"hazardous\",\"hazardous\",\"hazardous\",\"hazardous\",\"hazardous\",\"hazardous\",\"hazardous\",\"hazardous\",\"hazardous\",\"hazardous\",\"hazardous\",\"hazardous\",\"hazardous\",\"hazardous\",\"hazardous\",\"hazardous\",\"hazardous\",\"hazardous\",\"hazardous\",\"hazardous\",\"hazardous\",\"hazardous\",\"hazardous\",\"hazardous\",\"hazardous\",\"hazardous\",\"hazardous\",\"hazardous\",\"hazardous\",\"hazardous\",\"hazardous\",\"heat%20wave\",\"heat%20wave\",\"heat%20wave\",\"heat%20wave\",\"heat%20wave\",\"heat%20wave\",\"heat%20wave\",\"heat%20wave\",\"heat%20wave\",\"heat%20wave\",\"heat%20wave\",\"heat%20wave\",\"heat%20wave\",\"heat%20wave\",\"heat%20wave\",\"heat%20wave\",\"heat%20wave\",\"heat%20wave\",\"heat%20wave\",\"heat%20wave\",\"heat%20wave\",\"heat%20wave\",\"heat%20wave\",\"heat%20wave\",\"heat%20wave\",\"heat%20wave\",\"heat%20wave\",\"heat%20wave\",\"heat%20wave\",\"heat%20wave\",\"heat%20wave\",\"heat%20wave\",\"heat%20wave\",\"heat%20wave\",\"hellfire\",\"hellfire\",\"hellfire\",\"hellfire\",\"hellfire\",\"hellfire\",\"hellfire\",\"hellfire\",\"hellfire\",\"hellfire\",\"hellfire\",\"hellfire\",\"hellfire\",\"hellfire\",\"hellfire\",\"hellfire\",\"hellfire\",\"hellfire\",\"hellfire\",\"hellfire\",\"hellfire\",\"hellfire\",\"hellfire\",\"hellfire\",\"hellfire\",\"hellfire\",\"hellfire\",\"hellfire\",\"hellfire\",\"hellfire\",\"hellfire\",\"hellfire\",\"hellfire\",\"hellfire\",\"hellfire\",\"hellfire\",\"hellfire\",\"hellfire\",\"hellfire\",\"hijack\",\"hijack\",\"hijack\",\"hijack\",\"hijack\",\"hijack\",\"hijack\",\"hijack\",\"hijack\",\"hijack\",\"hijack\",\"hijack\",\"hijack\",\"hijack\",\"hijack\",\"hijack\",\"hijack\",\"hijack\",\"hijack\",\"hijack\",\"hijack\",\"hijack\",\"hijack\",\"hijack\",\"hijack\",\"hijack\",\"hijack\",\"hijack\",\"hijack\",\"hijack\",\"hijack\",\"hijack\",\"hijack\",\"hijacker\",\"hijacker\",\"hijacker\",\"hijacker\",\"hijacker\",\"hijacker\",\"hijacker\",\"hijacker\",\"hijacker\",\"hijacker\",\"hijacker\",\"hijacker\",\"hijacker\",\"hijacker\",\"hijacker\",\"hijacker\",\"hijacker\",\"hijacker\",\"hijacker\",\"hijacker\",\"hijacker\",\"hijacker\",\"hijacker\",\"hijacker\",\"hijacker\",\"hijacker\",\"hijacker\",\"hijacker\",\"hijacker\",\"hijacker\",\"hijacker\",\"hijacker\",\"hijacker\",\"hijacker\",\"hijacker\",\"hijacking\",\"hijacking\",\"hijacking\",\"hijacking\",\"hijacking\",\"hijacking\",\"hijacking\",\"hijacking\",\"hijacking\",\"hijacking\",\"hijacking\",\"hijacking\",\"hijacking\",\"hijacking\",\"hijacking\",\"hijacking\",\"hijacking\",\"hijacking\",\"hijacking\",\"hijacking\",\"hijacking\",\"hijacking\",\"hijacking\",\"hijacking\",\"hijacking\",\"hijacking\",\"hijacking\",\"hijacking\",\"hijacking\",\"hijacking\",\"hijacking\",\"hijacking\",\"hostage\",\"hostage\",\"hostage\",\"hostage\",\"hostage\",\"hostage\",\"hostage\",\"hostage\",\"hostage\",\"hostage\",\"hostage\",\"hostage\",\"hostage\",\"hostage\",\"hostage\",\"hostage\",\"hostage\",\"hostage\",\"hostage\",\"hostage\",\"hostage\",\"hostage\",\"hostage\",\"hostage\",\"hostage\",\"hostage\",\"hostage\",\"hostage\",\"hostage\",\"hostage\",\"hostage\",\"hostages\",\"hostages\",\"hostages\",\"hostages\",\"hostages\",\"hostages\",\"hostages\",\"hostages\",\"hostages\",\"hostages\",\"hostages\",\"hostages\",\"hostages\",\"hostages\",\"hostages\",\"hostages\",\"hostages\",\"hostages\",\"hostages\",\"hostages\",\"hostages\",\"hostages\",\"hostages\",\"hostages\",\"hostages\",\"hostages\",\"hostages\",\"hostages\",\"hostages\",\"hostages\",\"hostages\",\"hostages\",\"hostages\",\"hostages\",\"hostages\",\"hostages\",\"hostages\",\"hurricane\",\"hurricane\",\"hurricane\",\"hurricane\",\"hurricane\",\"hurricane\",\"hurricane\",\"hurricane\",\"hurricane\",\"hurricane\",\"hurricane\",\"hurricane\",\"hurricane\",\"hurricane\",\"hurricane\",\"hurricane\",\"hurricane\",\"hurricane\",\"hurricane\",\"hurricane\",\"hurricane\",\"hurricane\",\"hurricane\",\"hurricane\",\"hurricane\",\"hurricane\",\"hurricane\",\"hurricane\",\"hurricane\",\"hurricane\",\"hurricane\",\"hurricane\",\"hurricane\",\"hurricane\",\"hurricane\",\"hurricane\",\"hurricane\",\"hurricane\",\"injured\",\"injured\",\"injured\",\"injured\",\"injured\",\"injured\",\"injured\",\"injured\",\"injured\",\"injured\",\"injured\",\"injured\",\"injured\",\"injured\",\"injured\",\"injured\",\"injured\",\"injured\",\"injured\",\"injured\",\"injured\",\"injured\",\"injured\",\"injured\",\"injured\",\"injured\",\"injured\",\"injured\",\"injured\",\"injured\",\"injured\",\"injured\",\"injured\",\"injured\",\"injured\",\"injuries\",\"injuries\",\"injuries\",\"injuries\",\"injuries\",\"injuries\",\"injuries\",\"injuries\",\"injuries\",\"injuries\",\"injuries\",\"injuries\",\"injuries\",\"injuries\",\"injuries\",\"injuries\",\"injuries\",\"injuries\",\"injuries\",\"injuries\",\"injuries\",\"injuries\",\"injuries\",\"injuries\",\"injuries\",\"injuries\",\"injuries\",\"injuries\",\"injuries\",\"injuries\",\"injuries\",\"injuries\",\"injuries\",\"injury\",\"injury\",\"injury\",\"injury\",\"injury\",\"injury\",\"injury\",\"injury\",\"injury\",\"injury\",\"injury\",\"injury\",\"injury\",\"injury\",\"injury\",\"injury\",\"injury\",\"injury\",\"injury\",\"injury\",\"injury\",\"injury\",\"injury\",\"injury\",\"injury\",\"injury\",\"injury\",\"injury\",\"injury\",\"injury\",\"injury\",\"injury\",\"injury\",\"injury\",\"injury\",\"injury\",\"injury\",\"injury\",\"inundated\",\"inundated\",\"inundated\",\"inundated\",\"inundated\",\"inundated\",\"inundated\",\"inundated\",\"inundated\",\"inundated\",\"inundated\",\"inundated\",\"inundated\",\"inundated\",\"inundated\",\"inundated\",\"inundated\",\"inundated\",\"inundated\",\"inundated\",\"inundated\",\"inundated\",\"inundated\",\"inundated\",\"inundated\",\"inundated\",\"inundated\",\"inundated\",\"inundated\",\"inundated\",\"inundated\",\"inundated\",\"inundated\",\"inundated\",\"inundated\",\"inundation\",\"inundation\",\"inundation\",\"inundation\",\"inundation\",\"inundation\",\"inundation\",\"inundation\",\"inundation\",\"inundation\",\"landslide\",\"landslide\",\"landslide\",\"landslide\",\"landslide\",\"landslide\",\"landslide\",\"landslide\",\"landslide\",\"landslide\",\"landslide\",\"landslide\",\"landslide\",\"landslide\",\"landslide\",\"landslide\",\"landslide\",\"landslide\",\"landslide\",\"landslide\",\"landslide\",\"landslide\",\"landslide\",\"landslide\",\"landslide\",\"landslide\",\"landslide\",\"landslide\",\"landslide\",\"landslide\",\"landslide\",\"landslide\",\"landslide\",\"lava\",\"lava\",\"lava\",\"lava\",\"lava\",\"lava\",\"lava\",\"lava\",\"lava\",\"lava\",\"lava\",\"lava\",\"lava\",\"lava\",\"lava\",\"lava\",\"lava\",\"lava\",\"lava\",\"lava\",\"lava\",\"lava\",\"lava\",\"lava\",\"lava\",\"lava\",\"lava\",\"lava\",\"lava\",\"lava\",\"lava\",\"lava\",\"lava\",\"lava\",\"lightning\",\"lightning\",\"lightning\",\"lightning\",\"lightning\",\"lightning\",\"lightning\",\"lightning\",\"lightning\",\"lightning\",\"lightning\",\"lightning\",\"lightning\",\"lightning\",\"lightning\",\"lightning\",\"lightning\",\"lightning\",\"lightning\",\"lightning\",\"lightning\",\"lightning\",\"lightning\",\"lightning\",\"lightning\",\"lightning\",\"lightning\",\"lightning\",\"lightning\",\"lightning\",\"lightning\",\"lightning\",\"lightning\",\"loud%20bang\",\"loud%20bang\",\"loud%20bang\",\"loud%20bang\",\"loud%20bang\",\"loud%20bang\",\"loud%20bang\",\"loud%20bang\",\"loud%20bang\",\"loud%20bang\",\"loud%20bang\",\"loud%20bang\",\"loud%20bang\",\"loud%20bang\",\"loud%20bang\",\"loud%20bang\",\"loud%20bang\",\"loud%20bang\",\"loud%20bang\",\"loud%20bang\",\"loud%20bang\",\"loud%20bang\",\"loud%20bang\",\"loud%20bang\",\"loud%20bang\",\"loud%20bang\",\"loud%20bang\",\"loud%20bang\",\"loud%20bang\",\"loud%20bang\",\"loud%20bang\",\"loud%20bang\",\"loud%20bang\",\"loud%20bang\",\"mass%20murder\",\"mass%20murder\",\"mass%20murder\",\"mass%20murder\",\"mass%20murder\",\"mass%20murder\",\"mass%20murder\",\"mass%20murder\",\"mass%20murder\",\"mass%20murder\",\"mass%20murder\",\"mass%20murder\",\"mass%20murder\",\"mass%20murder\",\"mass%20murder\",\"mass%20murder\",\"mass%20murder\",\"mass%20murder\",\"mass%20murder\",\"mass%20murder\",\"mass%20murder\",\"mass%20murder\",\"mass%20murder\",\"mass%20murder\",\"mass%20murder\",\"mass%20murder\",\"mass%20murder\",\"mass%20murder\",\"mass%20murder\",\"mass%20murder\",\"mass%20murder\",\"mass%20murder\",\"mass%20murder\",\"mass%20murderer\",\"mass%20murderer\",\"mass%20murderer\",\"mass%20murderer\",\"mass%20murderer\",\"mass%20murderer\",\"mass%20murderer\",\"mass%20murderer\",\"mass%20murderer\",\"mass%20murderer\",\"mass%20murderer\",\"mass%20murderer\",\"mass%20murderer\",\"mass%20murderer\",\"mass%20murderer\",\"mass%20murderer\",\"mass%20murderer\",\"mass%20murderer\",\"mass%20murderer\",\"mass%20murderer\",\"mass%20murderer\",\"mass%20murderer\",\"mass%20murderer\",\"mass%20murderer\",\"mass%20murderer\",\"mass%20murderer\",\"mass%20murderer\",\"mass%20murderer\",\"mass%20murderer\",\"mass%20murderer\",\"mass%20murderer\",\"mass%20murderer\",\"massacre\",\"massacre\",\"massacre\",\"massacre\",\"massacre\",\"massacre\",\"massacre\",\"massacre\",\"massacre\",\"massacre\",\"massacre\",\"massacre\",\"massacre\",\"massacre\",\"massacre\",\"massacre\",\"massacre\",\"massacre\",\"massacre\",\"massacre\",\"massacre\",\"massacre\",\"massacre\",\"massacre\",\"massacre\",\"massacre\",\"massacre\",\"massacre\",\"massacre\",\"massacre\",\"massacre\",\"massacre\",\"massacre\",\"massacre\",\"massacre\",\"massacre\",\"mayhem\",\"mayhem\",\"mayhem\",\"mayhem\",\"mayhem\",\"mayhem\",\"mayhem\",\"mayhem\",\"mayhem\",\"mayhem\",\"mayhem\",\"mayhem\",\"mayhem\",\"mayhem\",\"mayhem\",\"mayhem\",\"mayhem\",\"mayhem\",\"mayhem\",\"mayhem\",\"mayhem\",\"mayhem\",\"mayhem\",\"mayhem\",\"mayhem\",\"mayhem\",\"mayhem\",\"mayhem\",\"mayhem\",\"mayhem\",\"meltdown\",\"meltdown\",\"meltdown\",\"meltdown\",\"meltdown\",\"meltdown\",\"meltdown\",\"meltdown\",\"meltdown\",\"meltdown\",\"meltdown\",\"meltdown\",\"meltdown\",\"meltdown\",\"meltdown\",\"meltdown\",\"meltdown\",\"meltdown\",\"meltdown\",\"meltdown\",\"meltdown\",\"meltdown\",\"meltdown\",\"meltdown\",\"meltdown\",\"meltdown\",\"meltdown\",\"meltdown\",\"meltdown\",\"meltdown\",\"meltdown\",\"meltdown\",\"meltdown\",\"military\",\"military\",\"military\",\"military\",\"military\",\"military\",\"military\",\"military\",\"military\",\"military\",\"military\",\"military\",\"military\",\"military\",\"military\",\"military\",\"military\",\"military\",\"military\",\"military\",\"military\",\"military\",\"military\",\"military\",\"military\",\"military\",\"military\",\"military\",\"military\",\"military\",\"military\",\"military\",\"military\",\"military\",\"mudslide\",\"mudslide\",\"mudslide\",\"mudslide\",\"mudslide\",\"mudslide\",\"mudslide\",\"mudslide\",\"mudslide\",\"mudslide\",\"mudslide\",\"mudslide\",\"mudslide\",\"mudslide\",\"mudslide\",\"mudslide\",\"mudslide\",\"mudslide\",\"mudslide\",\"mudslide\",\"mudslide\",\"mudslide\",\"mudslide\",\"mudslide\",\"mudslide\",\"mudslide\",\"mudslide\",\"mudslide\",\"mudslide\",\"mudslide\",\"mudslide\",\"mudslide\",\"mudslide\",\"mudslide\",\"mudslide\",\"mudslide\",\"mudslide\",\"natural%20disaster\",\"natural%20disaster\",\"natural%20disaster\",\"natural%20disaster\",\"natural%20disaster\",\"natural%20disaster\",\"natural%20disaster\",\"natural%20disaster\",\"natural%20disaster\",\"natural%20disaster\",\"natural%20disaster\",\"natural%20disaster\",\"natural%20disaster\",\"natural%20disaster\",\"natural%20disaster\",\"natural%20disaster\",\"natural%20disaster\",\"natural%20disaster\",\"natural%20disaster\",\"natural%20disaster\",\"natural%20disaster\",\"natural%20disaster\",\"natural%20disaster\",\"natural%20disaster\",\"natural%20disaster\",\"natural%20disaster\",\"natural%20disaster\",\"natural%20disaster\",\"natural%20disaster\",\"natural%20disaster\",\"natural%20disaster\",\"natural%20disaster\",\"natural%20disaster\",\"natural%20disaster\",\"nuclear%20disaster\",\"nuclear%20disaster\",\"nuclear%20disaster\",\"nuclear%20disaster\",\"nuclear%20disaster\",\"nuclear%20disaster\",\"nuclear%20disaster\",\"nuclear%20disaster\",\"nuclear%20disaster\",\"nuclear%20disaster\",\"nuclear%20disaster\",\"nuclear%20disaster\",\"nuclear%20disaster\",\"nuclear%20disaster\",\"nuclear%20disaster\",\"nuclear%20disaster\",\"nuclear%20disaster\",\"nuclear%20disaster\",\"nuclear%20disaster\",\"nuclear%20disaster\",\"nuclear%20disaster\",\"nuclear%20disaster\",\"nuclear%20disaster\",\"nuclear%20disaster\",\"nuclear%20disaster\",\"nuclear%20disaster\",\"nuclear%20disaster\",\"nuclear%20disaster\",\"nuclear%20disaster\",\"nuclear%20disaster\",\"nuclear%20disaster\",\"nuclear%20disaster\",\"nuclear%20disaster\",\"nuclear%20disaster\",\"nuclear%20reactor\",\"nuclear%20reactor\",\"nuclear%20reactor\",\"nuclear%20reactor\",\"nuclear%20reactor\",\"nuclear%20reactor\",\"nuclear%20reactor\",\"nuclear%20reactor\",\"nuclear%20reactor\",\"nuclear%20reactor\",\"nuclear%20reactor\",\"nuclear%20reactor\",\"nuclear%20reactor\",\"nuclear%20reactor\",\"nuclear%20reactor\",\"nuclear%20reactor\",\"nuclear%20reactor\",\"nuclear%20reactor\",\"nuclear%20reactor\",\"nuclear%20reactor\",\"nuclear%20reactor\",\"nuclear%20reactor\",\"nuclear%20reactor\",\"nuclear%20reactor\",\"nuclear%20reactor\",\"nuclear%20reactor\",\"nuclear%20reactor\",\"nuclear%20reactor\",\"nuclear%20reactor\",\"nuclear%20reactor\",\"nuclear%20reactor\",\"nuclear%20reactor\",\"nuclear%20reactor\",\"nuclear%20reactor\",\"nuclear%20reactor\",\"nuclear%20reactor\",\"obliterate\",\"obliterate\",\"obliterate\",\"obliterate\",\"obliterate\",\"obliterate\",\"obliterate\",\"obliterate\",\"obliterate\",\"obliterate\",\"obliterate\",\"obliterate\",\"obliterate\",\"obliterate\",\"obliterate\",\"obliterate\",\"obliterate\",\"obliterate\",\"obliterate\",\"obliterate\",\"obliterate\",\"obliterate\",\"obliterate\",\"obliterate\",\"obliterate\",\"obliterate\",\"obliterate\",\"obliterate\",\"obliterate\",\"obliterate\",\"obliterate\",\"obliterated\",\"obliterated\",\"obliterated\",\"obliterated\",\"obliterated\",\"obliterated\",\"obliterated\",\"obliterated\",\"obliterated\",\"obliterated\",\"obliterated\",\"obliterated\",\"obliterated\",\"obliterated\",\"obliterated\",\"obliterated\",\"obliterated\",\"obliterated\",\"obliterated\",\"obliterated\",\"obliterated\",\"obliterated\",\"obliterated\",\"obliterated\",\"obliterated\",\"obliterated\",\"obliterated\",\"obliterated\",\"obliterated\",\"obliterated\",\"obliterated\",\"obliteration\",\"obliteration\",\"obliteration\",\"obliteration\",\"obliteration\",\"obliteration\",\"obliteration\",\"obliteration\",\"obliteration\",\"obliteration\",\"obliteration\",\"obliteration\",\"obliteration\",\"obliteration\",\"obliteration\",\"obliteration\",\"obliteration\",\"obliteration\",\"obliteration\",\"obliteration\",\"obliteration\",\"obliteration\",\"obliteration\",\"obliteration\",\"obliteration\",\"obliteration\",\"obliteration\",\"obliteration\",\"obliteration\",\"oil%20spill\",\"oil%20spill\",\"oil%20spill\",\"oil%20spill\",\"oil%20spill\",\"oil%20spill\",\"oil%20spill\",\"oil%20spill\",\"oil%20spill\",\"oil%20spill\",\"oil%20spill\",\"oil%20spill\",\"oil%20spill\",\"oil%20spill\",\"oil%20spill\",\"oil%20spill\",\"oil%20spill\",\"oil%20spill\",\"oil%20spill\",\"oil%20spill\",\"oil%20spill\",\"oil%20spill\",\"oil%20spill\",\"oil%20spill\",\"oil%20spill\",\"oil%20spill\",\"oil%20spill\",\"oil%20spill\",\"oil%20spill\",\"oil%20spill\",\"oil%20spill\",\"oil%20spill\",\"oil%20spill\",\"oil%20spill\",\"oil%20spill\",\"oil%20spill\",\"oil%20spill\",\"oil%20spill\",\"outbreak\",\"outbreak\",\"outbreak\",\"outbreak\",\"outbreak\",\"outbreak\",\"outbreak\",\"outbreak\",\"outbreak\",\"outbreak\",\"outbreak\",\"outbreak\",\"outbreak\",\"outbreak\",\"outbreak\",\"outbreak\",\"outbreak\",\"outbreak\",\"outbreak\",\"outbreak\",\"outbreak\",\"outbreak\",\"outbreak\",\"outbreak\",\"outbreak\",\"outbreak\",\"outbreak\",\"outbreak\",\"outbreak\",\"outbreak\",\"outbreak\",\"outbreak\",\"outbreak\",\"outbreak\",\"outbreak\",\"outbreak\",\"outbreak\",\"outbreak\",\"outbreak\",\"outbreak\",\"pandemonium\",\"pandemonium\",\"pandemonium\",\"pandemonium\",\"pandemonium\",\"pandemonium\",\"pandemonium\",\"pandemonium\",\"pandemonium\",\"pandemonium\",\"pandemonium\",\"pandemonium\",\"pandemonium\",\"pandemonium\",\"pandemonium\",\"pandemonium\",\"pandemonium\",\"pandemonium\",\"pandemonium\",\"pandemonium\",\"pandemonium\",\"pandemonium\",\"pandemonium\",\"pandemonium\",\"pandemonium\",\"pandemonium\",\"pandemonium\",\"pandemonium\",\"pandemonium\",\"pandemonium\",\"pandemonium\",\"pandemonium\",\"pandemonium\",\"pandemonium\",\"pandemonium\",\"pandemonium\",\"pandemonium\",\"panic\",\"panic\",\"panic\",\"panic\",\"panic\",\"panic\",\"panic\",\"panic\",\"panic\",\"panic\",\"panic\",\"panic\",\"panic\",\"panic\",\"panic\",\"panic\",\"panic\",\"panic\",\"panic\",\"panic\",\"panic\",\"panic\",\"panic\",\"panic\",\"panic\",\"panic\",\"panic\",\"panic\",\"panic\",\"panic\",\"panic\",\"panic\",\"panic\",\"panic\",\"panic\",\"panic\",\"panic\",\"panicking\",\"panicking\",\"panicking\",\"panicking\",\"panicking\",\"panicking\",\"panicking\",\"panicking\",\"panicking\",\"panicking\",\"panicking\",\"panicking\",\"panicking\",\"panicking\",\"panicking\",\"panicking\",\"panicking\",\"panicking\",\"panicking\",\"panicking\",\"panicking\",\"panicking\",\"panicking\",\"panicking\",\"panicking\",\"panicking\",\"panicking\",\"panicking\",\"panicking\",\"panicking\",\"panicking\",\"panicking\",\"panicking\",\"police\",\"police\",\"police\",\"police\",\"police\",\"police\",\"police\",\"police\",\"police\",\"police\",\"police\",\"police\",\"police\",\"police\",\"police\",\"police\",\"police\",\"police\",\"police\",\"police\",\"police\",\"police\",\"police\",\"police\",\"police\",\"police\",\"police\",\"police\",\"police\",\"police\",\"police\",\"police\",\"police\",\"police\",\"police\",\"police\",\"police\",\"quarantine\",\"quarantine\",\"quarantine\",\"quarantine\",\"quarantine\",\"quarantine\",\"quarantine\",\"quarantine\",\"quarantine\",\"quarantine\",\"quarantine\",\"quarantine\",\"quarantine\",\"quarantine\",\"quarantine\",\"quarantine\",\"quarantine\",\"quarantine\",\"quarantine\",\"quarantine\",\"quarantine\",\"quarantine\",\"quarantine\",\"quarantine\",\"quarantine\",\"quarantine\",\"quarantine\",\"quarantine\",\"quarantine\",\"quarantine\",\"quarantine\",\"quarantine\",\"quarantine\",\"quarantine\",\"quarantined\",\"quarantined\",\"quarantined\",\"quarantined\",\"quarantined\",\"quarantined\",\"quarantined\",\"quarantined\",\"quarantined\",\"quarantined\",\"quarantined\",\"quarantined\",\"quarantined\",\"quarantined\",\"quarantined\",\"quarantined\",\"quarantined\",\"quarantined\",\"quarantined\",\"quarantined\",\"quarantined\",\"quarantined\",\"quarantined\",\"quarantined\",\"quarantined\",\"quarantined\",\"quarantined\",\"quarantined\",\"quarantined\",\"quarantined\",\"quarantined\",\"quarantined\",\"quarantined\",\"quarantined\",\"quarantined\",\"quarantined\",\"quarantined\",\"radiation%20emergency\",\"radiation%20emergency\",\"radiation%20emergency\",\"radiation%20emergency\",\"radiation%20emergency\",\"radiation%20emergency\",\"radiation%20emergency\",\"radiation%20emergency\",\"radiation%20emergency\",\"rainstorm\",\"rainstorm\",\"rainstorm\",\"rainstorm\",\"rainstorm\",\"rainstorm\",\"rainstorm\",\"rainstorm\",\"rainstorm\",\"rainstorm\",\"rainstorm\",\"rainstorm\",\"rainstorm\",\"rainstorm\",\"rainstorm\",\"rainstorm\",\"rainstorm\",\"rainstorm\",\"rainstorm\",\"rainstorm\",\"rainstorm\",\"rainstorm\",\"rainstorm\",\"rainstorm\",\"rainstorm\",\"rainstorm\",\"rainstorm\",\"rainstorm\",\"rainstorm\",\"rainstorm\",\"rainstorm\",\"rainstorm\",\"rainstorm\",\"rainstorm\",\"razed\",\"razed\",\"razed\",\"razed\",\"razed\",\"razed\",\"razed\",\"razed\",\"razed\",\"razed\",\"razed\",\"razed\",\"razed\",\"razed\",\"razed\",\"razed\",\"razed\",\"razed\",\"razed\",\"razed\",\"razed\",\"razed\",\"razed\",\"razed\",\"razed\",\"razed\",\"razed\",\"razed\",\"razed\",\"razed\",\"razed\",\"razed\",\"razed\",\"razed\",\"razed\",\"refugees\",\"refugees\",\"refugees\",\"refugees\",\"refugees\",\"refugees\",\"refugees\",\"refugees\",\"refugees\",\"refugees\",\"refugees\",\"refugees\",\"refugees\",\"refugees\",\"refugees\",\"refugees\",\"refugees\",\"refugees\",\"refugees\",\"refugees\",\"refugees\",\"refugees\",\"refugees\",\"refugees\",\"refugees\",\"refugees\",\"refugees\",\"refugees\",\"refugees\",\"refugees\",\"refugees\",\"refugees\",\"refugees\",\"refugees\",\"refugees\",\"refugees\",\"rescue\",\"rescue\",\"rescue\",\"rescue\",\"rescue\",\"rescue\",\"rescue\",\"rescue\",\"rescue\",\"rescue\",\"rescue\",\"rescue\",\"rescue\",\"rescue\",\"rescue\",\"rescue\",\"rescue\",\"rescue\",\"rescue\",\"rescue\",\"rescue\",\"rescue\",\"rescued\",\"rescued\",\"rescued\",\"rescued\",\"rescued\",\"rescued\",\"rescued\",\"rescued\",\"rescued\",\"rescued\",\"rescued\",\"rescued\",\"rescued\",\"rescued\",\"rescued\",\"rescued\",\"rescued\",\"rescued\",\"rescued\",\"rescued\",\"rescued\",\"rescued\",\"rescued\",\"rescued\",\"rescued\",\"rescued\",\"rescued\",\"rescued\",\"rescued\",\"rescued\",\"rescued\",\"rescued\",\"rescued\",\"rescued\",\"rescued\",\"rescuers\",\"rescuers\",\"rescuers\",\"rescuers\",\"rescuers\",\"rescuers\",\"rescuers\",\"rescuers\",\"rescuers\",\"rescuers\",\"rescuers\",\"rescuers\",\"rescuers\",\"rescuers\",\"rescuers\",\"rescuers\",\"rescuers\",\"rescuers\",\"rescuers\",\"rescuers\",\"rescuers\",\"rescuers\",\"rescuers\",\"rescuers\",\"rescuers\",\"rescuers\",\"rescuers\",\"rescuers\",\"rescuers\",\"rescuers\",\"rescuers\",\"rescuers\",\"rescuers\",\"rescuers\",\"rescuers\",\"riot\",\"riot\",\"riot\",\"riot\",\"riot\",\"riot\",\"riot\",\"riot\",\"riot\",\"riot\",\"riot\",\"riot\",\"riot\",\"riot\",\"riot\",\"riot\",\"riot\",\"riot\",\"riot\",\"riot\",\"riot\",\"riot\",\"riot\",\"riot\",\"riot\",\"riot\",\"riot\",\"riot\",\"riot\",\"riot\",\"riot\",\"riot\",\"riot\",\"riot\",\"rioting\",\"rioting\",\"rioting\",\"rioting\",\"rioting\",\"rioting\",\"rioting\",\"rioting\",\"rioting\",\"rioting\",\"rioting\",\"rioting\",\"rioting\",\"rioting\",\"rioting\",\"rioting\",\"rioting\",\"rioting\",\"rioting\",\"rioting\",\"rioting\",\"rioting\",\"rioting\",\"rioting\",\"rioting\",\"rioting\",\"rioting\",\"rioting\",\"rioting\",\"rioting\",\"rioting\",\"rioting\",\"rioting\",\"rioting\",\"rioting\",\"rubble\",\"rubble\",\"rubble\",\"rubble\",\"rubble\",\"rubble\",\"rubble\",\"rubble\",\"rubble\",\"rubble\",\"rubble\",\"rubble\",\"rubble\",\"rubble\",\"rubble\",\"rubble\",\"rubble\",\"rubble\",\"rubble\",\"rubble\",\"rubble\",\"rubble\",\"rubble\",\"rubble\",\"rubble\",\"rubble\",\"rubble\",\"rubble\",\"ruin\",\"ruin\",\"ruin\",\"ruin\",\"ruin\",\"ruin\",\"ruin\",\"ruin\",\"ruin\",\"ruin\",\"ruin\",\"ruin\",\"ruin\",\"ruin\",\"ruin\",\"ruin\",\"ruin\",\"ruin\",\"ruin\",\"ruin\",\"ruin\",\"ruin\",\"ruin\",\"ruin\",\"ruin\",\"ruin\",\"ruin\",\"ruin\",\"ruin\",\"ruin\",\"ruin\",\"ruin\",\"ruin\",\"ruin\",\"ruin\",\"ruin\",\"ruin\",\"sandstorm\",\"sandstorm\",\"sandstorm\",\"sandstorm\",\"sandstorm\",\"sandstorm\",\"sandstorm\",\"sandstorm\",\"sandstorm\",\"sandstorm\",\"sandstorm\",\"sandstorm\",\"sandstorm\",\"sandstorm\",\"sandstorm\",\"sandstorm\",\"sandstorm\",\"sandstorm\",\"sandstorm\",\"sandstorm\",\"sandstorm\",\"sandstorm\",\"sandstorm\",\"sandstorm\",\"sandstorm\",\"sandstorm\",\"sandstorm\",\"sandstorm\",\"sandstorm\",\"sandstorm\",\"sandstorm\",\"sandstorm\",\"sandstorm\",\"sandstorm\",\"sandstorm\",\"sandstorm\",\"sandstorm\",\"screamed\",\"screamed\",\"screamed\",\"screamed\",\"screamed\",\"screamed\",\"screamed\",\"screamed\",\"screamed\",\"screamed\",\"screamed\",\"screamed\",\"screamed\",\"screamed\",\"screamed\",\"screamed\",\"screamed\",\"screamed\",\"screamed\",\"screamed\",\"screamed\",\"screamed\",\"screamed\",\"screamed\",\"screamed\",\"screamed\",\"screamed\",\"screamed\",\"screamed\",\"screamed\",\"screamed\",\"screamed\",\"screamed\",\"screamed\",\"screaming\",\"screaming\",\"screaming\",\"screaming\",\"screaming\",\"screaming\",\"screaming\",\"screaming\",\"screaming\",\"screaming\",\"screaming\",\"screaming\",\"screaming\",\"screaming\",\"screaming\",\"screaming\",\"screaming\",\"screaming\",\"screaming\",\"screaming\",\"screaming\",\"screaming\",\"screaming\",\"screaming\",\"screaming\",\"screaming\",\"screaming\",\"screaming\",\"screaming\",\"screaming\",\"screaming\",\"screaming\",\"screaming\",\"screaming\",\"screaming\",\"screaming\",\"screams\",\"screams\",\"screams\",\"screams\",\"screams\",\"screams\",\"screams\",\"screams\",\"screams\",\"screams\",\"screams\",\"screams\",\"screams\",\"screams\",\"screams\",\"screams\",\"screams\",\"screams\",\"screams\",\"screams\",\"screams\",\"screams\",\"screams\",\"screams\",\"screams\",\"screams\",\"screams\",\"screams\",\"screams\",\"screams\",\"screams\",\"screams\",\"screams\",\"screams\",\"screams\",\"seismic\",\"seismic\",\"seismic\",\"seismic\",\"seismic\",\"seismic\",\"seismic\",\"seismic\",\"seismic\",\"seismic\",\"seismic\",\"seismic\",\"seismic\",\"seismic\",\"seismic\",\"seismic\",\"seismic\",\"seismic\",\"seismic\",\"seismic\",\"seismic\",\"seismic\",\"seismic\",\"seismic\",\"seismic\",\"seismic\",\"seismic\",\"seismic\",\"seismic\",\"sinkhole\",\"sinkhole\",\"sinkhole\",\"sinkhole\",\"sinkhole\",\"sinkhole\",\"sinkhole\",\"sinkhole\",\"sinkhole\",\"sinkhole\",\"sinkhole\",\"sinkhole\",\"sinkhole\",\"sinkhole\",\"sinkhole\",\"sinkhole\",\"sinkhole\",\"sinkhole\",\"sinkhole\",\"sinkhole\",\"sinkhole\",\"sinkhole\",\"sinkhole\",\"sinkhole\",\"sinkhole\",\"sinkhole\",\"sinkhole\",\"sinkhole\",\"sinkhole\",\"sinkhole\",\"sinkhole\",\"sinkhole\",\"sinkhole\",\"sinkhole\",\"sinkhole\",\"sinkhole\",\"sinkhole\",\"sinkhole\",\"sinkhole\",\"sinking\",\"sinking\",\"sinking\",\"sinking\",\"sinking\",\"sinking\",\"sinking\",\"sinking\",\"sinking\",\"sinking\",\"sinking\",\"sinking\",\"sinking\",\"sinking\",\"sinking\",\"sinking\",\"sinking\",\"sinking\",\"sinking\",\"sinking\",\"sinking\",\"sinking\",\"sinking\",\"sinking\",\"sinking\",\"sinking\",\"sinking\",\"sinking\",\"sinking\",\"sinking\",\"sinking\",\"sinking\",\"sinking\",\"sinking\",\"sinking\",\"sinking\",\"sinking\",\"sinking\",\"sinking\",\"sinking\",\"sinking\",\"siren\",\"siren\",\"siren\",\"siren\",\"siren\",\"siren\",\"siren\",\"siren\",\"siren\",\"siren\",\"siren\",\"siren\",\"siren\",\"siren\",\"siren\",\"siren\",\"siren\",\"siren\",\"siren\",\"siren\",\"siren\",\"siren\",\"siren\",\"siren\",\"siren\",\"siren\",\"siren\",\"siren\",\"siren\",\"siren\",\"siren\",\"siren\",\"siren\",\"siren\",\"siren\",\"siren\",\"siren\",\"siren\",\"siren\",\"siren\",\"sirens\",\"sirens\",\"sirens\",\"sirens\",\"sirens\",\"sirens\",\"sirens\",\"sirens\",\"sirens\",\"sirens\",\"sirens\",\"sirens\",\"sirens\",\"sirens\",\"sirens\",\"sirens\",\"sirens\",\"sirens\",\"sirens\",\"sirens\",\"sirens\",\"sirens\",\"sirens\",\"sirens\",\"sirens\",\"sirens\",\"sirens\",\"sirens\",\"sirens\",\"smoke\",\"smoke\",\"smoke\",\"smoke\",\"smoke\",\"smoke\",\"smoke\",\"smoke\",\"smoke\",\"smoke\",\"smoke\",\"smoke\",\"smoke\",\"smoke\",\"smoke\",\"smoke\",\"smoke\",\"smoke\",\"smoke\",\"smoke\",\"smoke\",\"smoke\",\"smoke\",\"smoke\",\"smoke\",\"smoke\",\"smoke\",\"smoke\",\"smoke\",\"smoke\",\"smoke\",\"smoke\",\"smoke\",\"smoke\",\"snowstorm\",\"snowstorm\",\"snowstorm\",\"snowstorm\",\"snowstorm\",\"snowstorm\",\"snowstorm\",\"snowstorm\",\"snowstorm\",\"snowstorm\",\"snowstorm\",\"snowstorm\",\"snowstorm\",\"snowstorm\",\"snowstorm\",\"snowstorm\",\"snowstorm\",\"snowstorm\",\"snowstorm\",\"snowstorm\",\"snowstorm\",\"snowstorm\",\"snowstorm\",\"snowstorm\",\"snowstorm\",\"snowstorm\",\"snowstorm\",\"snowstorm\",\"snowstorm\",\"storm\",\"storm\",\"storm\",\"storm\",\"storm\",\"storm\",\"storm\",\"storm\",\"storm\",\"storm\",\"storm\",\"storm\",\"storm\",\"storm\",\"storm\",\"storm\",\"storm\",\"storm\",\"storm\",\"storm\",\"storm\",\"storm\",\"storm\",\"storm\",\"storm\",\"storm\",\"storm\",\"storm\",\"storm\",\"storm\",\"storm\",\"storm\",\"storm\",\"storm\",\"storm\",\"stretcher\",\"stretcher\",\"stretcher\",\"stretcher\",\"stretcher\",\"stretcher\",\"stretcher\",\"stretcher\",\"stretcher\",\"stretcher\",\"stretcher\",\"stretcher\",\"stretcher\",\"stretcher\",\"stretcher\",\"stretcher\",\"stretcher\",\"stretcher\",\"stretcher\",\"stretcher\",\"stretcher\",\"stretcher\",\"stretcher\",\"stretcher\",\"stretcher\",\"stretcher\",\"stretcher\",\"stretcher\",\"stretcher\",\"stretcher\",\"stretcher\",\"stretcher\",\"stretcher\",\"structural%20failure\",\"structural%20failure\",\"structural%20failure\",\"structural%20failure\",\"structural%20failure\",\"structural%20failure\",\"structural%20failure\",\"structural%20failure\",\"structural%20failure\",\"structural%20failure\",\"structural%20failure\",\"structural%20failure\",\"structural%20failure\",\"structural%20failure\",\"structural%20failure\",\"structural%20failure\",\"structural%20failure\",\"structural%20failure\",\"structural%20failure\",\"structural%20failure\",\"structural%20failure\",\"structural%20failure\",\"structural%20failure\",\"structural%20failure\",\"structural%20failure\",\"structural%20failure\",\"structural%20failure\",\"structural%20failure\",\"structural%20failure\",\"structural%20failure\",\"structural%20failure\",\"structural%20failure\",\"structural%20failure\",\"structural%20failure\",\"structural%20failure\",\"suicide%20bomb\",\"suicide%20bomb\",\"suicide%20bomb\",\"suicide%20bomb\",\"suicide%20bomb\",\"suicide%20bomb\",\"suicide%20bomb\",\"suicide%20bomb\",\"suicide%20bomb\",\"suicide%20bomb\",\"suicide%20bomb\",\"suicide%20bomb\",\"suicide%20bomb\",\"suicide%20bomb\",\"suicide%20bomb\",\"suicide%20bomb\",\"suicide%20bomb\",\"suicide%20bomb\",\"suicide%20bomb\",\"suicide%20bomb\",\"suicide%20bomb\",\"suicide%20bomb\",\"suicide%20bomb\",\"suicide%20bomb\",\"suicide%20bomb\",\"suicide%20bomb\",\"suicide%20bomb\",\"suicide%20bomb\",\"suicide%20bomb\",\"suicide%20bomb\",\"suicide%20bomb\",\"suicide%20bomb\",\"suicide%20bomb\",\"suicide%20bomb\",\"suicide%20bomb\",\"suicide%20bomber\",\"suicide%20bomber\",\"suicide%20bomber\",\"suicide%20bomber\",\"suicide%20bomber\",\"suicide%20bomber\",\"suicide%20bomber\",\"suicide%20bomber\",\"suicide%20bomber\",\"suicide%20bomber\",\"suicide%20bomber\",\"suicide%20bomber\",\"suicide%20bomber\",\"suicide%20bomber\",\"suicide%20bomber\",\"suicide%20bomber\",\"suicide%20bomber\",\"suicide%20bomber\",\"suicide%20bomber\",\"suicide%20bomber\",\"suicide%20bomber\",\"suicide%20bomber\",\"suicide%20bomber\",\"suicide%20bomber\",\"suicide%20bomber\",\"suicide%20bomber\",\"suicide%20bomber\",\"suicide%20bomber\",\"suicide%20bomber\",\"suicide%20bomber\",\"suicide%20bomber\",\"suicide%20bombing\",\"suicide%20bombing\",\"suicide%20bombing\",\"suicide%20bombing\",\"suicide%20bombing\",\"suicide%20bombing\",\"suicide%20bombing\",\"suicide%20bombing\",\"suicide%20bombing\",\"suicide%20bombing\",\"suicide%20bombing\",\"suicide%20bombing\",\"suicide%20bombing\",\"suicide%20bombing\",\"suicide%20bombing\",\"suicide%20bombing\",\"suicide%20bombing\",\"suicide%20bombing\",\"suicide%20bombing\",\"suicide%20bombing\",\"suicide%20bombing\",\"suicide%20bombing\",\"suicide%20bombing\",\"suicide%20bombing\",\"suicide%20bombing\",\"suicide%20bombing\",\"suicide%20bombing\",\"suicide%20bombing\",\"suicide%20bombing\",\"suicide%20bombing\",\"suicide%20bombing\",\"suicide%20bombing\",\"suicide%20bombing\",\"sunk\",\"sunk\",\"sunk\",\"sunk\",\"sunk\",\"sunk\",\"sunk\",\"sunk\",\"sunk\",\"sunk\",\"sunk\",\"sunk\",\"sunk\",\"sunk\",\"sunk\",\"sunk\",\"sunk\",\"sunk\",\"sunk\",\"sunk\",\"sunk\",\"sunk\",\"sunk\",\"sunk\",\"sunk\",\"sunk\",\"sunk\",\"sunk\",\"sunk\",\"sunk\",\"sunk\",\"sunk\",\"sunk\",\"sunk\",\"sunk\",\"sunk\",\"sunk\",\"sunk\",\"sunk\",\"survive\",\"survive\",\"survive\",\"survive\",\"survive\",\"survive\",\"survive\",\"survive\",\"survive\",\"survive\",\"survive\",\"survive\",\"survive\",\"survive\",\"survive\",\"survive\",\"survive\",\"survive\",\"survive\",\"survive\",\"survive\",\"survive\",\"survive\",\"survive\",\"survive\",\"survive\",\"survive\",\"survive\",\"survive\",\"survive\",\"survive\",\"survive\",\"survived\",\"survived\",\"survived\",\"survived\",\"survived\",\"survived\",\"survived\",\"survived\",\"survived\",\"survived\",\"survived\",\"survived\",\"survived\",\"survived\",\"survived\",\"survived\",\"survived\",\"survived\",\"survived\",\"survived\",\"survived\",\"survived\",\"survived\",\"survived\",\"survived\",\"survived\",\"survived\",\"survived\",\"survived\",\"survived\",\"survived\",\"survived\",\"survived\",\"survivors\",\"survivors\",\"survivors\",\"survivors\",\"survivors\",\"survivors\",\"survivors\",\"survivors\",\"survivors\",\"survivors\",\"survivors\",\"survivors\",\"survivors\",\"survivors\",\"survivors\",\"survivors\",\"survivors\",\"survivors\",\"survivors\",\"survivors\",\"survivors\",\"survivors\",\"survivors\",\"survivors\",\"survivors\",\"survivors\",\"survivors\",\"survivors\",\"survivors\",\"survivors\",\"terrorism\",\"terrorism\",\"terrorism\",\"terrorism\",\"terrorism\",\"terrorism\",\"terrorism\",\"terrorism\",\"terrorism\",\"terrorism\",\"terrorism\",\"terrorism\",\"terrorism\",\"terrorism\",\"terrorism\",\"terrorism\",\"terrorism\",\"terrorism\",\"terrorism\",\"terrorism\",\"terrorism\",\"terrorism\",\"terrorism\",\"terrorism\",\"terrorism\",\"terrorism\",\"terrorism\",\"terrorism\",\"terrorism\",\"terrorism\",\"terrorism\",\"terrorism\",\"terrorism\",\"terrorism\",\"terrorist\",\"terrorist\",\"terrorist\",\"terrorist\",\"terrorist\",\"terrorist\",\"terrorist\",\"terrorist\",\"terrorist\",\"terrorist\",\"terrorist\",\"terrorist\",\"terrorist\",\"terrorist\",\"terrorist\",\"terrorist\",\"terrorist\",\"terrorist\",\"terrorist\",\"terrorist\",\"terrorist\",\"terrorist\",\"terrorist\",\"terrorist\",\"terrorist\",\"terrorist\",\"terrorist\",\"terrorist\",\"terrorist\",\"terrorist\",\"terrorist\",\"threat\",\"threat\",\"threat\",\"threat\",\"threat\",\"threat\",\"threat\",\"threat\",\"threat\",\"threat\",\"threat\",\"thunder\",\"thunder\",\"thunder\",\"thunder\",\"thunder\",\"thunder\",\"thunder\",\"thunder\",\"thunder\",\"thunder\",\"thunder\",\"thunder\",\"thunder\",\"thunder\",\"thunder\",\"thunder\",\"thunder\",\"thunder\",\"thunder\",\"thunder\",\"thunder\",\"thunder\",\"thunder\",\"thunder\",\"thunder\",\"thunder\",\"thunder\",\"thunder\",\"thunder\",\"thunder\",\"thunder\",\"thunder\",\"thunder\",\"thunder\",\"thunder\",\"thunder\",\"thunder\",\"thunder\",\"thunderstorm\",\"thunderstorm\",\"thunderstorm\",\"thunderstorm\",\"thunderstorm\",\"thunderstorm\",\"thunderstorm\",\"thunderstorm\",\"thunderstorm\",\"thunderstorm\",\"thunderstorm\",\"thunderstorm\",\"thunderstorm\",\"thunderstorm\",\"thunderstorm\",\"thunderstorm\",\"thunderstorm\",\"thunderstorm\",\"thunderstorm\",\"thunderstorm\",\"thunderstorm\",\"thunderstorm\",\"thunderstorm\",\"thunderstorm\",\"thunderstorm\",\"thunderstorm\",\"thunderstorm\",\"thunderstorm\",\"thunderstorm\",\"thunderstorm\",\"thunderstorm\",\"thunderstorm\",\"thunderstorm\",\"tornado\",\"tornado\",\"tornado\",\"tornado\",\"tornado\",\"tornado\",\"tornado\",\"tornado\",\"tornado\",\"tornado\",\"tornado\",\"tornado\",\"tornado\",\"tornado\",\"tornado\",\"tornado\",\"tornado\",\"tornado\",\"tornado\",\"tornado\",\"tornado\",\"tornado\",\"tornado\",\"tornado\",\"tornado\",\"tornado\",\"tornado\",\"tornado\",\"tornado\",\"tornado\",\"tornado\",\"tornado\",\"tornado\",\"tornado\",\"tornado\",\"tragedy\",\"tragedy\",\"tragedy\",\"tragedy\",\"tragedy\",\"tragedy\",\"tragedy\",\"tragedy\",\"tragedy\",\"tragedy\",\"tragedy\",\"tragedy\",\"tragedy\",\"tragedy\",\"tragedy\",\"tragedy\",\"tragedy\",\"tragedy\",\"tragedy\",\"tragedy\",\"tragedy\",\"tragedy\",\"tragedy\",\"tragedy\",\"tragedy\",\"tragedy\",\"tragedy\",\"tragedy\",\"tragedy\",\"tragedy\",\"tragedy\",\"tragedy\",\"tragedy\",\"tragedy\",\"tragedy\",\"tragedy\",\"trapped\",\"trapped\",\"trapped\",\"trapped\",\"trapped\",\"trapped\",\"trapped\",\"trapped\",\"trapped\",\"trapped\",\"trapped\",\"trapped\",\"trapped\",\"trapped\",\"trapped\",\"trapped\",\"trapped\",\"trapped\",\"trapped\",\"trapped\",\"trapped\",\"trapped\",\"trapped\",\"trapped\",\"trapped\",\"trapped\",\"trapped\",\"trapped\",\"trapped\",\"trapped\",\"trapped\",\"trapped\",\"trauma\",\"trauma\",\"trauma\",\"trauma\",\"trauma\",\"trauma\",\"trauma\",\"trauma\",\"trauma\",\"trauma\",\"trauma\",\"trauma\",\"trauma\",\"trauma\",\"trauma\",\"trauma\",\"trauma\",\"trauma\",\"trauma\",\"trauma\",\"trauma\",\"trauma\",\"trauma\",\"trauma\",\"trauma\",\"trauma\",\"trauma\",\"trauma\",\"trauma\",\"trauma\",\"trauma\",\"traumatised\",\"traumatised\",\"traumatised\",\"traumatised\",\"traumatised\",\"traumatised\",\"traumatised\",\"traumatised\",\"traumatised\",\"traumatised\",\"traumatised\",\"traumatised\",\"traumatised\",\"traumatised\",\"traumatised\",\"traumatised\",\"traumatised\",\"traumatised\",\"traumatised\",\"traumatised\",\"traumatised\",\"traumatised\",\"traumatised\",\"traumatised\",\"traumatised\",\"traumatised\",\"traumatised\",\"traumatised\",\"traumatised\",\"traumatised\",\"traumatised\",\"traumatised\",\"traumatised\",\"traumatised\",\"traumatised\",\"trouble\",\"trouble\",\"trouble\",\"trouble\",\"trouble\",\"trouble\",\"trouble\",\"trouble\",\"trouble\",\"trouble\",\"trouble\",\"trouble\",\"trouble\",\"trouble\",\"trouble\",\"trouble\",\"trouble\",\"trouble\",\"trouble\",\"trouble\",\"trouble\",\"trouble\",\"trouble\",\"trouble\",\"trouble\",\"trouble\",\"trouble\",\"trouble\",\"trouble\",\"trouble\",\"trouble\",\"trouble\",\"trouble\",\"tsunami\",\"tsunami\",\"tsunami\",\"tsunami\",\"tsunami\",\"tsunami\",\"tsunami\",\"tsunami\",\"tsunami\",\"tsunami\",\"tsunami\",\"tsunami\",\"tsunami\",\"tsunami\",\"tsunami\",\"tsunami\",\"tsunami\",\"tsunami\",\"tsunami\",\"tsunami\",\"tsunami\",\"tsunami\",\"tsunami\",\"tsunami\",\"tsunami\",\"tsunami\",\"tsunami\",\"tsunami\",\"tsunami\",\"tsunami\",\"tsunami\",\"tsunami\",\"tsunami\",\"tsunami\",\"twister\",\"twister\",\"twister\",\"twister\",\"twister\",\"twister\",\"twister\",\"twister\",\"twister\",\"twister\",\"twister\",\"twister\",\"twister\",\"twister\",\"twister\",\"twister\",\"twister\",\"twister\",\"twister\",\"twister\",\"twister\",\"twister\",\"twister\",\"twister\",\"twister\",\"twister\",\"twister\",\"twister\",\"twister\",\"twister\",\"twister\",\"twister\",\"twister\",\"twister\",\"twister\",\"twister\",\"twister\",\"twister\",\"twister\",\"twister\",\"typhoon\",\"typhoon\",\"typhoon\",\"typhoon\",\"typhoon\",\"typhoon\",\"typhoon\",\"typhoon\",\"typhoon\",\"typhoon\",\"typhoon\",\"typhoon\",\"typhoon\",\"typhoon\",\"typhoon\",\"typhoon\",\"typhoon\",\"typhoon\",\"typhoon\",\"typhoon\",\"typhoon\",\"typhoon\",\"typhoon\",\"typhoon\",\"typhoon\",\"typhoon\",\"typhoon\",\"typhoon\",\"typhoon\",\"typhoon\",\"typhoon\",\"typhoon\",\"typhoon\",\"typhoon\",\"typhoon\",\"typhoon\",\"typhoon\",\"typhoon\",\"upheaval\",\"upheaval\",\"upheaval\",\"upheaval\",\"upheaval\",\"upheaval\",\"upheaval\",\"upheaval\",\"upheaval\",\"upheaval\",\"upheaval\",\"upheaval\",\"upheaval\",\"upheaval\",\"upheaval\",\"upheaval\",\"upheaval\",\"upheaval\",\"upheaval\",\"upheaval\",\"upheaval\",\"upheaval\",\"upheaval\",\"upheaval\",\"upheaval\",\"upheaval\",\"upheaval\",\"upheaval\",\"upheaval\",\"upheaval\",\"upheaval\",\"upheaval\",\"upheaval\",\"upheaval\",\"upheaval\",\"upheaval\",\"upheaval\",\"upheaval\",\"violent%20storm\",\"violent%20storm\",\"violent%20storm\",\"violent%20storm\",\"violent%20storm\",\"violent%20storm\",\"violent%20storm\",\"violent%20storm\",\"violent%20storm\",\"violent%20storm\",\"violent%20storm\",\"violent%20storm\",\"violent%20storm\",\"violent%20storm\",\"violent%20storm\",\"violent%20storm\",\"violent%20storm\",\"violent%20storm\",\"violent%20storm\",\"violent%20storm\",\"violent%20storm\",\"violent%20storm\",\"violent%20storm\",\"violent%20storm\",\"violent%20storm\",\"violent%20storm\",\"violent%20storm\",\"violent%20storm\",\"violent%20storm\",\"violent%20storm\",\"violent%20storm\",\"violent%20storm\",\"violent%20storm\",\"volcano\",\"volcano\",\"volcano\",\"volcano\",\"volcano\",\"volcano\",\"volcano\",\"volcano\",\"volcano\",\"volcano\",\"volcano\",\"volcano\",\"volcano\",\"volcano\",\"volcano\",\"volcano\",\"volcano\",\"volcano\",\"volcano\",\"volcano\",\"volcano\",\"volcano\",\"volcano\",\"volcano\",\"volcano\",\"volcano\",\"volcano\",\"war%20zone\",\"war%20zone\",\"war%20zone\",\"war%20zone\",\"war%20zone\",\"war%20zone\",\"war%20zone\",\"war%20zone\",\"war%20zone\",\"war%20zone\",\"war%20zone\",\"war%20zone\",\"war%20zone\",\"war%20zone\",\"war%20zone\",\"war%20zone\",\"war%20zone\",\"war%20zone\",\"war%20zone\",\"war%20zone\",\"war%20zone\",\"war%20zone\",\"war%20zone\",\"war%20zone\",\"weapon\",\"weapon\",\"weapon\",\"weapon\",\"weapon\",\"weapon\",\"weapon\",\"weapon\",\"weapon\",\"weapon\",\"weapon\",\"weapon\",\"weapon\",\"weapon\",\"weapon\",\"weapon\",\"weapon\",\"weapon\",\"weapon\",\"weapon\",\"weapon\",\"weapon\",\"weapon\",\"weapon\",\"weapon\",\"weapon\",\"weapon\",\"weapon\",\"weapon\",\"weapon\",\"weapon\",\"weapon\",\"weapon\",\"weapon\",\"weapon\",\"weapon\",\"weapon\",\"weapon\",\"weapon\",\"weapons\",\"weapons\",\"weapons\",\"weapons\",\"weapons\",\"weapons\",\"weapons\",\"weapons\",\"weapons\",\"weapons\",\"weapons\",\"weapons\",\"weapons\",\"weapons\",\"weapons\",\"weapons\",\"weapons\",\"weapons\",\"weapons\",\"weapons\",\"weapons\",\"weapons\",\"weapons\",\"weapons\",\"weapons\",\"weapons\",\"weapons\",\"weapons\",\"weapons\",\"weapons\",\"weapons\",\"weapons\",\"weapons\",\"weapons\",\"weapons\",\"weapons\",\"weapons\",\"weapons\",\"weapons\",\"whirlwind\",\"whirlwind\",\"whirlwind\",\"whirlwind\",\"whirlwind\",\"whirlwind\",\"whirlwind\",\"whirlwind\",\"whirlwind\",\"whirlwind\",\"whirlwind\",\"whirlwind\",\"whirlwind\",\"whirlwind\",\"whirlwind\",\"whirlwind\",\"whirlwind\",\"whirlwind\",\"whirlwind\",\"whirlwind\",\"whirlwind\",\"whirlwind\",\"whirlwind\",\"whirlwind\",\"whirlwind\",\"whirlwind\",\"whirlwind\",\"whirlwind\",\"whirlwind\",\"whirlwind\",\"whirlwind\",\"whirlwind\",\"whirlwind\",\"whirlwind\",\"whirlwind\",\"whirlwind\",\"whirlwind\",\"whirlwind\",\"whirlwind\",\"wild%20fires\",\"wild%20fires\",\"wild%20fires\",\"wild%20fires\",\"wild%20fires\",\"wild%20fires\",\"wild%20fires\",\"wild%20fires\",\"wild%20fires\",\"wild%20fires\",\"wild%20fires\",\"wild%20fires\",\"wild%20fires\",\"wild%20fires\",\"wild%20fires\",\"wild%20fires\",\"wild%20fires\",\"wild%20fires\",\"wild%20fires\",\"wild%20fires\",\"wild%20fires\",\"wild%20fires\",\"wild%20fires\",\"wild%20fires\",\"wild%20fires\",\"wild%20fires\",\"wild%20fires\",\"wild%20fires\",\"wild%20fires\",\"wild%20fires\",\"wild%20fires\",\"wildfire\",\"wildfire\",\"wildfire\",\"wildfire\",\"wildfire\",\"wildfire\",\"wildfire\",\"wildfire\",\"wildfire\",\"wildfire\",\"wildfire\",\"wildfire\",\"wildfire\",\"wildfire\",\"wildfire\",\"wildfire\",\"wildfire\",\"wildfire\",\"wildfire\",\"wildfire\",\"wildfire\",\"wildfire\",\"wildfire\",\"wildfire\",\"wildfire\",\"wildfire\",\"wildfire\",\"wildfire\",\"wildfire\",\"wildfire\",\"wildfire\",\"wildfire\",\"wildfire\",\"windstorm\",\"windstorm\",\"windstorm\",\"windstorm\",\"windstorm\",\"windstorm\",\"windstorm\",\"windstorm\",\"windstorm\",\"windstorm\",\"windstorm\",\"windstorm\",\"windstorm\",\"windstorm\",\"windstorm\",\"windstorm\",\"windstorm\",\"windstorm\",\"windstorm\",\"windstorm\",\"windstorm\",\"windstorm\",\"windstorm\",\"windstorm\",\"windstorm\",\"windstorm\",\"windstorm\",\"windstorm\",\"windstorm\",\"windstorm\",\"windstorm\",\"windstorm\",\"windstorm\",\"windstorm\",\"windstorm\",\"windstorm\",\"windstorm\",\"windstorm\",\"windstorm\",\"windstorm\",\"wounded\",\"wounded\",\"wounded\",\"wounded\",\"wounded\",\"wounded\",\"wounded\",\"wounded\",\"wounded\",\"wounded\",\"wounded\",\"wounded\",\"wounded\",\"wounded\",\"wounded\",\"wounded\",\"wounded\",\"wounded\",\"wounded\",\"wounded\",\"wounded\",\"wounded\",\"wounded\",\"wounded\",\"wounded\",\"wounded\",\"wounded\",\"wounded\",\"wounded\",\"wounded\",\"wounded\",\"wounded\",\"wounded\",\"wounded\",\"wounded\",\"wounded\",\"wounded\",\"wounds\",\"wounds\",\"wounds\",\"wounds\",\"wounds\",\"wounds\",\"wounds\",\"wounds\",\"wounds\",\"wounds\",\"wounds\",\"wounds\",\"wounds\",\"wounds\",\"wounds\",\"wounds\",\"wounds\",\"wounds\",\"wounds\",\"wounds\",\"wounds\",\"wounds\",\"wounds\",\"wounds\",\"wounds\",\"wounds\",\"wounds\",\"wounds\",\"wounds\",\"wounds\",\"wounds\",\"wounds\",\"wounds\",\"wreck\",\"wreck\",\"wreck\",\"wreck\",\"wreck\",\"wreck\",\"wreck\",\"wreck\",\"wreck\",\"wreck\",\"wreck\",\"wreck\",\"wreck\",\"wreck\",\"wreck\",\"wreck\",\"wreck\",\"wreck\",\"wreck\",\"wreck\",\"wreck\",\"wreck\",\"wreck\",\"wreck\",\"wreck\",\"wreck\",\"wreck\",\"wreck\",\"wreck\",\"wreck\",\"wreck\",\"wreck\",\"wreck\",\"wreck\",\"wreck\",\"wreck\",\"wreck\",\"wreckage\",\"wreckage\",\"wreckage\",\"wreckage\",\"wreckage\",\"wreckage\",\"wreckage\",\"wreckage\",\"wreckage\",\"wreckage\",\"wreckage\",\"wreckage\",\"wreckage\",\"wreckage\",\"wreckage\",\"wreckage\",\"wreckage\",\"wreckage\",\"wreckage\",\"wreckage\",\"wreckage\",\"wreckage\",\"wreckage\",\"wreckage\",\"wreckage\",\"wreckage\",\"wreckage\",\"wreckage\",\"wreckage\",\"wreckage\",\"wreckage\",\"wreckage\",\"wreckage\",\"wreckage\",\"wreckage\",\"wreckage\",\"wreckage\",\"wreckage\",\"wreckage\",\"wrecked\",\"wrecked\",\"wrecked\",\"wrecked\",\"wrecked\",\"wrecked\",\"wrecked\",\"wrecked\",\"wrecked\",\"wrecked\",\"wrecked\",\"wrecked\",\"wrecked\",\"wrecked\",\"wrecked\",\"wrecked\",\"wrecked\",\"wrecked\",\"wrecked\",\"wrecked\",\"wrecked\",\"wrecked\",\"wrecked\",\"wrecked\",\"wrecked\",\"wrecked\",\"wrecked\",\"wrecked\",\"wrecked\",\"wrecked\",\"wrecked\",\"wrecked\",\"wrecked\",\"wrecked\",\"wrecked\",\"wrecked\",\"wrecked\",\"wrecked\",\"wrecked\",null,null,null,null,null,null,null,null,null,null,null,null,null,null,null,null,null,null,null,null,null,null,null,null,null,null,null,null,null,null],\"xaxis\":\"x\",\"yaxis\":\"y\",\"type\":\"histogram\"}],                        {\"template\":{\"data\":{\"bar\":[{\"error_x\":{\"color\":\"#2a3f5f\"},\"error_y\":{\"color\":\"#2a3f5f\"},\"marker\":{\"line\":{\"color\":\"#E5ECF6\",\"width\":0.5},\"pattern\":{\"fillmode\":\"overlay\",\"size\":10,\"solidity\":0.2}},\"type\":\"bar\"}],\"barpolar\":[{\"marker\":{\"line\":{\"color\":\"#E5ECF6\",\"width\":0.5},\"pattern\":{\"fillmode\":\"overlay\",\"size\":10,\"solidity\":0.2}},\"type\":\"barpolar\"}],\"carpet\":[{\"aaxis\":{\"endlinecolor\":\"#2a3f5f\",\"gridcolor\":\"white\",\"linecolor\":\"white\",\"minorgridcolor\":\"white\",\"startlinecolor\":\"#2a3f5f\"},\"baxis\":{\"endlinecolor\":\"#2a3f5f\",\"gridcolor\":\"white\",\"linecolor\":\"white\",\"minorgridcolor\":\"white\",\"startlinecolor\":\"#2a3f5f\"},\"type\":\"carpet\"}],\"choropleth\":[{\"colorbar\":{\"outlinewidth\":0,\"ticks\":\"\"},\"type\":\"choropleth\"}],\"contour\":[{\"colorbar\":{\"outlinewidth\":0,\"ticks\":\"\"},\"colorscale\":[[0.0,\"#0d0887\"],[0.1111111111111111,\"#46039f\"],[0.2222222222222222,\"#7201a8\"],[0.3333333333333333,\"#9c179e\"],[0.4444444444444444,\"#bd3786\"],[0.5555555555555556,\"#d8576b\"],[0.6666666666666666,\"#ed7953\"],[0.7777777777777778,\"#fb9f3a\"],[0.8888888888888888,\"#fdca26\"],[1.0,\"#f0f921\"]],\"type\":\"contour\"}],\"contourcarpet\":[{\"colorbar\":{\"outlinewidth\":0,\"ticks\":\"\"},\"type\":\"contourcarpet\"}],\"heatmap\":[{\"colorbar\":{\"outlinewidth\":0,\"ticks\":\"\"},\"colorscale\":[[0.0,\"#0d0887\"],[0.1111111111111111,\"#46039f\"],[0.2222222222222222,\"#7201a8\"],[0.3333333333333333,\"#9c179e\"],[0.4444444444444444,\"#bd3786\"],[0.5555555555555556,\"#d8576b\"],[0.6666666666666666,\"#ed7953\"],[0.7777777777777778,\"#fb9f3a\"],[0.8888888888888888,\"#fdca26\"],[1.0,\"#f0f921\"]],\"type\":\"heatmap\"}],\"heatmapgl\":[{\"colorbar\":{\"outlinewidth\":0,\"ticks\":\"\"},\"colorscale\":[[0.0,\"#0d0887\"],[0.1111111111111111,\"#46039f\"],[0.2222222222222222,\"#7201a8\"],[0.3333333333333333,\"#9c179e\"],[0.4444444444444444,\"#bd3786\"],[0.5555555555555556,\"#d8576b\"],[0.6666666666666666,\"#ed7953\"],[0.7777777777777778,\"#fb9f3a\"],[0.8888888888888888,\"#fdca26\"],[1.0,\"#f0f921\"]],\"type\":\"heatmapgl\"}],\"histogram\":[{\"marker\":{\"pattern\":{\"fillmode\":\"overlay\",\"size\":10,\"solidity\":0.2}},\"type\":\"histogram\"}],\"histogram2d\":[{\"colorbar\":{\"outlinewidth\":0,\"ticks\":\"\"},\"colorscale\":[[0.0,\"#0d0887\"],[0.1111111111111111,\"#46039f\"],[0.2222222222222222,\"#7201a8\"],[0.3333333333333333,\"#9c179e\"],[0.4444444444444444,\"#bd3786\"],[0.5555555555555556,\"#d8576b\"],[0.6666666666666666,\"#ed7953\"],[0.7777777777777778,\"#fb9f3a\"],[0.8888888888888888,\"#fdca26\"],[1.0,\"#f0f921\"]],\"type\":\"histogram2d\"}],\"histogram2dcontour\":[{\"colorbar\":{\"outlinewidth\":0,\"ticks\":\"\"},\"colorscale\":[[0.0,\"#0d0887\"],[0.1111111111111111,\"#46039f\"],[0.2222222222222222,\"#7201a8\"],[0.3333333333333333,\"#9c179e\"],[0.4444444444444444,\"#bd3786\"],[0.5555555555555556,\"#d8576b\"],[0.6666666666666666,\"#ed7953\"],[0.7777777777777778,\"#fb9f3a\"],[0.8888888888888888,\"#fdca26\"],[1.0,\"#f0f921\"]],\"type\":\"histogram2dcontour\"}],\"mesh3d\":[{\"colorbar\":{\"outlinewidth\":0,\"ticks\":\"\"},\"type\":\"mesh3d\"}],\"parcoords\":[{\"line\":{\"colorbar\":{\"outlinewidth\":0,\"ticks\":\"\"}},\"type\":\"parcoords\"}],\"pie\":[{\"automargin\":true,\"type\":\"pie\"}],\"scatter\":[{\"marker\":{\"colorbar\":{\"outlinewidth\":0,\"ticks\":\"\"}},\"type\":\"scatter\"}],\"scatter3d\":[{\"line\":{\"colorbar\":{\"outlinewidth\":0,\"ticks\":\"\"}},\"marker\":{\"colorbar\":{\"outlinewidth\":0,\"ticks\":\"\"}},\"type\":\"scatter3d\"}],\"scattercarpet\":[{\"marker\":{\"colorbar\":{\"outlinewidth\":0,\"ticks\":\"\"}},\"type\":\"scattercarpet\"}],\"scattergeo\":[{\"marker\":{\"colorbar\":{\"outlinewidth\":0,\"ticks\":\"\"}},\"type\":\"scattergeo\"}],\"scattergl\":[{\"marker\":{\"colorbar\":{\"outlinewidth\":0,\"ticks\":\"\"}},\"type\":\"scattergl\"}],\"scattermapbox\":[{\"marker\":{\"colorbar\":{\"outlinewidth\":0,\"ticks\":\"\"}},\"type\":\"scattermapbox\"}],\"scatterpolar\":[{\"marker\":{\"colorbar\":{\"outlinewidth\":0,\"ticks\":\"\"}},\"type\":\"scatterpolar\"}],\"scatterpolargl\":[{\"marker\":{\"colorbar\":{\"outlinewidth\":0,\"ticks\":\"\"}},\"type\":\"scatterpolargl\"}],\"scatterternary\":[{\"marker\":{\"colorbar\":{\"outlinewidth\":0,\"ticks\":\"\"}},\"type\":\"scatterternary\"}],\"surface\":[{\"colorbar\":{\"outlinewidth\":0,\"ticks\":\"\"},\"colorscale\":[[0.0,\"#0d0887\"],[0.1111111111111111,\"#46039f\"],[0.2222222222222222,\"#7201a8\"],[0.3333333333333333,\"#9c179e\"],[0.4444444444444444,\"#bd3786\"],[0.5555555555555556,\"#d8576b\"],[0.6666666666666666,\"#ed7953\"],[0.7777777777777778,\"#fb9f3a\"],[0.8888888888888888,\"#fdca26\"],[1.0,\"#f0f921\"]],\"type\":\"surface\"}],\"table\":[{\"cells\":{\"fill\":{\"color\":\"#EBF0F8\"},\"line\":{\"color\":\"white\"}},\"header\":{\"fill\":{\"color\":\"#C8D4E3\"},\"line\":{\"color\":\"white\"}},\"type\":\"table\"}]},\"layout\":{\"annotationdefaults\":{\"arrowcolor\":\"#2a3f5f\",\"arrowhead\":0,\"arrowwidth\":1},\"autotypenumbers\":\"strict\",\"coloraxis\":{\"colorbar\":{\"outlinewidth\":0,\"ticks\":\"\"}},\"colorscale\":{\"diverging\":[[0,\"#8e0152\"],[0.1,\"#c51b7d\"],[0.2,\"#de77ae\"],[0.3,\"#f1b6da\"],[0.4,\"#fde0ef\"],[0.5,\"#f7f7f7\"],[0.6,\"#e6f5d0\"],[0.7,\"#b8e186\"],[0.8,\"#7fbc41\"],[0.9,\"#4d9221\"],[1,\"#276419\"]],\"sequential\":[[0.0,\"#0d0887\"],[0.1111111111111111,\"#46039f\"],[0.2222222222222222,\"#7201a8\"],[0.3333333333333333,\"#9c179e\"],[0.4444444444444444,\"#bd3786\"],[0.5555555555555556,\"#d8576b\"],[0.6666666666666666,\"#ed7953\"],[0.7777777777777778,\"#fb9f3a\"],[0.8888888888888888,\"#fdca26\"],[1.0,\"#f0f921\"]],\"sequentialminus\":[[0.0,\"#0d0887\"],[0.1111111111111111,\"#46039f\"],[0.2222222222222222,\"#7201a8\"],[0.3333333333333333,\"#9c179e\"],[0.4444444444444444,\"#bd3786\"],[0.5555555555555556,\"#d8576b\"],[0.6666666666666666,\"#ed7953\"],[0.7777777777777778,\"#fb9f3a\"],[0.8888888888888888,\"#fdca26\"],[1.0,\"#f0f921\"]]},\"colorway\":[\"#636efa\",\"#EF553B\",\"#00cc96\",\"#ab63fa\",\"#FFA15A\",\"#19d3f3\",\"#FF6692\",\"#B6E880\",\"#FF97FF\",\"#FECB52\"],\"font\":{\"color\":\"#2a3f5f\"},\"geo\":{\"bgcolor\":\"white\",\"lakecolor\":\"white\",\"landcolor\":\"#E5ECF6\",\"showlakes\":true,\"showland\":true,\"subunitcolor\":\"white\"},\"hoverlabel\":{\"align\":\"left\"},\"hovermode\":\"closest\",\"mapbox\":{\"style\":\"light\"},\"paper_bgcolor\":\"white\",\"plot_bgcolor\":\"#E5ECF6\",\"polar\":{\"angularaxis\":{\"gridcolor\":\"white\",\"linecolor\":\"white\",\"ticks\":\"\"},\"bgcolor\":\"#E5ECF6\",\"radialaxis\":{\"gridcolor\":\"white\",\"linecolor\":\"white\",\"ticks\":\"\"}},\"scene\":{\"xaxis\":{\"backgroundcolor\":\"#E5ECF6\",\"gridcolor\":\"white\",\"gridwidth\":2,\"linecolor\":\"white\",\"showbackground\":true,\"ticks\":\"\",\"zerolinecolor\":\"white\"},\"yaxis\":{\"backgroundcolor\":\"#E5ECF6\",\"gridcolor\":\"white\",\"gridwidth\":2,\"linecolor\":\"white\",\"showbackground\":true,\"ticks\":\"\",\"zerolinecolor\":\"white\"},\"zaxis\":{\"backgroundcolor\":\"#E5ECF6\",\"gridcolor\":\"white\",\"gridwidth\":2,\"linecolor\":\"white\",\"showbackground\":true,\"ticks\":\"\",\"zerolinecolor\":\"white\"}},\"shapedefaults\":{\"line\":{\"color\":\"#2a3f5f\"}},\"ternary\":{\"aaxis\":{\"gridcolor\":\"white\",\"linecolor\":\"white\",\"ticks\":\"\"},\"baxis\":{\"gridcolor\":\"white\",\"linecolor\":\"white\",\"ticks\":\"\"},\"bgcolor\":\"#E5ECF6\",\"caxis\":{\"gridcolor\":\"white\",\"linecolor\":\"white\",\"ticks\":\"\"}},\"title\":{\"x\":0.05},\"xaxis\":{\"automargin\":true,\"gridcolor\":\"white\",\"linecolor\":\"white\",\"ticks\":\"\",\"title\":{\"standoff\":15},\"zerolinecolor\":\"white\",\"zerolinewidth\":2},\"yaxis\":{\"automargin\":true,\"gridcolor\":\"white\",\"linecolor\":\"white\",\"ticks\":\"\",\"title\":{\"standoff\":15},\"zerolinecolor\":\"white\",\"zerolinewidth\":2}}},\"xaxis\":{\"anchor\":\"y\",\"domain\":[0.0,1.0],\"title\":{\"text\":\"keyword\"}},\"yaxis\":{\"anchor\":\"x\",\"domain\":[0.0,1.0],\"title\":{\"text\":\"count\"}},\"legend\":{\"tracegroupgap\":0},\"title\":{\"text\":\"Count of Keyword\"},\"barmode\":\"relative\"},                        {\"responsive\": true}                    ).then(function(){\n",
              "                            \n",
              "var gd = document.getElementById('f4514d2f-212d-4003-b2be-31d2be650dfa');\n",
              "var x = new MutationObserver(function (mutations, observer) {{\n",
              "        var display = window.getComputedStyle(gd).display;\n",
              "        if (!display || display === 'none') {{\n",
              "            console.log([gd, 'removed!']);\n",
              "            Plotly.purge(gd);\n",
              "            observer.disconnect();\n",
              "        }}\n",
              "}});\n",
              "\n",
              "// Listen for the removal of the full notebook cells\n",
              "var notebookContainer = gd.closest('#notebook-container');\n",
              "if (notebookContainer) {{\n",
              "    x.observe(notebookContainer, {childList: true});\n",
              "}}\n",
              "\n",
              "// Listen for the clearing of the current output cell\n",
              "var outputEl = gd.closest('.output');\n",
              "if (outputEl) {{\n",
              "    x.observe(outputEl, {childList: true});\n",
              "}}\n",
              "\n",
              "                        })                };                            </script>        </div>\n",
              "</body>\n",
              "</html>"
            ]
          },
          "metadata": {}
        }
      ]
    },
    {
      "cell_type": "code",
      "source": [
        "# Visualizing the occurance of location\n",
        "\n",
        "px.histogram(dataset, x=dataset['location'], title='Count of Location')\n",
        "# --> A lot of unique values and a majority of locations are very rarely present in the data set. "
      ],
      "metadata": {
        "colab": {
          "base_uri": "https://localhost:8080/",
          "height": 542
        },
        "id": "KhyWhRkwUrYq",
        "outputId": "fc0ec016-bb4b-4bb4-f10e-b5fa23b08ed1"
      },
      "execution_count": null,
      "outputs": [
        {
          "output_type": "display_data",
          "data": {
            "text/html": [
              "<html>\n",
              "<head><meta charset=\"utf-8\" /></head>\n",
              "<body>\n",
              "    <div>            <script src=\"https://cdnjs.cloudflare.com/ajax/libs/mathjax/2.7.5/MathJax.js?config=TeX-AMS-MML_SVG\"></script><script type=\"text/javascript\">if (window.MathJax) {MathJax.Hub.Config({SVG: {font: \"STIX-Web\"}});}</script>                <script type=\"text/javascript\">window.PlotlyConfig = {MathJaxConfig: 'local'};</script>\n",
              "        <script src=\"https://cdn.plot.ly/plotly-2.8.3.min.js\"></script>                <div id=\"5cd24d2b-f607-4c6e-90b8-a74930b55d1f\" class=\"plotly-graph-div\" style=\"height:525px; width:100%;\"></div>            <script type=\"text/javascript\">                                    window.PLOTLYENV=window.PLOTLYENV || {};                                    if (document.getElementById(\"5cd24d2b-f607-4c6e-90b8-a74930b55d1f\")) {                    Plotly.newPlot(                        \"5cd24d2b-f607-4c6e-90b8-a74930b55d1f\",                        [{\"alignmentgroup\":\"True\",\"bingroup\":\"x\",\"hovertemplate\":\"location=%{x}<br>count=%{y}<extra></extra>\",\"legendgroup\":\"\",\"marker\":{\"color\":\"#636efa\",\"pattern\":{\"shape\":\"\"}},\"name\":\"\",\"offsetgroup\":\"\",\"orientation\":\"v\",\"showlegend\":false,\"x\":[null,null,null,null,null,null,null,null,null,null,null,null,null,null,null,null,null,null,null,null,null,null,null,null,null,null,null,null,null,null,null,\"Birmingham\",\"Est. September 2012 - Bristol\",\"AFRICA\",\"Philadelphia, PA\",\"London, UK\",\"Pretoria\",\"World Wide!!\",null,\"Paranaque City\",\"Live On Webcam\",null,\"milky way\",null,null,null,\"GREENSBORO,NORTH CAROLINA\",null,\"Live On Webcam\",\"England.\",\"Sheffield Township, Ohio\",\"India\",\"Barbados\",\"Anaheim\",\"Abuja\",\"USA\",\"South Africa\",\"Sao Paulo, Brazil\",\"hollywoodland \",\"Edmonton, Alberta - Treaty 6\",null,\"Inang Pamantasan\",\"Twitter Lockout in progress\",\"Concord, CA\",\"Calgary, AB\",\"Birmingham\",\"San Francisco\",\"CLVLND\",\"Nashville, TN\",\"Santa Clara, CA\",\"UK\",\"St. Louis, MO\",\"Walker County, Alabama\",\"Australia\",\"North Carolina\",null,\"Norf Carolina\",\"San Mateo County, CA\",\"North Carolina\",\"Njoro, Kenya\",null,\"Your Sister's Bedroom\",null,\"Arlington, TX\",\"South Bloomfield, OH\",null,\"New Hanover County, NC\",\"Maldives\",\"Manchester, NH\",\"Wilmington, NC\",null,\"New Hanover County, NC\",null,\"global\",\"Alberta | Sask. | Montana\",\"Charlotte\",\"Baton Rouge, LA\",\"Hagerstown, MD\",\"Gloucestershire , UK\",null,\"UK\",\"Nairobi, Kenya\",\"Instagram - @heyimginog \",\"304\",\"Switzerland\",\"304\",\"US\",\"304\",\"Instagram - @heyimginog \",\"304\",null,\"Somewhere Only We Know ?\",null,\"Belgium\",\"Switzerland\",\"US\",null,\"dope show\",\"Switzerland\",\"Switzerland\",\"Oshawa, Canada\",\"Baker City Oregon\",null,null,\"United States\",\"304\",\"304\",\"marysville ca \",\"304\",\"Hermosa Beach, CA\",null,null,null,\"304\",\"304\",null,\"19.600858, -99.047821\",\"Pennsylvania\",\"Salt Lake City, Utah\",\"Palo Alto, CA\",null,\"Spain but Opa-Locka, FL\",\"Jaipur, India\",\"Hyderabad Telangana INDIA\",\"Eagle Pass, Texas\",\"bangalore\",\"Financial News and Views\",null,\"Indonesia\",\"y(our) boyfriends legs \",\"New Mexico, USA\",\"Somewhere Out There\",null,\"Mumbai india\",\"sri lanka\",\"Not a U.S resident\",null,\"Lehigh Valley, PA\",\"Canada\",null,\"Thrissur\",\"Havenford\",\"India\",\"92\",null,\"Israel\",\"Fashion Heaven. IG: TMId_\",\"San Francisco, CA\",\"italy\",\"nyc\",\"Toronto\",null,\"Jackson\",\"New York / Worldwide\",null,\"New Orleans, LA\",\"West Wales\",null,\"Happily Married with 2 kids \",\"Cambridge, MA\",\"Arizona \",\"Mumbai\",null,\"Amsterdam\",\"Swindon,England \",null,\"Happily Married with 2 kids \",null,\"Williamstown, VT\",\"North Carolina, USA\",null,\"Karachi\",\"Happily Married with 2 kids \",\"Happily Married with 2 kids \",\"Loveland Colorado\",\"|| c h i c a g o ||\",null,\"L. A.\",null,\"Canada\",\"VISIT MY YOUTUBE CHANNEL.\",\"Lexington\",null,\"USA\",\"Hannover, Germany\",null,null,\"Playa\",\"Davidson, NC\",\"Higher Places\",\"Horsemind, MI\",\"New York, NY\",\"Boksburg\",null,null,null,\"V-RP @OZRP_ ?MV, AU, R18+?\",\"Greater Manchester, UK\",\"Boston\",null,null,\"The Canopy Kingdom\",null,\"USA\",null,null,\"the own zone layer \",\"London\",\"Trancy Manor\",null,\"South 37\",null,\"West Lancashire, UK.\",\"PA\",null,\"\\u0089\\u00db\\u00a2 Views From The Six \\u0089\\u00db\\u00a2\",null,\"University of Toronto\",null,\"Swaning Around\",null,\"London\",\"Albany/NY\",\"California, USA\",null,null,null,\"Wild Wild Web\",\"Subconscious LA\",\"Spain\",null,\"CA physically- Boston Strong?\",\"Yeezy Taught Me , NV\",null,\"CA physically- Boston Strong?\",\"United States\",null,null,\"Rock Hill, SC\",\"Coolidge, AZ\",\"Republic of Texas\",null,null,\"Phoenix, AZ\",\"Ljubljana, Slovenia\",\"Connecticut\",\"Tacoma,Washington\",null,null,\"Subconscious LA\",\"BIG D  HOUSTON/BOSTON/DENVER\",\"Chandler, AZ\",\"ColoRADo\",\"sindria\",null,null,\"Texas\",\"Elk Grove, CA, USA\",\"Texas\",null,\"The Shire\",\"Austin, TX\",\"Oakland\",null,null,\"Albuquerque\",null,\"Buenos Aires, Argentina\",null,null,\"San Antonio-ish, TX\",\"San Francisco\",\"Oregon, USA\",\"Harlingen, TX\",\"Buffalo NY\",null,null,null,\"Las Vegas\",null,null,null,\"Tokyo\",null,\"California, United States\",\"California, United States\",\"#FLIGHTCITY UK  \",null,null,\"Alphen aan den Rijn, Holland\",null,\"Wrigley Field\",null,\"probably the strip club\",\"Canada\",\"England\",\"USA\",\"California, United States\",null,\"California, United States\",\"New York City\",\"Here And There\",\"Rotterdam, Zuid-Holland\",\"Derry, 17 \",\"Nowhere. Everywhere.\",\"Florida, USA\",\"Worldwide\",null,\"Nowhere. Everywhere.\",\"East Coast\",\"California\",\"Toronto, ON\",null,\"The Orwellion police-state\",\"Castaic, CA\",\"Helsinki, Finland\",\"East Kilbride\",null,\"#FLIGHTCITY UK  \",\"middle eastern palace\",\"Kent\",null,null,\"Nowhere. Everywhere.\",\"#FLIGHTCITY UK  \",\"Perthshire \",null,null,null,null,null,null,\"twitch.tv/naturalemblem26\",\"cyprus\",\"Memphis, TN\",null,\"Studio\",\"Hollywood, CA\",null,\"New York\",null,null,\"Pakistan\",\"Mexico! ^_^\",null,null,\"Campinas Sp\",null,\"Harlem, New York\",\"New York\",null,null,null,null,\"Washington, DC\",\"Burbank,CA\",\"New York\",null,null,\"? \",null,\"Spokane, Washington\",\"USA\",\"Charlotte, NC\",\"Our Empire State\",null,null,\"Jerusalem\",\"Kingston, Pennsylvania\",\"Milwaukee, WI\",\"Zero Branco\",\"Republic of Texas\",null,\"bajaur\",\"USA\",\"Eldoret, kenya\",\"\\u0089\\u00db\\u00ca\\u0089\\u00db\\u00ca\\u0089\\u00db\\u00ca\",\"Jerusalem\",\"Miami,FL\",null,\"Los Angeles, CA\",\"North-East Region, Singapore\",\"Eldoret, kenya\",null,\"Chicago\",\"EARTH \",\"Jerusalem, Israel\",null,\"Menasha, WI\",null,null,null,\"ss\",\"Atlanta\",\"Earth\",\"ss\",\"Worldwide\",\"Bleak House\",\"heccfidmss@gmail.com\",\"ss\",\"toronto\",\"[ Blonde Bi Fry. ]\",\"America\",\"NYC :) Ex- #Islamophobe\",\"SF Bay Area\",\"Orange County, California\",\"ss\",\"Winston Salem, North Carolina\",\"ss\",null,\"Adelaide, South Australia\",\"ss\",\"WASHINGTON,DC\",null,\"California\",\"ss\",\" snapchat // fvck_casper \",\"New York\",null,\"ss\",\"ss\",\"ss\",null,\"United States\",null,null,\"Dallas, TX\",\"NYC\",null,\"Location\",\"Selena | Britney | Hilary\",null,null,\"Ireland\",\"Freeport IL. USA\",null,\"Dubai\",\"Tucson, Az\",\"India\",\"Seattle WA\",null,\"Bellevue NE\",\"West Bank, Gaza Strip\",\"\\u0089\\u00db\\u00a2FLG\\u0089\\u00db\\u00a2\",null,\"Scotland, United Kingdom\",null,\"Online 24/7. Not even kidding.\",null,\"rowyso dallas \",\"Halton, Ontario\",\"Mumbai\",\"portland, oregon\",\"FIMAK A.S Ist Bolge Muduru\",null,\"London.\",\"#UNITE THE BLUE  \",null,\"Dayton, Ohio\",null,\"Global\",\"ph\",\"Port Jervis, NY\",\"City Of Joy\",\"Los Angeles, CA\",\"Texas, USA\",\"1/3 of the blam squad \",\"CCH \",\"atx\",\"MAURITIUS\",\"AKRON OHIO USA\",null,null,null,null,\"London\",\"london / st catharines ?\",null,\"Peshawar\",null,\"LEALMAN, FLORIDA\",\"Los Angeles, CA\",\"San Francisco, CA\",\"#GDJB #ASOT\",\"Groningen, Netherlands, Europe\",\"Livingston, IL  U.S.A.\",\"Arundel \",null,\"America\",\"Anna Maria, FL\",\"USA\",\"israel\",\"The Hammock, FL, USA\",\"??????????????????\",\"S\\u00cc\\u00a3o Paulo SP,  Brasil\",\"in Dimitri's arms\",\"Oslo, Norway\",\"Los Angeles\",\"Loughton, Essex, UK\",\"guaravitas\",null,\"Score More Goals Buying @\",\"NEW YORK\",\"Ireland\",null,\"UK\",\"London, Kent & SE England.\",\"Score Team Goals Buying @\",null,\"New York, NY\",\"South Central Wales\",null,\"Jersey City, New Jersey\",null,null,\"Denver, CO\",\"Brasil\",\"Buy Give Me My Money \",\"505 W. Maple, Suite 100\",\"Buy Give Me My Money \",\"Buy Give Me My Money \",\"Philippines\",\"Freeport il \",\"Canada\",\"World\",null,\"Danville, VA\",\"New York\",null,null,\"UK Great Britain \",\"NYC\",\"Jerusalem!\",null,null,\"San Jose, CA\",\"USA\",\"San Francisco\",null,\"Dallas, TX\",\"Baton Rouge, LA\",\"Use #TMW in tweets get #RT\",\"Earth\",null,null,\"Utah\",\"Wisconsin\",\"West Richland, WA\",\"CHICAGO (312)\",\"New York\",\"USA\",\"Australia\",\"California\",\"Washington D.C.\",\"NC\",null,\"West Virginia, USA\",null,\"British girl in Texas\",\"Silver Spring, MD\",\"USA\",\"Phoenix, AZ\",\"Atlanta, GA\",\"Manhattan, NY\",\"Wilmington, DE\",null,\"Memphis\",\"iTunes\",null,\"United States\",\"Oxford, MS\",null,\"US\",\"Atlanta, GA\",null,\"Pelham, AL\",\"New York\",\"Atlanta, GA\",\"Jacksonville, FL\",\"Arkansas, Jonesboro\",\"Across the Atlantic\",\"Melbourne, Florida\",\"Worldwide\",null,\"Over the Moon...\",\"Extraterrestrial Highway\",null,\"Espoo, Finland\",null,\"Washington, D.C., area\",null,\"OES 4th Point. sisSTAR & TI\",\"Sydney, New South Wales\",null,null,null,\"San Francisco, CA\",null,null,\"Netherlands,Amsterdam-Virtual \",null,\"New York City\",\"Hudson Valley, NY\",\"Philadelphia, PA\",null,null,\"timeline kamu\",null,null,null,null,\"Budapest, Hungary\",null,null,null,null,null,null,\"Searching for Bae \",\"Sydney, New South Wales\",\"California\",null,null,null,\"Eagle Mountain, Texas \",\"Columbus\",null,\"Temecula, CA\",\"Atlanta,Ga\",\"Fresno, CA\",null,null,null,\"Australia\",\"Raleigh Durham, NC\",\"ducked off . . . \",null,\"Rio de Janeiro\",null,\"302\",\"Columbus, OH\",\"PA\",null,\"Mo.City\",\"Tripsburg, ms.\",\"Durham N.C \",\"Delhi\",\"ARIZONA\",\"Penn Hills, PA\",\"Karachi \",\"seattle wa\",null,\"Mo.City\",null,\"SOUTHERN CALIFORNIA DESERT\",\"Gotham City\",null,\"My contac 27B80F7E 08170156520\",\"Dallas, TX\",null,\"Pig Symbol, Alabama\",\"Intramuros, Manila\",null,\"New York\",null,null,null,\"THE WORLD T.G.G / M.M.M \",null,\"Between the worlds \",\"State of Georgia\",null,\"Your screen\",\"Lima-Peru\",null,null,\"worldwide\",null,null,\"Saltillo, Coahuila de Zaragoza\",null,null,\"Suitland\",\"Everywhere\",\"Konoha\",\"Swag Francisco\",\"Saint Marys, GA\",\"New York\",\"Nigeria\",\"Essex/Brighton\",null,\"Pennsylvania, PA\",null,\"Rockford, IL\",null,\"AZ\",null,null,\"Vero Beach , FL\",\"IN\",null,\"In the middle of no where\",\"Baltimore, MD\",\"Florida, USA\",\"dmv ?? fashion school @ KSU. \",\"Nice places \",null,\"Quantico, VA\",null,null,null,null,\"Island Lake, IL\",\"Live Oak, TX\",null,\"Gages Lake, IL\",null,\"Madisonville TN\",\"Basketball City, USA \",\"AEP\",null,\"Alberta Pack\",\"#expelcl*y\",\"My heart is a ghost town!\",\"The Great State of Texas\",null,\"Alicante, Valencia\",null,\"Atlanta\",null,\"Greensboro, NC\",\" Indiana\",\"the local dump\",null,null,null,\"Seattle\",\"#SOUTHAMPTON ENGLAND\",\"?205?478?\",\"Waterford MI\",\"Iowa, USA\",\"va\",null,null,null,\"Florida\",null,\"california mermaid ? \",\"New York ? ATL\",\"USA/SO FLORIDA via BROOKLYN NY\",null,\"H / pez & sophia \",\"Brooklyn, NY\",\"Queens, NY\",\"Vancouver, BC.\",null,null,\"Ottawa, Canada\",\"wherever the $$$ at\",\"Purgatory, USA\",\"Calgary, Alberta\",\"Kama | 18 | France \",\"Sydney\",null,\"London\",\"Maryland, USA\",\"Daruka (near Tamworth) NSW\",\"IJmuiden, The Netherlands\",\"University Heights, Ohio\",\"Central Illinois\",\"Baton Rouge\",null,\"USA\",\"PSN: Pipbois \",\"Colombo,Sri Lanka.\",null,\"Johannesburg, South Africa \",\"Me mammy's belly\",\"UK & Ibiza\",null,\"Laventillemoorings \",\"UK\",\"Scotland\",\"London\",\"Vancouver, BC\",\"Cleveland, OH\",\"Kama | 18 | France \",\"Kama | 18 | France \",\"UK\",\"Detroit, MI, United States\",null,null,null,null,\"Guelph Ontario Canada\",\"Waterfront\",\"columbus ohio\",\"Canada\",\"Waukesha, WI\",\"Sydney\",null,\"Himalayan Mountains\",null,\"Colorado/WorldWide\",null,\"Ontario Canada\",null,null,null,\"California, USA\",null,null,\"Houston,  TX\",\"lakewood colorado\",\"THE 6IX\",\"Washington, USA\",\"The ?? below ???\",\"United States\",null,null,\"Ontario Canada\",null,null,null,null,null,null,\"Ideally under a big tree\",\"United States\",null,null,\"Conversing In Janet's Caf\\u00cc\\u00ac\",null,null,\"???????, ??'??????\",null,\"Dime's Palace\",\"Cairo, Egypt\",null,null,null,null,\"Seattle, WA\",null,\"Bug Forest\",null,\"canberra\",null,\"International\",null,\"The World\",\"Htx\",null,null,\"PunPunl\\u00cc\\u00a2ndia\",\"???\",\"Itirapina, S\\u00cc\\u00a3o Paulo\",\"North Jersey\",\"Ewa Beach, HI\",\"Biloxi, Mississippi\",null,\"Buenos Aires\",\"Indonesia\",\"Brecksville, OH\",\"Walthamstow, London\",null,\"Malaysia\",\"Ivano-Frankivsk\",\"Sunshine Coast, Queensland\",\"Dime's Palace\",\"England,UK,Europe,Sol 3.\",null,\"Chicago\",null,\"Nashua NH\",\"Leicester\",\"65\",\"Westchester\",\"Lynnfield, MA\",\"Level 3 Garrison, Sector G\",\"Singapore\",\"Adelaide, South Australia\",null,\"Las Vegas\",\"Glasgow\",null,\"Shity land of Northern Ireland\",\"Singapore\",\"Christchurch New Zealand\",\"peekskill. new york, 10566 \",null,null,\"PH\",\"Storybrooke \",\"under the blanket\",\"Isolated City In World Perth\",\"Brazil \",\"AUS\",\"Santa Cruz, CA\",\"Inverness, Nova Scotia\",\"L/S/Z/L/T/H/C/H/R/A/S/C\",\"Oklahoma\",\"801 SL,UT\",null,\"fluffy cloud\",\"USA\",\"The 5th Dimension. \",\"Georgia\",\"July 11th, 2015. ?\",\"The Grey Area\",null,\"St Paul, MN\",\"Cobblestone\",\"\\u00cc\\u00cfT: 30.307558,-81.403118\",\"Scotland\",\"Cosmic Oneness\",\"Guildford, UK\",\"Nowhere Islands/Smash Manor\",\"kisumu\",\"Los Angeles\",\"Making Worldwide Change Near U\",null,null,null,\"ATX\",\"LA/OC/Vegas\",\"London/Outlaw Country \",\"Grimsby, England\",null,\"Gotham\",null,\"Manchester, The World, England\",\"New York\",\"New York\",null,\"sitting on Eddie Vedders lap,\",null,\"New York\",\"New York\",\"NYC\",\"Missouri, USA\",\"US\",null,null,\"California, USA\",\"Greenville,SC\",\"New York\",\"New York\",null,\"Paignton\",null,\"California, USA\",\"New York\",null,\"Paignton\",null,null,\"Paignton\",null,\"New York\",\"New York\",\"Paignton\",null,\"New York\",null,\"have car; will travel\",\"Sydney, New South Wales\",\"ATL ? SEA \",\"\\u00cc\\u00cfT: 39.982988,-75.261624\",null,\"#EngleWood CHICAGO \",\"302???? 815\",\"New Your\",\"Texas\",\"New York, NY\",null,\"PURPLE BOOTH STUDIO\\u0089\\u00e3\\u00a2\",\"Cloud 9\",null,\"Former Yugoslav Republic of Macedonia\",null,null,null,\"3?3?7?SLOPelousas??2?2?5?\",null,\"316\",\"Global\",\"#WhereverI'mAt\",\"Huber Heights, OH\",null,\"Miami ??\",\"Houston, TX\",\"Every where\",\"Arizona \",null,\"401 livin'\",\"MI\",\"EPTX\",\"Austin, Texas\",\"Oklahoma City\",\"CA\",null,\"United Kingdom\",\"WESTSIDE OF PHILLY 7? BLOCK??\",\"CA\",\"Wisconsin\",\"Charlotte NC\",\"LONG ISLAND, NY\",null,\"washington, d.c.\",\"United Kingdom\",null,null,null,\"WAISTDEEP, TX\",\"Swaning Around\",\"D.C. - Baltimore - Annapolis\",null,\"#937??#734\",null,null,null,null,\"Fife, WA\",null,null,\"Bushkill pa\",null,\"In the Shadows...\",\"southwest, Tx\",null,\"California, USA\",null,null,\"ANYWEHERE !!\",\"Menlo Park. SFO. The World.\",null,\"Speaking the Truth in Love\",null,\"Aarhus, Central Jutland\",null,\"Lincoln, NE\",\"wny\",\"Bolton & Tewkesbury, UK\",null,\"travelling to tae's pants\",\"keli x\",\"Manchester\",\"Canada\",\"Knoxville, TN\",\"Australia\",\"ChicagoRObotz\",\"whs '17\",null,\"NV\",null,null,\"Ireland\",null,null,\"lagos nigeria\",\"Edmonton, Alberta\",\"[Gia.] | #KardashianEmpire\",\"Sunrise Manor, NV\",\"Oxford, OH\",null,null,null,null,\"Odawara, Japan\",null,\"Chicago, IL\",\"Des Moines, IA\",\"Dundas, Ontario\",null,null,\"New York\",\"IDN\",null,\"Netherlands\",\"DaKounty, Pa\",null,\"Tokyo\",\"D\\u00cc_sseldorf, Germany\",\"Old Blighty\",null,null,\"??\",null,null,\"The land of New Jersey. \",\"Atlanta Georgia\",null,\"MY RTs ARE NOT ENDORSEMENTS\",\"Kabul, Tuebingen, Innsbruck\",\"Light and dark, form and void\",\"Nairobi, Kenya \",null,null,\"Erbil\",\"Stockton on tees Teesside UK\",\"Screwston, TX\",null,\"My old New England home\",\"melbourne\",\"Cape Town\",null,\"Ikeja, Nigeria\",\"Warwick, RI @Dollarocracy also\",\"texas a&m university\",\"MA\",null,\"Shipwreck Cove\",null,null,\"Sydney, Australia\",null,null,null,null,\"WorldWide\",null,null,null,null,\"Overland Park, KS\",\"SWMO\",\"Puerto Rico\",\"Toronto-Citizen of Canada & US\",\"Silicon Valley\",null,null,\"Washington, DC\",null,\"North East USA\",\"Washington, D.C.\",\"Singapore\",null,\"London\",\"United States\",\"Vit\\u00cc_ria (ES)\",\"Mumbai\",null,null,\"New Delhi, Delhi\",\"Buscame EL tu Melte\",null,\"Wiltshire\",null,\"PROUD INDIANS\",null,\"Leicester\",\"Mumbai , India\",null,\"Pittsburgh PA\",null,\"Boston\",\"MUM-DEL\",\"Leeds, England\",\"US\",null,\"California\",\"UK\",\"Nigeria\",\"Playa del Carmen, Mexico\",null,null,null,null,null,\"Leicester\",null,\"NY, CT & Greece\",null,\"Mumbai\",null,null,\"Mackay, QLD, Australia\",\"Quincy MA\",\"NJ\",null,\"Madison, GA\",null,\"KurveZ@GearHeadCentral.net\",\"St Charles, MD\",\"Denver, Colorado\",\"San Francisco\",\"Ziam af \",null,\"GO BLUE! HAIL YES!!\",\"Chicago, IL\",\"Outside The Matrix, I Think.\",null,\"In Hell\",\"Epic City, BB.\",\"somewhere over a rainbow\",\"Selma2Oakland\",null,\"Bombardment Bay\",null,\"Savannah, GA\",\"dallas\",\"New Orleans ,Louisiana\",\"England, United Kingdom\",\"Dublin City, Ireland\",\"Leeds, England\",null,\"New Hampshire\",\"Washington, D.C.\",null,\"World Wide\",\"Intermountain West\",\"World Wide\",\"New Hampshire\",\"Manchester, NH\",\"Tulsa, Oklahoma\",null,\"Auburn, AL\",null,null,\"taken by piper curda\",\"Toronto\",\"Scotland \",\"Nigeria, Global\",\"Fort Walton Beach, Fl\",\"Sweden\",\"Groton, CT\",\"Brisbane Australia\",\"NY Capital District\",\"Peoria\",\"Reading UK\",\"UK\",\"Concord, NH \",\"CORNFIELDS\",\"Worcester, MA\",\"Roanoke, VA\",\"nj\",null,\"MA via PA\",\"Boston, MA\",\"World Wide\",\"New Hampshire\",\"Oklahoma City, OK\",\"toronto \\u0089\\u00db\\u00a2 dallas\",\"San Diego CA\",\"germany\",null,\"Massachusetts\",\" Nxgerxa\",\"Erie, PA\",null,\"Port Charlotte, FL\",\"Belleville, Illinois\",\"Alabama\",null,\"Long Island NY & San Francisco\",\"Canada\",\"Gainesville, FL\",null,\"Oakland, CA\",\"956\",\"Chicago\",null,\"Escondido, CA\",\"DC\",null,null,null,\"Chicago Area\",null,\"Upper St Clair, PA\",null,null,null,null,\"Cherry Creek Denver CO\",\"627\",null,\"Blogland\",\"mumbai\",\"Isle of Man\",null,\"Hampton Roads, VA\",null,\"Gameday\",null,\"Earthling (For now!)\",null,null,\"Black Canyon New River, AZ\",\"Caracas, Venezuela.\",null,\"NY\",\"Charlottetown\",null,null,\"Paradise, NV\",\"??t?a\",null,\"Li\\u00cc\\u00acge\",\"Spokane, Washington 99206\",\"taco bell\",null,\"Australian Capital Territory\",\"http://www.amazon.com/dp/B00HR\",\"New York, NY\",\"[ kate + they/them + infp-t ]\",null,\"New York\",null,\"Sacramento, CA\",\"Mackay, QLD, Australia\",\"St Charles, MD\",\"please H? ?:??\",\"we?it \\u0089\\u00db\\u00a2 ixwin\",null,null,\"Santiago Bernabeau\",\"y/e/l\",null,null,null,null,\"NJ\",\"Whiterun, Skyrim\",\"New Orleans ,Louisiana\",\"Seattle, WA\",\"Greenpoint, Brooklyn\",null,\"dallas\",null,\"Oklahoma City, OK\",\"Los Angeles\",\"Victoria, British Columbia\",\"a botanical garden probably\",null,\"Madison, GA\",\"Nelspruit, South Africa\",\"midwest\",\"Copenhagen, Capital Region of Denmark\",\"In Hell\",\"Spying on your thoughts\",\"seattle grace mercy death\",\"Selma2Oakland\",\"Tucson, Arizona \",\"Epic City, BB.\",\"Charlotte County Florida\",\"Head Office: United Kingdom\",\"Mid north coast of NSW\",\"iPhone: -27.499212,153.011072\",\"Queen Creek AZ\",null,\"Jamaica\",\"Trinidad and Tobago\",null,null,\"Melbourne Australia\",\"The Internet & NYC\",\"London/Bristol/Guildford\",\"Canberra, Australian Capital Territory\",null,\"beacon hills \",\"somewhere outside\",null,\"Wolmers Trust School for Boys \",\"Loughborough.\",null,\"Sydney, Australia\",null,\"Selangor\",null,\"London\",\"indiana\",null,null,\"Philippines\",null,\"Bronx, New York\",\"Canadian bread\",\"Phoenix, AZ\",\"Le Moyne '16\",null,null,\"Hoxton, London\",\"Las Vegas, NV USA\",\"Heinz Field \",\"Skyport de la Rosa\",\"USA\",\"The Low-Cal Calzone Zone\",\"Brooklyn, New York\",null,\"US\",\"50% Queanbeyan - 50% Sydney\",null,null,null,\"USA\",\"UK\",\"Insula Barataria\",\"everywhere \",\"Afghanistan, USA\",\"Inglewood, CA\",\"Absecon, NJ\",\"Williamsbridge, Bronx, New Yor\",\"Northern Kentucky, USA\",null,\"Mostly Yuin.\",\"Nairobi\",\"Canada\",\"Rochelle, GA\",null,\"London UK\",\"south of heaven \",null,\"El Dorado, KS\",\"Santa Monica, CA\",null,\"Kenya\",\"1648 Queen St. West, Toronto.\",\"Toledo, OH\",null,\"Fairfield, California\",\"Trinity, Bailiwick of Jersey\",\"Virginia\",\"LIVERPOOL\",null,null,null,null,\"Boulder, CO\",null,\"Washington, D.C.\",\"Hospital, bc of SKH vid.\",\"Hartford  London Hong Kong\",\"In @4SkinChan 's arms\",null,null,\"Massachusetts, USA\",\"Seattle\",\"Kansas City, MO\",null,null,\"Wellington, New Zealand\",\"West Virginia, USA\",null,\"?? ??\",null,\"Florida\",null,null,null,\"los angeles, ca\",null,\"New Brunswick, NJ\",\"City of Angels, CA\",\"Brooklyn, NY\",\"Morganville, Texas.\",\"America | New Zealand \",null,null,\"Denver, CO\",null,null,\"Stockholm, Sweden\",\"Worldwide\",\"Azeroth\",\"Lytham St Anne's \",null,null,\"Ylisse\",\"Wisconsin\",\"Portugal\",\"All around the world baby\",null,null,\"@UntmdOutdoors #T.O.R.K \",\"Lima, Per\\u00cc\\u00bc\",null,\"Toronto\",\"Piedmont Area, North Carolina\",null,null,null,null,\"Buxton, Venice, and Nottingham\",\"Quito, Ecuador.\",\"Inexpressible Island \",null,\"San Jose, CA\",\"New York, NY\",\"United States\",\"New York\",\" Bouvet Island\",\"Shirley, NY\",\"Planet Earth\",\"Paonia, Colorado \",null,null,\"Inexpressible Island \",\"Planet Earth\",\"Portland, OR\",\"Dublin, Ireland\",\"Planet Earth\",null,\"Lurking\",\"Leeds, England\",\"N?? Y???.\",null,\"Littleton, CO, USA\",\"Virginia, United States\",\"Center for Domestic Preparedness\",\"Ukraine and Ireland\",\"London\",\"Welt\",null,\"Wales\",\"http://www.amazon.com/dp/B00HR\",\"Seattle, Washington\",\"Beaumont, TX\",\"Annapolis, MD\",\"Las Vegas, Nevada\",null,\"Seattle, Washington\",\"Harris County, Texas\",\"Tyler, TX\",\"Evanston, IL\",\"North Ferriby, East Yorkshire\",\"Colombia\",\"Seattle, Washington\",\"Evanston, IL\",\"Ames, Iowa\",\"Seattle, Washington\",\"Moscow, Russia\",null,null,\"Jersey City, NJ\",null,null,\"Mankato, MN\",\"Orbost, Victoria, Australia\",\" Somewhere.\",null,\" Neverland \",null,\"London, England\",\"At Da Laundry Mat Wit Nivea \",\"norway\",\"nyc\",null,\"$ad $hawty\",null,\"Nigeria\",null,\"NY || live easy? \",\"BestCoast\",null,null,\"BC\",\"Abuja, Nigeria\",null,\"Colchester Essex \",\"livin life in the 610\",\"Suplex City\",\"Inside your mind.\",null,\"36 & 38\",\"Sydney Australia\",\"Lagos, Nigeria\",\"New York, NY \",\"Slappin and Smackin \",\"DRAW A CIRCLE THAT'S THE EARTH\",null,null,\"Florida, USA\",\"Madrid, Comunidad de Madrid\",\"The Netherlands\",null,\"Highland Park, CA\",\"Scotland\",\"Swan River\",\"Kolkata, India\",\"Melrose\",\"Jubail IC, Saudi Arabia\",\"New York City\",null,\"Los Angeles, CA\",\"Location\",\"Sugarhouse, UT\",\"lugo\",\"Chicago, Illinois\",\"Blackpool, England, UK.\",null,\"San Jose, California\",null,\"Fakefams\",\"In the clouds...\",\"India\",\"Sandton, South Africa\",\"Nigeria \",null,\"#Bummerville otw\",\"Europe\",\"Brighton and Hove\",\"Mumbai , India\",\"United Kingdom\",\"Pompano Beach, FL\",\"JKT48-Muse-A7X\",\"Behind The Obama Curtain\",\"Worldwide.\",\"United States\",\"LiVE M\\u00cc\\u0081S\",\"USA\",null,\"Henderson, NV\",null,\"CAMARILLO, CA\",\"manchester, uk.\",\"Eugene, Oregon\",\"they/her\",null,\"Paris \",null,\"Tokyo\",\"(he/him)\",null,\"Suplex City\",\"Victoria, British Columbia\",\"Kingston, Jamaica\",\"USA\",null,\"Spokane, WA\",null,\"I'm standing behind you\",\"Alexandria, Egypt.\",\"instagram- Chloe_Bellx\",\"on the web\",\"San Francisco Bay Area\",\"#ForeverWithBAP 8 \",\"GOT7SupportPH\",\"wherever-the-fuck washington\",null,\"From NY. In Scranton, PA\",\"Perth, Western Australia\",null,\"Live m\\u00cc\\u00c1s\",null,null,\"Melton, GA\",null,\"Greg's place\",\"Viejo\",null,\"USA\",\"Kansas, The Free State! ~ KC\",null,\"Silang, Cavite / Para\\u00cc\\u00b1aque\",\"Fort Smith, AR\",\"Brasil\",null,\"New York\",\"planeta H2o\",\"www.youtube.com?Malkavius2\",\"Michigan\",\"The Forever Girl\",\"Esp\\u00cc_rito Santo\",\"New York, USA\",\"Ormond By The Sea, FL\",\"Maryland,Baltimore\",\"New Orleans, LA\",\"Vancouver, BC\",\"Pennsylvania, USA\",\"Houston, Texas\",\"Yadkinville, NC\",\"Medford, NJ\",\"Austin, TX\",null,null,\"Malaysia\",\"Dallas, Texas. \",\"Roanoke VA\",null,\"Unnamed City\",null,\"Toronto\",\"Peterborough, On\",\"-6.152261,106.775995\",\"@protectingtitan's side.\",null,\"Oregon\",\"San Francisco\",null,\"Eau Claire, Wisconsin\",\"St. Joseph, Minnesota\",\"From a torn up town MANCHESTER\",\"Waco TX\",\"Tennessee\",\"Cape Cod, Massachusetts USA\",null,null,null,null,\"Pakistan\",\"bk. \",null,\"Lansing, Michigan\",\"Peterborough, Ont.\",\"Johannesburg, South Africa\",\"On the court \",\"Cherry Creek Denver CO\",null,\"Traverse City, MI\",null,\"See the barn of bleakness\",\"Mumbai\",\"Hertfordshire \",\"\\u00cc\\u00cfT: 41.252426,-96.072013\",\"Nairobi, Kenya\",null,\"California \",\"Greeley, CO\",\"'soooota\",\"Sacramento\",null,null,\"Sacramento\",\"Ontario, Canada\",\"Los Angeles, CA\",\"NY, NY\",\"Arvada, CO\",\"Oregon\",\"Denver, CO\",\"Maryland\",\"Vancouver, Colombie-Britannique\",\"Mumbai\",\"Irving , Texas\",\"Riverside, CA\",\"SEATTLE, WA USA\",\"San Francisco, CA\",\"Orange County, California\",\"USA , AZ\",\"East Atlanta, Georgia\",\"Denver, Colorado\",\"Los Angeles, CA\",\"Saint Lucia\",\"Peterborough, Ontario, Canada\",null,\"Colorado\",\"North Highlands, CA\",\"Vancouver\",\"60th St (SS)\",\"San Francisco, CA\",\"Sacramento, CA\",\"Ontario, Canada\",\"Denver, Colorado\",\"Denver, Colorado\",\"Sacramento\",\"USA, WA\",\"btwn a rock and a hard place\",null,null,null,\"Tennessee\",null,null,null,\"Aix-en-Provence, France\",\"Liverpool\",\"I-75 in Florida\",null,\"21.462446,-158.022017\",\"Cleveland, OH\",null,\"Melbourne, Australia\",null,\"Darlington\",null,null,\"  Melbourne, Australia\",\"Kenton, Ohio\",\"Galatians 2:20 \",null,\"Charleston, SC\",null,null,null,\"Lancaster, Pennsylvania, USA\",null,\"In my own world!!!\",null,null,\"San Francisco, CA\",\"Definitely NOT the stables\",\"Pakistan\",\"Cuernavaca, Morelos, M\\u00cc\\u00a9xico.\",null,\"Scotland\",null,null,null,\"Va Beach, Virginia\",\"52.479722, 62.184971\",\"The Pig Sty\",null,\"Bangor, Co.Down\",\"Weston super mare\",null,\"Victoria, Tx.\",\"Pakistan, Islamabad\",\"Lincoln, NE\",null,null,\"London\",\"Gujranwala, Pakistan\",\"Lindenhurst\",\"Islamabad\",\"Somewhere\",null,\"too far\",\"Kingswinford\",\"i love the smurfs 2\",null,null,\"International \",\"Viterbo BFA Acting '18\",\"Buenos Aires\",\"Kaneohe\",\"Houma La\",null,null,\"EastAtlanta ??#WestGeorgia'18\",\"San Antonio, TX\",\"Cleveland, Ohio\",null,null,\"Everywhere\",null,\"San Diego, Texas.\",\"GLOBAL\",\"05/04/2014 18:23 ?\",\"Everywhere\",null,null,\"Bolivar, MO\",\"taking pain like pleasure\",\"San Fransokyo\",\"Washington, DC NATIVE\",null,null,\"Everywhere\",\"Miami, FL\",null,\"Utah\",null,\"Everywhere\",null,\"Everywhere\",\"w. Nykae \",\"honeymoon avenue\",\"Toronto, Worldwide \",null,null,null,null,null,\"11/4/14\",\"wherever there's netflix\",null,null,\"Chicago, IL\",\"#HAMont\",null,\"U.K.\",\"ph\",null,null,\"online \",null,\"Conroe, TX\",\"Ontario, Canada. \",\"Guayaquil\",\"bahstun/porta reeko\",\"Bucks County, Pa\",\"Sunny South florida \",\"Rio\",\"Neverland\",\"Pennsylvania\",null,null,null,\"Trinidad & Tobago\",\"Chicago - Lake Buena Vista\",\"Toronto, Ontario\",\"Liberty Lake, WA\",null,\"Ankara - Malatya - ad Orontem\",null,null,\"antioch, california\",\"State College, PA\",\"Chicago, IL\",null,\"somewhere in cali \",\"Im Around ... Jersey\",\"Garden Grove\",\"Adelaide, Australia\",null,null,\"BKI-KUA\",null,\"ur\\u00cc\\u00a3nus\",\"Illinois, USA\",\"A.A.S my Aztec Princess\",\"turner fenton\",null,\"KLA,Uganda\",\"Uganda\",null,\"253\",\"Elkhart, IN\",\"Adelaide, Australia\",\"California\",\"Adelaide, Australia\",\"Pon Di Gully\",\"Benedict College\",\"HTX\",null,\"IM LOST \",\"Miami\",null,\"Hamilton, ON\",\"United Kingdom\",\"Des Moines, Iowa \",\"USA\",\"Rural Northern Nevada\",\"Republic of the Philippines\",null,null,null,null,\"Philippines \",\"Washington, DC\",\"hyderabad\",\"Vancouver (HQ) and worldwide\",\"Quezon City, Philippines\",\"Geneva\",\"Hartford,  connecticut\",\"Sioux Falls, SD\",\"Cornwall\",\"Beside Basketball\",\"Rome, Italy\",\"Tafekop Ga-Matsepe\",null,null,null,null,null,\"Melbourne\",\"Vilnius\",\"Geneva\",null,null,\"Made in America\",\"PS4, now stop asking\",null,\"Cheshire. London. #allover\",\"Texas, USA\",\"Bartholomew County, Indiana\",\"U.S\",\"My mind is my world\",null,\"Catskills\",null,\"Columbia, SC\",null,\"Right here\",\"Texas\",\"Lawrence, KS via Emporia, KS\",\"http://twitch.tv/jcmonkey\",\"Indonesia\",\"Unknown\",\"Unknown\",\"Marysville, MI\",\"New Haven, Connecticut\",null,\"Austin | San Diego\",\"??? ?? ??????? \",\"Pontevedra, Galicia\",\"Somewhere in the Canada\",\"London/New York\",\"261 5th Avenue New York, NY \",null,null,null,\"Charlotte NC\",null,\"Rockville, Maryland\",null,null,\"Australia\",\"Your Conversation\",\"USAoV\",\"Bhopal, Madhya Pradesh, India.\",\"Tennessee\",null,\"#LemonGang \",\"ayr\",null,\"Worldwide\",\"San Jose, California\",\"Worldwide\",\"Loughborough, England\",\"Killarney\",\"Brooklyn, NY\",\"Lahar & Gwalior\",\"St Paul, MN\",\"Atlanta Georgia \",null,\"Lincoln, IL\",\"World\",\"Spinning through time.\",\"Atlanta Georgia \",\"Boston, MA\",\"Hailing from Dayton \",\"Worldwide\",\"Newcastle Upon Tyne, England\",\"Atlanta Georgia \",\"Atlanta Georgia \",null,null,\"Instagram: trillrebel_\",\"ALWAYS DYING NEVER RESTING\",\"San Jose, CA\",\"2005 |-/\",\"Israel\",\"Uruguay / Westeros / Gallifrey\",\"Kansas City, MO\",\"Silver Spring, MD\",\"Jersey - C.I\",null,null,\"Afghanistan\",\"Sweden\",null,null,\"London\",\"Orlando, FL\",null,\"Atmosphere\",null,\"Glasgow\",null,null,\"somewhere in Portugal\",\"South Stand\",\"dundalk ireland\",null,null,\"Sochi, KDA, RU\",\"\\u00cc\\u00cfT: -26.695807,27.837865\",\"South Stand\",\"You're not 19 forever   \",\"Kettering, OH\",\"United States\",null,\"Planet Earth\",\"Spare 'Oom\",null,\"United States\",\"Milton Keynes \",null,\"ATL??AL??\",\"UPTOWN \",null,\"PROV\",\"Novi, MI\",\"New York\",\"Buenos Aires, Argentina\",\"on the go\",null,null,\"The UK\",null,null,\"mpls. \",\"Kensington, MD\",\"Buffalo/DC\",null,\"Sylacauga, Alabama\",null,null,null,null,\"USA\",\"To The Right of You!\",\"Cyprus\",\"kansas\",\"Los Angeles,CA, USA\",\"Portland, OR\",\"Carry On Jutta!!!\",\"Home of the Takers.\",\"New York, New York\",null,\"?s????ss? a?????\",\"Chicago\",\"Alicante, Spain\",null,null,\"Mooresville, NC\",\"Mooseknuckle, Maine\",\"Palermo, Sicily\",null,\"Asunci\\u00cc_n-PY / T\\u00cc_bingen-GER\",\"Voorhees, NJ\",null,null,null,\"UK\",\"Atlanta, GA\",\"Planet Earth\",\"Wakanda\",\"Lagos\",\"Does it really matter!\",null,\"Your screen\",\"Phoenix, AZ\",\"Does it really matter!\",\"Edinburgh\",\"Weyburn\",\"UGA '15 Alumnus - Economics \",null,null,\"Blackpool\",\"the void, U.S.A\",\"london town..\",\"Tennessee/Gallifrey\",\"Amman, Jordan\",\"Blackpool\",\"Washington, D.C.\",null,\"Columbia Heights, MN\",\"Top Secret\",\"\\u00cc\\u00cfT: 10.614817868480726,12.195582811791382\",\"Top secret bunker \",\"Belbroughton, England\",null,null,\"772 Temperance Permenence\",null,null,\"Nigeria \",null,\"46.950109,7.439469\",null,null,\"In the Shadows\",null,\"Campo Grande-MS\",\"nbc washington\",null,\"Seattle\",\"Hamilton, Ontario Canada\",\"New York\",null,null,null,\"Dubai, United Arab Emirates\",\"India\",\"Hong Kong\",\"Berlin, Germany\",\"Nigeria \",\"IRAQ\",null,\"Tampa, FL\",\"World news\",\"Hong Kong\",null,\"Hong Kong\",null,\"Bristol, UK\",\"labuan, malaysia\",\"United Kingdom\",\"right next to you\",\"CT ? NYC\",\"www.tmgcgart.com\",null,\"London, England\",\"Los Angeles, CA\",null,null,\"Australia\",\"Brisbane\",\"Melbourne-ish\",\"617-BTOWN-BEATDOWN\",\"Brackley Beach, PE, Canada\",\"London\",\"518\",\"Nottingham, England\",\"eARth 3\",null,null,\"Enniscrone & Aughris, Sligo \",\"Mostly Wellington, NZ \",\"London\",null,\"USA\",null,\"617-BTOWN-BEATDOWN\",null,null,null,null,\"Atlanta, Ga\",\"World\",null,\"Fort Fizz, Ohio\",\"New York, NY\",\"Fort Lauderdale, FL\",\"Raleigh (Garner/Cleveland) NC\",null,\"Newcastle upon Tyne\",\"walking the tightrope\",\"Frascati\",\"College Station, TX\",\"Bishops Lydeard, England\",null,\"Karachi, Pakistan\",null,\"Up a hill\",null,null,\"London\",null,\"Clearwater, FL\",\"Manchester\",\"Wellington\",null,null,\"#????? Libya#\",null,null,null,null,\"Newcastle\",null,null,\"Los Angeles, CA\",\"Pakistan\",\"balvanera\",\"Aro Diaspora\",\"Washington D.C.\",\"Nigeria, WORLDWIDE\",\"\\u00cc\\u00cfT: 0.0,0.0\",\"Eastbourne England\",\"State of Dreaming\",null,null,null,null,\"Wema building\",\"Port Harcourt, Nigeria\",\"Fruit Bowl\",\"South Africa\",\"Hooters on Peachtree\",\"Otsego, MI\",null,\"MAD as Hell\",\"ATL, GA\",\"Uyo, Akwa Ibom State, Nigeria\",\"us-east-1a\",\"London\",\"RhodeIsland\",\"London, UK\",\"London\",\"Napa, CA\",\"Lagos, Nigeria\",null,\"KOLKATA\",\"golborne, north west england.\",\"Earth\",\"NYHC\",\"sweden\",\"ARBAILO\",\"Bagalkote Karnataka \",\"Shrewsbury\",\"NJ\",\"Terre Haute, IN\",\"NH via Boston, MA\",\"Canada\",\"Glasgow, Scotland\",\"QUEENS.\",null,null,\"ATL ??\",\"???????????\",\"Beautiful British Columbia\",null,null,\"Newcastle\",\"Chicago\",null,\"Dublin, Ireland\",\"USA\",null,\"????\",\"Birmingham UK\",\"Medford, Oregon\",\"Catalonia, Spain\",\"Kilkenny\",null,null,\"Paterson, New Jersey \",\"USA\",null,\"Lisbon, Portugal\",\"MA\",\"Halifax, Nouvelle-\\u00cc\\u00e4cosse\",null,null,\"Murray Hill, New Jersey\",\"aggressive cannoli eater \",\"Chicago\",null,null,\"11202\",\"??????\",null,\"San Francisco, CA\",null,null,null,\"Atlantic, IA\",null,null,\"New York, USA\",\"\\u00cc\\u00cfT: 36.142163,-95.979189\",\"Arthas US\",\"Funtua, Nigeria\",\"everywhere\",\"US-PR\",\"Washington, DC\",\"Buffalo, NY\",\"California, USA\",null,\"San Jose\",null,\"\\u00cc\\u00f8\\u00e5\\u00c0\\u00e5_T: 40.736324,-73.990062\",\" Road to the Billionaires Club\",\"Washington, D.C.\",\"Washington, DC 20009\",\" Road to the Billionaires Club\",null,\"Los Angeles, CA\",null,null,\"Washington, Krasnodar (Russia)\",\" Road to the Billionaires Club\",\"Nairobi-KENYA\",\"at my home\",\"District of Gentrification/ DC\",null,\" Road to the Billionaires Club\",\"USA\",\" Road to the Billionaires Club\",\"London\",\"Washington, D.C. \",\"U.S.A\",null,\"Nairobi\",\"#MadeInNorthumberland\",\"London, England\",null,\"Nairobi-KENYA\",null,\"Jamshedpur, Jharkhand\",\" Road to the Billionaires Club\",null,\"eritrean\",\"Los Angeles, CA\",\"Dayton, OH\",\"Washington, DC\",\"Dorset, United Kingdom\",\"A small federal enclave\",\"Washington, DC\",\"Pune, mostly \",\"Washington, DC\",null,\"Kwara, Nigeria\",\"The Desert of the Real\",\"lee london\",\"Anchorage, AK\",\"Washington, DC\",\"USA\",\"Chicago, IL\",null,\"DC, frequently NYC/San Diego\",\"Washington, DC\",\"Enterprise, Alabama\",\"Washington, DC\",\"US\",\"\\u00e5\\u00f8\\\\_(?)_/\\u00e5\\u00f8\",\"Washington DC / Nantes, France\",null,\"Washington, DC & Charlotte, NC\",\"Kalamazoo, Michigan\",\"DC\",\"SEC Country\",null,null,\"L'Enfant Plaza Metro Station\",null,\"Durban, South Africa\",\"United Kingdom\",\"Alexandria, VA\",\"NYC\",null,\"Texas-USA\\u0089\\u00e3\\u00a2 ?\",\"Toronto\",\"Arlington, VA and DC\",\"Headed To The Top\",\"Mumbai (India)\",\"Chicago, IL\",\"India\",null,null,\"Mumbai\",\"Coimbatore\",null,\"Chicago, IL 60607\",\"Palo Alto, California\",null,null,null,null,null,\"India\",\"Chicagoland\",null,\"UK\",\"India\",\"Mumbai\",\"Los Angeles\",null,\"New Delhi\",\"India\",\"Mumbai\",\"India\",\"Mumbai\",null,\"India\",\"Chicago, IL\",null,\"Minneapolis,MN,US\",\"Chicago\",null,\"Chicago, IL \",\"Palo Alto, California\",\"India\",null,null,\"United Kingdom\",\"NYC area\",null,null,\"Philadelphia, PA \",null,\"Chicago,Illinois\",\"\\u00cc\\u00cfT: 33.209923,-87.545328\",\"Lahti, Finland\",\"Here there and everywhere\",null,\"the insane asylum. \",null,\"Oakland\",\"Macclesfield\",\"Michigan, USA\",\"Boulder\",null,\"Temporary Towers\",null,\"Macclesfield\",\"Pueblo, CO\",null,null,null,\"the insane asylum. \",\"Manchester\",null,\"Stockholm, Sweden\",\"Birmingham, UK\",\"Houston, Texas ! \",\"New York\",\"North East, England\",\"[marvel\\u0089\\u00db\\u00a2dragon age\\u0089\\u00db\\u00a2wicdiv]\",\"NBO\",\"Lagos Nigeria\",null,null,\"St. Louis Mo.\",\"Birdland, New Meridian, FD\",\"Arizona\",\"Monterrey, M\\u00cc\\u00a9xico\",null,\"infj \",\"on twitter\",\"2B Hindhede Rd, Singapore\",\"Austin, TX\",\"Kalimantan Timur, Indonesia\",\"Prehistoric Earth\",\"san gabriel la union\",\"??????\",\"Manila, Philippines\",\"Middle Earth / Asgard / Berk\",\"Subconscious LA\",null,null,\"Singapore\",\"Quilmes , Arg\",null,\"Richmond, VA\",\"Istanbul\",\"Romania\",\"Chile\",\"???????? ?????????.\",\"New York City\",\"Virginia, USA\",\"San Diego, CA\",\"Johannesburg \",\"Japan\",\"Honduras\",\"Washington, DC\",\"Alvin, TX\",null,\"Wilbraham, MA\",null,\"Jerseyville, IL\",\"New York City\",null,\"UK\",null,\"The Citadel, Oldtown, Westeros\",null,\"Trackside California\",null,null,\"New England\",null,null,null,\"Florida\",null,\"he/him or she/her (ask)\",\"Some pum pum\",\"Paulton, England\",\"Norway\",null,\"Thailand\",\"SEA Server\",\"Pretoria\",null,\"Nigeria\",null,\"todaysbigstock.com\",\"USA\",null,null,null,null,\"buenos aires argentina\",\"everydaynigerian@gmail.com\",\"Surulere Lagos,Home Of Swagg\",\"USA\",\"USA\",null,\"USA\",\"Montr\\u00cc\\u00a9al, Qu\\u00cc\\u00a9bec\",\"Montreal\",\"\\u00cc\\u00cfT: 6.4682,3.18287\",\"Live4Heed??\",\"Waco, Texas\",\"North Port, FL\",\"Bod\\u00cc\\u00fc, Norge\",\"Boise, Idaho\",\"In my studio\",null,\"USA\",\"Queens New York\",null,\"USA\",\"Illinois, USA\",\"Cuttack, Orissa\",null,\"USA\",\"Patra-Greece.\",\"All Around the World\",null,\"Valle Del Sol\",\"Georgia, USA\",\"New York NYC\",null,\"Hickville, USA\",\"Silesia, Poland\",\"Moscow\",\"Houston, TX\",null,null,null,\"Balikesir - Eskisehir\",\"Manchester, England\",\"Maldives\",\"??????? ??????? ????????\",null,null,\"Soul Somalia/Body Montreal\",\"Manchester, UK\",null,\"Yooooooo\",\"New York City\",null,\"Jersey\",\"\\u00cc\\u00cfT: 19.123127,72.825133\",\"London\",null,null,null,null,\"denver colorado\",\"Morioh, Japan\",null,\"Milton/Tallahassee\",\"Paname City\",\"Winston-Salem, NC\",\"Morioh, Japan\",null,\"K\\u00cc\\u00a6ln, Nordrhein-Westfalen\",\"Broomfield, CO\",\"Morioh, Japan\",\"Brasil,SP\",\"Ottawa,Ontario Canada\",\"Colorado\",null,\"Memphis,TN/ World Wide\",\"Brasil\",\"Worldwide\",null,null,null,\"Morioh, Japan\",\"In My Lab Creating \",\"Bronx NYC / M-City NY\",null,\"Bikini bottom\",\"back in japan ??????????\",null,\"Sharkatraz/Bindle's Cleft, PA\",\"Morioh, Japan\",\"Worldwide\",\"Northern Ireland\",\"New York, NY\",\"San Diego, CA\",\"Morioh, Japan\",\"Orlando, FL\",\"Sydney, Australia\",null,null,null,null,null,null,null,\"Bangalore. India\",null,null,null,null,null,null,null,null,null,\"New York\",null,null,\"Bangkok Thailand\",null,\"New York\",null,null,\"New York\",null,\"Brisbane.\",\"New York\",\"Geneva\",null,null,\"Manchester\",\"PG Chillin!\",\"Manchester\",null,null,\"REPUBLICA DOMINICANA\",null,null,\"FOLLOWS YOU everywhere you go\",\"Birmingham\",\"-?s?s?j??s-\",\"London\",null,null,\"Indonesia\\n\",\"The Meadow\",\"Bournemouth\",\"Brum/Lestah \",\"Dorset, UK\",null,\"Chester \",null,null,\"Banbridge\",\"Port Orange, FL\",null,\"probably petting an animal\",\"Chicago, IL\",null,\"Varies \",\"ACCRA GHANA\",\"Columbus\",null,\"St Joseph de Beauce\",null,\"Wasington, DC\",\"uk\",\"Seattle\",\"  News\",null,\"Newport, Wales, UK\",null,null,\"United States\",\"iTunes - RSS\",\"contactSimpleNews@gmail.com\",null,\"Washington, DC\",\"Upper manhattan, New York\",\"Las Vegas, Nevada\",\"Victoria, British Columbia\",\"Vancouver BC\",\"Devon/London \",\"Brasil\",\"ITALY\",\"Atlanta g.a.\",null,null,\"EVERYWHERE\",\"Washington DC\",\"Denver, CO\",null,null,\"Washington DC\",\"Mount Vernon, NY\",null,\"Jackson TN\",\"Los Angeles, London, Kent\",\"USA, Haiti, Nepal\",\"Portoviejo-Manabi-Ecuador\",null,null,\"chillin at ceder rapids\",null,\"Manila, Philippines\",\"en el pais de los arrechos\",null,\"Nigeria\",null,\"San Francisco\",\"Hinton, W.Va.\",null,\"Philadelphia, PA USA\",null,\"Naperville\",null,\"Lima, Peru\",\"In Your Notifications \",null,\"Fort Worth, Texas\",\"Dappar (Mohali) Punjab\",null,\"London\",\"los angeles\",\"Alexandria, VA\",\"Calgary, AB\",\"nearest trash can \",\"USA \",\"Atlanta\",null,\"Los Angeles, California\",\"Morocco\",\"Pedophile hunting ground\",null,\"U.S.\",\"Visit our  dedicated website @\",\"Asia Pacific   \",\"North Carolina\",null,\"Ojodu,Lagos\",\"New York City\",\"Seattle\",null,\"Kelowna, BC\",null,\"48.870833,2.399227\",\"Pedophile hunting ground\",\"Pedophile hunting ground\",\"Pedophile hunting ground\",\"Pedophile hunting ground\",\"San Francisco\",\"Oakland, CA\",\"Nigeria\",\"UK  & Germany\",null,\"Manila\",\"Magnolia\",\"Pedophile hunting ground\",\"New York\",null,null,\"(Spain)\",\"Nigeria\",\"new york\",\"Canada\",\"Palestine \",\"Na:tinixw / Hoopa, Berkeley\",\"United Kingdom\",\"USA (Formerly @usNOAAgov)\",null,\"Chappaqua NY and Redlands CA\",\"Spokane, WA\",\"NYC-LA-MIAMI\",null,\"Nigeria\",\"Okanagan Valley, BC\",\"San Francisco, CA\",\"Caribbean\",null,\"Canada\",\"San Francisco , CA\",\"Canada\",null,\"Charlotte, NC\",\"Orlando, FL\",\"USA (Formerly @usNOAAgov)\",\"Las Cruces, NM\",\"Meereen \",\"Football Field\",\"i luv raquel\",null,\"austin, texas\",null,\"Rock Hill, SC\",\"Philadelphia\",\"Macon, Georgia\",\"Ashxjonespr@gmail.com\",\"miami\",\"Los Angeles\",\"Abuja,Nigeria\",null,\"Los Angeles, CA\",\"At Work\",null,null,\"Waialua, Hawaii\",null,\"East Coast\",\"Coconut Creek, Florida\",null,\"icon: cheese3d\",\"@notoriousD12\",\"new york\",null,null,null,null,null,\"Morris, IL\",null,null,\"Portugal\",\"Lynwood, CA\",\"Where the money at\",null,\"mi\",\"Gainesville/Tampa, FL\",\"Saint Louis, Missouri\",null,\"it's a journey \",null,\"Jonesboro, Arkansas USA\",\"Layang-Layang, Perak\",\"somewhere in Indiana \",\"Inside your webcam. Stop that.\",null,null,null,\"Financial News and Views\",\"R'lyeh, South Pacific\",\"taking bath do not disturb\",\"Alberta, VA\",\"The Howling\",\"United Kingdom,Fraserburgh\",null,null,\"WorldWideWeb\",\"Dreieich, Germany\",\"Pembroke NH\",\"Bayonne, NJ\",\"Colorado Springs\",\"Dubai\",\"United States\",null,\"IG: AyshBanaysh\",\"fl\",null,\"Halfrica\",null,null,\"Jacksonville Beach, FL\",\"Melbourne\",null,\"San Francisco, CA\",\"Richmond Heights, OH\",\"New Hampshire\",\"U.S.A. - Global Members Site\",null,\"India\",null,\"Tampa\",\"All around the world!\",\"In The Mansion\",null,\"New York\",null,\"USA\",\"Numa casa de old yellow bricks\",\"Chicago, IL\",\"Coventry\",\"94123\",null,null,\"Hendersonville, NC\",\"New Jersey/ D.R.\",\"CT & NY\",null,\"scandinavia\",\"los angeles, ca\",\"South Korea GMT+9\",\"Baltimore, MD\",\"Hughes, AR\",\"Madison, WI\",null,null,\"University of Chicago\",\"Virginia, USA\",\"New York\",\"yorkshire\\n\",\"Coasts of Maine & California\",null,null,\"Pittsburgh \",null,null,\"Pennsylvania, USA\",\"San Diego, California\",\"Idaho\",\"Beirut, Lebanon\",null,\"El Paso, Texas\",\"qosqo\",\"Lubbock, TX\",\"CA via Brum\",null,null,null,\"Lizzy's Knee\",null,null,\"D(M)V  \",\"Marrakech M\\u00cc\\u00a9dina, Marrakech - Tensift - Al Haouz\",\"Ellensburg to Spokane\",null,\"SD |Norway| KSA\",null,null,\"A sofa\",\"CA via Brum\",\"\\u0089\\u00db\\u00a25\\u0089\\u00db\\u00a212\\u0089\\u00db\\u00a214\\u0089\\u00db\\u00a2 | \\u00e5\\u00c8#SaviourSquad\\u00e5\\u00c7\",\"Pocatello, ID\",\"Room 234\",null,\"Near Yosemite\",null,\"The Harbinger.\",\"Atlanta, GA\",\"CA via Brum\",\"Worldwide\",\"Atlanta, GA\",\"chicago\",null,\"Dutch/English/German\",\"ARGENTINA\",\"Earth\",null,\"Sydney\",null,null,\"California, USA\",\"oklahoma\",\"One World\",\"Desde Republica Argentina\",\"California, USA\",\"Earth\",\"Oklahoma City, OK\",null,\"T\\u00cc\\u00c1chira - Venezuela\",\"California, USA\",\"a box\",\"Melbourne, Australia\",\"Barcelona, Spain\",\"Hawaii, USA\",\"New Zealand\",null,\"Alaska, USA\",\"ARGENTINA\",null,\"Okuma Town, Fukushima\",null,\"rzl ?\",null,null,\"Desde Republica Argentina\",\"Orm\",\"in the Word of God\",\"#keepthefaith J&J\",\"Global Edition\",\"London\",\"Seattle, WA\",\"world\",\"Saline, MI\",\"Here.\",null,null,\"BOT ACCOUNT\",null,\"#otrakansascity\",\"Dalkeith, Scotland\",\"Durand, MI\",\"Naperville\",null,\"Forging my Story\",null,null,null,\"Mass\",\"14/cis/istj \",null,null,\"Michigan \",null,null,\"Here.\",\"where I'm supposed to be\",\"Kutztown, PA\",\"London\",\"Budapest, Hungary\",\"Texas, USA\",\"CA\",\"Houston, TX\",\"Cairo, Egypt.\",\"South Africa\",null,null,\"Karachi Pakistan\",null,null,null,null,null,\"New York\",\"Edinburgh\",\"HTX\",null,\"USA\",\"not so cool KY\",null,\"North Carolina\",null,\"Hampshire UK\",\"Oblivion?\",\"South West, England\",null,\"?????\",\"Redondo Beach, CA\",\"Newcastle, England\",\"nyc\",null,\"Planet Eyal, Shandral System\",\"Karachi Pakistan\",null,\"Mumbai, Maharashtra\",\"Atlanta\",null,null,null,null,\"Michigan\",\"New York\",null,\"New Orleans, LA\",\"New York\",\"Columbus ?? North Carolina\",\"USA\",\"Phoenix\",\"denmark\",\"Davao City\",\"Based out of Portland, Oregon\",\"Kuwait\",\"Wildomar, CA\",null,\"buhh\",\"New York\",\"Indianapolis, IN\",\"We are global!\",null,null,\"Adelaide\",\"Anchorage, AK\",\"World\",null,\"University of Limerick\",null,\"Sacae Plains\",\"Melbourne, Australia\",\"Southern Maine\",null,\"Five down from the Coffeeshop\",\"Renfrew, Scotland\",null,null,null,\"Kuala Lumpur, Malaysia\",null,\"Antioch, CA \",null,\"Alexandria, VA, USA\",\"Ireland\",\"Calgary, AB\",\"Reddit\",\"Nashville, TN\",\"Bakersfield, CA\",\"Calgary, Alberta, Canada\",\"Somewhere in the Canada\",\"Nagpur\",\"Los Angeles, CA\",\"Surrey & Manchester\",\"Calgary,AB, Canada\",null,\"Calgary\",\"Fort Myers, Florida\",\"Atlanta, GA\",\"Im In Route \",\"Madison, WI\",\"Kansas City\",\"North Hastings Ontario\",\"U.S. Northern Virginia\",\"M!$$!$$!PP!\",\"Indiana\",\"Los Angeles\",\"Cochrane, Alberta, Canada\",\"Leduc, Alberta, Canada\",null,\"Chapel Hill, NC\",null,\"204, 555 11 Ave. S.W.\",\"Calgary\",\"Augusta, GA\",\"Dallas, TX\",null,\"London\",null,\"Torrance, CA\",\"USA, Alabama\",\"Olympia, WA\",\"London, UK\",null,null,\"CA, AZ & NV\",\"British Columbia, Canada\",\"Auckland\",null,\"Orange County, NY\",\"Henderson, Nevada\",\"Los Angeles, CA\",\"Vancouver, British Columbia\",\"London, England\",\"USA\",\"Nevada, USA\",null,\"Alaska\",\"Whippany, NJ\",\"Seattle, WA\",\"Sydney, New South Wales\",\"Olympia, WA\",\"Kodiak, AK\",\"Los Angeles, CA\",\"?????\",\"Sydney\",\"Birmingham, England\",\"Park Ridge, Illinois\",\"Los Angeles, CA\",\"Fredonia,NY\",null,null,null,\"Glendale, CA\",null,\"Kuwait \",null,\"Fleet/Oxford, UK\",null,\"UK\",\"Bahrain\",\"Coventry\",null,null,null,\"Newcastle\",\"@ ForSL/RP\",\"Rochester, NY\",null,\"California\",null,\"Nevada (wishing for Colorado)\",\"Kokomo, In\",null,\"london\",null,\"USA\",\"Kenosha, WI 53143\",null,null,null,null,\"Coventry\",\"London\",null,\"London/Surrey \",null,\"Charlotte, NC\",\"San Diego\",\"Charlotte, NC\",\"Lagos\",\"CLT\",\"Africa\",\"San Diego\",null,null,\"Cydia\",null,null,\"Tallahassee Florida\",null,\"New England\",\"Waterloo, Ont\",null,null,\"Worldwide\",\"17-Feb\",\"Brisbane\",\"New Britain, CT\",null,null,null,null,null,\"Chevy Chase, MD\",\"LA - everywhere\",\"wrapped arnd hyuk's finger\",\"Sevier County.\",null,\"Rochester\",null,\"Gold Coast, Qld, Australia\",null,null,\"London UK\",\"Nashville\",\"FLYEST HIPPIE YOU KNOW \",\"U.S.A\",\"An eight-sided polygon\",null,\"Konoha Village\",\"St. Catharines, Ontario\",\"//??//\",\"FSC '19\",\"\\u0089\\u00db\\u00a2901\\u0089\\u00db\\u00a2\",\"London, England\",null,null,\"Chicago, IL\",\"Gold Coast\",\"Portland, Oregon\",\"Portland, Ore. \",\"Florida\",null,\"North West England UK\",\"Denver, Colorado\",\"Manchester, UK\",\"Midwest\",\"Manchester UK\",\"TV5, Philippines\",\"Hackney, London\",\"Nashville, TN\",null,\"Queensland, Australia\",null,\"Harpurhey, Manchester, UK\",\"Portland, Oregon\",\"Benton City, Washington\",\"Manchester\",\"Chicago, but Philly is home\",null,null,\"Breaking News\",\"seoul\",null,\"WA State\",\"Hensley Street, Portland\",null,\"MIchigan\",\"West\",null,\"Everywhere\",\"Gold Coast, Australia\",null,\"Portland, Oregon\",null,\"Washington\",\"Eureka, California, USA\",\"Lagos, Nigeria\",null,null,\"Sydney Australia\",\"Bend, Oregon\",\"Bend, Oregon\",null,\"Chevy Chase, MD\",\"Na:tinixw / Hoopa, Berkeley\",\"USA\",\"Minna, Nigeria\",\"EIU  Chucktown/LaSalle IL\",\"UK\",\"Northern California U.S.A.\",\"Yellowknife, NT\",\"Bend, Oregon\",\"Renfrew, Scotland\",\"sydney, australia\",\"United States\",\"\\u00cc\\u00cfT: 43.631838,-79.55807\",\"Yellowknife\",\"US: 44.414510,8.942499\",\"Tri-Cities, Wash.\",\"Bend, Oregon\",\"Portland, Ore. \",null,null,\"The Empire/First Order\",\"Brisbane, Queensland\",\"USA\",\"Moncton, New Brunswick\",\" |IG: imaginedragoner\",null,null,\"London / Berlin / Online\",\"Williamsburg, VA\",null,\"emily | helen | shelley \",\"New Orleans, Louisiana\",\"Yamaku Academy, Class 3-4\",null,\"Australia\",\"Spring Grove, IL\",\"The Windy City\",null,\"Washington, D.C.\",\"Oklahoma City, OK\",\"Bloomington, IN\",null,\"Yamaku Academy, Class 3-4\",\"United States\",\"Whitby, ON\",null,\"Kajang ? UiTM Puncak Alam\",\"Dallas, TX\",null,null,\"? Philly Baby ?\",\"Cleveland, TN\",\"they/them\",null,\"my deli\",null,null,null,null,\"Winnipeg\",\"New Hampshire\",null,null,\"Trost District\",\"?????? in Yokohama Japan\",\"London\",\"LFC x GSW\",null,null,\"Chicago, IL\",\"Elmwood Park, NJ\",\"USA\",null,\"Australia\",\"South east of U.K\",null,null,\"USA\",null,null,\"lrhcthband;four - bournemouth\",\"Oakland, Ca\",\"Antigua ?? NYC \",\"Jamaica\",\"zboyer@washingtontimes.com\",null,\"Wonderland\\u0089\\u00db\\u00d3 ?????? ???? ??????\",null,null,\"elizabeth king\",\"Germany\",null,null,null,null,\"New York\",\"London, UK\",null,null,null,\"London, United Kingdom\",\"Germany\",null,\"Chicago Heights, IL\",null,null,null,\"S.F. Bay area\",null,\" Blood Indian Reserve\",null,null,null,\"Columbus, OH\",\"Chicago, IL\",\"On the toilet having a dump \",null,\"City of London, London\",null,null,\"New York\",\"New York\",null,null,\"Florida\",\"Long Island, NY\",null,null,\"New York\",\"Palestine Texas\",null,null,null,\"Kauai, Hawaii\",null,\"East London. \",null,\"Rhode Island\",\"Jammu and Kashmir\",\"canada\",null,\"United States\",null,\"Terlingua, Texas\",\"Chicago, IL\",\"Somewhere in Jersey\",\"Stay Fly?\",null,null,\"india\",\"Philippines\",\"Orlando, Fl\",\"Bakersfield, California\",\"Washington, DC\",\"Los Angeles... CA... USA\",null,null,\"UK\",null,\"Pennsylvania\",null,\"South Africa\",null,\"Orlando, Fl\",\"New York, NY\",\"South Africa\",null,\"Florida but I wanna be n Texas\",\"New York, USA\",\"Kyiv, Ukraine\",null,null,\"JamDung\",\"Panam\\u00cc\\u00c1 \",null,null,\"Washington, D.C.\",\"Earth, Milky Way, Universe\",null,null,\"Edappally,Kochi\",\"Texas\",\"In #Fairie, where else? ;-)\",null,\"Massachusetts\",null,\"Ukraine\",null,\"???? ???????\",null,\"United States\",\"Ireland\",\"San Francisco\",null,\"Rogersville, MO\",\"Tampa, FL\",null,\"Ukraine\",null,null,null,\"Telangana\",\"Chatham, IL\",null,\"Charter Member of the VRWC\",null,\"Wood Buffalo, Alberta\",\"\\u00cc\\u00cfT: 10.614817868480726,12.195582811791382\",null,\"Anchorage, AK\",\"Nakhon Si Thammarat\",\"Somewhere with Clyde\",\"Buffalo, NY\",\"Quincy\",\"Winnipeg\",\"Fresno, CA\",\"Varanasi\",\"Laredo, TX\",\"Thane\",\"New South Wales, Australia\",null,\"Poconos\",\"Sacramento, CA\",\"Haddonfield, NJ\",null,\"Southern California\",null,null,\"Jaipur, Rajasthan, India\",\"??? ???? ??????\",null,\"Bangalore\",null,\"Also follow ?\",null,\"Play For Ryan ??\",null,\"Dimapur\",null,\"In the potters hands\",null,null,null,null,\"New York\",\"New York City ,NY\",null,\"Corpus Christi, Texas\",\"Cape Town\",null,\"Wolverhampton/Brum/Jersey\",\"Chamblee, Georgia\",\"Official Website\",\"#WashingtonState #Seattle\",\"TechFish \",\"Washington, DC & Charlotte, NC\",null,\"United States where it's warm\",null,\"Washington, DC\",\"Hope Road, Jamaica \",\"jersey \",null,\"WestEnd, Puritan Ave \",null,\"Youngstown, OH\",null,\"Nantes, France\",\"St. John's, NL, Canada\",\"Caserta-Roma, Italy \",\"Pekanbaru\\u00e5\\u00a1Batam Island\\u00e5\\u00a1Medan\",\"oman muscat al seeb \",\"San Francisco\",\"Wisconsin\",null,\"Jogja, Indonesia Slowly Asia\",\"Vancouver BC\",null,\"USA\",null,\"Avon, OH\",null,\"The North\",\"Philadelphia, PA\",\"Just Happy to Be Anywhere\",null,\"Lima, Ohio\",\"Ireland\",\"Lowell, MA\",\"playing soccer & eating pizza\",null,\"NY\",\"Hueco Mundo\",null,\"Nairobi\",\"Boston \\u0089\\u00db\\u00a2 Cape Cod ?\",null,\"Rafael castillo\",null,\"New Jersey\",\"Fort Wayne, IN\",\"Enterprise, NV\",null,null,\"434\",\"Grand Rapids MI\",\"U.S.A\",\"434\",\"New York \",\"Utica NY\",null,null,\"Nunya\",\"Houston, TX  \",\"USA\",null,\"TX\",\"Christiana,Tennessee\",\"Nashville, TN\",\"Bishops Stortford, England\",\"Earth \",\"Brentwood, NY\",null,\"Honduras\",null,\"Chippenham/Bath, UK\",null,\"Yewa zone\",\"sitting on the fence, New York\",null,null,\"Carregado\",\"Largo, MD\",null,\"mexico\",\"Cape Town, Khayelitsha\",\"Florida\",\"Indianapolis, IN\",null,null,\"Stanford University\",\"Midwestern USA\",\"Bedford IN \",null,\"Thibodaux, LA\",null,\"Brazil\",\"In the moment\",null,null,\"Alliston Ontario\",null,\"SaudI arabia - riyadh \",\"New York. NY\",\"Athens - Nicosia\",null,\"Southern California\",\"Bremerton, WA\",\"Tulalip, Washington\",\"Indonesia\",\"Halifax\",\"Hilton Head, SC  \",\"New York\",\"St. Louis, MO\",\"USA\",null,\"S\\u00cc\\u00a3o Paulo\",null,null,\"2 high 2 come down \",null,\"Wrex\",null,\"big boy \\u0089\\u00db\\u00a2 0802\",null,null,null,\"Brooklyn\",\"Canada\",\"To The Right of You!\",\"St.Cloud, MN\",null,null,\"on a catwalk somewhere\",\"  \\u00e5_ \",\"Zac Newsome loves me\",\"louisville, kentucky\",null,null,\"Makai\",\"Fort Valley,GA/Fayetteville,AR\",\"Arizona\",null,\"Vancouver, BC\",\"Newark, NJ\",\"the road to success\",\"The Desert\",\"Sydney, Australia\",\"Yuba City, CA\",null,\"University of South Florida\",null,\"the moon\",\"Niagara Falls, Ontario\",\"Woodcreek HS, Roseville, CA\",\"United States\",null,null,\"Here & There\",\"District 12 - Orange County\",\"Plain O' Texas\",\"SouthEast Asia\",null,null,null,null,\"Saipan, CNMI\",\"Orange County, Calif.\",\"lost in my thoughts\",null,\"Five down from the Coffeeshop\",\"Los Angeles\",\"Orange County, CA\",\"Five down from the Coffeeshop\",null,\"Tallahassee, FL\",null,\"Laguna Beach, Calif. \",\" Nevada Carson City,Freeman St\",null,\"LA ??\",null,null,null,null,\"Aracaju - Sergipe\",null,\"Nashville, Tennessee\",\"Texas\",\"Long Eaton \\u00e5\\u00e1 Derbyshire \\u00e5\\u00e1 UK\",\"WorldWide\",null,\"Portage, IN / Worldwide\",\"Victoria, BC  Canada\",null,\"Roads/Trails Everywhere\",\"New York City\",\"Nashville, TN\",null,\"Liberty Township, Ohio\",\"Aberdeenshire\",\"Los Angeles, CA\",\"A Hoop Somewhere\",\"Michigan\",\"Bloomington, Indiana\",\"USA\",null,\"Washington, DC\",null,\"Basking Ridge, NJ\",\"Stalybridge, Tameside\",null,\"Sacramento, CA\",\"Franklin, TN near Nashville\",\"St. Louis, Missouri\",\"Bandung\",\"New York\",\"New York\",\"Louisville, KY \",null,\"Manhattan, NY\",\"Freeport Ny\",\"650/559\",null,\"dreamy lake\",null,\"houstn\",\"hell\",\"Asheville, NC\",\"New York\",\"St. Patrick's Purgatory\",null,\"@cockerelshoes\",\"United States\",\"manaus\",\"Sioux Falls, S.D. \",null,\"Republica Dominicana\",\"Eastlake, OH\",\"Hillsville/Lynchburg, VA\",\"U.S.A\",\"Some where\",\"Travelling around the world \",\" 616 \\u0089\\u00db\\u00a2 Kentwood , MI \",null,null,\"? Jet Life ?\",\"Fairy Tail! \",\"Santo Domingo Alma Rosa \",\"Somewhere Around You\",\"Houston |??| Corsicana\",\"Cincinnati, OH\",\"Bacon\",null,\"Some other mansion\",\"Chicago\",\"Astley, Manchester\",\"Bow, NH\",\"Leicester\",\"Frome, Somerset, England\",\"Mars\",\"Melbourne, Victoria\",\"UK\",\"Essex, England\",\"new york, ny\",\"somewhere too cold for me\",\"Barbados\",null,\"Leeds\",\"Wahpeton, ND\",null,\"Chorley, Lancashire, UK\",null,null,\"Northampton, MA\",\"Ventura\",\"Le Memenet\",\"Lubbock, Texas\",\"Derby\",\"Mississauga, Ontario\",\"Delhi \",\"Keighley, England\",\"Pomfret/Providence\",\"Baltimore, MD\",null,\"East Lansing, MI\",\"Rocketing through the galaxy\",\"New York\",\"boston\",\"United States\",\"New York\",\"New York\",\"Warrandyte, Australia\",\"British Columbia, Canada\",null,null,\"Aix-en-Provence/Utrecht\",\"Philadelphia\",\"New York\",\"Van Buren, MO\",\"New York\",\"New York\",\"Niagara Falls, Ontario\",\"USA\",null,\"Hawaii USA\",\"New York\",\"New York\",null,null,\"New York\",\"USA\",\"United States\",\"New York\",\"New York\",\"New York\",\"United States\",null,\"New York\",\"USA\",\"Waddesdon\",\"Knoxville, TN\",\"New York\",\"Rock Springs, WY\",\"Vietnam\",\"Tampa-St. Petersburg, FL\",null,\"USA\",\"Huntsville, Alabama\",\"Nova Scotia, Canada\",null,\"Metro Manila\",null,\"Breaking News\",\"Jakarta/Kuala Lumpur/S'pore\",\"UK\",null,\"Vietnam\",null,\"I ACCEPT SONG REQUESTS\",\"Honolulu, Hawaii\",null,\"Miami Beach, Fl\",\"Republic of Texas\",\"California, USA\",\"Huntsville AL\",\"? \",\"don't run\",\"West Midlands\",\"Jakarta/Kuala Lumpur/S'pore\",null,\"Global-NoLocation\",null,\"Jakarta/Kuala Lumpur/S'pore\",\"Ocean City, NJ\",null,\"belleville\",\"Kualar Lumpur, Malaysia\",\"Austin, TX\",null,\"Nadiad ,Gujarat , India!!\",\"South of D.C.\",null,\"Adventist - Lesson Sabbath\",\"Australia\",null,\"Passamaquoddy\",\"\\u0089\\u00db\\u00a2III.XII.MMXI\\u0089\\u00db\\u00a2\",\"Sherwood, Brisbane, Australia\",\"canada\",\"Michigan\",\"london\",null,\"California\",\"Global-NoLocation\",null,\"Estados Unidos\",\"New Jersey\",\"New York, NY\",\"Timaru District, New Zealand\",\"Cameroon\",\"St Austell, Cornwall\",\"Ogba, Lagos, Nigeria\",\"Philippines\",null,\"North America\",\"Earth\",null,null,\"New York, USA\",null,null,null,null,\"21.462446,-158.022017\",\"Rio de Janeiro\",null,null,\"PDX\",\"Shelby County\",null,\"port matilda pa\",\"Concord, N.C.\",\"Redding, California, USA\",null,null,\"Slatina,Romania\",\"Redding, California, USA\",null,\"Asheville, NC\",null,null,\"Los Angeles for now\",\"????????????\",\"Western Washington\",\"Atlanta\",null,null,null,\"alberta, canada\",\"Washington, D.C.\",null,null,\"Montana \",null,null,null,null,\"San Francisco\",\"Cape Cod\",null,\"Nicola Valley\",\"Tips on my blog at\",\"Boise, Idaho\",null,null,\"Duncan\",null,\"Texas \",null,null,\"Based in CA - Serve Nationwide\",\"Portland, Oregon\",\"Vancouver, BC\",\"Lansdale,Pennsylvania\",null,null,\"Sacramento, CA\",\"Carol Stream, Illinois\",null,null,\"Calgary/Airdrie/RedDeer/AB\",\"United States\",\"Hattiesburg, MS\",\"Arkansas\",\"United States\",null,\"Dagenham, Essex\",\"Inside the Beltway (DC Area)\",null,\"USA\",\"Florida, USA\",\"Windsor,Ontario\",null,\"Brasil, Fortaleza ce\",null,\"Paradise City\",\"Rapid City, South Dakota\",\"antoine fisher \",\"Between Dire and Radiant\",null,\"Calgary, AB\",\"Calgary\",null,\"Indianapolis, IN\",null,\"United States\",\"Bay Area, CA\",\"Las Vegas, Nevada\",\"Global\",\"Watch Those Videos -\",\"Tulsa, Oklahoma\",\"United States\",\"Calgary, AB\",\"USA\",\"Ab, Canada\",\"Newton Centre, Massachusetts\",\"Kicking Horse Pass\",null,\"far away\",\"Calgary, Alberta\",null,\"Calgary\",\"Suginami-ku, Tokyo, Japan\",\"Washington State\",\"Somewhere \",\"Massachusetts\",\"Heaven\",\"Calgary, Alberta\",null,null,\"Calgary, Canada\",\"Virgo Supercluster\",null,\"facebook.com/tradcatknights\",\"Wyoming, MI (Grand Rapids)\",\"Iliff,Colorado  \",\"Dicky Beach\",null,\"far away\",\"Not Los Angeles, Not New York.\",\"Heaven\",null,\"Calgary, Alberta\",\"Calgary, AB, Canada\",\"Global\",\"Massachusetts, USA\",null,null,\" Queensland, Australia\",\"Kansas City\",\"Cleveland, OH - San Diego, CA\",null,\"The barn\",\"where the wild things are\",\"?semekeepschanging@soyeh?\",\"Kansas City\",null,\"Buffalo, NY\",null,\"i love you zayn\",\"Gotham City\",\"Seattle, WA\",\"WORLD WIDE\",null,null,\"TX\",\"England \",\"Sumter, SC\",\"Someday I'll live in England. \",\"Hogsmeade\",\"5/5 access / rt link please x\",\"\\u00e5_: ?? \\u00cc\\u00d1 ? : ?\",\"10-Jul\",null,\"Kansas City\",\"The South & WestCoast \",\"Hogwarts\",\"va\",null,\"Portland, OR\",null,\"?@symbolicjensen?\",null,\"Los Angeles, California\",\"Contoocook Valley Region of Ne\",null,\"Australia\",null,\"Alameda, CA\",\"London, England\",\"Arizona\",\"Lancashire, United Kingdom\",\"a van down by the river\",null,\"NIFC\",\"Giddy, Greenland\",null,null,\"Chicago\",\"Roppongi, Minato, Tokyo \",null,null,\"Pleasanton, CA\",null,\"Portsmouth, VA\",\"scandinavia\",null,\"Kenya\",\"Chicago, IL\",\"Dil's Campsite\",\"Massachusetts\",null,null,null,null,\"UK\",null,\"ilford\",null,\"Nashville, Tn\",\"SWinfo@dot.state.al.us\",\"USA\",null,null,null,\"United States\",\"Far Away From Home\",null,null,\"British Columbia, Canada\",null,null,null,\"Gainesville, FL\",\"United States\",\"Muntinlupa City, Philippines\",\"United States\",\"Muntinlupa City, Philippines\",null,\"Oregon, USA\",null,null,\"Memphis, TN\",null,\"???\",\"Mysore, Karnataka\",null,null,\"Portland, OR\",\"Canada\",\"New Delhi, Delhi\",null,\"United States\",\"British Columbia, Canada\",\"Fort Worth,  Texas \",null,\"USA\",\"Greenfield, Massachusetts\",null,null,null,\"Karachi, Pakistan\",\"London, Riyadh\",null,\"Crayford, London\",\"Arnhem, the Netherlands\",\"Pacific Northwest\",\"Somewhere in Spain\",null,\"Jackson, MS\",\"State College, PA\",\"Frisco, TX\",null,\"Malaysia/Jordan\",null,\"Somewhere out there\",null,\"USA\",\"International Action\",null,\"Oklahoma City, OK\",\"Planet of da Bathing Apes\",\"Maricopa, AZ\",\"liverpool \",\"Albuquerque New Mexico\",null,\"New York Brooklyn\",\"Nebraska, Colorado & The GLOBE\",\"Rheinbach / Germany\",null,null,null,\"Riyadh\",\"UK\",\"jeddah | Khartoum\",\"United Hoods of the Globe\",\"Jubail IC, Saudi Arabia.\",null,null,null,null,\"Colorado\",null,null,\"Denver, Colorado\",\"?????? ??? ?????? ????????\",\"Right next to Compton\",\"11th dimension, los angeles\",\"Denver, Colorado\",null,null,null,null,\"570 Vanderbilt; Brooklyn, NY\",\"??????????? ???????????..? \",null,null,\"Denver, Colorado\",\"?????? ???? ??????\",null,\"Silvermoon or Ironforge\",\"Charleston, WV\",\"Denver, Colorado\",\"Colorado\",null,\"Benicia, CA \",\"Riyadh ')\",\"Houston TX\",\"Innerhalb der L\\u00cc_cke\",null,\"New York, NY\",\"Kansas City, MO\",null,null,null,\"Nigeria\",\"Nigeria \",null,\"Port Harcourt, Nigeria\",\"eating strawberry shitsickles\",\"Lagos Nigeria\",null,\"Nigeria\",null,\"Maryland\",null,\"Lagos, Nigeria\",null,null,\"Near Richmond, VA\",\"Nigeria\",\"Worldwide\",\"Nigeria\",\"Kolkata\",\"am everywhere\",null,\"Miami, Florida\",null,\"NIGERIA\",\"Oregon, USA\",null,\"San Francisco\",\"San Francisco Bay Area\",\"Louisville, KY\",\"Southern California\",\"Sarasota, FL\",null,null,\"Washington state\",null,\"Fort Collins, CO\",\"Halifax\",null,\"USA\",null,null,\"West Chester, PA\",null,null,\"Sacramento, CA\",null,\"Free State, South Africa\",\"California \",null,\"California \",\"worldwide\",\"Fresno, California\",\"worldwide\",\"RSN: Tru\",null,null,null,\"El Paso, TX\",null,null,null,\"South Pasadena, CA\",\"perth, australia \",\"Mongolia\",\"brisbane, australia\",\"China\",\"World\",\"Chiyoda Ward, Tokyo\",\"rome\",\"Athens,Greece\",\"EastCarolina\",\"Brazil\",\"IN our hearts  Earth Global \",null,null,\"France\",null,null,\"tokyo\",\"china\",null,null,null,\"Brazil\",\"between ideas & 3-5pm AEST\",null,\"Japan\",\"Malaysia\",\"Zimbabwe\",null,null,null,null,\"Vancouver, British Columbia\",null,\"Starling City\",\"The Great State of Maine \",null,\"Glenview to Knoxville \",\"Indiana\",null,\"Roaming around the world\",null,null,\"????\",null,\"Cape Neddick, ME\",\"Global\",\"Mariveles, Bataan\",\"\\u00cc\\u00cfT: 40.562796,-75.488849\",\"Roaming around the world\",null,\"Melbourne, FL\",\"New Chicago\",null,null,\"San Francisco Bay Area\",\"Australia \",null,\"Victorville, CA\",\"Washington D.C.\",null,\" Eugene, Oregon\",\"THANJAVUR\",\"Japan\",\"Las Vegas, NV\",null,\"Cumming, GA\",\"westwestwestwestwestwestwest\",null,\"Midwest\",\"NYC metro\",\"Tennessee\",null,null,null,\"Heathrow\",null,null,null,\"OK\",null,\"Tampa, Fl\",\"TonyJ@Centralizedhockey.com\",\"Cleveland, OH\",\"Pune, Maharashtra\",\"cuba\",\"china\",\"Rocky Mountains\",null,\"Germany\",null,\"Brazos Valley, Texas\",null,null,null,\"EastCarolina\",\"china\",\"The Universe\",null,null,\"#BlackLivesMatter\",\" Miami Beach\",\"#1 Vacation Destination,HAWAII\",null,\"Haiku, Maui, Hawaii\",null,null,\"NAWF SIDE POKING OUT \",\"New York\",\"Berlin - Germany\",\"Vineyard\",null,null,\"@potteratthedisc\",\"Anderson, SC\",\"The Epicenter, and Beyond\",\"Books Published, USA\",null,\"??? ??? ????? ??? ???.\",null,\"Somewhere Powerbraking A Chevy\",\"Mexico City\",null,\"New York\",\"Berlin - Germany\",\"USA\",null,null,null,\"The Globe\",\"Chicopee MA\",null,null,null,null,\"NYC\",null,\"Srinagar,Kashmir\",\"DFW, Texas\",\"Piedmont Triad, NC\",\"MD\",\"Florida\",\"Paterson, New Jersey \",\"Kolkata\",null,null,\" Tropical SE FLorida\",null,null,\"Worldwide\",\"Ikorodu\",\"Lucknow, India\",\"london\",\"Sacramento, CA\",null,\"Doghouse\",null,\"Mumbai\",\"someplace living my life\",\"USA\",null,\"Nigeria\",\"Bronx NY\",\"World Wide Web\",\"Centurion \",null,null,null,\"India\",\"Bronx NY\",\"Avon\",\"India\",\"??\",\"Orlando,FL  USA\",\"North London\",\"come here in 20 minutes for an ass kicking\",\"Emirates\",\"Milton Keynes, England\",\"Scottsdale. AZ\",\"Tennessee\",null,\"Saskatchewan, Canada\",null,\"Toronto\",\"North West London\",null,\"Rockland County, NY\",\"Atlantic Highlands, NJ\",\"Sutton, London UK\",\"Alameda and Pleasanton, CA\",null,\"Madison, WI & St. Louis MO\",\"Bay Area\",\"California or Colorado\",\"Mesa, AZ\",\"Carterville\",\"Corpus - Las Vegas - Houston\",\"Spring Tx\",\"Toronto\",\"Georgia, U.S.A.\",\"Moncton, New Brunswick\",null,null,\"Riverview, FL \",\"California\",null,\"beijing .China\",null,null,\"Somewhere in China.\",\"Houston, TX\",\"Sacramento, CA\",\"Peru\",null,\"Los Angeles, California\",null,\"Cambridge, Massachusetts\",null,\"Lahore\",\"Saint Paul\",null,null,null,\"Los Angeles\",\"Shah Alam,Malaysia\",\"Dubai, UAE\",\"\\u00cc\\u00cfT: 35.223347,-80.827834\",null,null,null,\"Plano, Texas\",\"mnl\",null,null,\"Dallas, TX\",\"Louisiana\",\"Nairobi , Kenya\",\"California\",\"Dallas, TX\",null,\"Russia\",null,\"Baltimore\",\"Ireland\",\"England & Wales Border, UK\",\"Zeerust, South Africa\",\"Seattle\",\"Boston, Massachusetts\",\"Bristol\",\"Ireland\",\"The Main \",\"The windy plains of Denver\",\"Sunbury, Ohio\",\"Sunnyvale, CA\",\"Land of Lincoln\",null,\"Kenya\",\"Australia\",null,\"NYC&NJ\",\"swindon\",\"Croydon\",\"Asia\",\"Coventry\",null,\"Toronto, ON, Canada\",\"Singapore\",\"Manchester, England\",\"San Jose, CA, USA\",\"UK, Republic of Ireland and Australia\",\"Milton keynes\",\"Pontefract UK\",\"the Dirty D\",\"United States\",null,\"Paducah, KY\",\"Maryland\",null,\"Asia European Continent Korea \",null,null,\"Athens, Greece\",null,\"Proudly Canadian!\",\"Cascadia\",\"County Durham, United Kingdom\",null,null,\"Melbourne, Australia\",null,null,null,\"Roanoke, VA\",\"Dundee, UK\",\"Texas\",\"New York City\",\"Austin, Texas\",\"London\",\"Detroit Tigers Dugout\",\"USA\",\"st.louis county missouri \",\"Europe\",\"Scotland\",\"Detroit/Windsor\",null,\"Dundee\",\"Indiana\",\"Edinburgh\",null,null,null,\"UK\",\"EGYPT\",\"The Circle of Life\",null,null,null,null,\"i got 1/13 menpa replies, omg\",null,null,\"Pocatello, Idaho\",\"Los Angeles, CA\",\"Nashville, TN\",\"probably watching survivor\",null,\"Medan,Indonesia\",\"Santa Maria, CA\",null,null,null,\"??9?\",null,\"Colombia\",\"Oklahoma, USA\",null,\"Jakarta\",null,\"Newark, NJ\",\"USA\",\"Chicago, Il\",\"LA\",\"Clayton, NC\",null,\"Bandar Lampung, Indonesia\",\"Venezuela\",\"San Jose, CA\",\"Indonesia\",\"Madison, WI\",\"buffalo / madrid / granada\",\"USA\",\"HI\\u0089\\u00db\\u00a2UT\\u0089\\u00db\\u00a2AS\",\"di langit 7 bidadari (^,^ )\",null,\"Vancouver, BC\",null,\"Coventry, UK\",\"Seattle, WA\",\"Georgia\",\"Norman, Oklahoma\",\"Rapid City, Black Hills, SD\",\"USA\",\"Memphis, in the Tennessees\",\"Greensboro, North Carolina\",null,null,null,\"Leesburg, FL\",\"Rotterdam, The Netherlands\",\"Greensboro, North Carolina\",\"Victoria, BC\",\"winston-salem north carolina\",null,null,\"Leesburg, FL\",\"Elchilicitanierraversal \",\"(RP)\",\" 45\\u00e5\\u00a1 5'12.53N   14\\u00e5\\u00a1 7'24.93E\",null,\"USA\",null,\"Reddit \",\"Asheboro, NC\",\"Holland MI via Houston, CLE\",\"Reddit \",\"State College, PA\",\"SoDak\",\"Waverly, IA\",\"Kenya\",\"Kenya\",null,null,\"Kenya\",\"Why should you know?\",\"Kenya\",\"Kenya\",\"Kenya\",null,null,\"Kenya\",\"Philadelphia, PA \",\"Photo : Blue Mountains \",\"Bedford, England\",\"Kenya\",\"Aperture Science Test Facility\",\"Wandsworth, London\",\"Kenya\",\"Kenya\",\"im definitely taller than you.\",\"Kenya\",\"Kenya\",\"london essex england uk\",\"Kenya\",\"{Detailed}\",\"Kenya\",null,\"Fairgrounds Resident\",\"English Midlands\",\"Kenya\",null,\"Kenya\",null,\"Victoria, Australia, Earth\",\"Antarctica\",\"Magnolia, Fiore \",\"New Sweden\",\"Victoria, Australia, Earth\",\"New York\",\"cereal aisle #17:i4\",\"Los Angeles\",\"i'm a Citizen of the World\",null,\"Leicester, England\",null,\"Melbourne, Australia\",null,null,\"Anonymous\",null,\" Queensland, Australia\",\"Everywhere\",null,\"Anonymous\",\"Realville\",\"Anonymous\",\"New Sweden\",\"by a piano probably. \",\"Fiore, Lamia Scale\",null,\"Chattanooga TN\",\"Nashville, TN\",\"Birmingham, England\",\"Huntsville, AL\",null,\"Auckland\",\"Haysville, KS\",null,\"Seattle\",null,\"Earth-616\",\"USA\",\"California, USA\",\"wisco\",null,null,null,\"San Diego, CA\",null,\"Leaving Bikini Bottom\",\"Tennessee, USA\",null,\"Haysville, KS\",\"Eww, I'm not Paul Elam\",\"Huntsville, AL\",\"Hemel Hempstead\",\"Chester Football Club\",\"Fresno\",\"Earth\",\"West Hollywood, CA\",null,\"ANDY 4 LEADER X\",null,\"Hell\",\"Haysville, KS\",\"Tama, Iowa\",null,\"Dundee\",null,null,\"Minneapolis - St. Paul\",\"Las Vegas aka Hell\",null,\"Ashburn, VA\",\"St. Louis, Mo\",\"Vancouver Canada\",null,null,\"Colorado\",\"Kingston, Jamaica\",null,null,null,\"Nottingham, England\",\" The World\",\"Own planet!!\",null,\"Vancouver, BC, Canada\",null,\"Ireland\",\"Ecuador\",\"London, UK\",null,\"Stay Tuned ;) \",\"Cimerak - Pangandaran\",null,null,null,\"Cottonwood Arizona\",null,null,\"London\",\"India\",\"Norway\",null,\"Wausau, Wisconsin\",null,\"Orlando, FL\",\"Raleigh, NC\",\"BOSTON-LONDON\",\"Boston, MA\",\"GLOBAL/WORLDWIDE\",null,null,\"North Dartmouth, Massachusetts\",\"Lynchburg, VA\",\"107-18 79TH STREET\",\"Boston, MA\",\"The Waystone Inn\",null,\"?? Made in the Philippines ??\",\"Boston/Montreal \",\"Manavadar, Gujarat\",\"Pueblo, Colorado\",\"PG County, MD\",null,\"Somewhere between Chicago & Milwaukee\",null,\"InterplanetaryZone\",\"WORLDWIDE-BOSTON\",\"London, UK\",\"Jersey Shore\",\"Detroit, Michigan\",\"107-18 79TH STREET\",\"The Universe\",\"laying on the bass\",null,\"Cleveland, OH\",null,\"Hustletown\",\"? miranda ? 521 mi\",null,null,null,null,null,\"Oldenburg // London\",\"#partsunknown\",\"Proudly frozen Canuck eh !!\",\"IL\",\"KSU 2017\",null,\"Colorado, USA\",\"Everywhere\",\"Storybrooke / The Moors\",\"NOLA ?? TX\",null,\"neil's kitchen  |  32215\",\"The shores of Lake Kilby\",null,\"Leeds, England\",\"Two Up Two Down\",null,\"Canada\",\"The Internet\",\"Washington, DC\",\"Flushing, Queens\",null,\" Quantico Marine Base, VA.\",null,\"canada\",null,null,\"Alaska\",null,null,\"Bozeman, Montana\",null,\"Hearts & Minds\",\"USA\",\"somewhere USA \",null,null,null,null,null,\"Ewa Beach, HI\",\"Texas\",\"Boston MA\",\"Memphis, TN\",\"Virginia, USA\",\"NY\",\"302\",null,null,null,null,\"Paterson, New Jersey \",\"highlands&slands scotland\",null,\"somewhere USA \",\"Crouch End, London\",\"Ealing, London\",\"Malibu/SantaFe/Winning!\",\"London, Greater London, UK\",\"Edinburgh, Scotland\",\"Wales\",\"Nottingham\",\"London\",\"Tring \",\"Co. Tyrone Northern Ireland\",\"Birmingham & Bristol\",null,null,\"IUPUI '19\",\"potters bar\",\"Chiswick, London\",\"London\",\"London\",\"the burrow\",null,\"plymouth\",\"The Pumpkin Carriage of Dreams\",null,\"London\",\"Edinburgh\",\"Holly Springs, NC \",null,\"London, England\",\"Memphis, TN\",null,null,\"Ireland\",\"Notts\",null,null,\"South, England\",null,\"home \",\"Orlando/Cocoa Beach, FL\",\"Birmingham and the Marches\",\"Los Angeles\",\"M\\u00cc\\u00a9xico D.F.\",\"Canada\",\"New York\",\"Greenwich Meridian\",null,\"USA\",null,\"Newcastle Upon Tyne, England\",null,\"lia\\u0089\\u00db\\u00a2dani\\u0089\\u00db\\u00a2laura\",\"Oneonta, NY/ Staten Island, NY\",\"in my own personal hell (:\",\"Jonesboro, AR MO, IOWA USA\",\"s\\u00cc\\u00a3o luis\",\"Aurora, IL\",\"America of Founding Fathers\",null,\"on to the next adventure\",null,null,\"Suburban Detroit, Michigan\",\"America of Founding Fathers\",null,null,\"Pennsylvania, USA\",\"Guatemala\",null,\"America of Founding Fathers\",\"Leitchfield Kentucky\",\"Littleton, CO\",null,\"Austin TX\",null,null,\"The Netherlands\",null,\"New York, NY\",\"Marbella. Spain\",\"Hammersmith, London\",null,\"Inexpressible Island \",\"Ashford, Kent, United Kingdom\",null,null,null,\"Dhaka, Bangladsh\",null,null,null,\"Sacramento, California\",\"#goingdownthetoilet Illinois\",\"San Francisco Bay Area\",null,null,\"Washington, DC\",null,null,null,\"US\",\"Under Santa Barbara Skies\",null,null,\"Fukushima city Fukushima.pref\",null,null,null,null,\"Washington, D.C.\",\"Norwalk, CT\",\"USA, North Dakota\",null,null,\"japon\",\"Eaubonne, 95, France\",\"Pluto\",null,null,\"Anywhere I like\",\"Japan\",\"Denver, CO\",\"New York, New York\",\"Phoenix, Arizona, USA\",null,\"Paris (France)\",\"Johannesburg, South Africa\",null,null,\"Den Helder, Rijkswerf\",\"SE London(heart is by the sea)\",\"Warsaw\",\"Aztec NM\",\"Denver, CO\",\"Washington, D.C.\",\"World\",null,null,\"Fort Calhoun, NE\",\"Bournemouth, Dorset, UK\",\"Virginia\",\"Somecity, Somerset, MD\",\"Dover, DE\",\"Cavite, Philippines\",\"Korea\",\"Seattle\",\"M!A: None\",\"United Kingdom\",\"Purfleet\",null,\"The Memesphere\",\"21 | PNW\",\"Miami via Lima\",\"Cymru araul\",\"EIC\",\"NEWCASTLE\",\"United Kingdom\",null,\"UK\",\"Jump City\",\"Dudetown\",null,null,\"Ondo\",null,\"Bhubneshwar\",\"Toronto\",\"cedar rapids ia\",\"EIC\",null,null,\"Texas\",\"London\",\"satan's colon\",\"Valparaiso \",\"New York\",null,null,\"prob turning up with sheen\",null,\"#freegucci\",\"Tennessee\",\"Waterloo, ON\",null,\"The dark\",\"Reading MA\",null,\"Wynne, AR\",\"Dublin, Ireland\",\"The Wood\",\"Palmyra, NJ\",\"Tennessee\",\"1313 W.Patrick St, Frederick\",\"Danbury, CT\",\"Canada\",\"Miami, FL\",\"Mid West\",null,\"Upstairs.\",\"Winnipeg, Manitoba\",\"leyland\",\"Birmingham, England\",\"don't buy the s*n\",null,\"London UK\",\"Overton NV\",null,\"Born in Baltimore Living in PA\",\"Elizabeth, NJ\",\"Canada \",\"a feminist, modernist hag.\",\"Glasgow, Scotland\",\"Maryland\",\"kissimmee,fl.\",null,\"New Orleans ,Louisiana\",\"828/704(Soufside)/while looking goofy in NJ\",\"Merica!\",null,null,\"DC Metro area\",\"Indiana\",null,\"India\",\"Federal Capital Territory\",null,\"Illinois\",null,\"Turkmenistan\",null,\"India\",\"23 countries and counting!\",\"Ontario\",\"Montgomery, AL\",\"New York, NY\",null,\"United Kingdom\",\"Amarillo\",\"California\",\"Los Angeles, CA\",\"Las Vegas, Nevada\",null,\"California\",\"Sydney, NSW\",\"Central Coast, California\",null,\"Clean World\",\"NYC :) Ex- #Islamophobe\",\"Canada\",null,\"Street of Dallas\",null,\"Goa, India\",null,\"England, Great Britain.\",\"San Luis Obispo, CA\",\"Kamloops, BC\",\"Lyallpur, Pakistan\",null,null,\"Los Angeles, CA\",\"Street of Dallas\",\"Karachi Pakistan\",null,null,\"Lyallpur, Pakistan\",\"Financial News and Views\",null,\"United Kingdom\",\"Pensacola, FL\",\"Corpus Christi\",\"Chile\",null,null,\"Espa\\u00cc\\u00b1a, Spain\",\"New York City, NY\",\"Indonesia\",null,\"LAGOS\",\"NJ/NYC\",\"??????\",\"???\",null,null,\"Bandung\",\"United States\",\"Italy\",null,\"Canada\",\"Stockholm, Sweden\",\"Los Angeles, CA\",null,\"Eagle River Alaska\",\"\\u00cc\\u00cfT: 6.488400524109015,3.352798039832285\",\"Nottingham, United Kingdom\",\"Akure city in ondo state \",\"The Netherlands\",null,\"Anywhere\",\"FCT, Abuja \",\"Los Angeles, CA\",\"Finland\",\"S\\u00cc\\u00a3o Paulo\",\"Ile-Ife,Osun state, Nigeria\",\"Fukuoka, Japan\",\"kano\",\"?? ?+254? ? \\\\??\\u00e5\\u00a1_??\\u00e5\\u00a1_???\\u00e5\\u00a1_?/??\",null,\"Dammam- KSA\",\"New York, NY\",\"Pro-American and Anti-#Occupy\",null,\"Nigeria\",\"Durham, NC\",\"The Kingdom of Fife, Scotland\",\"Dallas Fort-Worth\",\"Scotland\",\"Everett, WA\",\"Mumbai, India\",null,null,null,\"??????\",\"The P (South Philly)\",\"VONT ISLAND, LAGOS\",\"Houston TX\",null,null,\"Durham, NC\",null,\"Leeds, UK\",\"www.facebook.com/stuntfm\",\"Lagos\",\"Dallas Fort-Worth\",\"Toronto, Canada\",\"Miami?Gainesville\",\"illinois. united state \",null,\"Los Angeles\",null,null,null,\"London, England\",\"Royton\",\"the Refrigerator \",\"Everywhere\",\"California\",null,\"Brasil\",\"Leeds, United Kingdom\",null,null,null,null,\"Toronto, Canada\",\"Everywhere\",\"Linton Hall, VA\",\"The Internetz\",\"Charleston, IL\",\"Narnia\",null,\"Charlotte, NC | K\\u00cc\\u00a6ln, NRW\",null,\"Topeka, KS\",\"Philadelphia, PA\",\"Palm Bay, FL (Kissimmee)\",\"Narnia\",\"Manhattan\",\"elena's bed // info on link\",\"Elsewhere, NZ\",\"518 \\u00e5\\u00e1 NY\",\"The Shady Hyenatown of Finland\",\"Maryland \",null,\"worldwide\",\"East TN.\",null,\"Milwaukee WI\",\"Toronto\",\"Macon, GA\",\"Narnia\",null,null,null,\"Torry Alvarez love forever ? ?\",\"Detroit\",\"Petaluma, CA\",null,\"?^\\u00e5\\u00e1??\\u00e5\\u00e1?^?? ??\",null,\"?\",\"Singapore\",\"Oxford / bristol\",\"PARACHUTE\",\"Near Warrington\",null,\"|-/\",null,\"Pawnee\",null,\"Melbourne, Victoria\",\"UK\",null,\"Manchester\",\"Georgia\",\"UK\",null,\"Derbyshire, United Kingdom\",null,\"VCU\",\"McLean, VA\",null,null,null,\"South Florida\",null,\"Positive 852\",\"Manchester, England\",\"San Francisco\",\"Kansas City, Mo.\",\"New York, NY\",null,null,null,\"Indonesia\",null,null,\"Massachusetts, USA\",\"anzio,italy\",null,\"Nigeria\",\"US, PA\",null,\"h+l\",\"Republic of Texas\",\"Portland, OR\",\"Florida\",null,\"USA\",\"UK\",\"SoCal\",\"Bangalore, India\",\"Indonesia\",null,\"Milwaukee, WI\",\"Mesa, AZ\",\"Stratford, CT\",null,null,null,\"MI,USA\",\"Toronto\",\"Houston \",\"Indonesia\",\"Los Angeles \",\"missouri USA\",\"PA\",\"South africa\",\"Bucharest\",null,\"Mumbai, Maharashtra\",\"Joshua Tree, CA\",\"Area 8 \",null,\"Bangalore, INDIA\",null,\"\\u00cc\\u00cfT: 40.707762,-74.014213\",null,null,\"mumbai\",\"Killa Hill, CO\",\"Southern Califorina\",\"all over the world\",\"San Diego, Calif.\",null,\"Geneva. And beyond. \",null,null,\"NYC, New York\",\"USA\",\"V\\u00cc_a L\\u00cc\\u00c1ctea\",\"New York, United States\",null,null,\"London\",\"San Diego, CA\",\"Some Where in this World\",null,null,null,null,\"Cumming, GA\",\"Korea\",\"South Africa\",\"San Francisco\",\"russia\",\"California\",null,\"Sarasota, FL\",null,\"Melbourne\",\"Livonia, MI\",null,null,\"USA\",\"Karolinska v\\u00cc_gen 18, Solna\",null,null,null,\"China\",null,\"I Heard #2MBikers\",null,\"Dunwoody, GA\",null,null,\"Ebola\",\"Mongolia\",null,\"Broadview Heights, Ohio\",null,null,\"china\",\"Poplar, London\",\"rome\",\"China\",\"LP, MN USA\",null,null,\"Burlington, VT\",\"La Grange Park, IL\",\"Warszawa\",\"Washington, DC\",null,\"#MayGodHelpUS\",\"Darnley, Prince Edward Island\",\"Gloucester, MA\",\"vancouver usa\",\"Alberta \",\"Yobe State\",\"Coventry, Rhode Island\",null,\"United States of America\",null,\"Federal Capital Territory\",\"La Puente, CA\",\"music.\",\"online \",\"Memphis, TN\",null,null,null,\"Thailand Malaysia Indonesia \",\"Earth\",\"Pennsylvania, USA\",\"vancouver usa\",\"Fairfax, VA\",\"Memphis, TN\",\"Seattle\",\"Sicamous, British Columbia\",\"North Memphis/Global Citizen\",\"Bridport, England\",\"Porto Alegre, Rio Grande do Sul\",\"North Vancouver, BC\",\"Seattle\",\"Pioneer Village, KY\",\"Port Harcourt, Nigeria\",\"ECSU16\",\"UK\",null,null,\"Nigeria\",\"Tulsa, OK\",null,null,null,null,\"WorldWide\",null,null,null,null,null,\"North\",null,null,null,\"Ames, IA\",null,null,null,\"San Diego California 92101\",\"Nairobi-KENYA\",\"Erie, PA\",null,null,null,null,null,null,\"Nairobi-KENYA\",null,null,\"Augusta, Maine, 04330\",null,\"Ad Majorem Dei Glorium\",\"Aurora, Ontario \",\" Baku & Erzurum \",\"Statute Of Limitations_\",\"paradise\",\" BC, US, Asia or Europe.\",null,null,null,\"St PetersburgFL\",\"Espa\\u00cc\\u00b1a\",null,\"Tarragona\",null,null,null,\"Warri\",\"Melbourne Australia\",null,\"21.462446,-158.022017\",null,null,\"Bangalore, India\",\"Skyhold\",\"Australia\",\"Amman,Jordan\",\"tripoli international airport\",null,null,\"Auckland, New Zealand\",null,\"NYC,US - Cali, Colombia\",null,\"QLD Australia\",\"Geneva, Switzerland\",\"Trinidad & Tobago\",\"SF Bay Area\",\"#HarleyChick#PJNT#RunBenRun\",\"Toronto, Ontario\",\"New Jersey\",\"Big NorthEast Litter Box\",\"Sand springs oklahoma\",null,null,\"Surry Hills, Sydney\",\"Sand springs oklahoma\",\"#HarleyChick#PJNT#RunBenRun\",null,\"USA\",\"Thornton  Colorado\",\"Wanderlust\",\"Toronto, Ontario\",\"Karachi\",null,null,\"India\",\"U.S.A.   FEMA Region 5\",\"United States\",null,\"Nigeria\",\"Jakarta\",\"Ohio, USA\",\"watford\",\"West Hollywood\",\"Kent\",\"Canada\",\"The Multiverse\",\"USA\",\"Bournemouth\",\"Jammu | Kashmir | Delhi\",null,null,null,\"southern california\",\"Philadelphia, Pennsylvania USA\",null,\"Winston-Salem, NC\",\"Huntley, IL\",\"NIGERIA\",\"The green and pleasant land.\",\"Earth\",null,null,\"Leeds, U.K.\",\"Ireland\",null,null,\"Pennsylvania, USA\",\"Boston MA\",\"Canada\",\"Jakarta/Kuala Lumpur/S'pore\",\"Cape Town\",\"Nigeria\",\"Westerland\",\"Kuala Lumpur\",\"Surabaya\",\"#iminchina\",null,\"Africa\",null,\"Nigeria\",\"Birmingham\",null,null,null,\"London\",null,null,null,null,null,\"?????????????, Thailand \",null,\"17th Dimension\",null,\"Washington\",\"USA - Canada - Europe - Asia\",\"worldwide\",\"Phoenix\",null,null,null,null,null,\"Paris, France\",null,\"Here, there and everywhere\",\"Belgrade\",\"India\",\"Cardiff, UK\",null,null,\"Bossland\",\"World Wide Web\",\"Uppsala, Sweden\",\"East London\",\"Detroit, MI\",null,null,null,null,null,null,\"Los Angeles, CA\",null,null,\"Montana, USA\",\"Utah, USA\",\"Frankfort, KY\",\"Los Angeles\",\"United Kingdom\",\"In Space\",null,\"Sligo and Galway, Ireland\",\"Los Angeles, CA\",\"Seattle\",\"Tipperary (Long Way) \",\"Mumbai\",\"Malang\",null,\"San Francisco, CA\",\"hertfordshire.\",\"Dublin\",null,\"Spare 'Oom\",\"SURROUNDED BY WEEABOOS\",null,\"Australia\",null,\"NYC\",\"Vidalia GA\",\"Vista, CA\",\"Serva Fidem\",null,\"Bellville, Ohio\",\"trapped in America\",\"A little house in the outback.\",\"tri state\",\"Upstate New York\",null,null,\"Scotland, United Kingdom\",null,null,\"Chicora ?? Oakland\",null,null,\"heart of darkness, unholy ?\",\"Colonial Heights, VA\",null,\"India\",\"The Weird Part of Wonderland\",null,\"Alabama\",\"A little house in the outback.\",\"Cassadaga Florida\",\"Columbus, Georgia\",\"Minna, Nigeria\",null,null,null,null,null,\"Accra,Ghana\",\"World\",\"Dubai, UAE\",null,\"Phoenix Az\",\"Italy\",\"London\",null,\"ON\",\"St. Louis, MO\",\"United States\",\"Spain - China - Latin America.\",\"Chester, IL\",\"West Africa\",\"Calgary, AB, Canada\",\"California\",\"Made Here In Detroit \",\"Portland, OR\",null,\"Dallas, Tejas\",\"ATLANTA , GEORGIA \",\"| CA \\u0089\\u00db\\u00a2 GA  |\",\"Nashville, TN\",null,\"Depok\",\"London / Birmingham\",\"texas\",\"Yulee, FL\",\"austin tx\",null,null,\"Garrett\",\"followurDREAMS(& my instagram)\",null,\"sheffield // rotherham\",\"Wailuku, Maui\",null,\"Lima, OH\",\"Long Beach, CA\",\"Belfast\",\"fujo garbage heaven \",\"New York - Connecticut\",null,\"snapchat~ maddzz_babby \",\"2,360 miles away\",null,\"Winnipeg, Manitoba\",null,\"Boston\",\"Florida Forever\",\"Sacramento, CA\",\"#RedSoxNation\",\"MNL\",\"youtube.com/channel/UCHWTLC9B4ZjUGh7yDlb55Iw\",null,\"CA ??DC\",\"Des Moines, IA\",\"M\\u00cc\\u00a9rida, Yucat\\u00cc\\u00c1n\",\"Scituate, MA\",\"USA\",null,\"United States\",null,\"United States\",\"USA\",\"hkXfYMhEx\",\"US\",\"USA\",\"USA\",null,\"Hamilton County, IN\",\"United States\",\"USA\",\"USA\",\"USA\",null,\"Dakar\",\"United States\",\"USA\",\"USA\",\"USA\",\"USA\",\"In your head\",\"USA\",null,\"North Carolina, USA\",\"USA\",\"USA\",\"USA\",\"WA State\",\"USA\",\"The Sanctuary Network, Rome\",\"Tractor land aka Bristol\",null,\"USA\",null,\"Adventuring in Narnia\",null,null,null,\"Asgard\",\"San Diego, CA\",\"Unite. Bless. Wallahi \",null,\"sneaking glances at Thancred\",\"ljp/4\",\"Charlotte, North Carolina\",null,null,\"Nirvana\",null,\"ny\",\"Mentor OH\",\"Trumann, Arkansas\",\"18 \\u0089\\u00db\\u00a2 CC\",\"North Carolina, USA\",null,null,\"1D | 5SOS | AG\",\"PA.USA\",\"m3, k, a, d\",\"pissing off antis\",\"'SAN ANTONIOOOOO'\",null,\"sisterhood\",\"3000 miles from everyone\",\"livin in a plastic world\",\"with Doflamingo\",null,null,null,\"21, Porto\",\"access to njh/5 and cth/4\",\"tx\",null,null,\"tx\",\"Massachusetts \",\"rio de janeiro | brazil\",null,\"Moore, OK\",\"\\u0089\\u00db\\u00a2OlderCandyBloom\\u0089\\u00db\\u00a2\",null,\"Justin and Ariana follow\",\"[@blackparavde is my frankie]\",\"Daddy Kink Central\",null,\"Wakefield, West Yorkshire\",\"Pittsburgh\",\"Namjoon's pants\",\"Mogadishu, New Jersey\",\"All around the world\",\" Jariana Town\",\"NYC\",\"Honeymoon \\u00cc\\u00a3ve.\",\"Aveiro, Portugal\",null,null,\"justin & ari follow || tvd\",\"UK\",null,\"9/1/13\",\"JDB/LJC/AGB/TW/PLL\",\"nap queen\",\"amsterdayum 120615 062415\",\"lesa * she/her\",\"Griffin :3\",\"xiumin's nonexistent solos\",null,\"marvel | books | hp | tmr\",\"Pennsylvania, USA\",\"blackfalds.\",\"San Juan, Puerto Rico\",null,\"New Jersey\",null,\"Freddy Fazbears pizzeria\",null,\"Bras\\u00cc_lia\",\"POFFIN\",\"#Gladiator \\u0089\\u00db\\u00a2860\\u0089\\u00db\\u00a2757\\u0089\\u00db\\u00a2\",\"W.I.T.S Academy\",null,\"Where ever i please\",null,null,null,null,\"Melbourne, Australia.\",\"Sheffield/Leeds\",\"PLFD cuh..\",\"lost in history\",\"Ontario, Canada\",null,\"5-Feb\",\"United States\",\"Florida, USA\",\"labyrinthia\",\"??+ ... ??+\",\"texas\",\"garowe puntland somalia\",\"Oakland, CA\",null,\"Third rock from the Sun\",\"Lives in London\",null,\"Somalia\",null,\"Lakewood, Tennessee\",\"Smash Manor/Kanto\",null,null,null,\"??????\",null,null,\"Somalia\",\"Bokaro Steel City, Jharkhand\",null,\"Hatteras, North Carolina\",\"412 NW 5th Ave. Portland OR\",\"Madison, Wisconsin, USA\",\"Mogadishu, Somalia\",\"the azure cloud\",\"Perenjori, WA\",\"UK\",null,null,null,\"Unknown \",null,\"Atlanta(ish), GA\",\"Trinidad and Tobago\",\"Above the snake line - #YoNews\",\"San Diego\",\"Haddonfield, NJ\",null,\"Canada\",\"NY\",\"ill yorker\",\"Newcastle\",\"Above the snake line - #YoNews\",\"White Plains, NY\",null,\"B&B near Alton Towers\",null,\"Alger-New York-San Francisco\",null,null,\"\\u0081\\u00cawagger!\\u00cc\\u0090ominican\\u00cc\\u00f7\",\"Haddonfield, NJ\",\"USA\",null,\"hell\",\"Texas af\",\"San Diego California 92101\",\"San Diego, CA\",\"Hinterestland\",\"Evansville, IN\",\"Greenpoint\",\"In the potters hands\",\"Haddonfield, NJ\",\"\\u00cc\\u00cfT: 42.910975,-78.865828\",\"Newcastle\",null,\"San Diego, CA\",null,null,\"Cypress, CA 90630\",\"Sacramento\",null,\"Vancouver, British Columbia\",null,\"North East Unsigned Radio\",\"Every Where in the World\",\"Memphis\",null,null,null,null,null,null,\"Fountain Valley, CA\",\"Canada\",null,null,null,null,\"Michigan, USA\",null,\"Sacramento, CA\",\"Liverpool\",\"Haarlem\",null,\"Queensland\",\"HOMRA.\",null,\"Ciudad Aut\\u00cc_noma de Buenos Aires, Argentina\",null,\"Not where I want to be, yet\",\"London\",\"Duval, WV 25573, USA ?\",null,null,\"London\",\"Rhyme Or Reason?\",\"MA\",\"hey Georgia\",\"Coventry\",\"nc\",null,\"kenya\",\"My subconscious\",\"London\",\" New England\",null,null,\"UAE,Sharjah/ AbuDhabi\",\"Tampa, FL\",\"New York\",\"The Web\",\"Paris.\",\"Am International\",\"Team Slytherin\",\"Michel Delving.\",\"Hame\",\"Brizzle City !\",null,\"???  Dreamz\",\"???  Dreamz\",null,\"texasss\",\"Diamondville\",\"Massachusetts, USA\",null,\"The TARDIS\",null,null,\"California, USA\",null,\"Honolulu,Hawaii \",\"Everywhere\",null,\"Flipadelphia\",null,null,\"The American Wasteland (MV)\",\"Charlotte, NC\",\"high way 99\",null,\"... -.- -.--\",\"Canada Eh! \",\"Ohio\",\"828??864??803\",\"Nomad, USA\",\"they/them \",\"Greater Los Angeles Bearia\",null,\"victoria moz\\u00cc\\u00a3o \",\"Denver, CO\",\"Seattle, WA\",\"they/them \",\"Sydney\",\"Hollywood\",\"miami x dallas \",\"Hamburg, DE\",\"Nanaimo, BC, Canada\",null,\"Decatur, GA\",\"Los Angles, CA\",\"az\",\"Crato - CE \",\"Philippines\",\"Australia\",null,null,\"Ventura, Ca\",null,null,null,\"Arlington, TX\",\"Rio de Janeiro\",\"Medell\\u00cc_n, Antioquia\",null,null,null,\"BrowardCounty // Florida \",null,null,null,\"Houston, TX\",null,\"Soufside\",null,null,\"Dalston, Hackney\",null,null,\"WORLDWI$E \",\"atlanta\",null,null,\"3.28.15|7.20.15|7.25.15\",\"cigarknub@gmail.com\",\"Ktx\",null,\"PSA Nursing \",\"Narnia, Maryland\",null,\"Winnipeg, MB, Canada\",\"Indonesia\",\"Bronx, NY\",\"Dallas, TX\",\"Wakefield MA\",null,\"New Jersey\",\"Huntington, WV\",\"South, USA\",\"Manchester\",\"Hampshire, UK\",\"Louisiana, USA\",\"New York\",\"Australia\",\"South, USA\",null,\"London\",\"This Is Paradise. Relax. \",\"Deployed in the Middle East\",\"Brooklyn, NY\",\"Raleigh, NC\",\"South, USA\",null,\"teh internets\",\"Neath, South Wales\",\"Mountains\",\"Porthcawl\",\"In the spirit world\",\"Western New York\",\"Mpela'zwe \",\"Austin, TX\",\"Italy\",null,null,\"State College, Pa\",null,\"Somewhere Only We Know ?\",null,\"Chicago, IL\",null,\"mind ya business\",\"nor*cal\",null,null,\"West Palm Beach, Florida\",\"Atlanta, GA\",\"philly\",null,\"Mackem in Bolton\",null,\"Wilmington, NC\",\"Johns Creek, GA\",\" New Delhi \",null,\"Raleigh, NC\",\" Alberta\",\"#BossNation!\",\"pittsboro\",\"Charlotte, NC\",\"NC || OR\",\"Espa\\u00cc\\u00b1a - Spain - Espagne\",\"#PhanTrash\",\"Desert Storm?? |BCHS|\",\"Cleveland, OH - San Diego, CA\",\"Ottawa, Ontario\",\"Santiago de Chile\",null,\"Camaqu\\u00cc\\u00a3/Pelotas\",null,null,\"Taylor Swift\",\"Oklahoma City\",\"NYC\",\"Austin/Los Angeles\",\"Florida\",\"Taylor Swift\",\"U.S.A and Canada\",\"In a crazy genius mind\",\"hatena bookmark\",null,null,\"Florida\",null,null,\"Docker container\",null,\"Asheville, NC\",\"Taylor Swift\",\"DMV\",\"philly \",\"south africa eastern cape\",\"Amazon Seller , Propagandist\",\"??\",null,null,\"NJ/NY/NM/NE/ND\",\"Florida\",null,null,\"3???2???????\",\"Berlin, Germany\",\"Canada\",\"San Francisco, CA\",null,null,\"Cimahi,West Java,Indonesia\",\"Bukittinggi  ?? Sumatera Barat\",\"Asia\",null,\"Stateless Global Citizen\",\"india\",\"USA\",\"San Francisco\",null,\"Halton Region\",\"Asia\",\"Los Angeles, Calif.\",\"Indonesia\",null,\"Bukittinggi  ?? Sumatera Barat\",null,null,\"Washington, D.C.\",null,\"Warm Heart Of Africa\",\"\\u00cc\\u00cfT: 27.9136024,-81.6078532\",null,null,\"V\\u00cc_ster\\u00cc\\u00b4s, Sweden\",\"Reality\",null,null,null,\"Chicago, IL\",null,null,\"Roadside\",\"Nigeria\",\"London/Lagos/FL \\u00cc\\u00cfT: 6.6200132,\",null,\"Nigeria\",null,\"Lagos\",\"Nigeria\",null,\"The Land of MAss Stupidity\",\"dorito land\",\"Nigeria\",\"Gidi\",\"Email: Lovethterry@gmail.com\",null,\"Nigeria\",\"Nigeria\",null,null,\"Homs- Syria\",\"lagos. Unilag\",null,\"Did anybody see me here ??\",\"Worldwide\",null,\"Na waffi\",null,null,\"GLOBAL\",\"Nigeria\",\"Nigeria\",\"Worldwide\",\"Nigeria\",\"WorldWide\",null,null,null,null,null,null,\"Helsinki\",\"Saudi Arabia\",null,\"Garden City, NY\",null,\"Worldwide\",\"19.600858, -99.047821\",\"United States\",null,null,\"Indonesia\",null,null,null,null,\"africa\",\"Moscow\",null,null,null,null,\"Birmingham, United Kingdom\",\"nigeria\",null,null,null,null,\"Australia\",\"Minority Privilege, USA\",\"England\",null,null,null,null,\"Paris\",\"USA\",null,\"Istanbul\",null,\"Chicago IL\",null,\"Principality of Zeron\",null,\"USA\",\"GCC\",\"On a beach \",\"Belgium\",null,\"Australia\",\"Memphis\",\"EARTH\",null,\"Lagos\",\"USA\",\"Tokyo & Osaka\",null,null,null,\"mainly California\",null,\"18 | 509 \",null,\"glasgow\",\"New York\",null,null,\"Bon Temps Louisiana\",null,\"my house\",null,\"Beacon Hills\",\"Derby\",\"West Coast, USA\",\"Gaborone, Botswana\",\"Bracknell\",\"London, England\",\"{GoT | Modern AU | Lizz}\",\"Cardiff, Wales\",null,\"NAIROBI  KENYA \",null,\"In your mind\",null,\"Virginia\",\"Essex\",\"oxford\",\"New York\",\"Wisconsin\",\"NYC\",null,\"Gloucester\",\"San Jose, CA\",\"i beg vines sorry \",null,null,\"Ashburn, VA\",null,\"toledo\",\"Semarang, Indonesia\",null,null,\"United States\",\"Lincoln City Oregon\",null,null,\"Fountain City, IN \",\"gaffney, sc \",null,null,\"???????, Texas\",\"United States\",null,\"Camberwell, Melbourne\",\"Kansas\",\"ava\",null,\"nj/ny\",\"Barbados\",\"Back East in PA\",\"? icon by @Hashiren_3 ?\",\"EveryWhere\",\"Gotham City\",null,null,\"Trapped in my Conscience \",null,\"death star\",null,null,\"London\",null,null,\"Texas, USA\",\"Brentwood,TN\",\"Auburn \",\"NYC\",\"Harlem, NY or Chocolate City\",\"Mumbai, Maharashtra\",\"?\",null,\"Washington, USA\",null,null,\"Polmont \",\"Port Harcourt, Nigeria\",\"Predjama, Eslovenia.\",\"Pakistan\",\"Tn\",null,null,\"South Asia\",null,\"Reading a romance novel\",\"Glasgow\",\"Bulgaria\",\"U.K.\",\"Scotland\",null,\"Puerto Rico\",null,\"Austin, TX\",null,\"AUSTRALIA-SOUTHAFRICA-CAMBODIA\",null,null,null,\"Port Williams NS\",null,null,\"Chicago, IL\",\"Dallas, TX \",\"S\\u00cc\\u00a3o Paulo, Brasil\",null,null,null,\"WORLD\",\"Stowmarket\",\"Philadelphia, Pennsylvania\",\"Texas\",\"Lake Monticello, VA\",\"Sao Paulo\",\"Upstairs.\",\"WV, love the blue and gold\",\"Berlin, NY, DC, Malibu\",null,\"Shanghai\",\"Upstairs.\",\"Anywhere Safe\",\"Marietta, GA\",null,\"Numenor\",null,null,\"everywhere\",null,null,\"USA\",\"Salt Lake City, UT\",\"Winston-Salem, NC\",null,null,\"Earth 0\",\"New Jersey, USA\",null,\"Lancaster, CA\",null,null,\"Melbourne\",null,null,\"Planet Earth\",\"Reston, VA, USA\",\"Jeddah_Saudi Arabia.\",\"Tampa, FL\",\"Riyadh\",\"toronto, ontario\",null,null,null,null,null,null,null,null,null,\"Bangalore City, India\",null,\"Iraq|Afghanistan| RSA |Baghdad\",\"peshawar pakistan \",null,null,\"world\",null,null,\"Beit El - Israel\",null,\"New Delhi, India\",null,\"Iraq|Afghanistan| RSA |Baghdad\",\"Sanganer, Rajasthan\",\"Loading...\",\"Chennai\",\"BILASPUR,CHHATTISGARH,495001\",\"Niall's arms\",\"Canada\",\"proudly South African\",null,\"MAD as Hell\",null,null,\"MAD as Hell\",\"????? ???? ????\",\"Florida\",\"Charleston S.C.\",\"MAD as Hell\",null,\"Iraq|Afghanistan| RSA |Baghdad\",\"Everywhere\",null,\"Hyrule\",\"front row at a show\",\"Ohio, USA\",\"London, UK\",\"Arlington, VA\",\"God.Family.Money\",\"Everywhere\",\"Kwajalein/Virginia/Dayton, OH\",\"Bi\\u00cc\\u00b1an,Laguna\",\"Enfield, UK\",\"Atlanta, GA\",\"South Carolina, USA\",null,\"Enfield, UK\",\"Decatur, GA\",null,\"London\",\"Atlanta, Georgia USA\",\"Gander NF\",\"Leeds, England\",null,null,\"New York, USA\",null,\"nowhere\",null,null,null,null,\"Palm Desert, CA\",null,null,null,null,null,\"Palma, Islas Baleares\",null,\"??\",\"IndiLand \",\"Accra,Ghana\",\"Baydestrian\",\"Macon, GA\",null,null,null,null,\"gamertag: bexrayandvav \",\"Tulsa, Oklahoma\",null,null,\"Jupiter\",null,\"United States\",\"Jupiter\",\"USA\",null,\"Sydney\",\"El Dorado, Arkansas\",\"East Coast\",\"Asheville, NC\",\"Oklahoma City, OK\",\"WORDLDWIDE\",\"73101\",null,null,\"Oklahoma City\",null,\"South Carolina\",\"Tornado Alley, USA \",null,\"Nicoma Park, OK\",\"Memphis, TN\",\"Lethbridge, Alberta, Canada\",null,\"Helsinki\",\"Killafornia made me \",\"Lethbridge, AB, Canada\",\"El Dorado, Arkansas\",\"NC\",null,\"God is Love. \",\"cognitive dissonance town\",\"I O W A\",\"Gurgaon, Haryana. \",\"Wherever I'm sent\",null,null,\"Austin\",\"Midwest\",\"Canada\",null,\"Midwest\",\"Asheville, NC\",\"Fort Knox, KY 40121\",\"Los Angeles\",\"california\",\"Toronto\",\"San Antonio, TX\",\"Providence RI / Lisnaskea \",\"Dindigul,TamilNadu.\",null,null,null,null,null,null,null,\"canada\",\"khartoum sudan\",\"Naperville\",\"  \",null,null,\"Kentucky, USA\",null,\"New Delhi, India\",null,null,\"New Jersey/New York\",\"#SandraBland\",null,null,\"'Merica\",null,\"Pennsylvania, USA\",\"Harper Woods, MI\",\"India\",\"San Diego, CA\",null,\"dubai \",null,null,\"staggering on tenement roofs\",null,\"Canada\",\"Silicon Valley\",null,\"houston\",null,\"Orlando \",null,null,\"Noida, NCR, India\",\"M\\u00cc\\u00a9xico\",\"India\",\"NYC / International\",null,null,\"Jamaica\",\"Los Angeles, CA\",\"America\",\"PA, USA\",\"London, England\",\"call me peach or sam lo\",\"LITTLETON, CO, USA, TERRAN\",\"Orlando\",\"shoujo hell \",\"10 Steps Ahead.  Cloud 9\",\"central chazifornia\",null,null,null,\"New York City\",\"Utah\",\"????s ?? ????\\u00cc\\u00f8????\\u00cc\\u00a1a\",\"T E X A S | wwat 8.24.14\",null,\"worldwide\",\"876 Jamrock.\",null,\"Puerto Rico\",null,\"Georgia, USA\",\"\\u00e5_\\u00e5_Los Mina City\\u0089\\u00e3\\u00a2\",null,\"St Louis, MO\",null,\"WORLDWIDE!\",\"Greensburg, PA\",null,\"Like us on Face \",null,\"Florida\",null,\"Montgomery County, MD\",\"Cambridge, Massachusetts, U.S.\",\"Detroit, MI\",\"LOCAL ATLANTA NEWS 4/28/00 - 4/28/15 FREELANCER\",\"Your notifications\",null,\"Methville, CA\",\"I rap to burn shame.\",null,\"Houston, TX\",null,null,\"Los Angeles New York\",\"www.aprylpooley.com\",null,\" Little Rock, AR\",\"The Jewfnited State\",null,\"Minneapolis, MN\",\"Gumptown\",null,\"Nashville, TN\",\"World\",null,\"The Triskelion\",\"Texas, USA\",\"Minneapolis/St. Paul\",null,\"Chicago, Illinois\",\"Colorado\",\"London\",\"Ireland\",\"Kirkwall\",null,\"uk\",\"Sweden\",\"Portsmouth, UK\",\"cork\",\"Scotland\",\"dublin \",\"ELVY\",\"Hackney, London\",null,null,\"South Africa\",\"Tunbridge Wells\",\"lowestoft\",null,null,null,\"North East / Middlesbrough \",null,\"London\",null,\"Londonstan\",null,\"Tring, UK\",\"Stage with Trey Songz\",null,null,\"Hampstead, London.\",\"Tamworth\",null,null,null,\"Kawartha Lakes, Ontario, Canad\",\"Gold Coast, Australia\",null,\"YA MOTHA BED\",\"Atlanta\",\"Canada\",\"Indiana, USA\",null,\"Illumination \",\"Bathtub de Bett \",\"Chasing My Dreams w/Jass??\",\"Boston, MA\",\"NYC\",null,\"Rochester Hills, MI\",\"Davis, California\",\"Displaced Son of TEXAS!\",null,\"?\",\"on twitter \",null,null,null,null,\"Wolverhampton\",\"North Carolina \",\"Manila City\",\"Palo Alto, CA\",\"USA\",null,null,null,\"Washington, DC\",null,null,\"in the Word of God\",\"in the Word of God\",\"Washington, DC\",null,\"Louavul, KY\",null,null,\"IG : Sincerely_TSUNAMI\",\"Kleenex factory\",\"??????????????\",null,null,\"Land Of The Kings\",\"Winter Park, Colorado\",null,\"The Netherlands\",\"#ODU\",\"ona block w/ my BOY ??\",\"East Islip, NY\",\"but i love kaylen ??\",\"COMING SOON\",\"in the Word of God\",null,\"Austin, TX\",\"Gotham City,USA\",null,null,\"Hawaii\",\"BROKE NIGGAS DREAM!!\",\"in the Word of God\",null,null,null,\"Calgary, Alberta\",null,\"Everywhere\",\"Las Vegas, NV \",\"United States\",null,\"Detroit\",\"Geneva\",null,null,\"London\",\"\\u00e5\\u00a1\\u00e5\\u00a1Midwest \\u0089\\u00db\\u00a2\\u0089\\u00db\\u00a2\",null,null,null,\"Riverdale, GA \",null,null,\"Calgary, Alberta\",\"NY\",\"Plano,TX\",null,\"Midwest City, OK\",null,null,null,\"Lisbon, Portugal\",\"Galapa / Atl\\u00cc\\u00c1ntico\",null,null,null,\"STL ?NOLA\",null,\"instagram: bribriony\",\"Long Island\",\"Downtown Oklahoma City\",null,\"london\",\"Seattle native in Prescott, AZ\",null,\"Savage States of America\",\"Calgary, AB, Canada\",\"Whole World \",\"Ibadan,Oyo state\",\"USA\",\"ngapain?\",\"Tema,Accra\",\"phuket thailand\",null,null,null,null,\"USA\",\"Houston, TX\",\"Unites States\",null,\"REPUBLICA DOMINICANA\",\"New York \",\"Santiago,Rep\\u00cc\\u00bcblica Dominicana\",null,null,null,\"Wilmington, Delaware\",null,\"iamdigitalent.com\",\"Evergreen Colorado\",\"Washington, DC\",\"india\",\"SWMO\",\"anzio,italy\",null,null,\"The Peach State\",null,\"NYC :) Ex- #Islamophobe\",\"Dhaka\",\"Halifax, Nova Scotia\",\"Deadend, UK\",\"Oregon\",\"Washington, D.C.\",null,null,\"Jamaica\",\"USA\",\"Chester\",\"eBooks, North America\",\"Sydney & Worldwide\",\"Auckland, New Zealand\",\"NYC\",\"Scotts Valley, CA\",\"Oregon\",\"IG/SC:bjfordiani\",null,null,null,\"Wisconsin, USA\",null,\"East Aurora, NY\",\"Woosley\",null,\"London, UK\",\"Costa Rica\",\"Hamilton, Ontario CA\",\"maryland\",\"Attock\",\"Atlanta, GA\",\"INDIA\",\"Milwaukee, WI\",null,\"CPT & JHB, South Africa\",\"London, UK\",\"Oregon and Washington\",\"Karachi\",\"Connecticut\",\"Perth, Western Australia\",\"UK\",\"Yuuko-san's shop\",\"Watertown, Mass.\",\"Toronto\",null,null,null,\"Worldwide\",null,\"Chicago, IL\",\"Milky Way galaxy \",null,\"Worldwide\",\"us\",\"??? ???? ?f glory. ?\",\"Your Six\",\"South Africa\",\"Costa Rica\",null,null,\"\\u00cc\\u00cfT: 1.50225,103.742992\",\"Newcastle, OK\",\"United Kingdom\",null,\"Oshawa/Toronto\",\"Very SW CA, USA....Draenor\",null,\"New Zealand\",\"Kenya\",null,\"Barbados\",\"Amsterdam & Worldwide\",\"3rd Eye Chakra\",\"Perth, Australia\",\" ? ??????? ? ( ?? \\u00e5\\u00a1 ? ? ? \\u00e5\\u00a1)\",\"USA\",\"ARGENTINA\",null,\"Earth\",null,null,null,\"Hawaii, USA\",\"Hawaii, USA\",null,null,\"Paris\",null,\"California, USA\",\"Ted&Qz Inc, Ireland, Europe\",\"Santiago de Cmpostela Galicia\",\"Massachusetts\",\"cleveland, oh\",\"Northern Colorado\",\"West Coast, Cali USA\",\"Indonesia\",null,\"right here\",null,null,\"nashville, tn \",\"Incognito\",null,\"Somewhere else...\",\"Columbia, SC\",\"In a graveyard \",\"Downtown Churubusco, Indiana\",\"California, USA\",null,\"Louisiana\",null,\"Host of #MindMoversPodcast\",\"The D\",\"Still. ??S.A.N.D.O.S??\",null,\"We're All Mad Here\",\"Southern California\",null,null,null,null,\"New Hampshire, USA\",\"ca(NADA) \",\"T-Ville\",\"Pennsylvania\",\"//RP\\\\ ot @Mort3mer\\\\\\\\\",\"?????\",\"BROOKLYN, NYC\",null,null,\"\\u00e5\\u00ca(?\\u0089\\u00db\\u00a2`?\\u0089\\u00db\\u00a2\\u00e5\\u00ab)??\",\"New York 2099\",\"?\",null,\"Massachusetts\",null,\"Halifax, NS, Canada\",\"UK,singer,songwriter,?2 act\",\"kediri,,jawa timur\",\"MI - CA\",\"Central Florida\",\"Des Moines, IA\",null,null,\"Washington DC\",null,\"California, United States\",\"?????\",null,\"CT, USA\",null,\"www.twitch.tv/PKSparkxx\",\"statesboro/vidalia\",\"New Jersey, usually\",\"Manchester, England\",\"Haveli, Maharashtra\",\"Slateport City, Hoenn\",null,\"jayankondacholapuram.tamilnadu\",\"New York, NY\",\"Denver Colorado. Fun Times\",null,\"Not Of This World\",\"ohio\",\"California, United States\",\"Proud @BuckMasonUSA supporter!\",\"Odawara, Japan\",\"Houston, TX\",\"Ely, Cambridgeshire\",null,\"GrC Founder, 8,000 Subscribers\",\"Beirut/Toronto\",\"Los Angeles \",null,\"England\",\"Incognito\",null,\"Regalo Island\",null,null,\"california | oregon | peru |\",\"N. California USA\",\"Multinational *****\",null,\"rural ohio (fuck)\",\"??????\",\"West\",\"Vermont, USA\",null,\"Hawthorne, NE\",null,\"??? ?????????????\",\"Rocky Mountains\",\"( ?\\u00e5\\u00a1 ?? ?\\u00e5\\u00a1), \",null,\"Kernow\",null,\"London\",\"Nottingham, England\",\"California\",\"The Netherlands\",\"St. Louis\",\"Holly, MI\",\"Somewhere between here & there\",\"CHICAGO\",\"Frostburg\",null,\"Thailand\",\"Canterbury kent\",null,\"The Sun's Corona\",\"140920-21 & 150718-19 BEIJING\",\"London\",\"World\",\"Harbour Heights, FL\",\"New York\",\"Sheff/Bangor/Salamanca/Madrid\",\"Stamford & Cork (& Shropshire)\",null,\"140920-21 & 150718-19 BEIJING\",\"#KaumElite;#F?VOR;#SMOFC\",\"Orlando, FL\",\"Nairobi, Kenya\",\"Richardson TX\",null,\"London, Sydney\",\"Las Vegas\",null,\"Internet\",\"Florida\",\"Pittsburgh\",\"Where I Need To Be\",\"Here, unless there.  \",\"Manchester\",\"NEPA/570\",null,\"pettyville, usa\",\"Phila.\",\"brooklyn, NYC\",\"Atlanta - FAU class of '18\",\"Bristol, England\",\"Houston\",\"Twitterville\",null,\"Eastern Iowa\",\"Los Angeles, CA\",null,null,\"Fort Walton Beach, FL\",\"USA\",\"Dallas, TX\",\"Toronto, Bob-Lo, Miami Beach\",\"North Carolina, USA\",\"planet earth\",\"Los Angeles, CA\",\"nap central\",\"Olathe, KS\",\"Madrid\",\"Johannesburg, South Africa\",\"Hartford, Connecticut\",\"New Jersey \",\"Cedar Island, Clinton CT 06413\",null,null,\"West Vancouver, B.C.\",\"London, UK\",\"Indiana\",null,null,\"Canada\",null,\"United States of America\",\"Tucson, AZ\",null,\"Get our App\",null,null,\"Vail Valley\",\"Amsterdam | San Francisco\",\"Australia\",null,\"Ashland, Oregon\",\"Worldwide\",null,\"Riverside, California.\",\"Oakland, CA\",null,\"Ottawa, Canada\",\"USA\",\"Columbus, OH\",\"Around the world\",\"Washington State\",null,\"California, USA\",null,\"Lancaster California\",null,null,\"?? Cloud Mafia ??\",null,null,\"Eddyville, Oregon 97343\",null,\"USA\",\"Bakersfield, California\",\"Galveston, Texas\",null,\"Chicago\",\"Palm Beach County, FL\",null,null,\"Victoria, BC\",null,\"Georgia ? Tennessee\",null,\"Lagos, Nigeria\",\"Puerto Rico\",null,\"Gettysburg, PA\",\"Austin, Texas\",null,\"Florida USA\",\"Hermitage, PA\",null,\"Jakarta, Indonesia\",\"Puerto Rico\",\"San Diego, CA\",\"calgary,ab\",\"Newton, NJ 07860\",null,\"she/her/your majesty/empress\",null,null,\"Houston\",null,\"LYNBROOK\",\"Argus Industries \\\\m/666\\\\m/\",null,\"Friendswood, TX\",\"Sugar Land, TX\",\"(a) property of the universe\",\"Chicago\",\"Home is where we park it!\",\"Webster, TX\",null,null,\"Maracay y Nirgua, Venezuela\",\"North Cack/919\",\"Scottsdale, AZ\",\"United States\",\"Paterson, New Jersey \",\"New York\",\"Venezuela\",\"Victoria, Canada\",\"FILM OUT LATE 2015\",\"Miami,Fla\",\"santo domingo\",\"Illinois, USA\",\"Worldwide - Global\",null,\"USA\",\"Suva, Fiji Islands.\",null,null,null,\"Americas Newsroom\",null,\"USA\",\"Yogya Berhati Nyaman\",\"Washington, D.C.\",null,\"Brooklyn, NY\",\"worldwide\",null,null,\"Fredericksburg, Virginia\",\"England, United Kingdom\",\"USA\",null,\"Wherever I'm needed\",\"Yogya Berhati Nyaman\",\"Paterson, New Jersey \",\"Charlotte \",\"Sale, England\",\"Newcastle, England \",\"Kashmir!\",null,\"Kashmir!\",\"in my head\",\"Earth\",null,\"Rutherfordton, NC\",\"Lake Highlands\",\"Charlotte, N.C.\",\"iPhone: 33.104393,-96.628624\",null,\"United States\",\"The American Wasteland (MV)\",null,\"Cleveland, OH\",\"Cape Town\",null,\"KADUNA, NIGERIA\",\"Shady Pines \",\"Wales, United Kingdom\",\" Alex/Mika/Leo|18|he/she/they\",\"North Carolina\",\"?Gangsta OC / MV RP; 18+.?\",\"Earth: Senseless nonsense\",\"Tampa, FL\",\"Not Steven Yeun / AMC.\",\"cody, austin follows ?*?\",\"Paterson, New Jersey \",null,\"Charlotte\",\"moss chamber b\",null,null,\"1/10 Taron squad\",null,\"Argentina\",\" ?currently writing a book?\",\"Lebanon, Tennessee\",\"Pratt-on-Wye\",\"Somerset, UK\",\"Victoria, BC\",\"United States\",null,null,\"Atlanta, Georgia\",\"SF Bay Area, California / Greater Phoenix, AZ\",\"Baltimore\",\"Alabama, USA\",null,null,\"new york\",\"Primum non nocere\",\"Orlando, FL\",null,\"Arlington, TX\",\"Gwersyllt, Wales\",\"Greenville\",\"Greenville, S.C.\",\"United States\",\"Innsmouth, Mass.\",null,\"709?\",\"Norwich\",null,\"Canada BC\",\"Plano, IL\",\"scumbernauld\",\"Mumbai\",\"Tokyo\",null,\"Sydney\",null,\"WorldWide\",\"Mumbai\",\"khanna\",null,null,\"Africa\",null,\"Mumbai, Maharashtra\",\"Bangkok\",\"Mumbai\",\"Mumbai\",\"Punjab\",null,\"Southern California\",null,null,\"Dublin City, Ireland\",\"iTunes\",\"Mumbai\",\"uk\",null,\"No ID, No VOTE!!!\",\"iTunes\",\"Mumbai\",\"Mumbai\",null,\"Mumbai\",\"India\",null,\"Maharashtra\",\"Mumbai\",\"New Delhi,India\",\"Xi'an, China\",\"Mumbai\",\"Brooklyn, NY\",\"Robin Hood's County \",null,\"United States\",\"Pennsylvania\",null,null,null,\"Santa Cruz, CA\",null,null,\"Milwaukee County\",\"Click the link below, okay \",null,\"probably not home\",null,null,\"6\",null,null,null,null,\"United States\",\"At your back\",null,\"Livingston, MT\",\"California\",\"  Glasgow \",\"Manhattan, NY\",\"Denton, Texas\",\"Global\",\"TN\",null,\"#NewcastleuponTyne #UK\",null,\"Vancouver, Canada\",\"London \",\"Lincoln\",null,null,null,null,null,null,null,null,null,null,null,null,null,null,null,null,null,null,null,null,null,null,null,null,null,null,null,null,null,null,null],\"xaxis\":\"x\",\"yaxis\":\"y\",\"type\":\"histogram\"}],                        {\"template\":{\"data\":{\"bar\":[{\"error_x\":{\"color\":\"#2a3f5f\"},\"error_y\":{\"color\":\"#2a3f5f\"},\"marker\":{\"line\":{\"color\":\"#E5ECF6\",\"width\":0.5},\"pattern\":{\"fillmode\":\"overlay\",\"size\":10,\"solidity\":0.2}},\"type\":\"bar\"}],\"barpolar\":[{\"marker\":{\"line\":{\"color\":\"#E5ECF6\",\"width\":0.5},\"pattern\":{\"fillmode\":\"overlay\",\"size\":10,\"solidity\":0.2}},\"type\":\"barpolar\"}],\"carpet\":[{\"aaxis\":{\"endlinecolor\":\"#2a3f5f\",\"gridcolor\":\"white\",\"linecolor\":\"white\",\"minorgridcolor\":\"white\",\"startlinecolor\":\"#2a3f5f\"},\"baxis\":{\"endlinecolor\":\"#2a3f5f\",\"gridcolor\":\"white\",\"linecolor\":\"white\",\"minorgridcolor\":\"white\",\"startlinecolor\":\"#2a3f5f\"},\"type\":\"carpet\"}],\"choropleth\":[{\"colorbar\":{\"outlinewidth\":0,\"ticks\":\"\"},\"type\":\"choropleth\"}],\"contour\":[{\"colorbar\":{\"outlinewidth\":0,\"ticks\":\"\"},\"colorscale\":[[0.0,\"#0d0887\"],[0.1111111111111111,\"#46039f\"],[0.2222222222222222,\"#7201a8\"],[0.3333333333333333,\"#9c179e\"],[0.4444444444444444,\"#bd3786\"],[0.5555555555555556,\"#d8576b\"],[0.6666666666666666,\"#ed7953\"],[0.7777777777777778,\"#fb9f3a\"],[0.8888888888888888,\"#fdca26\"],[1.0,\"#f0f921\"]],\"type\":\"contour\"}],\"contourcarpet\":[{\"colorbar\":{\"outlinewidth\":0,\"ticks\":\"\"},\"type\":\"contourcarpet\"}],\"heatmap\":[{\"colorbar\":{\"outlinewidth\":0,\"ticks\":\"\"},\"colorscale\":[[0.0,\"#0d0887\"],[0.1111111111111111,\"#46039f\"],[0.2222222222222222,\"#7201a8\"],[0.3333333333333333,\"#9c179e\"],[0.4444444444444444,\"#bd3786\"],[0.5555555555555556,\"#d8576b\"],[0.6666666666666666,\"#ed7953\"],[0.7777777777777778,\"#fb9f3a\"],[0.8888888888888888,\"#fdca26\"],[1.0,\"#f0f921\"]],\"type\":\"heatmap\"}],\"heatmapgl\":[{\"colorbar\":{\"outlinewidth\":0,\"ticks\":\"\"},\"colorscale\":[[0.0,\"#0d0887\"],[0.1111111111111111,\"#46039f\"],[0.2222222222222222,\"#7201a8\"],[0.3333333333333333,\"#9c179e\"],[0.4444444444444444,\"#bd3786\"],[0.5555555555555556,\"#d8576b\"],[0.6666666666666666,\"#ed7953\"],[0.7777777777777778,\"#fb9f3a\"],[0.8888888888888888,\"#fdca26\"],[1.0,\"#f0f921\"]],\"type\":\"heatmapgl\"}],\"histogram\":[{\"marker\":{\"pattern\":{\"fillmode\":\"overlay\",\"size\":10,\"solidity\":0.2}},\"type\":\"histogram\"}],\"histogram2d\":[{\"colorbar\":{\"outlinewidth\":0,\"ticks\":\"\"},\"colorscale\":[[0.0,\"#0d0887\"],[0.1111111111111111,\"#46039f\"],[0.2222222222222222,\"#7201a8\"],[0.3333333333333333,\"#9c179e\"],[0.4444444444444444,\"#bd3786\"],[0.5555555555555556,\"#d8576b\"],[0.6666666666666666,\"#ed7953\"],[0.7777777777777778,\"#fb9f3a\"],[0.8888888888888888,\"#fdca26\"],[1.0,\"#f0f921\"]],\"type\":\"histogram2d\"}],\"histogram2dcontour\":[{\"colorbar\":{\"outlinewidth\":0,\"ticks\":\"\"},\"colorscale\":[[0.0,\"#0d0887\"],[0.1111111111111111,\"#46039f\"],[0.2222222222222222,\"#7201a8\"],[0.3333333333333333,\"#9c179e\"],[0.4444444444444444,\"#bd3786\"],[0.5555555555555556,\"#d8576b\"],[0.6666666666666666,\"#ed7953\"],[0.7777777777777778,\"#fb9f3a\"],[0.8888888888888888,\"#fdca26\"],[1.0,\"#f0f921\"]],\"type\":\"histogram2dcontour\"}],\"mesh3d\":[{\"colorbar\":{\"outlinewidth\":0,\"ticks\":\"\"},\"type\":\"mesh3d\"}],\"parcoords\":[{\"line\":{\"colorbar\":{\"outlinewidth\":0,\"ticks\":\"\"}},\"type\":\"parcoords\"}],\"pie\":[{\"automargin\":true,\"type\":\"pie\"}],\"scatter\":[{\"marker\":{\"colorbar\":{\"outlinewidth\":0,\"ticks\":\"\"}},\"type\":\"scatter\"}],\"scatter3d\":[{\"line\":{\"colorbar\":{\"outlinewidth\":0,\"ticks\":\"\"}},\"marker\":{\"colorbar\":{\"outlinewidth\":0,\"ticks\":\"\"}},\"type\":\"scatter3d\"}],\"scattercarpet\":[{\"marker\":{\"colorbar\":{\"outlinewidth\":0,\"ticks\":\"\"}},\"type\":\"scattercarpet\"}],\"scattergeo\":[{\"marker\":{\"colorbar\":{\"outlinewidth\":0,\"ticks\":\"\"}},\"type\":\"scattergeo\"}],\"scattergl\":[{\"marker\":{\"colorbar\":{\"outlinewidth\":0,\"ticks\":\"\"}},\"type\":\"scattergl\"}],\"scattermapbox\":[{\"marker\":{\"colorbar\":{\"outlinewidth\":0,\"ticks\":\"\"}},\"type\":\"scattermapbox\"}],\"scatterpolar\":[{\"marker\":{\"colorbar\":{\"outlinewidth\":0,\"ticks\":\"\"}},\"type\":\"scatterpolar\"}],\"scatterpolargl\":[{\"marker\":{\"colorbar\":{\"outlinewidth\":0,\"ticks\":\"\"}},\"type\":\"scatterpolargl\"}],\"scatterternary\":[{\"marker\":{\"colorbar\":{\"outlinewidth\":0,\"ticks\":\"\"}},\"type\":\"scatterternary\"}],\"surface\":[{\"colorbar\":{\"outlinewidth\":0,\"ticks\":\"\"},\"colorscale\":[[0.0,\"#0d0887\"],[0.1111111111111111,\"#46039f\"],[0.2222222222222222,\"#7201a8\"],[0.3333333333333333,\"#9c179e\"],[0.4444444444444444,\"#bd3786\"],[0.5555555555555556,\"#d8576b\"],[0.6666666666666666,\"#ed7953\"],[0.7777777777777778,\"#fb9f3a\"],[0.8888888888888888,\"#fdca26\"],[1.0,\"#f0f921\"]],\"type\":\"surface\"}],\"table\":[{\"cells\":{\"fill\":{\"color\":\"#EBF0F8\"},\"line\":{\"color\":\"white\"}},\"header\":{\"fill\":{\"color\":\"#C8D4E3\"},\"line\":{\"color\":\"white\"}},\"type\":\"table\"}]},\"layout\":{\"annotationdefaults\":{\"arrowcolor\":\"#2a3f5f\",\"arrowhead\":0,\"arrowwidth\":1},\"autotypenumbers\":\"strict\",\"coloraxis\":{\"colorbar\":{\"outlinewidth\":0,\"ticks\":\"\"}},\"colorscale\":{\"diverging\":[[0,\"#8e0152\"],[0.1,\"#c51b7d\"],[0.2,\"#de77ae\"],[0.3,\"#f1b6da\"],[0.4,\"#fde0ef\"],[0.5,\"#f7f7f7\"],[0.6,\"#e6f5d0\"],[0.7,\"#b8e186\"],[0.8,\"#7fbc41\"],[0.9,\"#4d9221\"],[1,\"#276419\"]],\"sequential\":[[0.0,\"#0d0887\"],[0.1111111111111111,\"#46039f\"],[0.2222222222222222,\"#7201a8\"],[0.3333333333333333,\"#9c179e\"],[0.4444444444444444,\"#bd3786\"],[0.5555555555555556,\"#d8576b\"],[0.6666666666666666,\"#ed7953\"],[0.7777777777777778,\"#fb9f3a\"],[0.8888888888888888,\"#fdca26\"],[1.0,\"#f0f921\"]],\"sequentialminus\":[[0.0,\"#0d0887\"],[0.1111111111111111,\"#46039f\"],[0.2222222222222222,\"#7201a8\"],[0.3333333333333333,\"#9c179e\"],[0.4444444444444444,\"#bd3786\"],[0.5555555555555556,\"#d8576b\"],[0.6666666666666666,\"#ed7953\"],[0.7777777777777778,\"#fb9f3a\"],[0.8888888888888888,\"#fdca26\"],[1.0,\"#f0f921\"]]},\"colorway\":[\"#636efa\",\"#EF553B\",\"#00cc96\",\"#ab63fa\",\"#FFA15A\",\"#19d3f3\",\"#FF6692\",\"#B6E880\",\"#FF97FF\",\"#FECB52\"],\"font\":{\"color\":\"#2a3f5f\"},\"geo\":{\"bgcolor\":\"white\",\"lakecolor\":\"white\",\"landcolor\":\"#E5ECF6\",\"showlakes\":true,\"showland\":true,\"subunitcolor\":\"white\"},\"hoverlabel\":{\"align\":\"left\"},\"hovermode\":\"closest\",\"mapbox\":{\"style\":\"light\"},\"paper_bgcolor\":\"white\",\"plot_bgcolor\":\"#E5ECF6\",\"polar\":{\"angularaxis\":{\"gridcolor\":\"white\",\"linecolor\":\"white\",\"ticks\":\"\"},\"bgcolor\":\"#E5ECF6\",\"radialaxis\":{\"gridcolor\":\"white\",\"linecolor\":\"white\",\"ticks\":\"\"}},\"scene\":{\"xaxis\":{\"backgroundcolor\":\"#E5ECF6\",\"gridcolor\":\"white\",\"gridwidth\":2,\"linecolor\":\"white\",\"showbackground\":true,\"ticks\":\"\",\"zerolinecolor\":\"white\"},\"yaxis\":{\"backgroundcolor\":\"#E5ECF6\",\"gridcolor\":\"white\",\"gridwidth\":2,\"linecolor\":\"white\",\"showbackground\":true,\"ticks\":\"\",\"zerolinecolor\":\"white\"},\"zaxis\":{\"backgroundcolor\":\"#E5ECF6\",\"gridcolor\":\"white\",\"gridwidth\":2,\"linecolor\":\"white\",\"showbackground\":true,\"ticks\":\"\",\"zerolinecolor\":\"white\"}},\"shapedefaults\":{\"line\":{\"color\":\"#2a3f5f\"}},\"ternary\":{\"aaxis\":{\"gridcolor\":\"white\",\"linecolor\":\"white\",\"ticks\":\"\"},\"baxis\":{\"gridcolor\":\"white\",\"linecolor\":\"white\",\"ticks\":\"\"},\"bgcolor\":\"#E5ECF6\",\"caxis\":{\"gridcolor\":\"white\",\"linecolor\":\"white\",\"ticks\":\"\"}},\"title\":{\"x\":0.05},\"xaxis\":{\"automargin\":true,\"gridcolor\":\"white\",\"linecolor\":\"white\",\"ticks\":\"\",\"title\":{\"standoff\":15},\"zerolinecolor\":\"white\",\"zerolinewidth\":2},\"yaxis\":{\"automargin\":true,\"gridcolor\":\"white\",\"linecolor\":\"white\",\"ticks\":\"\",\"title\":{\"standoff\":15},\"zerolinecolor\":\"white\",\"zerolinewidth\":2}}},\"xaxis\":{\"anchor\":\"y\",\"domain\":[0.0,1.0],\"title\":{\"text\":\"location\"}},\"yaxis\":{\"anchor\":\"x\",\"domain\":[0.0,1.0],\"title\":{\"text\":\"count\"}},\"legend\":{\"tracegroupgap\":0},\"title\":{\"text\":\"Count of Location\"},\"barmode\":\"relative\"},                        {\"responsive\": true}                    ).then(function(){\n",
              "                            \n",
              "var gd = document.getElementById('5cd24d2b-f607-4c6e-90b8-a74930b55d1f');\n",
              "var x = new MutationObserver(function (mutations, observer) {{\n",
              "        var display = window.getComputedStyle(gd).display;\n",
              "        if (!display || display === 'none') {{\n",
              "            console.log([gd, 'removed!']);\n",
              "            Plotly.purge(gd);\n",
              "            observer.disconnect();\n",
              "        }}\n",
              "}});\n",
              "\n",
              "// Listen for the removal of the full notebook cells\n",
              "var notebookContainer = gd.closest('#notebook-container');\n",
              "if (notebookContainer) {{\n",
              "    x.observe(notebookContainer, {childList: true});\n",
              "}}\n",
              "\n",
              "// Listen for the clearing of the current output cell\n",
              "var outputEl = gd.closest('.output');\n",
              "if (outputEl) {{\n",
              "    x.observe(outputEl, {childList: true});\n",
              "}}\n",
              "\n",
              "                        })                };                            </script>        </div>\n",
              "</body>\n",
              "</html>"
            ]
          },
          "metadata": {}
        }
      ]
    },
    {
      "cell_type": "code",
      "source": [
        "#let's check the tweets length coloured by target value\n",
        "\n",
        "dataset['tweet_lengths'] = dataset['text'].apply(lambda x:len(x))\n",
        "fig = px.histogram(dataset, x=\"tweet_lengths\", color=\"target\")\n",
        "fig.show()\n",
        "\n",
        "# --> we can notice that there are more long tweets among tweets with target 0"
      ],
      "metadata": {
        "colab": {
          "base_uri": "https://localhost:8080/",
          "height": 542
        },
        "id": "9YQytsqxVQTM",
        "outputId": "9054d44d-3c2d-4de6-817b-0cd05a8947be"
      },
      "execution_count": null,
      "outputs": [
        {
          "output_type": "display_data",
          "data": {
            "text/html": [
              "<html>\n",
              "<head><meta charset=\"utf-8\" /></head>\n",
              "<body>\n",
              "    <div>            <script src=\"https://cdnjs.cloudflare.com/ajax/libs/mathjax/2.7.5/MathJax.js?config=TeX-AMS-MML_SVG\"></script><script type=\"text/javascript\">if (window.MathJax) {MathJax.Hub.Config({SVG: {font: \"STIX-Web\"}});}</script>                <script type=\"text/javascript\">window.PlotlyConfig = {MathJaxConfig: 'local'};</script>\n",
              "        <script src=\"https://cdn.plot.ly/plotly-2.8.3.min.js\"></script>                <div id=\"965a0aa3-1bd5-46b0-801c-00bb742ae1bf\" class=\"plotly-graph-div\" style=\"height:525px; width:100%;\"></div>            <script type=\"text/javascript\">                                    window.PLOTLYENV=window.PLOTLYENV || {};                                    if (document.getElementById(\"965a0aa3-1bd5-46b0-801c-00bb742ae1bf\")) {                    Plotly.newPlot(                        \"965a0aa3-1bd5-46b0-801c-00bb742ae1bf\",                        [{\"alignmentgroup\":\"True\",\"bingroup\":\"x\",\"hovertemplate\":\"target=1<br>tweet_lengths=%{x}<br>count=%{y}<extra></extra>\",\"legendgroup\":\"1\",\"marker\":{\"color\":\"#636efa\",\"pattern\":{\"shape\":\"\"}},\"name\":\"1\",\"offsetgroup\":\"1\",\"orientation\":\"v\",\"showlegend\":true,\"x\":[69,38,133,65,88,110,95,59,79,52,43,129,76,39,56,55,82,55,140,97,73,75,95,135,97,138,138,76,98,123,139,35,90,67,95,91,98,132,79,136,67,142,128,47,57,93,79,49,138,136,97,124,136,136,136,104,110,75,84,135,97,140,136,95,136,126,87,83,70,138,80,136,136,129,136,75,112,136,26,87,62,136,116,110,138,106,136,87,124,107,110,73,110,87,66,96,110,110,110,98,98,110,43,136,136,106,131,135,42,128,134,136,111,120,41,85,139,138,91,148,87,123,138,96,139,115,49,137,106,113,28,137,98,34,99,91,136,141,96,103,104,118,135,123,100,136,105,105,85,73,79,81,136,48,115,135,136,105,105,81,100,110,105,85,47,64,67,85,141,80,89,91,107,101,48,123,113,80,94,115,80,127,102,109,108,88,115,138,112,106,144,141,112,101,127,79,117,136,87,122,122,122,124,62,122,122,122,103,122,122,122,122,122,122,122,131,122,122,75,108,70,139,126,126,96,107,105,104,112,94,115,137,136,129,137,106,126,129,98,140,138,91,140,112,83,98,99,140,112,26,133,126,151,117,96,132,137,134,138,140,56,136,143,26,138,150,150,129,61,130,75,66,101,88,115,98,68,52,46,48,76,136,78,69,135,134,97,89,40,97,116,24,48,77,137,40,129,135,109,138,134,137,129,96,25,110,125,41,104,114,78,136,87,82,87,58,135,94,134,47,136,65,97,136,132,128,136,66,135,136,109,138,121,69,119,105,116,127,74,140,93,74,139,98,99,92,142,136,140,139,100,120,135,57,92,75,79,79,79,79,144,99,106,79,92,138,82,142,140,92,131,106,136,138,79,135,117,92,120,83,123,135,83,97,110,125,83,83,114,105,139,83,83,114,96,131,83,138,126,83,84,117,130,82,119,137,102,133,78,36,121,144,103,120,110,69,88,125,56,76,137,136,141,122,131,96,79,91,74,137,136,97,121,62,101,113,141,137,133,62,127,113,127,140,66,94,137,119,136,136,125,109,140,80,71,134,101,139,82,114,115,64,139,44,18,76,74,136,136,140,110,119,127,142,130,66,56,126,99,108,82,137,91,121,115,138,135,82,139,65,129,138,91,82,140,85,128,50,49,138,68,140,127,139,105,123,33,131,135,83,100,94,136,126,136,135,81,34,91,125,133,119,107,135,129,98,127,137,112,133,103,120,137,90,101,80,135,102,137,138,108,91,119,120,136,108,100,133,138,60,92,137,133,100,140,133,139,74,137,112,112,112,136,89,112,113,112,118,91,89,112,100,112,91,76,138,91,109,130,140,142,89,90,129,138,133,133,112,89,109,98,94,139,56,128,48,110,140,136,114,71,115,129,92,138,138,101,54,54,69,106,135,53,78,41,133,110,123,62,121,138,117,94,126,66,68,118,128,55,142,141,137,92,111,138,135,87,73,132,142,109,136,137,138,92,137,137,136,136,82,116,121,136,60,131,83,87,121,104,87,108,131,82,131,136,85,90,79,128,85,90,139,134,123,134,99,137,82,93,91,85,106,83,82,102,51,95,27,136,41,45,61,70,81,136,84,137,136,136,139,88,136,139,64,121,40,67,114,119,144,138,140,101,132,119,86,49,22,77,45,54,136,27,130,140,137,94,129,100,122,91,84,96,116,142,93,61,106,135,135,96,86,137,132,122,120,137,136,102,61,62,46,127,138,80,115,97,95,140,126,27,74,107,136,113,39,128,121,121,52,120,118,40,118,137,137,136,136,126,65,68,30,41,55,49,111,67,35,107,134,103,134,103,132,69,139,142,143,142,133,94,31,138,131,96,108,53,139,133,118,135,139,73,104,126,133,140,140,122,122,98,34,122,102,124,101,102,102,134,124,104,131,79,138,98,116,123,84,86,60,116,76,83,102,136,105,136,136,110,114,57,136,136,92,123,62,132,136,142,124,94,101,73,140,132,59,117,136,105,138,139,118,127,111,139,131,116,74,115,78,123,108,75,115,83,105,99,104,84,95,123,142,119,95,92,63,44,95,113,98,119,72,91,91,95,97,139,129,132,103,130,56,140,83,44,118,142,135,135,107,140,96,116,128,141,72,127,82,136,137,43,63,101,63,136,107,146,92,100,116,128,63,136,106,136,110,63,100,136,112,85,136,101,124,136,83,135,121,136,106,102,108,99,124,128,139,79,128,135,63,130,96,136,54,132,56,125,79,140,138,138,78,132,128,32,81,143,104,139,139,137,112,138,92,135,102,135,142,135,133,92,117,133,86,108,87,66,126,57,62,133,135,90,139,67,143,126,100,105,115,100,107,135,139,99,107,111,139,118,149,137,136,87,136,139,136,139,136,136,136,54,95,78,136,67,116,139,131,135,140,135,135,81,135,135,138,135,103,139,135,143,136,108,135,135,140,140,135,137,120,141,77,135,139,134,53,113,123,100,102,126,87,104,139,124,88,136,132,134,132,139,141,133,92,96,141,114,134,134,134,116,136,139,107,136,79,113,140,123,113,112,129,135,55,53,118,140,79,77,135,62,134,76,140,115,136,110,135,93,26,140,123,137,103,130,55,58,121,72,140,132,45,137,37,81,135,114,114,98,80,87,136,90,101,62,105,81,132,134,50,53,102,76,51,128,114,126,122,102,104,124,133,140,102,50,72,98,104,105,73,25,135,134,62,120,87,138,138,128,76,133,135,111,121,140,117,135,93,140,135,110,140,136,135,135,87,110,106,99,135,135,135,76,20,142,19,107,72,123,133,86,139,136,93,99,91,137,144,135,114,128,136,139,138,69,139,92,139,101,137,138,137,133,52,136,140,139,120,119,137,139,124,139,133,75,134,107,76,95,136,136,124,124,132,136,139,104,103,93,94,132,90,96,137,139,133,136,131,60,141,138,57,126,126,140,126,123,139,117,123,126,84,130,64,83,126,126,126,111,100,134,138,139,140,110,114,113,66,81,137,90,93,114,95,123,102,88,121,116,138,85,88,138,117,112,43,80,134,130,127,138,34,101,136,127,133,137,136,93,100,137,131,92,114,95,136,85,75,138,87,33,83,118,82,114,137,136,86,136,122,77,139,74,107,119,137,139,137,134,137,129,80,136,131,136,135,127,105,142,126,92,137,138,73,100,95,98,107,49,87,125,46,79,138,132,132,115,136,103,135,84,131,92,101,98,113,61,116,137,116,71,121,58,94,26,89,132,76,116,135,116,132,136,140,104,75,93,134,135,140,135,87,138,92,140,136,87,123,63,92,119,137,124,97,140,107,138,115,140,135,73,94,92,141,132,105,136,134,98,79,110,90,136,136,93,137,101,99,136,98,136,79,136,136,90,136,136,79,69,136,136,79,103,136,135,126,136,129,84,136,73,112,95,85,129,111,115,99,115,81,117,129,134,140,124,139,140,102,22,76,68,79,97,103,32,102,80,135,64,138,136,45,69,124,42,72,70,48,122,110,30,95,80,88,115,63,135,134,67,120,104,136,55,137,76,116,55,133,116,138,54,51,62,138,116,107,132,104,137,112,102,89,100,108,134,134,122,143,134,71,110,135,129,27,90,135,135,124,130,135,135,130,139,135,22,136,85,139,85,101,77,139,138,114,93,88,128,81,116,114,136,144,80,80,139,131,36,116,107,85,136,80,123,100,117,140,113,46,135,118,136,106,135,90,137,139,115,137,134,136,140,129,65,110,55,135,134,117,96,136,81,85,135,139,105,135,99,97,89,112,21,122,135,101,107,98,53,72,128,91,42,123,70,72,137,137,134,62,138,135,138,72,139,89,137,111,97,128,82,138,110,139,78,129,104,135,90,101,135,103,109,128,125,140,126,89,127,140,123,83,140,139,134,113,32,36,84,134,142,73,130,137,101,134,138,79,111,84,74,49,82,98,139,140,97,137,142,125,88,33,123,132,103,128,138,113,136,110,140,124,76,138,101,71,92,111,91,138,133,65,70,117,78,124,133,70,70,51,86,65,83,117,138,65,125,78,133,70,78,112,136,76,79,140,91,100,33,141,138,121,66,101,131,128,115,87,115,105,113,120,136,34,111,137,114,100,117,138,71,114,114,88,135,139,122,122,87,109,136,106,136,118,101,76,109,88,101,106,138,108,104,69,132,70,108,69,76,79,113,84,69,103,88,94,76,102,73,119,120,73,147,119,91,117,95,119,119,73,102,73,119,116,111,92,83,85,104,130,83,110,83,137,112,67,125,71,139,126,126,140,127,133,105,126,126,130,139,81,136,92,140,50,126,140,139,143,136,139,103,126,126,140,136,33,134,134,56,86,67,27,17,106,63,26,85,137,141,137,136,134,132,24,75,139,143,72,116,136,73,132,115,105,68,90,131,135,139,109,137,127,117,120,138,135,90,127,135,130,105,138,116,83,84,127,135,133,88,85,93,84,88,128,93,48,53,80,80,126,138,142,110,141,63,110,141,34,145,88,139,133,124,81,140,117,96,119,133,90,74,46,114,55,73,75,88,44,103,130,105,103,140,75,100,74,103,120,139,123,73,96,101,136,132,123,131,83,136,132,120,107,52,142,127,139,39,140,86,68,133,115,137,87,134,76,135,143,134,107,44,96,102,126,110,121,137,102,136,119,81,111,140,130,135,77,132,48,125,49,139,53,85,72,87,62,100,135,137,86,90,132,138,137,118,113,120,58,137,18,118,135,76,85,131,139,74,143,137,129,134,116,87,73,66,38,57,112,81,119,138,140,59,139,139,140,140,139,60,114,103,62,117,34,33,114,25,42,76,127,134,75,96,106,43,139,137,112,116,97,115,105,130,119,51,104,137,135,133,118,145,132,135,126,81,71,135,89,142,89,84,124,144,137,115,89,124,116,97,131,133,88,136,89,89,129,144,139,137,97,136,137,113,137,140,79,143,135,119,96,113,121,130,137,98,110,138,128,84,139,96,137,86,36,102,137,98,135,95,101,85,85,85,85,85,94,140,86,134,136,135,97,85,96,136,117,136,132,139,92,79,85,85,92,91,111,91,139,85,95,75,101,136,136,136,87,119,136,120,136,139,101,136,136,136,136,136,136,136,136,136,136,136,79,136,136,136,136,136,82,136,136,98,136,136,136,136,138,136,133,129,113,88,63,73,88,84,87,139,114,78,111,88,63,113,136,139,137,100,138,134,129,113,120,137,104,125,116,98,105,112,128,110,85,136,135,116,90,68,67,83,81,137,136,76,133,96,136,115,116,88,131,99,95,101,82,137,142,130,117,115,137,118,136,88,118,140,95,112,136,140,45,136,119,71,66,108,94,100,137,108,94,94,135,122,94,94,108,108,108,108,108,94,45,94,94,108,100,93,98,94,94,94,118,108,96,108,94,142,82,116,101,59,86,89,62,135,83,139,67,102,89,86,144,131,122,79,89,140,140,87,75,75,135,96,136,107,87,60,125,60,61,65,132,116,59,69,107,123,62,140,60,136,136,136,136,140,136,136,137,136,89,136,136,136,136,136,138,136,129,139,141,136,136,136,113,136,136,96,137,77,140,137,136,26,44,91,135,100,138,135,89,88,73,109,117,76,72,128,144,136,139,55,139,76,136,137,122,82,75,134,138,143,138,96,114,95,131,92,127,86,101,95,84,91,91,91,91,91,91,91,91,138,22,91,91,91,91,140,91,91,91,91,91,91,91,91,91,91,97,91,91,133,139,104,53,52,33,50,139,134,118,113,46,92,76,124,118,101,116,118,101,99,72,141,78,130,115,73,73,85,68,147,78,92,81,129,129,82,136,81,77,95,32,97,141,138,68,71,76,137,33,109,81,129,96,76,112,129,102,129,98,113,140,69,85,134,77,89,116,111,130,111,137,110,31,70,116,133,97,63,112,134,116,55,121,132,126,137,128,58,90,138,59,79,137,79,101,132,101,20,134,140,93,125,79,131,139,140,56,140,81,100,138,136,136,118,117,116,140,140,136,94,136,135,138,137,134,94,136,115,139,138,140,130,130,140,84,130,107,124,135,140,130,138,120,140,140,120,114,125,100,100,100,130,117,107,99,117,100,125,140,139,122,117,86,85,135,105,76,77,136,136,136,89,91,137,136,57,92,140,86,105,138,109,108,136,63,86,136,134,136,136,67,105,137,139,96,141,140,96,47,77,103,100,81,120,140,132,49,98,128,81,81,138,134,135,77,141,67,137,135,81,127,136,123,79,139,107,81,139,123,134,139,53,132,67,27,81,143,93,85,99,138,132,109,140,136,139,126,132,93,86,125,132,136,71,142,59,85,138,74,99,85,116,100,138,141,131,144,59,69,93,137,120,58,105,93,140,79,136,49,121,85,143,110,90,102,53,120,134,120,140,90,120,100,87,139,101,137,116,78,90,139,110,52,102,130,139,140,131,93,100,133,48,140,138,133,100,59,86,139,62,135,51,73,33,85,63,90,146,65,91,103,66,136,119,99,136,127,78,140,134,112,136,124,138,91,138,78,100,118,77,122,134,120,63,75,136,140,130,67,130,87,81,91,57,137,84,127,134,141,87,56,44,101,75,137,137,125,109,130,83,137,138,138,49,137,137,124,139,137,137,137,137,142,50,142,135,134,132,95,77,51,136,136,133,136,109,136,133,96,26,91,140,136,137,142,56,85,88,49,112,133,98,148,89,125,101,119,119,67,138,87,97,53,136,139,131,91,136,140,134,128,136,137,136,136,139,136,105,136,128,65,121,91,136,137,136,136,53,136,77,138,140,84,59,69,121,140,69,98,46,37,136,136,65,138,66,139,80,70,79,134,55,74,134,134,136,135,118,138,106,133,139,90,103,78,106,135,74,60,133,136,104,139,78,132,126,117,126,115,135,106,128,129,110,135,135,82,65,113,139,30,77,92,135,96,53,140,125,32,95,47,128,139,138,140,91,102,46,140,60,83,62,106,140,78,114,142,133,137,133,134,117,105,137,47,140,99,44,140,101,117,111,46,91,54,72,101,113,100,103,81,100,68,108,62,139,108,88,125,138,137,137,144,76,119,70,143,87,137,139,46,73,122,120,36,81,125,107,60,122,37,69,137,136,78,89,136,135,78,131,38,120,135,84,80,105,140,100,133,117,92,96,135,112,139,128,125,136,75,136,100,106,94,105,88,40,85,115,89,137,100,89,113,142,99,71,92,136,136,81,138,134,88,69,145,117,132,68,136,88,136,83,99,96,139,134,134,58,135,140,136,105,91,134,133,140,140,120,114,146,95,50,135,105,29,63,126,54,85,46,56,136,103,136,105,136,139,136,136,139,137,92,136,136,136,136,136,60,136,102,136,137,136,137,136,136,84,92,137,60,136,109,136,60,136,136,136,136,83,136,70,65,49,130,69,97,132,14,145,79,136,91,107,134,122,114,131,92,99,65,136,136,114,121,134,83,125,65,137,94],\"xaxis\":\"x\",\"yaxis\":\"y\",\"type\":\"histogram\"},{\"alignmentgroup\":\"True\",\"bingroup\":\"x\",\"hovertemplate\":\"target=0<br>tweet_lengths=%{x}<br>count=%{y}<extra></extra>\",\"legendgroup\":\"0\",\"marker\":{\"color\":\"#EF553B\",\"pattern\":{\"shape\":\"\"}},\"name\":\"0\",\"offsetgroup\":\"0\",\"orientation\":\"v\",\"showlegend\":true,\"x\":[14,13,16,17,28,22,17,11,21,8,30,21,18,9,18,8,67,34,76,122,22,114,61,120,44,92,96,63,114,138,134,130,124,119,85,135,98,80,85,140,129,139,90,67,142,80,46,138,53,139,49,110,138,73,138,53,125,69,83,60,109,34,138,138,138,54,138,138,139,123,136,72,130,128,132,110,135,61,27,34,114,101,78,136,80,71,126,68,104,85,103,89,72,34,83,103,121,109,103,103,133,47,102,97,64,120,69,101,110,43,110,127,105,82,90,24,94,89,125,123,86,78,140,122,73,139,133,136,138,46,115,62,138,123,139,118,138,84,92,139,124,148,144,140,139,139,95,87,139,46,49,126,17,99,120,36,65,25,142,139,133,142,73,88,97,82,134,140,114,70,138,133,91,94,120,35,65,65,116,78,133,78,132,110,125,133,96,103,120,27,140,135,131,107,107,139,134,81,44,126,41,136,141,63,102,136,138,122,83,89,103,98,89,89,103,102,127,107,73,139,103,140,103,89,103,84,97,138,137,89,88,89,88,139,137,137,103,97,117,31,18,107,58,139,101,23,127,107,80,97,59,21,98,27,64,136,139,46,118,39,61,136,24,98,21,56,79,107,46,60,35,48,136,120,100,63,90,95,69,137,45,133,77,56,17,40,127,28,47,122,133,67,42,130,136,89,133,80,53,112,92,34,125,102,60,131,126,117,131,99,114,96,131,117,121,116,138,106,128,73,49,79,81,114,52,97,120,133,138,84,136,138,49,75,44,88,88,79,30,137,54,44,126,106,138,123,83,138,104,95,139,112,135,106,107,107,83,138,84,98,140,141,136,124,26,136,140,129,26,139,23,44,92,131,38,22,120,137,47,40,80,19,92,125,140,39,77,125,75,38,61,118,118,59,93,100,93,76,125,110,29,33,140,76,91,135,139,139,68,120,86,141,41,70,105,79,127,95,43,129,121,123,56,18,95,37,139,96,104,32,96,139,136,139,79,85,81,64,62,127,59,97,132,86,78,96,44,39,58,121,45,57,43,67,90,139,76,59,55,68,115,110,35,32,55,80,46,50,72,51,99,91,134,112,138,118,52,54,73,125,26,35,116,143,59,117,22,91,37,31,75,87,140,54,26,26,126,86,136,139,19,12,140,87,84,89,115,95,139,49,138,114,119,59,41,62,68,117,106,51,139,130,130,126,138,64,34,125,49,111,38,137,139,71,28,117,20,61,48,51,65,72,140,100,55,41,65,33,73,34,68,34,32,41,88,66,74,68,132,24,14,62,86,122,134,108,92,31,73,120,121,74,54,65,94,114,37,32,53,99,58,74,23,97,118,26,88,119,35,128,70,46,33,121,90,68,88,79,144,49,97,95,121,140,15,37,144,123,93,118,55,138,53,58,134,42,67,105,80,122,112,85,127,121,139,46,20,32,122,65,46,129,134,129,110,97,142,121,137,101,82,120,113,131,138,35,66,30,92,136,139,139,138,114,137,133,133,108,115,137,139,97,139,136,139,139,116,129,97,139,133,139,55,139,130,139,139,133,129,48,139,123,101,68,33,122,138,86,85,51,48,132,86,82,104,71,84,113,77,85,138,132,139,123,56,101,139,60,45,72,132,83,121,99,38,81,100,119,34,116,136,99,132,126,121,36,83,139,114,18,114,144,120,125,39,66,122,138,66,56,35,132,138,132,124,35,138,108,144,125,125,138,70,35,37,78,64,87,45,107,49,35,45,57,43,35,88,137,44,138,37,82,55,40,130,138,43,96,77,140,135,126,67,113,86,73,31,31,63,54,105,136,136,138,140,105,87,47,131,93,69,129,86,82,97,117,64,122,94,135,140,139,124,79,136,138,19,39,157,132,132,136,70,113,41,75,63,44,139,85,83,52,111,95,112,61,103,52,50,87,106,140,114,135,59,72,138,89,57,124,136,93,86,75,47,115,40,112,94,133,102,140,84,93,140,95,118,140,131,132,111,125,129,115,139,113,96,116,130,130,126,112,112,127,130,108,135,138,103,110,58,60,139,126,116,131,36,137,88,107,117,36,123,62,31,97,32,111,45,87,136,139,122,105,140,50,140,133,128,99,21,93,106,140,102,86,136,133,74,74,98,118,138,135,74,128,87,77,112,143,123,135,62,135,136,126,136,114,107,140,124,138,138,138,139,138,88,138,114,107,137,102,136,138,111,143,135,107,121,68,58,132,136,46,60,46,98,79,34,114,29,140,124,64,27,59,98,60,72,131,77,86,108,131,137,137,70,100,90,127,111,96,135,92,98,88,96,73,113,133,136,76,83,129,132,135,138,138,139,85,135,89,46,109,44,128,136,128,130,44,123,143,93,69,46,73,18,133,110,53,80,113,45,117,138,130,55,42,98,63,59,128,52,125,129,130,52,83,140,93,108,137,117,113,108,102,57,88,120,139,138,91,120,136,127,123,75,130,141,25,64,137,138,125,132,90,61,135,93,82,88,64,75,63,137,136,53,108,124,78,104,57,109,45,33,122,73,131,142,116,114,80,109,45,66,108,79,104,61,95,37,119,110,37,128,101,95,132,80,105,53,62,101,39,108,64,47,27,52,73,45,50,43,99,45,75,137,58,82,69,42,73,81,77,78,51,77,84,105,64,66,27,7,35,26,41,35,119,125,19,46,39,88,96,121,90,54,104,33,37,96,73,105,52,128,140,55,75,137,79,32,33,142,97,88,43,49,63,142,65,44,104,41,43,74,42,139,88,58,111,139,130,142,127,48,27,98,40,132,70,68,60,142,139,136,106,52,117,57,140,78,71,123,127,106,38,129,99,52,139,55,56,62,82,140,71,127,135,133,26,91,140,122,135,34,58,146,133,44,136,140,131,125,113,116,139,67,136,47,104,63,138,134,115,111,97,109,88,102,115,43,95,141,138,56,131,69,139,68,101,80,34,84,141,122,41,44,132,140,92,66,41,142,76,24,100,83,140,120,35,50,108,80,136,17,87,118,97,96,70,24,99,70,51,139,39,109,112,81,44,110,77,49,32,144,138,133,139,62,130,31,138,138,144,92,130,84,72,94,138,46,138,107,85,136,124,63,102,133,112,130,121,57,97,105,140,89,80,137,119,75,39,140,140,134,143,136,135,87,141,132,139,87,88,132,132,137,132,132,132,139,101,108,132,132,132,136,99,132,132,100,136,105,136,141,101,136,135,46,79,105,85,121,56,59,36,117,131,138,53,85,56,83,137,132,131,138,139,113,148,83,92,33,69,137,79,135,43,53,138,60,89,29,138,69,139,86,138,75,51,63,117,73,138,56,88,129,58,107,114,64,137,43,35,131,91,137,139,124,77,108,68,131,99,138,103,85,118,140,136,141,140,104,146,112,142,140,132,134,62,83,140,140,136,114,121,133,91,81,140,129,135,35,115,107,73,130,110,117,138,83,126,85,114,92,73,124,133,132,109,117,13,65,111,131,137,69,111,90,100,131,139,103,85,109,139,124,65,120,72,95,104,140,108,121,138,136,89,124,131,115,137,83,74,112,34,132,129,42,102,139,79,68,114,130,137,96,100,73,120,128,45,98,119,124,97,80,66,17,46,143,121,78,25,135,126,139,78,96,106,137,130,26,37,94,106,106,134,106,86,34,113,84,120,106,129,116,105,125,111,106,116,136,64,137,136,92,140,67,102,86,47,134,55,108,136,73,84,62,136,61,110,136,39,51,138,114,38,51,99,59,91,101,58,101,60,78,97,58,87,32,64,99,99,62,73,55,82,108,134,101,89,83,99,124,122,118,101,100,99,136,95,108,118,79,94,101,139,107,118,85,119,124,139,114,139,125,101,113,39,133,70,87,114,109,32,65,34,25,70,129,135,117,138,136,68,138,122,101,102,52,40,109,56,42,64,125,42,52,34,133,60,109,95,143,122,93,133,106,89,131,136,134,134,76,89,71,136,108,99,106,56,48,85,77,132,78,140,117,42,115,89,93,23,90,57,60,63,43,46,90,49,145,36,45,43,127,65,53,136,116,90,132,97,47,139,111,123,49,136,55,103,143,135,118,76,136,38,81,55,65,121,112,138,79,31,133,136,102,32,138,138,138,100,131,138,61,28,65,96,100,52,139,39,138,131,38,139,135,27,116,98,45,59,134,95,125,65,94,118,140,94,129,133,94,117,94,77,136,53,97,80,135,135,23,29,73,137,48,114,105,128,69,20,27,62,34,91,74,54,132,51,92,108,109,81,22,117,38,117,117,126,117,38,119,70,85,95,56,141,57,140,69,111,72,101,89,123,132,103,64,120,89,39,100,103,83,134,76,139,17,139,90,104,108,135,125,140,138,59,86,135,136,139,113,97,110,111,102,135,59,112,127,102,140,107,84,91,111,68,93,134,131,122,142,134,101,137,137,88,113,117,138,109,134,136,141,137,132,130,142,104,127,138,126,141,123,106,56,102,123,34,100,51,103,102,130,123,137,98,100,123,102,101,103,121,66,68,120,70,50,134,74,120,138,69,87,116,44,66,87,79,78,138,44,96,24,99,136,138,112,114,73,87,132,111,112,104,98,140,114,54,143,78,124,84,131,99,143,62,96,111,68,43,33,121,143,126,108,25,143,26,76,130,94,72,138,143,65,29,143,78,24,44,57,111,139,133,146,137,79,92,76,139,137,108,79,76,36,52,100,76,129,24,131,137,62,75,137,139,139,73,76,97,128,92,139,140,95,139,139,124,113,132,120,139,126,139,134,126,31,82,119,136,130,130,124,109,135,113,113,112,61,138,137,113,108,132,130,47,94,138,44,72,141,139,139,105,67,83,93,79,79,64,48,82,73,69,74,118,52,101,61,16,123,91,111,107,135,48,106,139,53,45,112,73,76,138,58,134,83,124,83,124,59,129,130,68,9,8,125,33,46,108,47,38,26,33,138,36,40,72,25,97,64,130,126,130,13,80,36,83,137,88,128,61,81,132,138,64,140,132,120,37,140,114,38,66,98,99,32,38,140,97,90,72,139,138,35,111,138,105,140,20,134,118,95,134,43,31,78,46,79,50,10,36,135,127,138,52,35,30,64,136,49,115,78,77,104,23,57,76,113,121,46,126,141,123,103,39,50,111,101,97,68,140,132,139,140,130,87,124,78,130,103,116,112,117,92,105,139,139,109,44,87,138,37,97,48,45,45,64,139,124,140,50,134,102,69,36,87,115,104,105,109,82,71,94,106,47,42,47,33,70,122,127,116,80,31,140,105,60,33,130,133,133,128,135,30,39,139,131,139,115,139,88,139,139,126,131,139,22,139,68,145,126,137,139,139,139,139,139,139,139,139,130,134,65,138,86,76,105,84,52,42,77,40,143,126,143,135,137,91,96,112,137,125,137,94,138,70,97,136,87,92,96,53,40,60,72,102,44,80,96,113,133,113,29,33,39,105,131,67,29,114,49,97,98,94,39,118,98,134,85,65,107,51,129,120,90,56,136,143,112,80,144,132,138,35,140,57,90,92,58,112,88,82,51,84,137,101,132,140,63,56,96,137,138,142,82,115,108,62,19,128,81,68,121,126,49,84,82,106,76,139,140,136,125,123,97,73,73,110,131,93,128,105,65,121,78,133,74,135,137,139,140,51,64,117,135,137,86,36,119,94,111,121,131,49,97,114,100,114,100,120,70,138,120,107,107,130,38,58,78,138,133,80,132,120,114,114,130,107,114,107,100,50,55,124,123,137,96,119,87,133,84,97,132,119,82,42,114,37,135,127,134,122,128,105,108,108,100,117,108,108,133,103,94,109,109,114,108,87,109,119,119,119,119,119,119,119,85,119,119,130,119,119,119,138,121,140,70,120,23,89,117,44,136,59,69,136,114,67,137,43,140,113,57,138,88,97,133,131,126,114,115,66,93,45,40,42,139,93,55,75,122,33,71,87,139,56,139,21,140,66,74,131,66,46,120,72,110,28,136,48,50,141,111,129,107,128,120,50,133,98,133,138,107,94,124,84,131,78,79,134,87,85,46,70,122,120,115,95,142,98,123,133,140,113,98,126,133,89,76,88,122,87,61,115,138,98,82,127,98,139,74,137,58,108,130,134,137,101,75,139,79,138,129,139,122,61,134,111,95,128,127,144,40,138,139,140,136,133,138,136,110,138,77,126,67,77,39,58,136,50,88,54,137,136,138,71,85,111,139,137,115,61,68,140,142,76,140,67,131,67,82,139,114,129,115,54,67,116,22,40,80,132,48,139,87,16,104,11,118,53,139,138,139,35,76,126,139,103,145,90,92,29,123,107,100,71,55,66,28,109,130,105,134,136,78,60,133,134,135,139,140,110,139,67,138,124,90,137,138,133,152,135,137,58,131,136,68,134,82,100,92,135,142,135,40,126,110,136,47,139,98,71,137,81,76,108,51,123,134,129,7,27,140,61,117,113,106,62,121,62,115,44,126,65,126,116,19,41,135,135,32,85,76,145,126,70,129,116,139,115,83,126,90,87,135,142,110,60,92,127,136,68,39,135,87,127,136,138,133,45,104,92,76,24,109,130,91,43,46,140,8,94,78,132,88,122,140,108,109,94,136,134,108,98,111,114,142,135,111,110,138,111,111,90,137,136,132,134,120,63,56,106,42,69,100,103,48,49,110,59,135,49,77,95,117,94,61,41,26,45,74,99,34,52,64,104,118,72,140,82,138,88,116,74,115,142,111,115,72,129,106,126,120,7,140,87,92,109,140,54,95,64,133,89,72,99,51,55,96,113,138,82,111,98,62,136,140,144,140,64,139,70,138,53,80,60,86,28,119,46,81,76,102,135,82,121,126,110,91,139,110,135,64,46,11,87,69,27,106,140,101,84,92,139,127,122,128,30,84,34,80,50,61,83,84,104,139,58,36,117,82,95,125,143,135,135,76,76,79,96,44,78,76,139,128,138,138,77,95,124,72,95,135,139,38,124,34,104,125,136,108,94,120,86,43,86,71,113,95,71,88,146,88,133,59,91,88,88,65,109,103,63,108,128,134,16,43,71,133,130,66,76,128,48,46,136,116,91,68,96,94,121,92,88,81,147,131,134,22,138,61,133,136,75,102,132,93,32,25,132,60,43,78,71,55,23,98,130,78,71,66,72,131,95,93,59,117,114,49,89,100,85,66,27,124,103,66,62,65,103,73,141,111,76,136,90,138,102,135,62,83,139,95,138,128,127,67,109,113,121,116,80,136,113,80,67,122,136,136,84,78,106,140,67,125,136,135,136,67,67,91,113,99,67,92,124,133,137,124,136,136,114,69,137,63,82,124,137,124,141,138,136,137,142,124,132,124,136,85,137,133,103,130,50,94,112,119,97,100,102,111,25,68,128,29,136,112,70,78,138,109,105,119,139,135,123,136,136,92,131,139,121,141,59,121,139,66,113,137,137,113,112,48,59,105,105,104,82,97,58,79,71,113,138,106,113,110,45,137,78,89,112,140,107,113,67,79,130,143,124,129,71,128,131,135,66,134,120,122,92,91,96,135,75,128,141,95,136,117,95,78,116,113,141,138,142,105,124,135,66,137,59,137,43,59,143,109,94,87,28,76,67,137,117,99,138,113,138,145,138,95,138,142,80,96,138,31,129,92,138,82,95,122,83,22,47,138,41,75,72,25,117,101,110,38,85,51,63,83,83,97,36,112,78,43,32,109,40,102,54,99,94,54,141,74,114,31,42,81,139,66,61,87,46,44,65,90,59,78,139,65,79,106,119,52,66,85,130,87,79,110,81,128,118,134,114,127,71,86,53,50,140,87,89,39,50,134,47,87,63,133,32,24,44,109,59,58,57,68,134,60,25,19,63,117,123,117,80,66,59,47,73,98,138,37,55,40,58,72,143,47,56,26,119,35,20,32,133,135,80,78,60,47,31,31,77,23,70,74,47,77,97,48,77,54,120,59,64,83,11,47,136,134,123,118,136,84,125,101,88,121,122,63,130,101,139,83,136,139,90,115,138,90,129,67,136,88,128,68,112,109,136,129,101,86,137,129,91,130,67,100,35,104,129,98,72,138,95,139,78,65,130,130,129,109,104,131,109,70,36,41,109,80,103,140,20,47,100,40,142,128,129,86,79,119,52,140,87,54,61,97,130,136,136,72,143,50,60,45,48,45,126,128,44,81,106,64,141,104,93,26,70,14,35,127,43,118,37,128,29,62,90,129,79,89,81,35,75,120,61,49,47,22,44,134,92,95,54,100,18,78,33,108,84,38,34,123,72,93,41,35,96,35,124,68,15,62,136,93,48,78,139,140,140,50,80,139,116,111,86,64,131,134,135,146,137,15,136,33,124,115,89,77,106,69,141,14,44,135,63,47,70,97,98,93,126,64,138,144,102,100,54,135,51,98,62,55,105,62,63,63,63,111,57,56,70,91,57,77,138,100,80,63,102,125,91,121,101,139,132,134,131,52,128,133,132,123,20,121,87,70,89,78,134,72,50,94,91,103,147,53,59,138,126,90,139,54,70,109,38,53,138,138,140,125,44,52,133,140,57,106,136,96,68,96,95,138,104,34,53,118,77,127,61,124,144,67,134,99,12,126,129,49,120,34,100,126,119,138,123,130,41,63,132,70,66,79,101,80,62,130,44,67,71,147,131,127,139,79,57,43,25,135,118,127,122,97,137,90,120,120,114,64,94,102,109,132,120,100,43,30,101,28,76,70,142,124,137,85,138,80,81,128,139,53,112,60,31,82,25,72,107,38,116,27,71,40,102,51,51,116,134,137,43,45,16,34,102,137,31,10,58,51,89,91,134,111,104,29,75,33,82,92,39,90,97,118,127,40,104,104,125,26,89,45,91,114,109,78,81,59,142,128,81,65,106,120,140,138,54,128,60,39,84,95,136,53,137,77,113,137,54,130,137,77,136,28,112,136,101,91,135,136,77,77,105,120,140,123,83,49,68,122,139,102,138,68,126,43,84,124,139,106,117,112,110,116,73,19,71,83,72,128,34,30,108,87,60,25,111,44,28,92,133,94,135,121,123,86,135,68,136,52,89,74,69,63,84,77,88,136,108,135,12,44,50,99,87,122,85,147,71,46,75,81,129,92,107,70,64,126,132,80,140,58,69,18,146,73,29,69,133,43,96,133,23,121,80,35,38,29,140,86,122,96,28,138,18,34,105,148,67,84,136,75,39,55,121,52,136,81,139,128,111,93,62,54,34,123,100,69,138,49,96,117,57,34,122,29,137,122,91,127,131,80,140,79,129,41,82,98,138,134,125,75,139,103,138,79,79,67,100,99,86,80,80,117,122,135,122,136,132,77,87,117,129,137,104,139,119,66,135,140,136,142,132,132,132,143,120,67,38,113,123,89,90,31,60,87,99,61,108,47,93,48,134,82,36,107,73,134,105,95,33,130,19,96,121,77,81,109,54,56,51,106,34,120,130,62,109,124,123,42,19,56,121,122,118,102,113,129,132,69,29,139,102,144,100,137,127,130,129,123,138,129,88,129,138,133,36,122,138,80,88,140,129,128,41,122,100,147,132,110,139,18,139,140,112,68,107,51,143,133,142,78,140,140,140,72,51,130,138,95,52,125,51,90,102,95,77,84,84,73,136,95,140,75,69,96,136,98,132,140,107,58,134,136,138,95,69,52,128,74,134,139,68,71,88,119,139,80,128,134,44,18,137,139,73,66,84,123,120,106,52,101,92,128,123,76,12,107,79,69,85,102,101,140,84,124,136,123,45,120,33,68,74,140,121,110,114,130,78,85,136,138,45,101,41,109,129,93,100,120,87,97,46,94,118,112,46,70,40,38,29,26,25,117,48,96,17,137,91,88,70,80,63,51,49,107,48,107,93,104,80,127,18,60],\"xaxis\":\"x\",\"yaxis\":\"y\",\"type\":\"histogram\"}],                        {\"template\":{\"data\":{\"bar\":[{\"error_x\":{\"color\":\"#2a3f5f\"},\"error_y\":{\"color\":\"#2a3f5f\"},\"marker\":{\"line\":{\"color\":\"#E5ECF6\",\"width\":0.5},\"pattern\":{\"fillmode\":\"overlay\",\"size\":10,\"solidity\":0.2}},\"type\":\"bar\"}],\"barpolar\":[{\"marker\":{\"line\":{\"color\":\"#E5ECF6\",\"width\":0.5},\"pattern\":{\"fillmode\":\"overlay\",\"size\":10,\"solidity\":0.2}},\"type\":\"barpolar\"}],\"carpet\":[{\"aaxis\":{\"endlinecolor\":\"#2a3f5f\",\"gridcolor\":\"white\",\"linecolor\":\"white\",\"minorgridcolor\":\"white\",\"startlinecolor\":\"#2a3f5f\"},\"baxis\":{\"endlinecolor\":\"#2a3f5f\",\"gridcolor\":\"white\",\"linecolor\":\"white\",\"minorgridcolor\":\"white\",\"startlinecolor\":\"#2a3f5f\"},\"type\":\"carpet\"}],\"choropleth\":[{\"colorbar\":{\"outlinewidth\":0,\"ticks\":\"\"},\"type\":\"choropleth\"}],\"contour\":[{\"colorbar\":{\"outlinewidth\":0,\"ticks\":\"\"},\"colorscale\":[[0.0,\"#0d0887\"],[0.1111111111111111,\"#46039f\"],[0.2222222222222222,\"#7201a8\"],[0.3333333333333333,\"#9c179e\"],[0.4444444444444444,\"#bd3786\"],[0.5555555555555556,\"#d8576b\"],[0.6666666666666666,\"#ed7953\"],[0.7777777777777778,\"#fb9f3a\"],[0.8888888888888888,\"#fdca26\"],[1.0,\"#f0f921\"]],\"type\":\"contour\"}],\"contourcarpet\":[{\"colorbar\":{\"outlinewidth\":0,\"ticks\":\"\"},\"type\":\"contourcarpet\"}],\"heatmap\":[{\"colorbar\":{\"outlinewidth\":0,\"ticks\":\"\"},\"colorscale\":[[0.0,\"#0d0887\"],[0.1111111111111111,\"#46039f\"],[0.2222222222222222,\"#7201a8\"],[0.3333333333333333,\"#9c179e\"],[0.4444444444444444,\"#bd3786\"],[0.5555555555555556,\"#d8576b\"],[0.6666666666666666,\"#ed7953\"],[0.7777777777777778,\"#fb9f3a\"],[0.8888888888888888,\"#fdca26\"],[1.0,\"#f0f921\"]],\"type\":\"heatmap\"}],\"heatmapgl\":[{\"colorbar\":{\"outlinewidth\":0,\"ticks\":\"\"},\"colorscale\":[[0.0,\"#0d0887\"],[0.1111111111111111,\"#46039f\"],[0.2222222222222222,\"#7201a8\"],[0.3333333333333333,\"#9c179e\"],[0.4444444444444444,\"#bd3786\"],[0.5555555555555556,\"#d8576b\"],[0.6666666666666666,\"#ed7953\"],[0.7777777777777778,\"#fb9f3a\"],[0.8888888888888888,\"#fdca26\"],[1.0,\"#f0f921\"]],\"type\":\"heatmapgl\"}],\"histogram\":[{\"marker\":{\"pattern\":{\"fillmode\":\"overlay\",\"size\":10,\"solidity\":0.2}},\"type\":\"histogram\"}],\"histogram2d\":[{\"colorbar\":{\"outlinewidth\":0,\"ticks\":\"\"},\"colorscale\":[[0.0,\"#0d0887\"],[0.1111111111111111,\"#46039f\"],[0.2222222222222222,\"#7201a8\"],[0.3333333333333333,\"#9c179e\"],[0.4444444444444444,\"#bd3786\"],[0.5555555555555556,\"#d8576b\"],[0.6666666666666666,\"#ed7953\"],[0.7777777777777778,\"#fb9f3a\"],[0.8888888888888888,\"#fdca26\"],[1.0,\"#f0f921\"]],\"type\":\"histogram2d\"}],\"histogram2dcontour\":[{\"colorbar\":{\"outlinewidth\":0,\"ticks\":\"\"},\"colorscale\":[[0.0,\"#0d0887\"],[0.1111111111111111,\"#46039f\"],[0.2222222222222222,\"#7201a8\"],[0.3333333333333333,\"#9c179e\"],[0.4444444444444444,\"#bd3786\"],[0.5555555555555556,\"#d8576b\"],[0.6666666666666666,\"#ed7953\"],[0.7777777777777778,\"#fb9f3a\"],[0.8888888888888888,\"#fdca26\"],[1.0,\"#f0f921\"]],\"type\":\"histogram2dcontour\"}],\"mesh3d\":[{\"colorbar\":{\"outlinewidth\":0,\"ticks\":\"\"},\"type\":\"mesh3d\"}],\"parcoords\":[{\"line\":{\"colorbar\":{\"outlinewidth\":0,\"ticks\":\"\"}},\"type\":\"parcoords\"}],\"pie\":[{\"automargin\":true,\"type\":\"pie\"}],\"scatter\":[{\"marker\":{\"colorbar\":{\"outlinewidth\":0,\"ticks\":\"\"}},\"type\":\"scatter\"}],\"scatter3d\":[{\"line\":{\"colorbar\":{\"outlinewidth\":0,\"ticks\":\"\"}},\"marker\":{\"colorbar\":{\"outlinewidth\":0,\"ticks\":\"\"}},\"type\":\"scatter3d\"}],\"scattercarpet\":[{\"marker\":{\"colorbar\":{\"outlinewidth\":0,\"ticks\":\"\"}},\"type\":\"scattercarpet\"}],\"scattergeo\":[{\"marker\":{\"colorbar\":{\"outlinewidth\":0,\"ticks\":\"\"}},\"type\":\"scattergeo\"}],\"scattergl\":[{\"marker\":{\"colorbar\":{\"outlinewidth\":0,\"ticks\":\"\"}},\"type\":\"scattergl\"}],\"scattermapbox\":[{\"marker\":{\"colorbar\":{\"outlinewidth\":0,\"ticks\":\"\"}},\"type\":\"scattermapbox\"}],\"scatterpolar\":[{\"marker\":{\"colorbar\":{\"outlinewidth\":0,\"ticks\":\"\"}},\"type\":\"scatterpolar\"}],\"scatterpolargl\":[{\"marker\":{\"colorbar\":{\"outlinewidth\":0,\"ticks\":\"\"}},\"type\":\"scatterpolargl\"}],\"scatterternary\":[{\"marker\":{\"colorbar\":{\"outlinewidth\":0,\"ticks\":\"\"}},\"type\":\"scatterternary\"}],\"surface\":[{\"colorbar\":{\"outlinewidth\":0,\"ticks\":\"\"},\"colorscale\":[[0.0,\"#0d0887\"],[0.1111111111111111,\"#46039f\"],[0.2222222222222222,\"#7201a8\"],[0.3333333333333333,\"#9c179e\"],[0.4444444444444444,\"#bd3786\"],[0.5555555555555556,\"#d8576b\"],[0.6666666666666666,\"#ed7953\"],[0.7777777777777778,\"#fb9f3a\"],[0.8888888888888888,\"#fdca26\"],[1.0,\"#f0f921\"]],\"type\":\"surface\"}],\"table\":[{\"cells\":{\"fill\":{\"color\":\"#EBF0F8\"},\"line\":{\"color\":\"white\"}},\"header\":{\"fill\":{\"color\":\"#C8D4E3\"},\"line\":{\"color\":\"white\"}},\"type\":\"table\"}]},\"layout\":{\"annotationdefaults\":{\"arrowcolor\":\"#2a3f5f\",\"arrowhead\":0,\"arrowwidth\":1},\"autotypenumbers\":\"strict\",\"coloraxis\":{\"colorbar\":{\"outlinewidth\":0,\"ticks\":\"\"}},\"colorscale\":{\"diverging\":[[0,\"#8e0152\"],[0.1,\"#c51b7d\"],[0.2,\"#de77ae\"],[0.3,\"#f1b6da\"],[0.4,\"#fde0ef\"],[0.5,\"#f7f7f7\"],[0.6,\"#e6f5d0\"],[0.7,\"#b8e186\"],[0.8,\"#7fbc41\"],[0.9,\"#4d9221\"],[1,\"#276419\"]],\"sequential\":[[0.0,\"#0d0887\"],[0.1111111111111111,\"#46039f\"],[0.2222222222222222,\"#7201a8\"],[0.3333333333333333,\"#9c179e\"],[0.4444444444444444,\"#bd3786\"],[0.5555555555555556,\"#d8576b\"],[0.6666666666666666,\"#ed7953\"],[0.7777777777777778,\"#fb9f3a\"],[0.8888888888888888,\"#fdca26\"],[1.0,\"#f0f921\"]],\"sequentialminus\":[[0.0,\"#0d0887\"],[0.1111111111111111,\"#46039f\"],[0.2222222222222222,\"#7201a8\"],[0.3333333333333333,\"#9c179e\"],[0.4444444444444444,\"#bd3786\"],[0.5555555555555556,\"#d8576b\"],[0.6666666666666666,\"#ed7953\"],[0.7777777777777778,\"#fb9f3a\"],[0.8888888888888888,\"#fdca26\"],[1.0,\"#f0f921\"]]},\"colorway\":[\"#636efa\",\"#EF553B\",\"#00cc96\",\"#ab63fa\",\"#FFA15A\",\"#19d3f3\",\"#FF6692\",\"#B6E880\",\"#FF97FF\",\"#FECB52\"],\"font\":{\"color\":\"#2a3f5f\"},\"geo\":{\"bgcolor\":\"white\",\"lakecolor\":\"white\",\"landcolor\":\"#E5ECF6\",\"showlakes\":true,\"showland\":true,\"subunitcolor\":\"white\"},\"hoverlabel\":{\"align\":\"left\"},\"hovermode\":\"closest\",\"mapbox\":{\"style\":\"light\"},\"paper_bgcolor\":\"white\",\"plot_bgcolor\":\"#E5ECF6\",\"polar\":{\"angularaxis\":{\"gridcolor\":\"white\",\"linecolor\":\"white\",\"ticks\":\"\"},\"bgcolor\":\"#E5ECF6\",\"radialaxis\":{\"gridcolor\":\"white\",\"linecolor\":\"white\",\"ticks\":\"\"}},\"scene\":{\"xaxis\":{\"backgroundcolor\":\"#E5ECF6\",\"gridcolor\":\"white\",\"gridwidth\":2,\"linecolor\":\"white\",\"showbackground\":true,\"ticks\":\"\",\"zerolinecolor\":\"white\"},\"yaxis\":{\"backgroundcolor\":\"#E5ECF6\",\"gridcolor\":\"white\",\"gridwidth\":2,\"linecolor\":\"white\",\"showbackground\":true,\"ticks\":\"\",\"zerolinecolor\":\"white\"},\"zaxis\":{\"backgroundcolor\":\"#E5ECF6\",\"gridcolor\":\"white\",\"gridwidth\":2,\"linecolor\":\"white\",\"showbackground\":true,\"ticks\":\"\",\"zerolinecolor\":\"white\"}},\"shapedefaults\":{\"line\":{\"color\":\"#2a3f5f\"}},\"ternary\":{\"aaxis\":{\"gridcolor\":\"white\",\"linecolor\":\"white\",\"ticks\":\"\"},\"baxis\":{\"gridcolor\":\"white\",\"linecolor\":\"white\",\"ticks\":\"\"},\"bgcolor\":\"#E5ECF6\",\"caxis\":{\"gridcolor\":\"white\",\"linecolor\":\"white\",\"ticks\":\"\"}},\"title\":{\"x\":0.05},\"xaxis\":{\"automargin\":true,\"gridcolor\":\"white\",\"linecolor\":\"white\",\"ticks\":\"\",\"title\":{\"standoff\":15},\"zerolinecolor\":\"white\",\"zerolinewidth\":2},\"yaxis\":{\"automargin\":true,\"gridcolor\":\"white\",\"linecolor\":\"white\",\"ticks\":\"\",\"title\":{\"standoff\":15},\"zerolinecolor\":\"white\",\"zerolinewidth\":2}}},\"xaxis\":{\"anchor\":\"y\",\"domain\":[0.0,1.0],\"title\":{\"text\":\"tweet_lengths\"}},\"yaxis\":{\"anchor\":\"x\",\"domain\":[0.0,1.0],\"title\":{\"text\":\"count\"}},\"legend\":{\"title\":{\"text\":\"target\"},\"tracegroupgap\":0},\"margin\":{\"t\":60},\"barmode\":\"relative\"},                        {\"responsive\": true}                    ).then(function(){\n",
              "                            \n",
              "var gd = document.getElementById('965a0aa3-1bd5-46b0-801c-00bb742ae1bf');\n",
              "var x = new MutationObserver(function (mutations, observer) {{\n",
              "        var display = window.getComputedStyle(gd).display;\n",
              "        if (!display || display === 'none') {{\n",
              "            console.log([gd, 'removed!']);\n",
              "            Plotly.purge(gd);\n",
              "            observer.disconnect();\n",
              "        }}\n",
              "}});\n",
              "\n",
              "// Listen for the removal of the full notebook cells\n",
              "var notebookContainer = gd.closest('#notebook-container');\n",
              "if (notebookContainer) {{\n",
              "    x.observe(notebookContainer, {childList: true});\n",
              "}}\n",
              "\n",
              "// Listen for the clearing of the current output cell\n",
              "var outputEl = gd.closest('.output');\n",
              "if (outputEl) {{\n",
              "    x.observe(outputEl, {childList: true});\n",
              "}}\n",
              "\n",
              "                        })                };                            </script>        </div>\n",
              "</body>\n",
              "</html>"
            ]
          },
          "metadata": {}
        }
      ]
    },
    {
      "cell_type": "code",
      "source": [
        "# Let's take the columns we're interested in :\n",
        "# Id is useless to the modelization\n",
        "# We don't know what to to do wuth key variable, we chose to drop it \n",
        "# location have too many missing values, and dont seem to have a direct link with the targe.\n",
        "data = dataset[['text','target']]\n",
        "data.head()"
      ],
      "metadata": {
        "colab": {
          "base_uri": "https://localhost:8080/",
          "height": 206
        },
        "id": "eqMcYHAOY8Ay",
        "outputId": "09559b87-2cf7-4fa0-8c51-a8daf35d200c"
      },
      "execution_count": null,
      "outputs": [
        {
          "output_type": "execute_result",
          "data": {
            "text/plain": [
              "                                                text  target\n",
              "0  Our Deeds are the Reason of this #earthquake M...       1\n",
              "1             Forest fire near La Ronge Sask. Canada       1\n",
              "2  All residents asked to 'shelter in place' are ...       1\n",
              "3  13,000 people receive #wildfires evacuation or...       1\n",
              "4  Just got sent this photo from Ruby #Alaska as ...       1"
            ],
            "text/html": [
              "\n",
              "  <div id=\"df-bbff4df0-e5b5-42c8-bb42-f887d176dda4\">\n",
              "    <div class=\"colab-df-container\">\n",
              "      <div>\n",
              "<style scoped>\n",
              "    .dataframe tbody tr th:only-of-type {\n",
              "        vertical-align: middle;\n",
              "    }\n",
              "\n",
              "    .dataframe tbody tr th {\n",
              "        vertical-align: top;\n",
              "    }\n",
              "\n",
              "    .dataframe thead th {\n",
              "        text-align: right;\n",
              "    }\n",
              "</style>\n",
              "<table border=\"1\" class=\"dataframe\">\n",
              "  <thead>\n",
              "    <tr style=\"text-align: right;\">\n",
              "      <th></th>\n",
              "      <th>text</th>\n",
              "      <th>target</th>\n",
              "    </tr>\n",
              "  </thead>\n",
              "  <tbody>\n",
              "    <tr>\n",
              "      <th>0</th>\n",
              "      <td>Our Deeds are the Reason of this #earthquake M...</td>\n",
              "      <td>1</td>\n",
              "    </tr>\n",
              "    <tr>\n",
              "      <th>1</th>\n",
              "      <td>Forest fire near La Ronge Sask. Canada</td>\n",
              "      <td>1</td>\n",
              "    </tr>\n",
              "    <tr>\n",
              "      <th>2</th>\n",
              "      <td>All residents asked to 'shelter in place' are ...</td>\n",
              "      <td>1</td>\n",
              "    </tr>\n",
              "    <tr>\n",
              "      <th>3</th>\n",
              "      <td>13,000 people receive #wildfires evacuation or...</td>\n",
              "      <td>1</td>\n",
              "    </tr>\n",
              "    <tr>\n",
              "      <th>4</th>\n",
              "      <td>Just got sent this photo from Ruby #Alaska as ...</td>\n",
              "      <td>1</td>\n",
              "    </tr>\n",
              "  </tbody>\n",
              "</table>\n",
              "</div>\n",
              "      <button class=\"colab-df-convert\" onclick=\"convertToInteractive('df-bbff4df0-e5b5-42c8-bb42-f887d176dda4')\"\n",
              "              title=\"Convert this dataframe to an interactive table.\"\n",
              "              style=\"display:none;\">\n",
              "        \n",
              "  <svg xmlns=\"http://www.w3.org/2000/svg\" height=\"24px\"viewBox=\"0 0 24 24\"\n",
              "       width=\"24px\">\n",
              "    <path d=\"M0 0h24v24H0V0z\" fill=\"none\"/>\n",
              "    <path d=\"M18.56 5.44l.94 2.06.94-2.06 2.06-.94-2.06-.94-.94-2.06-.94 2.06-2.06.94zm-11 1L8.5 8.5l.94-2.06 2.06-.94-2.06-.94L8.5 2.5l-.94 2.06-2.06.94zm10 10l.94 2.06.94-2.06 2.06-.94-2.06-.94-.94-2.06-.94 2.06-2.06.94z\"/><path d=\"M17.41 7.96l-1.37-1.37c-.4-.4-.92-.59-1.43-.59-.52 0-1.04.2-1.43.59L10.3 9.45l-7.72 7.72c-.78.78-.78 2.05 0 2.83L4 21.41c.39.39.9.59 1.41.59.51 0 1.02-.2 1.41-.59l7.78-7.78 2.81-2.81c.8-.78.8-2.07 0-2.86zM5.41 20L4 18.59l7.72-7.72 1.47 1.35L5.41 20z\"/>\n",
              "  </svg>\n",
              "      </button>\n",
              "      \n",
              "  <style>\n",
              "    .colab-df-container {\n",
              "      display:flex;\n",
              "      flex-wrap:wrap;\n",
              "      gap: 12px;\n",
              "    }\n",
              "\n",
              "    .colab-df-convert {\n",
              "      background-color: #E8F0FE;\n",
              "      border: none;\n",
              "      border-radius: 50%;\n",
              "      cursor: pointer;\n",
              "      display: none;\n",
              "      fill: #1967D2;\n",
              "      height: 32px;\n",
              "      padding: 0 0 0 0;\n",
              "      width: 32px;\n",
              "    }\n",
              "\n",
              "    .colab-df-convert:hover {\n",
              "      background-color: #E2EBFA;\n",
              "      box-shadow: 0px 1px 2px rgba(60, 64, 67, 0.3), 0px 1px 3px 1px rgba(60, 64, 67, 0.15);\n",
              "      fill: #174EA6;\n",
              "    }\n",
              "\n",
              "    [theme=dark] .colab-df-convert {\n",
              "      background-color: #3B4455;\n",
              "      fill: #D2E3FC;\n",
              "    }\n",
              "\n",
              "    [theme=dark] .colab-df-convert:hover {\n",
              "      background-color: #434B5C;\n",
              "      box-shadow: 0px 1px 3px 1px rgba(0, 0, 0, 0.15);\n",
              "      filter: drop-shadow(0px 1px 2px rgba(0, 0, 0, 0.3));\n",
              "      fill: #FFFFFF;\n",
              "    }\n",
              "  </style>\n",
              "\n",
              "      <script>\n",
              "        const buttonEl =\n",
              "          document.querySelector('#df-bbff4df0-e5b5-42c8-bb42-f887d176dda4 button.colab-df-convert');\n",
              "        buttonEl.style.display =\n",
              "          google.colab.kernel.accessAllowed ? 'block' : 'none';\n",
              "\n",
              "        async function convertToInteractive(key) {\n",
              "          const element = document.querySelector('#df-bbff4df0-e5b5-42c8-bb42-f887d176dda4');\n",
              "          const dataTable =\n",
              "            await google.colab.kernel.invokeFunction('convertToInteractive',\n",
              "                                                     [key], {});\n",
              "          if (!dataTable) return;\n",
              "\n",
              "          const docLinkHtml = 'Like what you see? Visit the ' +\n",
              "            '<a target=\"_blank\" href=https://colab.research.google.com/notebooks/data_table.ipynb>data table notebook</a>'\n",
              "            + ' to learn more about interactive tables.';\n",
              "          element.innerHTML = '';\n",
              "          dataTable['output_type'] = 'display_data';\n",
              "          await google.colab.output.renderOutput(dataTable, element);\n",
              "          const docLink = document.createElement('div');\n",
              "          docLink.innerHTML = docLinkHtml;\n",
              "          element.appendChild(docLink);\n",
              "        }\n",
              "      </script>\n",
              "    </div>\n",
              "  </div>\n",
              "  "
            ]
          },
          "metadata": {},
          "execution_count": 38
        }
      ]
    },
    {
      "cell_type": "code",
      "source": [
        "#word cloud in our dataset\n",
        "from wordcloud import WordCloud\n",
        "from PIL import Image\n",
        "from spacy.lang.en.stop_words import STOP_WORDS\n",
        "\n",
        "wordcloud = WordCloud(background_color = 'white', stopwords = STOP_WORDS, max_words = 100).generate(' '.join(dataset['text']))\n",
        "plt.imshow(wordcloud)\n",
        "plt.axis(\"off\")\n",
        "plt.show()"
      ],
      "metadata": {
        "colab": {
          "base_uri": "https://localhost:8080/",
          "height": 198
        },
        "id": "3cLMlni-iaWa",
        "outputId": "e96a269c-b9cd-440e-fc2b-6c745886c48f"
      },
      "execution_count": null,
      "outputs": [
        {
          "output_type": "display_data",
          "data": {
            "text/plain": [
              "<Figure size 432x288 with 1 Axes>"
            ],
            "image/png": "[encoded data removed]"
          },
          "metadata": {}
        }
      ]
    },
    {
      "cell_type": "code",
      "source": [
        "# --> Too many stop words need to be cleaned, we will preprocess the text column in order to train an nlp model properly"
      ],
      "metadata": {
        "id": "GkZsKbd1luT7"
      },
      "execution_count": null,
      "outputs": []
    },
    {
      "cell_type": "markdown",
      "metadata": {
        "id": "M16hcEuuaQVm"
      },
      "source": [
        "## Preprocessing text data"
      ]
    },
    {
      "cell_type": "code",
      "metadata": {
        "id": "9BYbIDcN8pgt",
        "colab": {
          "base_uri": "https://localhost:8080/"
        },
        "outputId": "4a2d2cf0-2931-4202-8f4f-70832fda09eb"
      },
      "source": [
        "!python -m spacy download en_core_web_sm -q"
      ],
      "execution_count": null,
      "outputs": [
        {
          "output_type": "stream",
          "name": "stdout",
          "text": [
            "\u001b[K     |████████████████████████████████| 12.8 MB 5.2 MB/s \n",
            "\u001b[?25h\u001b[38;5;2m✔ Download and installation successful\u001b[0m\n",
            "You can now load the package via spacy.load('en_core_web_sm')\n"
          ]
        }
      ]
    },
    {
      "cell_type": "code",
      "source": [
        "import en_core_web_sm\n",
        "nlp = en_core_web_sm.load()"
      ],
      "metadata": {
        "id": "GgYidNyqcpzf"
      },
      "execution_count": null,
      "outputs": []
    },
    {
      "cell_type": "code",
      "source": [
        "# Remove all non alphanumeric characters except whitespaces\n",
        "data[\"text_clean\"] = data[\"text\"].apply(lambda x:''.join(ch for ch in x if ch.isalnum() or ch==\" \"))\n",
        "# remove double spaces and spaces at the beginning and end of strings\n",
        "data[\"text_clean\"] = data[\"text_clean\"].apply(lambda x: x.replace(\" +\",\" \").lower().strip())\n",
        "# remove stop words and replace everyword with their lemma\n",
        "data[\"text_clean\"] = data[\"text_clean\"].apply(lambda x: \" \".join([token.lemma_ for token in nlp(x) if (token.lemma_ not in STOP_WORDS) & (token.text not in STOP_WORDS)]))"
      ],
      "metadata": {
        "colab": {
          "base_uri": "https://localhost:8080/"
        },
        "id": "Did_Mfc1dJHx",
        "outputId": "416fa5f4-a0f9-481b-e429-92a6c77edce6"
      },
      "execution_count": null,
      "outputs": [
        {
          "output_type": "stream",
          "name": "stderr",
          "text": [
            "/usr/local/lib/python3.7/dist-packages/ipykernel_launcher.py:2: SettingWithCopyWarning:\n",
            "\n",
            "\n",
            "A value is trying to be set on a copy of a slice from a DataFrame.\n",
            "Try using .loc[row_indexer,col_indexer] = value instead\n",
            "\n",
            "See the caveats in the documentation: https://pandas.pydata.org/pandas-docs/stable/user_guide/indexing.html#returning-a-view-versus-a-copy\n",
            "\n",
            "/usr/local/lib/python3.7/dist-packages/ipykernel_launcher.py:4: SettingWithCopyWarning:\n",
            "\n",
            "\n",
            "A value is trying to be set on a copy of a slice from a DataFrame.\n",
            "Try using .loc[row_indexer,col_indexer] = value instead\n",
            "\n",
            "See the caveats in the documentation: https://pandas.pydata.org/pandas-docs/stable/user_guide/indexing.html#returning-a-view-versus-a-copy\n",
            "\n",
            "/usr/local/lib/python3.7/dist-packages/ipykernel_launcher.py:6: SettingWithCopyWarning:\n",
            "\n",
            "\n",
            "A value is trying to be set on a copy of a slice from a DataFrame.\n",
            "Try using .loc[row_indexer,col_indexer] = value instead\n",
            "\n",
            "See the caveats in the documentation: https://pandas.pydata.org/pandas-docs/stable/user_guide/indexing.html#returning-a-view-versus-a-copy\n",
            "\n"
          ]
        }
      ]
    },
    {
      "cell_type": "code",
      "source": [
        "data.head()"
      ],
      "metadata": {
        "colab": {
          "base_uri": "https://localhost:8080/",
          "height": 206
        },
        "id": "JphmajWBeCSH",
        "outputId": "6fb65433-b836-4fa9-e105-62231ff54f15"
      },
      "execution_count": null,
      "outputs": [
        {
          "output_type": "execute_result",
          "data": {
            "text/plain": [
              "                                                text  target  \\\n",
              "0  Our Deeds are the Reason of this #earthquake M...       1   \n",
              "1             Forest fire near La Ronge Sask. Canada       1   \n",
              "2  All residents asked to 'shelter in place' are ...       1   \n",
              "3  13,000 people receive #wildfires evacuation or...       1   \n",
              "4  Just got sent this photo from Ruby #Alaska as ...       1   \n",
              "\n",
              "                                          text_clean  \n",
              "0               deed reason earthquake allah forgive  \n",
              "1              forest fire near la ronge sask canada  \n",
              "2  resident ask shelter place notify officer evac...  \n",
              "3  13000 people receive wildfire evacuation order...  \n",
              "4  got send photo ruby alaska smoke wildfire pour...  "
            ],
            "text/html": [
              "\n",
              "  <div id=\"df-c34f33d4-3787-4dbf-a404-b627e84e29cf\">\n",
              "    <div class=\"colab-df-container\">\n",
              "      <div>\n",
              "<style scoped>\n",
              "    .dataframe tbody tr th:only-of-type {\n",
              "        vertical-align: middle;\n",
              "    }\n",
              "\n",
              "    .dataframe tbody tr th {\n",
              "        vertical-align: top;\n",
              "    }\n",
              "\n",
              "    .dataframe thead th {\n",
              "        text-align: right;\n",
              "    }\n",
              "</style>\n",
              "<table border=\"1\" class=\"dataframe\">\n",
              "  <thead>\n",
              "    <tr style=\"text-align: right;\">\n",
              "      <th></th>\n",
              "      <th>text</th>\n",
              "      <th>target</th>\n",
              "      <th>text_clean</th>\n",
              "    </tr>\n",
              "  </thead>\n",
              "  <tbody>\n",
              "    <tr>\n",
              "      <th>0</th>\n",
              "      <td>Our Deeds are the Reason of this #earthquake M...</td>\n",
              "      <td>1</td>\n",
              "      <td>deed reason earthquake allah forgive</td>\n",
              "    </tr>\n",
              "    <tr>\n",
              "      <th>1</th>\n",
              "      <td>Forest fire near La Ronge Sask. Canada</td>\n",
              "      <td>1</td>\n",
              "      <td>forest fire near la ronge sask canada</td>\n",
              "    </tr>\n",
              "    <tr>\n",
              "      <th>2</th>\n",
              "      <td>All residents asked to 'shelter in place' are ...</td>\n",
              "      <td>1</td>\n",
              "      <td>resident ask shelter place notify officer evac...</td>\n",
              "    </tr>\n",
              "    <tr>\n",
              "      <th>3</th>\n",
              "      <td>13,000 people receive #wildfires evacuation or...</td>\n",
              "      <td>1</td>\n",
              "      <td>13000 people receive wildfire evacuation order...</td>\n",
              "    </tr>\n",
              "    <tr>\n",
              "      <th>4</th>\n",
              "      <td>Just got sent this photo from Ruby #Alaska as ...</td>\n",
              "      <td>1</td>\n",
              "      <td>got send photo ruby alaska smoke wildfire pour...</td>\n",
              "    </tr>\n",
              "  </tbody>\n",
              "</table>\n",
              "</div>\n",
              "      <button class=\"colab-df-convert\" onclick=\"convertToInteractive('df-c34f33d4-3787-4dbf-a404-b627e84e29cf')\"\n",
              "              title=\"Convert this dataframe to an interactive table.\"\n",
              "              style=\"display:none;\">\n",
              "        \n",
              "  <svg xmlns=\"http://www.w3.org/2000/svg\" height=\"24px\"viewBox=\"0 0 24 24\"\n",
              "       width=\"24px\">\n",
              "    <path d=\"M0 0h24v24H0V0z\" fill=\"none\"/>\n",
              "    <path d=\"M18.56 5.44l.94 2.06.94-2.06 2.06-.94-2.06-.94-.94-2.06-.94 2.06-2.06.94zm-11 1L8.5 8.5l.94-2.06 2.06-.94-2.06-.94L8.5 2.5l-.94 2.06-2.06.94zm10 10l.94 2.06.94-2.06 2.06-.94-2.06-.94-.94-2.06-.94 2.06-2.06.94z\"/><path d=\"M17.41 7.96l-1.37-1.37c-.4-.4-.92-.59-1.43-.59-.52 0-1.04.2-1.43.59L10.3 9.45l-7.72 7.72c-.78.78-.78 2.05 0 2.83L4 21.41c.39.39.9.59 1.41.59.51 0 1.02-.2 1.41-.59l7.78-7.78 2.81-2.81c.8-.78.8-2.07 0-2.86zM5.41 20L4 18.59l7.72-7.72 1.47 1.35L5.41 20z\"/>\n",
              "  </svg>\n",
              "      </button>\n",
              "      \n",
              "  <style>\n",
              "    .colab-df-container {\n",
              "      display:flex;\n",
              "      flex-wrap:wrap;\n",
              "      gap: 12px;\n",
              "    }\n",
              "\n",
              "    .colab-df-convert {\n",
              "      background-color: #E8F0FE;\n",
              "      border: none;\n",
              "      border-radius: 50%;\n",
              "      cursor: pointer;\n",
              "      display: none;\n",
              "      fill: #1967D2;\n",
              "      height: 32px;\n",
              "      padding: 0 0 0 0;\n",
              "      width: 32px;\n",
              "    }\n",
              "\n",
              "    .colab-df-convert:hover {\n",
              "      background-color: #E2EBFA;\n",
              "      box-shadow: 0px 1px 2px rgba(60, 64, 67, 0.3), 0px 1px 3px 1px rgba(60, 64, 67, 0.15);\n",
              "      fill: #174EA6;\n",
              "    }\n",
              "\n",
              "    [theme=dark] .colab-df-convert {\n",
              "      background-color: #3B4455;\n",
              "      fill: #D2E3FC;\n",
              "    }\n",
              "\n",
              "    [theme=dark] .colab-df-convert:hover {\n",
              "      background-color: #434B5C;\n",
              "      box-shadow: 0px 1px 3px 1px rgba(0, 0, 0, 0.15);\n",
              "      filter: drop-shadow(0px 1px 2px rgba(0, 0, 0, 0.3));\n",
              "      fill: #FFFFFF;\n",
              "    }\n",
              "  </style>\n",
              "\n",
              "      <script>\n",
              "        const buttonEl =\n",
              "          document.querySelector('#df-c34f33d4-3787-4dbf-a404-b627e84e29cf button.colab-df-convert');\n",
              "        buttonEl.style.display =\n",
              "          google.colab.kernel.accessAllowed ? 'block' : 'none';\n",
              "\n",
              "        async function convertToInteractive(key) {\n",
              "          const element = document.querySelector('#df-c34f33d4-3787-4dbf-a404-b627e84e29cf');\n",
              "          const dataTable =\n",
              "            await google.colab.kernel.invokeFunction('convertToInteractive',\n",
              "                                                     [key], {});\n",
              "          if (!dataTable) return;\n",
              "\n",
              "          const docLinkHtml = 'Like what you see? Visit the ' +\n",
              "            '<a target=\"_blank\" href=https://colab.research.google.com/notebooks/data_table.ipynb>data table notebook</a>'\n",
              "            + ' to learn more about interactive tables.';\n",
              "          element.innerHTML = '';\n",
              "          dataTable['output_type'] = 'display_data';\n",
              "          await google.colab.output.renderOutput(dataTable, element);\n",
              "          const docLink = document.createElement('div');\n",
              "          docLink.innerHTML = docLinkHtml;\n",
              "          element.appendChild(docLink);\n",
              "        }\n",
              "      </script>\n",
              "    </div>\n",
              "  </div>\n",
              "  "
            ]
          },
          "metadata": {},
          "execution_count": 42
        }
      ]
    },
    {
      "cell_type": "markdown",
      "metadata": {
        "id": "wZM9Z-d3ciUv"
      },
      "source": [
        "###Tokenizing our tweets\n",
        "Using tf.keras.preprocessing.text.Tokenizer Tokenizer, we encode all the tweets into tokens"
      ]
    },
    {
      "cell_type": "code",
      "metadata": {
        "id": "N99nk0zP9hgm",
        "colab": {
          "base_uri": "https://localhost:8080/"
        },
        "outputId": "a691a6f1-facb-4038-81af-2fe10bca5c8e"
      },
      "source": [
        "tokenizer = tf.keras.preprocessing.text.Tokenizer() \n",
        "tokenizer.fit_on_texts(data.text_clean)\n",
        "data[\"text_encoded\"] = tokenizer.texts_to_sequences(data.text_clean)\n",
        "data[\"len_tweet\"] = data[\"text_encoded\"].apply(lambda x: len(x))\n",
        "data = data[data[\"len_tweet\"]!=0] #some tweets might have been entirely erased, we remove those tweets"
      ],
      "execution_count": null,
      "outputs": [
        {
          "output_type": "stream",
          "name": "stderr",
          "text": [
            "/usr/local/lib/python3.7/dist-packages/ipykernel_launcher.py:3: SettingWithCopyWarning:\n",
            "\n",
            "\n",
            "A value is trying to be set on a copy of a slice from a DataFrame.\n",
            "Try using .loc[row_indexer,col_indexer] = value instead\n",
            "\n",
            "See the caveats in the documentation: https://pandas.pydata.org/pandas-docs/stable/user_guide/indexing.html#returning-a-view-versus-a-copy\n",
            "\n",
            "/usr/local/lib/python3.7/dist-packages/ipykernel_launcher.py:4: SettingWithCopyWarning:\n",
            "\n",
            "\n",
            "A value is trying to be set on a copy of a slice from a DataFrame.\n",
            "Try using .loc[row_indexer,col_indexer] = value instead\n",
            "\n",
            "See the caveats in the documentation: https://pandas.pydata.org/pandas-docs/stable/user_guide/indexing.html#returning-a-view-versus-a-copy\n",
            "\n"
          ]
        }
      ]
    },
    {
      "cell_type": "code",
      "source": [
        "data.head()"
      ],
      "metadata": {
        "colab": {
          "base_uri": "https://localhost:8080/",
          "height": 250
        },
        "id": "xAn9vWcdgrqU",
        "outputId": "ca6950a9-8ff2-4311-96a9-bd907e672aae"
      },
      "execution_count": null,
      "outputs": [
        {
          "output_type": "execute_result",
          "data": {
            "text/plain": [
              "                                                text  target  \\\n",
              "0  Our Deeds are the Reason of this #earthquake M...       1   \n",
              "1             Forest fire near La Ronge Sask. Canada       1   \n",
              "2  All residents asked to 'shelter in place' are ...       1   \n",
              "3  13,000 people receive #wildfires evacuation or...       1   \n",
              "4  Just got sent this photo from Ruby #Alaska as ...       1   \n",
              "\n",
              "                                          text_clean  \\\n",
              "0               deed reason earthquake allah forgive   \n",
              "1              forest fire near la ronge sask canada   \n",
              "2  resident ask shelter place notify officer evac...   \n",
              "3  13000 people receive wildfire evacuation order...   \n",
              "4  got send photo ruby alaska smoke wildfire pour...   \n",
              "\n",
              "                                        text_encoded  len_tweet  \n",
              "0                       [3669, 414, 172, 1381, 1942]          5  \n",
              "1               [117, 3, 159, 512, 5555, 5556, 1016]          7  \n",
              "2  [1382, 447, 1698, 323, 5557, 293, 189, 1698, 3...         11  \n",
              "3                  [2304, 7, 2305, 70, 189, 279, 35]          7  \n",
              "4    [280, 177, 123, 5558, 1699, 168, 70, 2306, 111]          9  "
            ],
            "text/html": [
              "\n",
              "  <div id=\"df-45db9708-d06a-488d-823c-c5b6597ac80d\">\n",
              "    <div class=\"colab-df-container\">\n",
              "      <div>\n",
              "<style scoped>\n",
              "    .dataframe tbody tr th:only-of-type {\n",
              "        vertical-align: middle;\n",
              "    }\n",
              "\n",
              "    .dataframe tbody tr th {\n",
              "        vertical-align: top;\n",
              "    }\n",
              "\n",
              "    .dataframe thead th {\n",
              "        text-align: right;\n",
              "    }\n",
              "</style>\n",
              "<table border=\"1\" class=\"dataframe\">\n",
              "  <thead>\n",
              "    <tr style=\"text-align: right;\">\n",
              "      <th></th>\n",
              "      <th>text</th>\n",
              "      <th>target</th>\n",
              "      <th>text_clean</th>\n",
              "      <th>text_encoded</th>\n",
              "      <th>len_tweet</th>\n",
              "    </tr>\n",
              "  </thead>\n",
              "  <tbody>\n",
              "    <tr>\n",
              "      <th>0</th>\n",
              "      <td>Our Deeds are the Reason of this #earthquake M...</td>\n",
              "      <td>1</td>\n",
              "      <td>deed reason earthquake allah forgive</td>\n",
              "      <td>[3669, 414, 172, 1381, 1942]</td>\n",
              "      <td>5</td>\n",
              "    </tr>\n",
              "    <tr>\n",
              "      <th>1</th>\n",
              "      <td>Forest fire near La Ronge Sask. Canada</td>\n",
              "      <td>1</td>\n",
              "      <td>forest fire near la ronge sask canada</td>\n",
              "      <td>[117, 3, 159, 512, 5555, 5556, 1016]</td>\n",
              "      <td>7</td>\n",
              "    </tr>\n",
              "    <tr>\n",
              "      <th>2</th>\n",
              "      <td>All residents asked to 'shelter in place' are ...</td>\n",
              "      <td>1</td>\n",
              "      <td>resident ask shelter place notify officer evac...</td>\n",
              "      <td>[1382, 447, 1698, 323, 5557, 293, 189, 1698, 3...</td>\n",
              "      <td>11</td>\n",
              "    </tr>\n",
              "    <tr>\n",
              "      <th>3</th>\n",
              "      <td>13,000 people receive #wildfires evacuation or...</td>\n",
              "      <td>1</td>\n",
              "      <td>13000 people receive wildfire evacuation order...</td>\n",
              "      <td>[2304, 7, 2305, 70, 189, 279, 35]</td>\n",
              "      <td>7</td>\n",
              "    </tr>\n",
              "    <tr>\n",
              "      <th>4</th>\n",
              "      <td>Just got sent this photo from Ruby #Alaska as ...</td>\n",
              "      <td>1</td>\n",
              "      <td>got send photo ruby alaska smoke wildfire pour...</td>\n",
              "      <td>[280, 177, 123, 5558, 1699, 168, 70, 2306, 111]</td>\n",
              "      <td>9</td>\n",
              "    </tr>\n",
              "  </tbody>\n",
              "</table>\n",
              "</div>\n",
              "      <button class=\"colab-df-convert\" onclick=\"convertToInteractive('df-45db9708-d06a-488d-823c-c5b6597ac80d')\"\n",
              "              title=\"Convert this dataframe to an interactive table.\"\n",
              "              style=\"display:none;\">\n",
              "        \n",
              "  <svg xmlns=\"http://www.w3.org/2000/svg\" height=\"24px\"viewBox=\"0 0 24 24\"\n",
              "       width=\"24px\">\n",
              "    <path d=\"M0 0h24v24H0V0z\" fill=\"none\"/>\n",
              "    <path d=\"M18.56 5.44l.94 2.06.94-2.06 2.06-.94-2.06-.94-.94-2.06-.94 2.06-2.06.94zm-11 1L8.5 8.5l.94-2.06 2.06-.94-2.06-.94L8.5 2.5l-.94 2.06-2.06.94zm10 10l.94 2.06.94-2.06 2.06-.94-2.06-.94-.94-2.06-.94 2.06-2.06.94z\"/><path d=\"M17.41 7.96l-1.37-1.37c-.4-.4-.92-.59-1.43-.59-.52 0-1.04.2-1.43.59L10.3 9.45l-7.72 7.72c-.78.78-.78 2.05 0 2.83L4 21.41c.39.39.9.59 1.41.59.51 0 1.02-.2 1.41-.59l7.78-7.78 2.81-2.81c.8-.78.8-2.07 0-2.86zM5.41 20L4 18.59l7.72-7.72 1.47 1.35L5.41 20z\"/>\n",
              "  </svg>\n",
              "      </button>\n",
              "      \n",
              "  <style>\n",
              "    .colab-df-container {\n",
              "      display:flex;\n",
              "      flex-wrap:wrap;\n",
              "      gap: 12px;\n",
              "    }\n",
              "\n",
              "    .colab-df-convert {\n",
              "      background-color: #E8F0FE;\n",
              "      border: none;\n",
              "      border-radius: 50%;\n",
              "      cursor: pointer;\n",
              "      display: none;\n",
              "      fill: #1967D2;\n",
              "      height: 32px;\n",
              "      padding: 0 0 0 0;\n",
              "      width: 32px;\n",
              "    }\n",
              "\n",
              "    .colab-df-convert:hover {\n",
              "      background-color: #E2EBFA;\n",
              "      box-shadow: 0px 1px 2px rgba(60, 64, 67, 0.3), 0px 1px 3px 1px rgba(60, 64, 67, 0.15);\n",
              "      fill: #174EA6;\n",
              "    }\n",
              "\n",
              "    [theme=dark] .colab-df-convert {\n",
              "      background-color: #3B4455;\n",
              "      fill: #D2E3FC;\n",
              "    }\n",
              "\n",
              "    [theme=dark] .colab-df-convert:hover {\n",
              "      background-color: #434B5C;\n",
              "      box-shadow: 0px 1px 3px 1px rgba(0, 0, 0, 0.15);\n",
              "      filter: drop-shadow(0px 1px 2px rgba(0, 0, 0, 0.3));\n",
              "      fill: #FFFFFF;\n",
              "    }\n",
              "  </style>\n",
              "\n",
              "      <script>\n",
              "        const buttonEl =\n",
              "          document.querySelector('#df-45db9708-d06a-488d-823c-c5b6597ac80d button.colab-df-convert');\n",
              "        buttonEl.style.display =\n",
              "          google.colab.kernel.accessAllowed ? 'block' : 'none';\n",
              "\n",
              "        async function convertToInteractive(key) {\n",
              "          const element = document.querySelector('#df-45db9708-d06a-488d-823c-c5b6597ac80d');\n",
              "          const dataTable =\n",
              "            await google.colab.kernel.invokeFunction('convertToInteractive',\n",
              "                                                     [key], {});\n",
              "          if (!dataTable) return;\n",
              "\n",
              "          const docLinkHtml = 'Like what you see? Visit the ' +\n",
              "            '<a target=\"_blank\" href=https://colab.research.google.com/notebooks/data_table.ipynb>data table notebook</a>'\n",
              "            + ' to learn more about interactive tables.';\n",
              "          element.innerHTML = '';\n",
              "          dataTable['output_type'] = 'display_data';\n",
              "          await google.colab.output.renderOutput(dataTable, element);\n",
              "          const docLink = document.createElement('div');\n",
              "          docLink.innerHTML = docLinkHtml;\n",
              "          element.appendChild(docLink);\n",
              "        }\n",
              "      </script>\n",
              "    </div>\n",
              "  </div>\n",
              "  "
            ]
          },
          "metadata": {},
          "execution_count": 44
        }
      ]
    },
    {
      "cell_type": "markdown",
      "metadata": {
        "id": "zTN3YvgWcuIW"
      },
      "source": [
        "###Converting texts and targets into tensors "
      ]
    },
    {
      "cell_type": "code",
      "metadata": {
        "id": "qlZ8GB_K-rnb"
      },
      "source": [
        "#padding the data\n",
        "data_pad = tf.keras.preprocessing.sequence.pad_sequences(data.text_encoded, padding=\"post\") #zero padding in order to have all sequences with same length\n",
        "#tensor slicing the data\n",
        "full_ds = tf.data.Dataset.from_tensor_slices((data_pad, data.target))"
      ],
      "execution_count": null,
      "outputs": []
    },
    {
      "cell_type": "markdown",
      "metadata": {
        "id": "18MTWm4thciT"
      },
      "source": [
        "### Train-test split\n",
        "\n"
      ]
    },
    {
      "cell_type": "code",
      "metadata": {
        "id": "xSV5g5D1CDg2"
      },
      "source": [
        "# Train Test Split\n",
        "TAKE_SIZE = int(0.7*data.shape[0])\n",
        "\n",
        "train_data = full_ds.take(TAKE_SIZE).shuffle(TAKE_SIZE)\n",
        "train_data = train_data.batch(64)\n",
        "\n",
        "test_data = full_ds.skip(TAKE_SIZE)\n",
        "test_data = test_data.batch(64)"
      ],
      "execution_count": null,
      "outputs": []
    },
    {
      "cell_type": "code",
      "metadata": {
        "id": "B84odBggCG44",
        "colab": {
          "base_uri": "https://localhost:8080/"
        },
        "outputId": "fd735fdc-cb3e-4b5d-9a52-5f9a938ecea7"
      },
      "source": [
        "# let's take a loook at one batch \n",
        "for tweet, target in train_data.take(1):\n",
        "  print(tweet, target)"
      ],
      "execution_count": null,
      "outputs": [
        {
          "output_type": "stream",
          "name": "stdout",
          "text": [
            "tf.Tensor(\n",
            "[[   28  8311    27 ...     0     0     0]\n",
            " [  192  1765  9783 ...     0     0     0]\n",
            " [   35    11  1264 ...     0     0     0]\n",
            " ...\n",
            " [ 5886    63    10 ...     0     0     0]\n",
            " [14680   451  5123 ...     0     0     0]\n",
            " [  296   276  1135 ...     0     0     0]], shape=(64, 25), dtype=int32) tf.Tensor(\n",
            "[0 1 1 1 0 0 0 1 1 0 0 1 0 0 1 1 0 1 1 0 0 0 0 1 1 1 0 0 1 1 0 0 1 1 0 0 0\n",
            " 0 1 0 1 0 0 1 1 1 0 1 1 0 0 1 0 1 0 0 1 0 0 0 1 1 1 1], shape=(64,), dtype=int64)\n"
          ]
        }
      ]
    },
    {
      "cell_type": "markdown",
      "metadata": {
        "id": "umpFU7JjlTNG"
      },
      "source": [
        "## Modeling\n",
        "Let's create a model in order to train an embedding!"
      ]
    },
    {
      "cell_type": "code",
      "source": [
        "tweet.shape"
      ],
      "metadata": {
        "colab": {
          "base_uri": "https://localhost:8080/"
        },
        "id": "taq9yVTylVEP",
        "outputId": "85d44507-3d93-4572-9ab5-5fd586805b5e"
      },
      "execution_count": null,
      "outputs": [
        {
          "output_type": "execute_result",
          "data": {
            "text/plain": [
              "TensorShape([64, 25])"
            ]
          },
          "metadata": {},
          "execution_count": 49
        }
      ]
    },
    {
      "cell_type": "code",
      "metadata": {
        "id": "j85AgTZ7mKst"
      },
      "source": [
        "vocab_size = len(tokenizer.word_index)\n",
        "embedding_dim=16\n",
        "\n",
        "model = tf.keras.Sequential([\n",
        "                  # Input layer Word Embedding           \n",
        "                  tf.keras.layers.Embedding(vocab_size+1, embedding_dim, input_shape=[tweet.shape[1],],name=\"embedding\"),\n",
        "                  # Gobal average pooling, # this will pick the average for every word in the tweet\n",
        "                  tf.keras.layers.GlobalAveragePooling1D(),\n",
        "                  # Dense layers\n",
        "                  tf.keras.layers.Dense(16, activation='relu'),\n",
        "                  # The prediction layer\n",
        "                  tf.keras.layers.Dense(1, activation=\"sigmoid\")\n",
        "])"
      ],
      "execution_count": null,
      "outputs": []
    },
    {
      "cell_type": "code",
      "source": [
        "model.summary()"
      ],
      "metadata": {
        "colab": {
          "base_uri": "https://localhost:8080/"
        },
        "id": "p7qR8yVXkL7p",
        "outputId": "7642ee7a-9896-489e-c505-35d6bb5dc4b5"
      },
      "execution_count": null,
      "outputs": [
        {
          "output_type": "stream",
          "name": "stdout",
          "text": [
            "Model: \"sequential\"\n",
            "_________________________________________________________________\n",
            " Layer (type)                Output Shape              Param #   \n",
            "=================================================================\n",
            " embedding (Embedding)       (None, 25, 16)            326256    \n",
            "                                                                 \n",
            " global_average_pooling1d (G  (None, 16)               0         \n",
            " lobalAveragePooling1D)                                          \n",
            "                                                                 \n",
            " dense (Dense)               (None, 16)                272       \n",
            "                                                                 \n",
            " dense_1 (Dense)             (None, 1)                 17        \n",
            "                                                                 \n",
            "=================================================================\n",
            "Total params: 326,545\n",
            "Trainable params: 326,545\n",
            "Non-trainable params: 0\n",
            "_________________________________________________________________\n"
          ]
        }
      ]
    },
    {
      "cell_type": "code",
      "metadata": {
        "id": "bCaIvUTvu-G_"
      },
      "source": [
        "#we oprimize the model with Adam optimizer\n",
        "optimizer= tf.keras.optimizers.Adam()\n",
        "#we have a binary classification problem hence the metrics chosen below \n",
        "model.compile(optimizer=optimizer,\n",
        "              loss=tf.keras.losses.BinaryCrossentropy(),\n",
        "              metrics=['accuracy'])"
      ],
      "execution_count": null,
      "outputs": []
    },
    {
      "cell_type": "code",
      "metadata": {
        "id": "gBzWU5Df3t_5",
        "colab": {
          "base_uri": "https://localhost:8080/"
        },
        "outputId": "ba8461d1-a372-421d-896b-4f07f1e504f4"
      },
      "source": [
        "#we'll then compile the model with 20 epochs\n",
        "model.fit(\n",
        "    train_data,\n",
        "    validation_data=test_data,\n",
        "    epochs=20)"
      ],
      "execution_count": null,
      "outputs": [
        {
          "output_type": "stream",
          "name": "stdout",
          "text": [
            "Epoch 1/20\n",
            "84/84 [==============================] - 2s 9ms/step - loss: 0.6845 - accuracy: 0.5684 - val_loss: 0.6794 - val_accuracy: 0.5582\n",
            "Epoch 2/20\n",
            "84/84 [==============================] - 1s 9ms/step - loss: 0.6586 - accuracy: 0.5800 - val_loss: 0.6584 - val_accuracy: 0.5696\n",
            "Epoch 3/20\n",
            "84/84 [==============================] - 1s 14ms/step - loss: 0.5900 - accuracy: 0.6939 - val_loss: 0.6030 - val_accuracy: 0.6935\n",
            "Epoch 4/20\n",
            "84/84 [==============================] - 1s 11ms/step - loss: 0.4688 - accuracy: 0.8337 - val_loss: 0.5373 - val_accuracy: 0.7513\n",
            "Epoch 5/20\n",
            "84/84 [==============================] - 1s 6ms/step - loss: 0.3509 - accuracy: 0.8829 - val_loss: 0.5026 - val_accuracy: 0.7601\n",
            "Epoch 6/20\n",
            "84/84 [==============================] - 1s 9ms/step - loss: 0.2732 - accuracy: 0.9062 - val_loss: 0.4876 - val_accuracy: 0.7701\n",
            "Epoch 7/20\n",
            "84/84 [==============================] - 1s 6ms/step - loss: 0.2204 - accuracy: 0.9266 - val_loss: 0.4866 - val_accuracy: 0.7754\n",
            "Epoch 8/20\n",
            "84/84 [==============================] - 1s 6ms/step - loss: 0.1801 - accuracy: 0.9403 - val_loss: 0.5037 - val_accuracy: 0.7561\n",
            "Epoch 9/20\n",
            "84/84 [==============================] - 1s 6ms/step - loss: 0.1496 - accuracy: 0.9516 - val_loss: 0.5089 - val_accuracy: 0.7583\n",
            "Epoch 10/20\n",
            "84/84 [==============================] - 1s 6ms/step - loss: 0.1233 - accuracy: 0.9613 - val_loss: 0.5261 - val_accuracy: 0.7518\n",
            "Epoch 11/20\n",
            "84/84 [==============================] - 1s 6ms/step - loss: 0.1024 - accuracy: 0.9709 - val_loss: 0.5356 - val_accuracy: 0.7588\n",
            "Epoch 12/20\n",
            "84/84 [==============================] - 1s 7ms/step - loss: 0.0861 - accuracy: 0.9756 - val_loss: 0.5589 - val_accuracy: 0.7434\n",
            "Epoch 13/20\n",
            "84/84 [==============================] - 1s 7ms/step - loss: 0.0738 - accuracy: 0.9801 - val_loss: 0.5733 - val_accuracy: 0.7548\n",
            "Epoch 14/20\n",
            "84/84 [==============================] - 1s 6ms/step - loss: 0.0631 - accuracy: 0.9816 - val_loss: 0.5910 - val_accuracy: 0.7469\n",
            "Epoch 15/20\n",
            "84/84 [==============================] - 1s 6ms/step - loss: 0.0544 - accuracy: 0.9867 - val_loss: 0.6251 - val_accuracy: 0.7185\n",
            "Epoch 16/20\n",
            "84/84 [==============================] - 1s 6ms/step - loss: 0.0476 - accuracy: 0.9882 - val_loss: 0.6288 - val_accuracy: 0.7456\n",
            "Epoch 17/20\n",
            "84/84 [==============================] - 1s 7ms/step - loss: 0.0416 - accuracy: 0.9895 - val_loss: 0.6478 - val_accuracy: 0.7456\n",
            "Epoch 18/20\n",
            "84/84 [==============================] - 1s 7ms/step - loss: 0.0373 - accuracy: 0.9912 - val_loss: 0.6700 - val_accuracy: 0.7259\n",
            "Epoch 19/20\n",
            "84/84 [==============================] - 1s 7ms/step - loss: 0.0338 - accuracy: 0.9912 - val_loss: 0.6866 - val_accuracy: 0.7242\n",
            "Epoch 20/20\n",
            "84/84 [==============================] - 1s 6ms/step - loss: 0.0307 - accuracy: 0.9917 - val_loss: 0.7039 - val_accuracy: 0.7233\n"
          ]
        },
        {
          "output_type": "execute_result",
          "data": {
            "text/plain": [
              "<keras.callbacks.History at 0x7f113932a2d0>"
            ]
          },
          "metadata": {},
          "execution_count": 53
        }
      ]
    },
    {
      "cell_type": "markdown",
      "metadata": {
        "id": "hz3x93F8EuBE"
      },
      "source": [
        "The results look quite satisfying for the train set, but the test set loss stops decreasing from epoch 7, the model seems to overfit."
      ]
    },
    {
      "cell_type": "code",
      "source": [
        "#let's try to add other layer to the model, like a RNN layers to enhance the model performance"
      ],
      "metadata": {
        "id": "-Pc6-MuCsx3I"
      },
      "execution_count": null,
      "outputs": []
    },
    {
      "cell_type": "markdown",
      "source": [
        "### Model with simple RNN"
      ],
      "metadata": {
        "id": "PHMzVLmQmsci"
      }
    },
    {
      "cell_type": "code",
      "source": [
        "from tensorflow.keras.layers import SimpleRNN, GRU, LSTM\n",
        "\n",
        "model_SRNN = tf.keras.Sequential([\n",
        "                  # Word Embedding layer           \n",
        "                  Embedding(vocab_size+1,embedding_dim, input_shape=[tweet.shape[1],],name=\"embedding\"),\n",
        "                  # Gobal average pooling\n",
        "                  SimpleRNN(units=16, return_sequences=False), # maintains the sequential nature\n",
        "                  # Dense layers once the data is flat\n",
        "                  Dense(16, activation='relu'),\n",
        "                  # for the target variable and sigmoid activation\n",
        "                  Dense(1, activation=\"sigmoid\")\n",
        "])"
      ],
      "metadata": {
        "id": "vb0st7zKl3XR"
      },
      "execution_count": null,
      "outputs": []
    },
    {
      "cell_type": "code",
      "source": [
        "model_SRNN.summary()"
      ],
      "metadata": {
        "colab": {
          "base_uri": "https://localhost:8080/"
        },
        "id": "_mYpCTjfmbEz",
        "outputId": "19372b89-7b40-4fbf-e418-31cda453515d"
      },
      "execution_count": null,
      "outputs": [
        {
          "output_type": "stream",
          "name": "stdout",
          "text": [
            "Model: \"sequential_1\"\n",
            "_________________________________________________________________\n",
            " Layer (type)                Output Shape              Param #   \n",
            "=================================================================\n",
            " embedding (Embedding)       (None, 25, 16)            326256    \n",
            "                                                                 \n",
            " simple_rnn (SimpleRNN)      (None, 16)                528       \n",
            "                                                                 \n",
            " dense_2 (Dense)             (None, 16)                272       \n",
            "                                                                 \n",
            " dense_3 (Dense)             (None, 1)                 17        \n",
            "                                                                 \n",
            "=================================================================\n",
            "Total params: 327,073\n",
            "Trainable params: 327,073\n",
            "Non-trainable params: 0\n",
            "_________________________________________________________________\n"
          ]
        }
      ]
    },
    {
      "cell_type": "code",
      "source": [
        "model_SRNN.compile(optimizer=optimizer,\n",
        "              loss=tf.keras.losses.BinaryCrossentropy(),\n",
        "              metrics=['accuracy'])"
      ],
      "metadata": {
        "id": "8iCbQsoFrQCU"
      },
      "execution_count": null,
      "outputs": []
    },
    {
      "cell_type": "code",
      "source": [
        "# Fit the model on 20 epochs\n",
        "model_SRNN.fit(train_data,\n",
        "          epochs=20, \n",
        "          validation_data=test_data)"
      ],
      "metadata": {
        "colab": {
          "base_uri": "https://localhost:8080/"
        },
        "id": "OSIIp8f4rhwM",
        "outputId": "67453390-18fb-4195-b514-00807acf4277"
      },
      "execution_count": null,
      "outputs": [
        {
          "output_type": "stream",
          "name": "stdout",
          "text": [
            "Epoch 1/20\n",
            "84/84 [==============================] - 2s 15ms/step - loss: 0.6037 - accuracy: 0.6806 - val_loss: 0.6424 - val_accuracy: 0.6852\n",
            "Epoch 2/20\n",
            "84/84 [==============================] - 1s 12ms/step - loss: 0.2976 - accuracy: 0.8897 - val_loss: 0.7848 - val_accuracy: 0.6537\n",
            "Epoch 3/20\n",
            "84/84 [==============================] - 1s 12ms/step - loss: 0.1518 - accuracy: 0.9463 - val_loss: 1.0218 - val_accuracy: 0.6309\n",
            "Epoch 4/20\n",
            "84/84 [==============================] - 1s 12ms/step - loss: 0.0857 - accuracy: 0.9728 - val_loss: 1.1988 - val_accuracy: 0.6134\n",
            "Epoch 5/20\n",
            "84/84 [==============================] - 1s 12ms/step - loss: 0.0497 - accuracy: 0.9840 - val_loss: 1.3469 - val_accuracy: 0.6270\n",
            "Epoch 6/20\n",
            "84/84 [==============================] - 1s 12ms/step - loss: 0.0348 - accuracy: 0.9884 - val_loss: 1.5109 - val_accuracy: 0.6265\n",
            "Epoch 7/20\n",
            "84/84 [==============================] - 1s 11ms/step - loss: 0.0267 - accuracy: 0.9902 - val_loss: 1.6661 - val_accuracy: 0.6327\n",
            "Epoch 8/20\n",
            "84/84 [==============================] - 1s 11ms/step - loss: 0.0252 - accuracy: 0.9902 - val_loss: 1.6974 - val_accuracy: 0.6388\n",
            "Epoch 9/20\n",
            "84/84 [==============================] - 1s 11ms/step - loss: 0.0190 - accuracy: 0.9932 - val_loss: 1.8489 - val_accuracy: 0.6103\n",
            "Epoch 10/20\n",
            "84/84 [==============================] - 1s 11ms/step - loss: 0.0145 - accuracy: 0.9936 - val_loss: 1.9211 - val_accuracy: 0.6191\n",
            "Epoch 11/20\n",
            "84/84 [==============================] - 1s 12ms/step - loss: 0.0120 - accuracy: 0.9942 - val_loss: 1.9767 - val_accuracy: 0.6151\n",
            "Epoch 12/20\n",
            "84/84 [==============================] - 1s 12ms/step - loss: 0.0117 - accuracy: 0.9949 - val_loss: 2.0177 - val_accuracy: 0.6283\n",
            "Epoch 13/20\n",
            "84/84 [==============================] - 1s 12ms/step - loss: 0.0122 - accuracy: 0.9944 - val_loss: 2.0582 - val_accuracy: 0.6239\n",
            "Epoch 14/20\n",
            "84/84 [==============================] - 1s 12ms/step - loss: 0.0139 - accuracy: 0.9953 - val_loss: 2.0524 - val_accuracy: 0.6130\n",
            "Epoch 15/20\n",
            "84/84 [==============================] - 1s 11ms/step - loss: 0.0128 - accuracy: 0.9942 - val_loss: 2.0322 - val_accuracy: 0.6257\n",
            "Epoch 16/20\n",
            "84/84 [==============================] - 1s 12ms/step - loss: 0.0117 - accuracy: 0.9946 - val_loss: 2.0040 - val_accuracy: 0.6296\n",
            "Epoch 17/20\n",
            "84/84 [==============================] - 1s 11ms/step - loss: 0.0106 - accuracy: 0.9949 - val_loss: 2.0644 - val_accuracy: 0.6090\n",
            "Epoch 18/20\n",
            "84/84 [==============================] - 1s 12ms/step - loss: 0.0099 - accuracy: 0.9957 - val_loss: 2.0803 - val_accuracy: 0.6112\n",
            "Epoch 19/20\n",
            "84/84 [==============================] - 1s 11ms/step - loss: 0.0105 - accuracy: 0.9946 - val_loss: 2.0893 - val_accuracy: 0.6178\n",
            "Epoch 20/20\n",
            "84/84 [==============================] - 1s 12ms/step - loss: 0.0121 - accuracy: 0.9949 - val_loss: 2.0547 - val_accuracy: 0.6130\n"
          ]
        },
        {
          "output_type": "execute_result",
          "data": {
            "text/plain": [
              "<keras.callbacks.History at 0x7f113b8add10>"
            ]
          },
          "metadata": {},
          "execution_count": 58
        }
      ]
    },
    {
      "cell_type": "code",
      "source": [
        "#the model learns faster with a better accuracy on the train but results are poor and overfits even more rapidely on the test set"
      ],
      "metadata": {
        "id": "Jg2TQu5rr1kY"
      },
      "execution_count": null,
      "outputs": []
    },
    {
      "cell_type": "code",
      "source": [
        "#let's try with GRU and "
      ],
      "metadata": {
        "id": "eyySwIpRtPnX"
      },
      "execution_count": null,
      "outputs": []
    },
    {
      "cell_type": "markdown",
      "source": [
        "### Model with GRU layers\n",
        "Create a model_gru by replacing the SimpleRNN layers by GRU layers"
      ],
      "metadata": {
        "id": "bAVxot_twhGt"
      }
    },
    {
      "cell_type": "code",
      "source": [
        "model_GRU = tf.keras.Sequential([\n",
        "                  # Word Embedding layer           \n",
        "                  Embedding(vocab_size+1,embedding_dim, input_shape=[tweet.shape[1],],name=\"embedding\"),\n",
        "                  #GRU layer\n",
        "                  GRU(units=32, return_sequences=False), # returns the last output\n",
        "                  # Dense layers once the data is flat\n",
        "                  Dense(16, activation='relu'),\n",
        "                  # for the target variable and sigmoid activation\n",
        "                  Dense(1, activation=\"sigmoid\")\n",
        "])"
      ],
      "metadata": {
        "id": "y5k0dsy4wxgm"
      },
      "execution_count": null,
      "outputs": []
    },
    {
      "cell_type": "code",
      "source": [
        "model_GRU.compile(optimizer=optimizer,\n",
        "              loss=tf.keras.losses.BinaryCrossentropy(),\n",
        "              metrics=['accuracy'])"
      ],
      "metadata": {
        "id": "VRDxUohsw5X9"
      },
      "execution_count": null,
      "outputs": []
    },
    {
      "cell_type": "code",
      "source": [
        "# Model training \n",
        "model_GRU.fit(train_data,\n",
        "          epochs=20, \n",
        "          validation_data=test_data)"
      ],
      "metadata": {
        "colab": {
          "base_uri": "https://localhost:8080/"
        },
        "id": "8AgUOBJlxNwy",
        "outputId": "22cd443e-7df4-4ec8-82e5-129dacb6738e"
      },
      "execution_count": null,
      "outputs": [
        {
          "output_type": "stream",
          "name": "stdout",
          "text": [
            "Epoch 1/20\n",
            "84/84 [==============================] - 5s 26ms/step - loss: 0.6829 - accuracy: 0.5707 - val_loss: 0.6874 - val_accuracy: 0.5582\n",
            "Epoch 2/20\n",
            "84/84 [==============================] - 2s 21ms/step - loss: 0.5253 - accuracy: 0.7347 - val_loss: 0.5448 - val_accuracy: 0.7447\n",
            "Epoch 3/20\n",
            "84/84 [==============================] - 2s 21ms/step - loss: 0.2634 - accuracy: 0.9004 - val_loss: 0.5304 - val_accuracy: 0.7561\n",
            "Epoch 4/20\n",
            "84/84 [==============================] - 2s 21ms/step - loss: 0.1376 - accuracy: 0.9527 - val_loss: 0.6931 - val_accuracy: 0.7316\n",
            "Epoch 5/20\n",
            "84/84 [==============================] - 2s 21ms/step - loss: 0.0813 - accuracy: 0.9743 - val_loss: 0.7219 - val_accuracy: 0.7163\n",
            "Epoch 6/20\n",
            "84/84 [==============================] - 2s 23ms/step - loss: 0.0482 - accuracy: 0.9850 - val_loss: 0.8683 - val_accuracy: 0.7281\n",
            "Epoch 7/20\n",
            "84/84 [==============================] - 2s 21ms/step - loss: 0.0388 - accuracy: 0.9897 - val_loss: 0.9170 - val_accuracy: 0.7277\n",
            "Epoch 8/20\n",
            "84/84 [==============================] - 2s 21ms/step - loss: 0.0288 - accuracy: 0.9929 - val_loss: 0.9164 - val_accuracy: 0.7285\n",
            "Epoch 9/20\n",
            "84/84 [==============================] - 2s 21ms/step - loss: 0.0277 - accuracy: 0.9923 - val_loss: 0.9166 - val_accuracy: 0.7158\n",
            "Epoch 10/20\n",
            "84/84 [==============================] - 2s 21ms/step - loss: 0.0218 - accuracy: 0.9932 - val_loss: 1.0554 - val_accuracy: 0.7163\n",
            "Epoch 11/20\n",
            "84/84 [==============================] - 2s 22ms/step - loss: 0.0199 - accuracy: 0.9938 - val_loss: 1.1960 - val_accuracy: 0.7036\n",
            "Epoch 12/20\n",
            "84/84 [==============================] - 2s 21ms/step - loss: 0.0181 - accuracy: 0.9940 - val_loss: 1.1103 - val_accuracy: 0.7137\n",
            "Epoch 13/20\n",
            "84/84 [==============================] - 2s 22ms/step - loss: 0.0175 - accuracy: 0.9940 - val_loss: 1.0312 - val_accuracy: 0.7141\n",
            "Epoch 14/20\n",
            "84/84 [==============================] - 2s 21ms/step - loss: 0.0152 - accuracy: 0.9940 - val_loss: 1.3549 - val_accuracy: 0.7023\n",
            "Epoch 15/20\n",
            "84/84 [==============================] - 3s 31ms/step - loss: 0.0146 - accuracy: 0.9944 - val_loss: 1.1392 - val_accuracy: 0.7176\n",
            "Epoch 16/20\n",
            "84/84 [==============================] - 2s 21ms/step - loss: 0.0127 - accuracy: 0.9938 - val_loss: 1.1566 - val_accuracy: 0.7132\n",
            "Epoch 17/20\n",
            "84/84 [==============================] - 2s 21ms/step - loss: 0.0130 - accuracy: 0.9936 - val_loss: 1.4937 - val_accuracy: 0.7032\n",
            "Epoch 18/20\n",
            "84/84 [==============================] - 2s 21ms/step - loss: 0.0118 - accuracy: 0.9946 - val_loss: 1.3348 - val_accuracy: 0.7237\n",
            "Epoch 19/20\n",
            "84/84 [==============================] - 2s 22ms/step - loss: 0.0105 - accuracy: 0.9947 - val_loss: 1.3429 - val_accuracy: 0.7215\n",
            "Epoch 20/20\n",
            "84/84 [==============================] - 2s 21ms/step - loss: 0.0142 - accuracy: 0.9951 - val_loss: 1.8683 - val_accuracy: 0.7062\n"
          ]
        },
        {
          "output_type": "execute_result",
          "data": {
            "text/plain": [
              "<keras.callbacks.History at 0x7f1137932ad0>"
            ]
          },
          "metadata": {},
          "execution_count": 61
        }
      ]
    },
    {
      "cell_type": "code",
      "source": [
        "#We are still overfitting but after the 3rd layer. "
      ],
      "metadata": {
        "id": "A17FdZERz8VW"
      },
      "execution_count": null,
      "outputs": []
    },
    {
      "cell_type": "code",
      "source": [
        "#let's recheck if the dataset is balanced in term of target categories\n",
        "data.target.value_counts() #our data set is not unproportional in term of target "
      ],
      "metadata": {
        "colab": {
          "base_uri": "https://localhost:8080/"
        },
        "id": "iulpJMRcxSi9",
        "outputId": "709e4889-f076-4424-895e-c21c7889a758"
      },
      "execution_count": null,
      "outputs": [
        {
          "output_type": "execute_result",
          "data": {
            "text/plain": [
              "0    4342\n",
              "1    3271\n",
              "Name: target, dtype: int64"
            ]
          },
          "metadata": {},
          "execution_count": 62
        }
      ]
    },
    {
      "cell_type": "markdown",
      "source": [
        "### LSTM layers "
      ],
      "metadata": {
        "id": "CPVDa_e80bKq"
      }
    },
    {
      "cell_type": "code",
      "source": [
        "model_LSTM = tf.keras.Sequential([\n",
        "                  Embedding(vocab_size+1,embedding_dim, input_shape=[tweet.shape[1],],name=\"embedding\"),\n",
        "                  #LSTM layer\n",
        "                  LSTM(units=32, return_sequences=False), # returns the last output\n",
        "                  # Dense layers once the data is flat\n",
        "                  Dense(16, activation='relu'),\n",
        "                  # last layer\n",
        "                  Dense(1, activation=\"sigmoid\", name=\"last\")\n",
        "])"
      ],
      "metadata": {
        "id": "acu1oxRL0gJw"
      },
      "execution_count": null,
      "outputs": []
    },
    {
      "cell_type": "code",
      "source": [
        "model_LSTM.compile(optimizer=optimizer,\n",
        "              loss=tf.keras.losses.BinaryCrossentropy(),\n",
        "              metrics=['accuracy'])"
      ],
      "metadata": {
        "id": "cFewG05P1Hnx"
      },
      "execution_count": null,
      "outputs": []
    },
    {
      "cell_type": "code",
      "source": [
        "# Model training \n",
        "model_LSTM.fit(train_data,\n",
        "          epochs=20, \n",
        "          validation_data=test_data)"
      ],
      "metadata": {
        "colab": {
          "base_uri": "https://localhost:8080/"
        },
        "id": "ALsX3HRL1P9A",
        "outputId": "9cb0375d-fc6d-4060-db5b-7d49bc92498b"
      },
      "execution_count": null,
      "outputs": [
        {
          "output_type": "stream",
          "name": "stdout",
          "text": [
            "Epoch 1/20\n",
            "84/84 [==============================] - 4s 27ms/step - loss: 0.5520 - accuracy: 0.7161 - val_loss: 0.5179 - val_accuracy: 0.7447\n",
            "Epoch 2/20\n",
            "84/84 [==============================] - 2s 20ms/step - loss: 0.2577 - accuracy: 0.9071 - val_loss: 0.6266 - val_accuracy: 0.6975\n",
            "Epoch 3/20\n",
            "84/84 [==============================] - 2s 21ms/step - loss: 0.1390 - accuracy: 0.9582 - val_loss: 0.6421 - val_accuracy: 0.7198\n",
            "Epoch 4/20\n",
            "84/84 [==============================] - 2s 21ms/step - loss: 0.0858 - accuracy: 0.9767 - val_loss: 0.7460 - val_accuracy: 0.7018\n",
            "Epoch 5/20\n",
            "84/84 [==============================] - 2s 21ms/step - loss: 0.0595 - accuracy: 0.9844 - val_loss: 1.0740 - val_accuracy: 0.6887\n",
            "Epoch 6/20\n",
            "84/84 [==============================] - 2s 21ms/step - loss: 0.0498 - accuracy: 0.9878 - val_loss: 1.0219 - val_accuracy: 0.6799\n",
            "Epoch 7/20\n",
            "84/84 [==============================] - 2s 20ms/step - loss: 0.0404 - accuracy: 0.9902 - val_loss: 0.9640 - val_accuracy: 0.6918\n",
            "Epoch 8/20\n",
            "84/84 [==============================] - 2s 20ms/step - loss: 0.0312 - accuracy: 0.9921 - val_loss: 1.1540 - val_accuracy: 0.6983\n",
            "Epoch 9/20\n",
            "84/84 [==============================] - 2s 20ms/step - loss: 0.0284 - accuracy: 0.9917 - val_loss: 1.4071 - val_accuracy: 0.6725\n",
            "Epoch 10/20\n",
            "84/84 [==============================] - 2s 20ms/step - loss: 0.0207 - accuracy: 0.9929 - val_loss: 1.0268 - val_accuracy: 0.7018\n",
            "Epoch 11/20\n",
            "84/84 [==============================] - 2s 21ms/step - loss: 0.0175 - accuracy: 0.9931 - val_loss: 1.5786 - val_accuracy: 0.6686\n",
            "Epoch 12/20\n",
            "84/84 [==============================] - 2s 21ms/step - loss: 0.0162 - accuracy: 0.9953 - val_loss: 1.1717 - val_accuracy: 0.7010\n",
            "Epoch 13/20\n",
            "84/84 [==============================] - 2s 21ms/step - loss: 0.0153 - accuracy: 0.9947 - val_loss: 0.9514 - val_accuracy: 0.7093\n",
            "Epoch 14/20\n",
            "84/84 [==============================] - 2s 20ms/step - loss: 0.0139 - accuracy: 0.9938 - val_loss: 1.5993 - val_accuracy: 0.6808\n",
            "Epoch 15/20\n",
            "84/84 [==============================] - 2s 20ms/step - loss: 0.0125 - accuracy: 0.9946 - val_loss: 1.4309 - val_accuracy: 0.6852\n",
            "Epoch 16/20\n",
            "84/84 [==============================] - 2s 21ms/step - loss: 0.0107 - accuracy: 0.9951 - val_loss: 1.4045 - val_accuracy: 0.7010\n",
            "Epoch 17/20\n",
            "84/84 [==============================] - 2s 21ms/step - loss: 0.0096 - accuracy: 0.9949 - val_loss: 1.6221 - val_accuracy: 0.6891\n",
            "Epoch 18/20\n",
            "84/84 [==============================] - 2s 21ms/step - loss: 0.0090 - accuracy: 0.9957 - val_loss: 2.1732 - val_accuracy: 0.6620\n",
            "Epoch 19/20\n",
            "84/84 [==============================] - 2s 21ms/step - loss: 0.0101 - accuracy: 0.9947 - val_loss: 1.9903 - val_accuracy: 0.6681\n",
            "Epoch 20/20\n",
            "84/84 [==============================] - 2s 21ms/step - loss: 0.0094 - accuracy: 0.9946 - val_loss: 1.8114 - val_accuracy: 0.6764\n"
          ]
        },
        {
          "output_type": "execute_result",
          "data": {
            "text/plain": [
              "<keras.callbacks.History at 0x7f113720c690>"
            ]
          },
          "metadata": {},
          "execution_count": 65
        }
      ]
    },
    {
      "cell_type": "code",
      "source": [
        "#the model still overfits and the loss function on test set is rapidlyincreasing.\n",
        "#like the previous models (RNN & GRU) it does not generalise well on data never seen\n",
        "#let's add layers to the LSTM model to see what happens"
      ],
      "metadata": {
        "id": "Rsy-GMpt1UCe"
      },
      "execution_count": null,
      "outputs": []
    },
    {
      "cell_type": "code",
      "source": [
        "model_LSTM2 = tf.keras.Sequential([\n",
        "                  Embedding(vocab_size+1,embedding_dim, input_shape=[tweet.shape[1],],name=\"embedding\"),\n",
        "                  #LSTM layer\n",
        "                  LSTM(units=32, return_sequences=False), # returns the last output\n",
        "                  # Dense layers once the data is flat\n",
        "                  Dense(16, activation='relu'),\n",
        "                  Dense(8, activation='relu'),\n",
        "                  # last layer\n",
        "                  Dense(1, activation=\"sigmoid\", name=\"last\")\n",
        "])"
      ],
      "metadata": {
        "id": "4iwdYbNB2TOb"
      },
      "execution_count": null,
      "outputs": []
    },
    {
      "cell_type": "code",
      "source": [
        "model_LSTM2.compile(optimizer=optimizer,\n",
        "              loss=tf.keras.losses.BinaryCrossentropy(),\n",
        "              metrics=['accuracy'])"
      ],
      "metadata": {
        "id": "vxEOVyXz62D7"
      },
      "execution_count": null,
      "outputs": []
    },
    {
      "cell_type": "code",
      "source": [
        "#Model training \n",
        "model_LSTM2.fit(train_data,\n",
        "          epochs=20, \n",
        "          validation_data=test_data)"
      ],
      "metadata": {
        "colab": {
          "base_uri": "https://localhost:8080/"
        },
        "id": "uLaxD2li65CR",
        "outputId": "3a0ae5d1-1b46-4579-8d79-626790e51601"
      },
      "execution_count": null,
      "outputs": [
        {
          "output_type": "stream",
          "name": "stdout",
          "text": [
            "Epoch 1/20\n",
            "84/84 [==============================] - 5s 30ms/step - loss: 0.6382 - accuracy: 0.6324 - val_loss: 0.5636 - val_accuracy: 0.7163\n",
            "Epoch 2/20\n",
            "84/84 [==============================] - 2s 21ms/step - loss: 0.3590 - accuracy: 0.8694 - val_loss: 0.5235 - val_accuracy: 0.7478\n",
            "Epoch 3/20\n",
            "84/84 [==============================] - 2s 20ms/step - loss: 0.1827 - accuracy: 0.9405 - val_loss: 0.5981 - val_accuracy: 0.7338\n",
            "Epoch 4/20\n",
            "84/84 [==============================] - 2s 21ms/step - loss: 0.1079 - accuracy: 0.9698 - val_loss: 0.7368 - val_accuracy: 0.7045\n",
            "Epoch 5/20\n",
            "84/84 [==============================] - 2s 21ms/step - loss: 0.0651 - accuracy: 0.9824 - val_loss: 1.0536 - val_accuracy: 0.6804\n",
            "Epoch 6/20\n",
            "84/84 [==============================] - 2s 24ms/step - loss: 0.0517 - accuracy: 0.9865 - val_loss: 1.1125 - val_accuracy: 0.6830\n",
            "Epoch 7/20\n",
            "84/84 [==============================] - 3s 30ms/step - loss: 0.0363 - accuracy: 0.9904 - val_loss: 1.2986 - val_accuracy: 0.6988\n",
            "Epoch 8/20\n",
            "84/84 [==============================] - 2s 21ms/step - loss: 0.0314 - accuracy: 0.9927 - val_loss: 1.0601 - val_accuracy: 0.7141\n",
            "Epoch 9/20\n",
            "84/84 [==============================] - 2s 22ms/step - loss: 0.0292 - accuracy: 0.9931 - val_loss: 0.9420 - val_accuracy: 0.7102\n",
            "Epoch 10/20\n",
            "84/84 [==============================] - 2s 24ms/step - loss: 0.0296 - accuracy: 0.9921 - val_loss: 1.0324 - val_accuracy: 0.7211\n",
            "Epoch 11/20\n",
            "84/84 [==============================] - 3s 34ms/step - loss: 0.0252 - accuracy: 0.9934 - val_loss: 1.1095 - val_accuracy: 0.7040\n",
            "Epoch 12/20\n",
            "84/84 [==============================] - 2s 27ms/step - loss: 0.0254 - accuracy: 0.9927 - val_loss: 1.0972 - val_accuracy: 0.7185\n",
            "Epoch 13/20\n",
            "84/84 [==============================] - 3s 32ms/step - loss: 0.0204 - accuracy: 0.9942 - val_loss: 1.3901 - val_accuracy: 0.7049\n",
            "Epoch 14/20\n",
            "84/84 [==============================] - 3s 37ms/step - loss: 0.0193 - accuracy: 0.9949 - val_loss: 1.2557 - val_accuracy: 0.7053\n",
            "Epoch 15/20\n",
            "84/84 [==============================] - 2s 21ms/step - loss: 0.0170 - accuracy: 0.9944 - val_loss: 1.2869 - val_accuracy: 0.7071\n",
            "Epoch 16/20\n",
            "84/84 [==============================] - 2s 21ms/step - loss: 0.0156 - accuracy: 0.9947 - val_loss: 1.4583 - val_accuracy: 0.6935\n",
            "Epoch 17/20\n",
            "84/84 [==============================] - 2s 21ms/step - loss: 0.0149 - accuracy: 0.9946 - val_loss: 1.5684 - val_accuracy: 0.6835\n",
            "Epoch 18/20\n",
            "84/84 [==============================] - 2s 20ms/step - loss: 0.0147 - accuracy: 0.9946 - val_loss: 1.1272 - val_accuracy: 0.7176\n",
            "Epoch 19/20\n",
            "84/84 [==============================] - 2s 21ms/step - loss: 0.0168 - accuracy: 0.9934 - val_loss: 1.6989 - val_accuracy: 0.7036\n",
            "Epoch 20/20\n",
            "84/84 [==============================] - 2s 21ms/step - loss: 0.0136 - accuracy: 0.9934 - val_loss: 1.7517 - val_accuracy: 0.6861\n"
          ]
        },
        {
          "output_type": "execute_result",
          "data": {
            "text/plain": [
              "<keras.callbacks.History at 0x7f1135ef6a10>"
            ]
          },
          "metadata": {},
          "execution_count": 69
        }
      ]
    },
    {
      "cell_type": "code",
      "source": [
        "# the model performance is still the same\n",
        "# let's try here the GRU model (best so far) again with bigger embedding dimensions."
      ],
      "metadata": {
        "id": "6pJ1zyFjXRXg"
      },
      "execution_count": null,
      "outputs": []
    },
    {
      "cell_type": "code",
      "source": [
        "embedding_dim=32\n",
        "model_GRU2 = tf.keras.Sequential([\n",
        "                  # Word Embedding layer           \n",
        "                  Embedding(vocab_size+1,embedding_dim, input_shape=[tweet.shape[1],],name=\"embedding\"),\n",
        "                  #GRU layer\n",
        "                  GRU(units=32, return_sequences=False), # returns the last output\n",
        "                  # Dense layers once the data is flat\n",
        "                  Dense(16, activation='relu'),\n",
        "                  # for the target variable and sigmoid activation\n",
        "                  Dense(1, activation=\"sigmoid\")\n",
        "])"
      ],
      "metadata": {
        "id": "3wzhV14nXy4w"
      },
      "execution_count": null,
      "outputs": []
    },
    {
      "cell_type": "code",
      "source": [
        "model_GRU2.compile(optimizer=optimizer,\n",
        "              loss=tf.keras.losses.BinaryCrossentropy(),\n",
        "              metrics=['accuracy'])"
      ],
      "metadata": {
        "id": "2OePFJo1X5LE"
      },
      "execution_count": null,
      "outputs": []
    },
    {
      "cell_type": "code",
      "source": [
        "# Model training \n",
        "model_GRU2.fit(train_data,\n",
        "          epochs=20, \n",
        "          validation_data=test_data)"
      ],
      "metadata": {
        "colab": {
          "base_uri": "https://localhost:8080/"
        },
        "id": "5aQ5hy4uYEY5",
        "outputId": "46bcda5f-c809-4b4f-aa71-795124f034c8"
      },
      "execution_count": null,
      "outputs": [
        {
          "output_type": "stream",
          "name": "stdout",
          "text": [
            "Epoch 1/20\n",
            "84/84 [==============================] - 7s 29ms/step - loss: 0.6836 - accuracy: 0.5755 - val_loss: 0.6879 - val_accuracy: 0.5582\n",
            "Epoch 2/20\n",
            "84/84 [==============================] - 2s 23ms/step - loss: 0.5933 - accuracy: 0.6718 - val_loss: 0.5190 - val_accuracy: 0.7614\n",
            "Epoch 3/20\n",
            "84/84 [==============================] - 2s 25ms/step - loss: 0.2952 - accuracy: 0.8865 - val_loss: 0.5609 - val_accuracy: 0.7557\n",
            "Epoch 4/20\n",
            "84/84 [==============================] - 2s 24ms/step - loss: 0.1343 - accuracy: 0.9546 - val_loss: 0.7926 - val_accuracy: 0.7172\n",
            "Epoch 5/20\n",
            "84/84 [==============================] - 2s 24ms/step - loss: 0.0641 - accuracy: 0.9790 - val_loss: 0.7609 - val_accuracy: 0.7312\n",
            "Epoch 6/20\n",
            "84/84 [==============================] - 2s 25ms/step - loss: 0.0344 - accuracy: 0.9899 - val_loss: 0.8913 - val_accuracy: 0.7342\n",
            "Epoch 7/20\n",
            "84/84 [==============================] - 2s 24ms/step - loss: 0.0233 - accuracy: 0.9919 - val_loss: 1.0479 - val_accuracy: 0.7303\n",
            "Epoch 8/20\n",
            "84/84 [==============================] - 2s 25ms/step - loss: 0.0178 - accuracy: 0.9944 - val_loss: 1.0916 - val_accuracy: 0.7220\n",
            "Epoch 9/20\n",
            "84/84 [==============================] - 2s 24ms/step - loss: 0.0162 - accuracy: 0.9934 - val_loss: 1.0951 - val_accuracy: 0.7264\n",
            "Epoch 10/20\n",
            "84/84 [==============================] - 2s 24ms/step - loss: 0.0135 - accuracy: 0.9947 - val_loss: 1.1949 - val_accuracy: 0.7128\n",
            "Epoch 11/20\n",
            "84/84 [==============================] - 2s 24ms/step - loss: 0.0124 - accuracy: 0.9940 - val_loss: 1.3314 - val_accuracy: 0.7106\n",
            "Epoch 12/20\n",
            "84/84 [==============================] - 2s 25ms/step - loss: 0.0113 - accuracy: 0.9938 - val_loss: 1.2694 - val_accuracy: 0.7207\n",
            "Epoch 13/20\n",
            "84/84 [==============================] - 2s 24ms/step - loss: 0.0101 - accuracy: 0.9942 - val_loss: 1.4126 - val_accuracy: 0.7150\n",
            "Epoch 14/20\n",
            "84/84 [==============================] - 2s 24ms/step - loss: 0.0100 - accuracy: 0.9953 - val_loss: 1.2704 - val_accuracy: 0.7299\n",
            "Epoch 15/20\n",
            "84/84 [==============================] - 2s 24ms/step - loss: 0.0096 - accuracy: 0.9940 - val_loss: 1.3583 - val_accuracy: 0.7264\n",
            "Epoch 16/20\n",
            "84/84 [==============================] - 2s 24ms/step - loss: 0.0088 - accuracy: 0.9947 - val_loss: 1.5174 - val_accuracy: 0.7150\n",
            "Epoch 17/20\n",
            "84/84 [==============================] - 2s 24ms/step - loss: 0.0084 - accuracy: 0.9949 - val_loss: 1.6232 - val_accuracy: 0.7097\n",
            "Epoch 18/20\n",
            "84/84 [==============================] - 2s 24ms/step - loss: 0.0083 - accuracy: 0.9953 - val_loss: 1.5820 - val_accuracy: 0.7229\n",
            "Epoch 19/20\n",
            "84/84 [==============================] - 2s 24ms/step - loss: 0.0081 - accuracy: 0.9951 - val_loss: 1.6946 - val_accuracy: 0.7110\n",
            "Epoch 20/20\n",
            "84/84 [==============================] - 2s 24ms/step - loss: 0.0081 - accuracy: 0.9951 - val_loss: 1.7074 - val_accuracy: 0.7106\n"
          ]
        },
        {
          "output_type": "execute_result",
          "data": {
            "text/plain": [
              "<keras.callbacks.History at 0x7f1137270990>"
            ]
          },
          "metadata": {},
          "execution_count": 73
        }
      ]
    },
    {
      "cell_type": "code",
      "source": [
        "#not better results, let's stick with embedding dim = 16 and and add another layer"
      ],
      "metadata": {
        "id": "kuENlmcyYIHd"
      },
      "execution_count": null,
      "outputs": []
    },
    {
      "cell_type": "code",
      "source": [
        "embedding_dim=16\n",
        "model_GRU3 = tf.keras.Sequential([\n",
        "                  # Word Embedding layer           \n",
        "                  Embedding(vocab_size+1,embedding_dim, input_shape=[tweet.shape[1],],name=\"embedding\"),\n",
        "                  #GRU layer\n",
        "                  GRU(units=32, return_sequences=False), # returns the last output\n",
        "                  \n",
        "                  # Dense layers once the data is flat\n",
        "                  Dense(16, activation='relu'),\n",
        "                  # for the target variable and sigmoid activation\n",
        "                  Dense(1, activation=\"sigmoid\")\n",
        "])"
      ],
      "metadata": {
        "id": "Zh8M6aq7YnTQ"
      },
      "execution_count": null,
      "outputs": []
    },
    {
      "cell_type": "code",
      "source": [
        "model_GRU.compile(optimizer=optimizer,\n",
        "              loss=tf.keras.losses.BinaryCrossentropy(),\n",
        "              metrics=['accuracy'])\n",
        "\n",
        "# Model training \n",
        "model_GRU.fit(train_data,\n",
        "          epochs=10, \n",
        "          validation_data=test_data)"
      ],
      "metadata": {
        "colab": {
          "base_uri": "https://localhost:8080/"
        },
        "id": "x47tprF4YxHv",
        "outputId": "c87a0c99-78e4-44ce-f7d0-182549dd0e18"
      },
      "execution_count": null,
      "outputs": [
        {
          "output_type": "stream",
          "name": "stdout",
          "text": [
            "Epoch 1/10\n",
            "84/84 [==============================] - 5s 26ms/step - loss: 0.6834 - accuracy: 0.5753 - val_loss: 0.6865 - val_accuracy: 0.5582\n",
            "Epoch 2/10\n",
            "84/84 [==============================] - 2s 20ms/step - loss: 0.6783 - accuracy: 0.5761 - val_loss: 0.6336 - val_accuracy: 0.7299\n",
            "Epoch 3/10\n",
            "84/84 [==============================] - 2s 21ms/step - loss: 0.3968 - accuracy: 0.8388 - val_loss: 0.4930 - val_accuracy: 0.7675\n",
            "Epoch 4/10\n",
            "84/84 [==============================] - 2s 20ms/step - loss: 0.2030 - accuracy: 0.9289 - val_loss: 0.5852 - val_accuracy: 0.7653\n",
            "Epoch 5/10\n",
            "84/84 [==============================] - 2s 21ms/step - loss: 0.1121 - accuracy: 0.9638 - val_loss: 0.6230 - val_accuracy: 0.7561\n",
            "Epoch 6/10\n",
            "84/84 [==============================] - 2s 20ms/step - loss: 0.0589 - accuracy: 0.9840 - val_loss: 0.7863 - val_accuracy: 0.7281\n",
            "Epoch 7/10\n",
            "84/84 [==============================] - 2s 21ms/step - loss: 0.0341 - accuracy: 0.9893 - val_loss: 1.0126 - val_accuracy: 0.7268\n",
            "Epoch 8/10\n",
            "84/84 [==============================] - 2s 21ms/step - loss: 0.0232 - accuracy: 0.9931 - val_loss: 1.0629 - val_accuracy: 0.7281\n",
            "Epoch 9/10\n",
            "84/84 [==============================] - 2s 21ms/step - loss: 0.0200 - accuracy: 0.9923 - val_loss: 1.1472 - val_accuracy: 0.7229\n",
            "Epoch 10/10\n",
            "84/84 [==============================] - 2s 20ms/step - loss: 0.0151 - accuracy: 0.9938 - val_loss: 1.1878 - val_accuracy: 0.7285\n"
          ]
        },
        {
          "output_type": "execute_result",
          "data": {
            "text/plain": [
              "<keras.callbacks.History at 0x7f3613408c10>"
            ]
          },
          "metadata": {},
          "execution_count": 42
        }
      ]
    },
    {
      "cell_type": "code",
      "source": [
        "#let's add a dropout layer to the model to fight the overfitting"
      ],
      "metadata": {
        "id": "68_VGfTNY6f9"
      },
      "execution_count": null,
      "outputs": []
    },
    {
      "cell_type": "code",
      "source": [
        "\n",
        "model_GRU3 = tf.keras.Sequential([\n",
        "                  # Word Embedding layer           \n",
        "                  Embedding(vocab_size+1,embedding_dim, input_shape=[tweet.shape[1],],name=\"embedding\"),\n",
        "                  #GRU layer\n",
        "                  GRU(units=32, return_sequences=False), # returns the last output\n",
        "                  # Dropout layer \n",
        "                  tf.keras.layers.Dropout(0.2, noise_shape=None, seed=None),\n",
        "                  # 2 Dense layers once the data is flat\n",
        "                  Dense(16, activation='relu'),\n",
        "                  Dense(16, activation='relu'),\n",
        "                  # for the target variable and sigmoid activation\n",
        "                  Dense(1, activation=\"sigmoid\")\n",
        "])"
      ],
      "metadata": {
        "id": "hlPyVyq2aa_q"
      },
      "execution_count": null,
      "outputs": []
    },
    {
      "cell_type": "code",
      "source": [
        "model_GRU3.compile(optimizer=optimizer,\n",
        "              loss=tf.keras.losses.BinaryCrossentropy(),\n",
        "              metrics=['accuracy'])\n",
        "\n",
        "# Model training \n",
        "model_GRU3.fit(train_data,\n",
        "          epochs=20, \n",
        "          validation_data=test_data)"
      ],
      "metadata": {
        "colab": {
          "base_uri": "https://localhost:8080/"
        },
        "id": "dFy_zuAIfugA",
        "outputId": "f032eeac-7bfd-4d86-a3e4-579edf949238"
      },
      "execution_count": null,
      "outputs": [
        {
          "output_type": "stream",
          "name": "stdout",
          "text": [
            "Epoch 1/20\n",
            "84/84 [==============================] - 6s 29ms/step - loss: 0.6839 - accuracy: 0.5722 - val_loss: 0.6874 - val_accuracy: 0.5582\n",
            "Epoch 2/20\n",
            "84/84 [==============================] - 2s 24ms/step - loss: 0.6815 - accuracy: 0.5755 - val_loss: 0.6811 - val_accuracy: 0.5582\n",
            "Epoch 3/20\n",
            "84/84 [==============================] - 2s 25ms/step - loss: 0.4496 - accuracy: 0.7983 - val_loss: 0.4911 - val_accuracy: 0.7693\n",
            "Epoch 4/20\n",
            "84/84 [==============================] - 2s 24ms/step - loss: 0.2121 - accuracy: 0.9206 - val_loss: 0.5833 - val_accuracy: 0.7478\n",
            "Epoch 5/20\n",
            "84/84 [==============================] - 2s 24ms/step - loss: 0.0887 - accuracy: 0.9713 - val_loss: 0.7646 - val_accuracy: 0.7351\n",
            "Epoch 6/20\n",
            "84/84 [==============================] - 2s 24ms/step - loss: 0.0422 - accuracy: 0.9856 - val_loss: 0.9892 - val_accuracy: 0.7102\n",
            "Epoch 7/20\n",
            "84/84 [==============================] - 2s 24ms/step - loss: 0.0293 - accuracy: 0.9908 - val_loss: 0.9937 - val_accuracy: 0.7202\n",
            "Epoch 8/20\n",
            "84/84 [==============================] - 2s 24ms/step - loss: 0.0234 - accuracy: 0.9912 - val_loss: 1.0364 - val_accuracy: 0.7294\n",
            "Epoch 9/20\n",
            "84/84 [==============================] - 2s 24ms/step - loss: 0.0186 - accuracy: 0.9931 - val_loss: 1.0958 - val_accuracy: 0.7299\n",
            "Epoch 10/20\n",
            "84/84 [==============================] - 2s 24ms/step - loss: 0.0151 - accuracy: 0.9919 - val_loss: 1.2591 - val_accuracy: 0.7220\n",
            "Epoch 11/20\n",
            "84/84 [==============================] - 2s 24ms/step - loss: 0.0135 - accuracy: 0.9927 - val_loss: 1.3191 - val_accuracy: 0.7246\n",
            "Epoch 12/20\n",
            "84/84 [==============================] - 2s 24ms/step - loss: 0.0121 - accuracy: 0.9940 - val_loss: 1.3319 - val_accuracy: 0.7356\n",
            "Epoch 13/20\n",
            "84/84 [==============================] - 2s 24ms/step - loss: 0.0108 - accuracy: 0.9951 - val_loss: 1.3877 - val_accuracy: 0.7255\n",
            "Epoch 14/20\n",
            "84/84 [==============================] - 2s 24ms/step - loss: 0.0100 - accuracy: 0.9951 - val_loss: 1.4221 - val_accuracy: 0.7307\n",
            "Epoch 15/20\n",
            "84/84 [==============================] - 2s 24ms/step - loss: 0.0099 - accuracy: 0.9946 - val_loss: 1.4887 - val_accuracy: 0.7259\n",
            "Epoch 16/20\n",
            "84/84 [==============================] - 2s 24ms/step - loss: 0.0093 - accuracy: 0.9951 - val_loss: 1.5226 - val_accuracy: 0.7255\n",
            "Epoch 17/20\n",
            "84/84 [==============================] - 2s 24ms/step - loss: 0.0095 - accuracy: 0.9949 - val_loss: 1.4953 - val_accuracy: 0.7316\n",
            "Epoch 18/20\n",
            "84/84 [==============================] - 2s 24ms/step - loss: 0.0088 - accuracy: 0.9946 - val_loss: 1.6361 - val_accuracy: 0.7189\n",
            "Epoch 19/20\n",
            "84/84 [==============================] - 2s 24ms/step - loss: 0.0086 - accuracy: 0.9957 - val_loss: 1.5538 - val_accuracy: 0.7285\n",
            "Epoch 20/20\n",
            "84/84 [==============================] - 2s 25ms/step - loss: 0.0085 - accuracy: 0.9953 - val_loss: 1.6460 - val_accuracy: 0.7325\n"
          ]
        },
        {
          "output_type": "execute_result",
          "data": {
            "text/plain": [
              "<keras.callbacks.History at 0x7f1133dd9a50>"
            ]
          },
          "metadata": {},
          "execution_count": 79
        }
      ]
    },
    {
      "cell_type": "code",
      "source": [
        "# Let's make predictions on the first batch of the test set\n",
        "test_input, test_target = next(iter(test_data))\n",
        "pred = model_GRU3.predict(test_input)\n",
        "pred\n",
        "# we get one porbability for each class"
      ],
      "metadata": {
        "colab": {
          "base_uri": "https://localhost:8080/"
        },
        "id": "g2cSjNIqf5JC",
        "outputId": "c4e4cc82-49ef-48ed-b38a-dd35db4937da"
      },
      "execution_count": null,
      "outputs": [
        {
          "output_type": "execute_result",
          "data": {
            "text/plain": [
              "array([[8.95585537e-01],\n",
              "       [9.97017026e-01],\n",
              "       [1.53730273e-01],\n",
              "       [1.41905161e-06],\n",
              "       [9.98966455e-01],\n",
              "       [9.98495221e-01],\n",
              "       [2.71924068e-06],\n",
              "       [2.33444098e-06],\n",
              "       [9.58208943e-07],\n",
              "       [3.73838907e-06],\n",
              "       [1.61846560e-06],\n",
              "       [9.99076962e-01],\n",
              "       [9.87462163e-01],\n",
              "       [9.99089122e-01],\n",
              "       [5.48075477e-05],\n",
              "       [1.18158769e-05],\n",
              "       [9.98228431e-01],\n",
              "       [1.00570805e-05],\n",
              "       [9.98789430e-01],\n",
              "       [5.00485112e-06],\n",
              "       [9.99309301e-01],\n",
              "       [9.99920070e-01],\n",
              "       [7.35376120e-01],\n",
              "       [9.31834519e-01],\n",
              "       [1.39060616e-03],\n",
              "       [9.99899387e-01],\n",
              "       [9.99916017e-01],\n",
              "       [1.42089402e-05],\n",
              "       [4.49585527e-01],\n",
              "       [2.41339803e-02],\n",
              "       [4.03252244e-03],\n",
              "       [1.00581556e-05],\n",
              "       [3.57190220e-05],\n",
              "       [9.82401967e-01],\n",
              "       [3.89704610e-06],\n",
              "       [1.82470351e-01],\n",
              "       [4.31105107e-01],\n",
              "       [8.00109774e-05],\n",
              "       [9.99978662e-01],\n",
              "       [4.08337610e-06],\n",
              "       [4.94745672e-02],\n",
              "       [3.11928988e-03],\n",
              "       [3.05513868e-06],\n",
              "       [4.73647565e-01],\n",
              "       [2.96831131e-04],\n",
              "       [4.54369219e-05],\n",
              "       [1.19747046e-05],\n",
              "       [1.31479590e-06],\n",
              "       [1.68019722e-06],\n",
              "       [9.99970317e-01],\n",
              "       [9.99231279e-01],\n",
              "       [9.99533057e-01],\n",
              "       [9.82521296e-01],\n",
              "       [1.93988558e-06],\n",
              "       [9.86617863e-01],\n",
              "       [6.00270050e-06],\n",
              "       [7.89729711e-06],\n",
              "       [3.60097474e-05],\n",
              "       [2.48524111e-06],\n",
              "       [2.90204516e-05],\n",
              "       [1.54515794e-06],\n",
              "       [2.50573430e-06],\n",
              "       [9.99873161e-01],\n",
              "       [1.64103299e-01]], dtype=float32)"
            ]
          },
          "metadata": {},
          "execution_count": 80
        }
      ]
    },
    {
      "cell_type": "code",
      "source": [
        "# let's convert these predictions into classes\n",
        "tf.argmax(pred, axis = 1)"
      ],
      "metadata": {
        "colab": {
          "base_uri": "https://localhost:8080/"
        },
        "id": "qOYAFmgqi1B4",
        "outputId": "b4f5325e-bdf9-4e59-eb4d-fca5d7b0bfff"
      },
      "execution_count": null,
      "outputs": [
        {
          "output_type": "execute_result",
          "data": {
            "text/plain": [
              "<tf.Tensor: shape=(64,), dtype=int64, numpy=\n",
              "array([0, 0, 0, 0, 0, 0, 0, 0, 0, 0, 0, 0, 0, 0, 0, 0, 0, 0, 0, 0, 0, 0,\n",
              "       0, 0, 0, 0, 0, 0, 0, 0, 0, 0, 0, 0, 0, 0, 0, 0, 0, 0, 0, 0, 0, 0,\n",
              "       0, 0, 0, 0, 0, 0, 0, 0, 0, 0, 0, 0, 0, 0, 0, 0, 0, 0, 0, 0])>"
            ]
          },
          "metadata": {},
          "execution_count": 81
        }
      ]
    },
    {
      "cell_type": "code",
      "source": [
        "# let's take a look at the target values\n",
        "test_target"
      ],
      "metadata": {
        "colab": {
          "base_uri": "https://localhost:8080/"
        },
        "id": "tuJ8rm0Oi7NU",
        "outputId": "6bd21ff8-e335-43b4-aafc-b1ae5632356f"
      },
      "execution_count": null,
      "outputs": [
        {
          "output_type": "execute_result",
          "data": {
            "text/plain": [
              "<tf.Tensor: shape=(64,), dtype=int64, numpy=\n",
              "array([0, 0, 0, 1, 0, 1, 0, 0, 0, 0, 1, 0, 0, 0, 0, 0, 0, 0, 0, 0, 0, 0,\n",
              "       0, 0, 0, 1, 1, 0, 0, 0, 0, 0, 0, 0, 0, 0, 0, 0, 0, 0, 0, 1, 0, 0,\n",
              "       0, 1, 0, 0, 0, 0, 0, 0, 0, 0, 0, 0, 0, 0, 1, 0, 0, 0, 0, 0])>"
            ]
          },
          "metadata": {},
          "execution_count": 82
        }
      ]
    },
    {
      "cell_type": "code",
      "source": [
        "# --> for this specific batch the model always predict 0"
      ],
      "metadata": {
        "id": "a9EqUFzsjSHQ"
      },
      "execution_count": null,
      "outputs": []
    },
    {
      "cell_type": "code",
      "source": [
        "test_input"
      ],
      "metadata": {
        "colab": {
          "base_uri": "https://localhost:8080/"
        },
        "id": "Q-K-Wp_Wi_ms",
        "outputId": "712cf4e6-c87d-4ff1-a21e-f45311d28986"
      },
      "execution_count": null,
      "outputs": [
        {
          "output_type": "execute_result",
          "data": {
            "text/plain": [
              "<tf.Tensor: shape=(64, 25), dtype=int32, numpy=\n",
              "array([[ 4193, 16180,    37, ...,     0,     0,     0],\n",
              "       [  413,   900,   112, ...,     0,     0,     0],\n",
              "       [16185, 16186, 16187, ...,     0,     0,     0],\n",
              "       ...,\n",
              "       [   89,    18,   476, ...,     0,     0,     0],\n",
              "       [  111,    54,    87, ...,     0,     0,     0],\n",
              "       [   89,    18,    77, ...,     0,     0,     0]], dtype=int32)>"
            ]
          },
          "metadata": {},
          "execution_count": 83
        }
      ]
    },
    {
      "cell_type": "code",
      "source": [
        "# let's take a look at the test tweets reversed in text format\n",
        "tokenizer.sequences_to_texts(test_input.numpy()) "
      ],
      "metadata": {
        "colab": {
          "base_uri": "https://localhost:8080/"
        },
        "id": "s19SGDeXsH1O",
        "outputId": "6c91eb90-3ba0-4e9a-cf7e-15daee80786b"
      },
      "execution_count": null,
      "outputs": [
        {
          "output_type": "execute_result",
          "data": {
            "text/plain": [
              "['proud joegoodmanjr watch copalibertadore argentinean pandemonium httpstco8tygo0kizz',\n",
              " 'pandemonium aba woman deliver baby face photo httptcowrqf6u55hh',\n",
              " 'pandemoniumiso psp httptcohbpnfoawii',\n",
              " 'pandemonium use fav cd httptco6whugaem3c',\n",
              " 'pandemonium aba woman deliver baby face photo httptcoacfi2rhz4n',\n",
              " 'pandemonium aba woman deliver baby face photo httptcoxrp0rtkffj',\n",
              " 'world class tgirl ass 02 scene 4 pandemonium httptcoiwcu3dgi1a',\n",
              " 'hey look review pandemonium amp requiem lauren oliver enjoy httptcocplyrewfz3',\n",
              " 'element freedom mirage saturday 21 lady free midnight httptco7hanpcr5rk',\n",
              " 'world class tgirl ass 02 scene 4 pandemonium httptcohzhoa6vzas',\n",
              " 'khalidkkazi mate ve 2 post tweet pandemonium',\n",
              " 'pandemonium aba woman deliver baby face photo httptcodi5arr6hq6',\n",
              " 'gtgt gidiexclusixe shock aba woman deliver ûfacelessûª baby photo pandemonium httptcorgtyzbnkeo bennycapricon',\n",
              " 'pandemonium aba woman deliver baby face photo httptcoc5u9qsysej',\n",
              " 'drbaseball41 granttamane8 drewwtaylor dtop77 christie hillside game 4 pandemonium pit httptcolq4lxgs2xu',\n",
              " 'know bout pandemonium album shestooyoung',\n",
              " 'pandemonium aba woman deliver baby face photo httptcojbxbi93clu',\n",
              " 'exquisite asian sto httptcoy9w0v6te9o cumshot sex porn video porno free',\n",
              " 'pandemonium aba woman deliver baby face photo httptcoykdsp0nrdq',\n",
              " 'workplace pandemonium season start',\n",
              " 'pandemonium aba woman deliver baby face photo httptco8j4rdwyjwu httptco9mkzpzfkl2',\n",
              " 'pandemonium aba woman deliver baby face httptco36gccapaak httptconqjzs6wkun',\n",
              " 'cyclist pandemonium road today drive carefully',\n",
              " 'pbohanna probably dead boring 1st hour half pandemonium test justaguess',\n",
              " 'photo deadgirltalke unfortunemelody jaylenejoybeligan tarynel dredougie santanicopandemonium httptcopvkgo79jni',\n",
              " 'pandemonium aba woman deliver baby faceåêphotos httptcobm0sxzbnke',\n",
              " 'truly scene chaos unprecedented frenzy pandemonium utter disorder survive mania astounding catovitch',\n",
              " 'httptcopmhmmkspaq pandemonium playstation ps1 retro classic original platform platinum raredealsuk httptco0gknpy4lua',\n",
              " 'panic',\n",
              " 'obligatory middle night panic attack',\n",
              " 'brokenscnecal panic disco',\n",
              " 'drake spoke rep raptorsbeg differ night shot ring musik goodlookrunning panic fun',\n",
              " 'cool kid ask want hang school panic attack hospital autismawareness',\n",
              " 'love jesse suffer panic attack httpstcor4utnewlna',\n",
              " 'timmicallef u think yankee hit panic button troubleonmymind',\n",
              " 'jetixrestored 2 teamo supremo pogo panic want ok httpstcowblimlmt2x youtube',\n",
              " 'time panic httpstcoorxdqfz0j0',\n",
              " 'plane panic kind douchebag bubble gum',\n",
              " 'plan work panic bc 25 letter like feel like run letter thought',\n",
              " 'add video youtube playlist httptcoqsekoeubmd panic disco girlsgirlsboy official video',\n",
              " 'drive parent car lmao panic attack wait happen',\n",
              " 'elielcruz watch stream bad think actually walk d panic sick',\n",
              " 'laugh talk junk panic mode',\n",
              " 'good thing royal face newbie playoff real reason panic',\n",
              " 'despite crippling anxiety overwhelming panic attack d m fairly welladjusted',\n",
              " 'panic patient alabama test negative ebolahttptcocy0ciu2u1c',\n",
              " 'add video youtube playlist httptco4914njpio3 panic disco miss jackson ft lolo official video',\n",
              " 'time feel new pain strain body panic need career',\n",
              " 'panic disco good song gospel acoustic httptcovcq2icptki',\n",
              " 'lose bus cardpanickind bus driverreplace bus cardfind bus cardheaddesk',\n",
              " 'savs contact fall convince amp guage eyeball amp s panic attack cause damage',\n",
              " 'jamesjustus return herrelax know return need panic corn flake p',\n",
              " 'montetjwitter11 nolesfan05 nutsandboltssp concern panic game leave game leave',\n",
              " 'panic awesome thank',\n",
              " 'montetjwitter11 met audreyp77 teena797 darrylbrook elitesportsny lopezandthelion panic natsnation concern sure',\n",
              " 'biggangvh1 look like george panic attack lol',\n",
              " 'dream magic linden method lite version 1 anxiety panic cure program httptco073izwx0 lb lind httptcookmlagvkjv',\n",
              " 'ask monkey fist 2 foot long panic snap like picture httptcoyi9bbbx3fe',\n",
              " 'tomorrow year panic concert dress afycso ryan u guy remember',\n",
              " 'romantic dramatic panic original sensei write rhyme attic',\n",
              " 'add video youtube playlist httptcovxegcmmvbv panic disco collar audio',\n",
              " 'panic attack bc money drug alcohol want buy year let fall bill',\n",
              " 'school today ve panic attack thank high school sucking',\n",
              " 'panic attack bad']"
            ]
          },
          "metadata": {},
          "execution_count": 84
        }
      ]
    },
    {
      "cell_type": "code",
      "source": [
        ""
      ],
      "metadata": {
        "id": "Bp-aqUumtUAK"
      },
      "execution_count": null,
      "outputs": []
    },
    {
      "cell_type": "markdown",
      "source": [
        "I think  that there is more to do during the pre processing phase in order to fight the overfiting. Because it looks like many tweets have http links inside them, this part might be confusing the models.\n",
        "Also may be I should simplify the layers in the models as the model can be too complex. "
      ],
      "metadata": {
        "id": "nC3pdJd2f2rl"
      }
    },
    {
      "cell_type": "code",
      "source": [
        ""
      ],
      "metadata": {
        "id": "EmY9DAuDgZKM"
      },
      "execution_count": null,
      "outputs": []
    }
  ]
}